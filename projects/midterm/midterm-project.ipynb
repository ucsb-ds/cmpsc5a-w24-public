{
 "cells": [
  {
   "cell_type": "code",
   "execution_count": null,
   "id": "d888a800",
   "metadata": {
    "deletable": false,
    "editable": false
   },
   "outputs": [],
   "source": [
    "# Initialize Otter\n",
    "import otter\n",
    "grader = otter.Notebook(\"midterm-project.ipynb\")"
   ]
  },
  {
   "cell_type": "markdown",
   "id": "8417738b",
   "metadata": {},
   "source": [
    "# Project 1: World Progress"
   ]
  },
  {
   "cell_type": "markdown",
   "id": "af31d02d",
   "metadata": {},
   "source": [
    "In this project, you'll continue to explore data from [Gapminder.org](http://gapminder.org), a website dedicated to providing a fact-based view of the world and how it has changed. That site includes several data visualizations and presentations, but also publishes the raw data that we will use in this project to recreate and extend some of their most famous visualizations.\n",
    "\n",
    "The Gapminder website collects data from many sources and compiles them into tables that describe many countries around the world. All of the data they aggregate are published in the [Systema Globalis](https://github.com/open-numbers/ddf--gapminder--systema_globalis/blob/master/README.md). Their goal is \"to compile all public statistics; Social, Economic and Environmental; into a comparable total dataset.\" All data sets in this project are copied directly from the Systema Globalis without any changes.\n",
    "\n",
    "This project is dedicated to [Hans Rosling](https://en.wikipedia.org/wiki/Hans_Rosling) (1948-2017), who championed the use of data to understand and prioritize global development challenges.\n",
    "\n",
    "Watch this brilliant [TED talk](https://www.youtube.com/watch?v=hVimVzgtD6w) by Hans Rosling to see how the world was changing through visualizations."
   ]
  },
  {
   "cell_type": "markdown",
   "id": "8e99c0ff",
   "metadata": {},
   "source": [
    "## Names\n",
    "Please List all students who worked on this project (double click this cell to edit). If you worked by yourself, leave #2 blank.\n",
    "1. *Student 1*\n",
    "2. *Student 2*"
   ]
  },
  {
   "cell_type": "markdown",
   "id": "7a9ec2ac",
   "metadata": {},
   "source": [
    "## Logistics\n",
    "\n",
    "**Deadline.** The midterm project is due Tuesday, November 21st, 2023 at 11:59pm PT. \n",
    "\n",
    "**Checkpoint.** For full credit, you must also complete the first 8 questions, pass all public autograder tests, and submit to Gradescope on November 14th, 2023 by 11:59pm PT. After you've submitted the checkpoint, you may still change your answers before the project\n",
    "deadline - only your final submission will be graded for correctness. **Please do not forget to copy your checkpoint solutions over to the full project notebook - this way, you can also correct your checkpoint answers and get some credit when you submit your full project notebook.**\n",
    "\n",
    "**Partners.** You may work with one other partner, who we highly encourage being from your assigned lab section. Only one person per partnership should submit the project. In Gradescope, the person who submits should also designate their partner so\n",
    "that both of you receive credit. Additionally, please list everyone who worked on this project in the designated cell above.\n",
    "\n",
    "**Rules.** Don't share your code with anybody but your partner. You are welcome to discuss questions with other students, but don't share the answers. The experience of solving the problems in this project will prepare you for exams (and life). If someone asks you for the answer, resist! Instead, you can demonstrate how you would solve a similar problem.\n",
    "\n",
    "**Support.** You are not alone! Come to office hours, post on Ed, and talk to your classmates. If you want to ask about the details of your solution to a problem, make a private Piazza post and the staff will respond. If you're ever feeling overwhelmed or don't know how to make progress, email your TA or tutor for help. \n",
    "\n",
    "**Tests.** The tests that are given are **not comprehensive** and passing the tests for a question **does not** mean that you answered the question correctly. Tests usually only check that your table has the correct column labels. However, more tests will be applied to verify the correctness of your submission in order to assign your final score, so be careful and check your work! You might want to create your own checks along the way to see if your answers make sense. Additionally, before you submit, make sure that none of your cells take a very long time to run (several minutes).\n",
    "\n",
    "**Free Response Questions:** Make sure that you put the answers to the written questions in the indicated cell we provide. Check to make sure that you have a [Gradescope](http://gradescope.com) account, which is where the scores to the free response questions will be posted. If you do not, make sure to reach out to your TA.\n",
    "\n",
    "**Advice.** Develop your answers incrementally. To perform a complicated table manipulation, break it up into steps, perform each step on a different line, give a new name to each result, and check that each intermediate result is what you expect. You can add any additional names or functions you want to the provided cells. Make sure that you are using distinct and meaningful variable names throughout the notebook. Along that line, **DO NOT** reuse the variable names that we use when we grade your answers. For example, in Question 1 of the Global Poverty section, we ask you to assign an answer to `latest`. Do not reassign the variable name `latest` to anything else in your notebook, otherwise there is the chance that our tests grade against what `latest` was reassigned to.\n",
    "\n",
    "You **never** have to use just one line in this project or any others. Use intermediate variables and multiple lines as much as you would like!  \n",
    "\n",
    "To get started, load `datascience`, `numpy`, `plots`, and `ok`."
   ]
  },
  {
   "cell_type": "code",
   "execution_count": null,
   "id": "ca92d3be",
   "metadata": {},
   "outputs": [],
   "source": [
    "from datascience import *\n",
    "import numpy as np\n",
    "\n",
    "%matplotlib inline\n",
    "import matplotlib.pyplot as plots\n",
    "plots.style.use('fivethirtyeight')\n"
   ]
  },
  {
   "cell_type": "markdown",
   "id": "9ed7f184",
   "metadata": {},
   "source": [
    "## Global Population Growth"
   ]
  },
  {
   "cell_type": "markdown",
   "id": "86fd9cdf",
   "metadata": {},
   "source": [
    "The global population of humans reached 1 billion around 1800, 3 billion around 1960, and 7 billion around 2011. The potential impact of exponential population growth has concerned scientists, economists, and politicians alike.\n",
    "\n",
    "The UN Population Division estimates that the world population will likely continue to grow throughout the 21st century, but at a slower rate, perhaps reaching 11 billion by 2100. However, the UN does not rule out scenarios of more extreme growth.\n",
    "\n",
    "<a href=\"http://www.pewresearch.org/fact-tank/2015/06/08/scientists-more-worried-than-public-about-worlds-growing-population/ft_15-06-04_popcount/\"> \n",
    " <img src=\"data/pew_population_projection.png\"/> \n",
    "</a>\n",
    "\n",
    "In this section, we will examine some of the factors that influence population growth and how they are changing around the world.\n",
    "\n",
    "The first table we will consider is the total population of each country over time. Run the cell below."
   ]
  },
  {
   "cell_type": "code",
   "execution_count": null,
   "id": "ec666477",
   "metadata": {},
   "outputs": [],
   "source": [
    "population = Table.read_table('data/population.csv')\n",
    "population.show(3)"
   ]
  },
  {
   "cell_type": "markdown",
   "id": "2d2c93b4",
   "metadata": {},
   "source": [
    "**Note:** The data for this project was downloaded in February 2017. More recent data and comprehensive data can be found [here](https://github.com/open-numbers/ddf--gapminder--systema_globalis)."
   ]
  },
  {
   "cell_type": "markdown",
   "id": "1665fa85",
   "metadata": {},
   "source": [
    "## India\n",
    "\n",
    "In the `population` table, the `geo` column contains three-letter codes established by the [International Organization for Standardization](https://en.wikipedia.org/wiki/International_Organization_for_Standardization) (ISO) in the [Alpha-3](https://en.wikipedia.org/wiki/ISO_3166-1_alpha-3#Current_codes) standard. We will begin by taking a close look at India. Inspect the standard to find the 3-letter code for India."
   ]
  },
  {
   "cell_type": "markdown",
   "id": "90d3e5a3",
   "metadata": {},
   "source": [
    "**Question 1.** Create a table called `ind_pop` that has two columns labeled `time` and `population_total`. The first column should contain the years from 1960 through 2015 (including both 1960 and 2015) and the second should contain the population of India in each of those years.\n"
   ]
  },
  {
   "cell_type": "code",
   "execution_count": null,
   "id": "e58900ca",
   "metadata": {
    "tags": []
   },
   "outputs": [],
   "source": [
    "ind_pop = ...\n",
    "ind_pop.show(10)"
   ]
  },
  {
   "cell_type": "code",
   "execution_count": null,
   "id": "c86b19c1",
   "metadata": {
    "deletable": false,
    "editable": false
   },
   "outputs": [],
   "source": [
    "grader.check(\"q1_1\")"
   ]
  },
  {
   "cell_type": "markdown",
   "id": "2d46bbc3",
   "metadata": {},
   "source": [
    "Run the following cell to create a table called `ind_five` that has the population of India every five years. At a glance, it appears that the population of India has been growing quickly indeed!"
   ]
  },
  {
   "cell_type": "code",
   "execution_count": null,
   "id": "0a88d5a8",
   "metadata": {},
   "outputs": [],
   "source": [
    "ind_pop.set_format('population_total', NumberFormatter)\n",
    "\n",
    "fives = np.arange(1960, 2016, 5) # 1960, 1965, 1970, ...\n",
    "ind_five = ind_pop.sort('time').where('time', are.contained_in(fives))\n",
    "ind_five.show(10)"
   ]
  },
  {
   "cell_type": "markdown",
   "id": "9ce04298",
   "metadata": {},
   "source": [
    "**Question 2.** Assign `initial` to an array that contains the population for every five year interval from 1960 to 2010. Then, assign `changed` to an array that contains the population for every five year interval from 1965 to 2015. You should use the `ind_five` table to create both arrays, first filtering the table to only contain the relevant years.\n",
    "\n",
    "We have provided the code below that uses  `initial` and `changed` in order to add a column to `ind_five` called `annual_growth`. Don't worry about the calculation of the growth rates; run the test below to test your solution.\n",
    "\n",
    "If you are interested in how we came up with the formula for growth rates, consult the [growth rates](https://inferentialthinking.com/chapters/03/2/1/Growth.html) section of the textbook.\n"
   ]
  },
  {
   "cell_type": "code",
   "execution_count": null,
   "id": "857be754",
   "metadata": {
    "tags": []
   },
   "outputs": [],
   "source": [
    "initial = ...\n",
    "changed = ...\n",
    "ind_1960_through_2010 = ind_five.where('time', are.below_or_equal_to(2010))\n",
    "ind_five_growth = ind_1960_through_2010.with_column('annual_growth', (changed/initial)**0.2-1)\n",
    "ind_five_growth.set_format('annual_growth', PercentFormatter).show(10)"
   ]
  },
  {
   "cell_type": "code",
   "execution_count": null,
   "id": "e4718d58",
   "metadata": {
    "deletable": false,
    "editable": false
   },
   "outputs": [],
   "source": [
    "grader.check(\"q1_2\")"
   ]
  },
  {
   "cell_type": "markdown",
   "id": "d49efb3f",
   "metadata": {},
   "source": [
    "Let's take a look at the population of Bangladesh over the years 1980 to 2015. Try to find out how the population has been changing since 1980 for Bangladesh. While the population has grown every five years since 1980, the annual growth rate decreased dramatically from 1985 to 2005. Let’s look at some other information in order to develop a possible explanation. Run the next cell to load three\n",
    "additional tables of measurements about countries over time."
   ]
  },
  {
   "cell_type": "code",
   "execution_count": null,
   "id": "ce68ef6d",
   "metadata": {},
   "outputs": [],
   "source": [
    "life_expectancy = Table.read_table('data/life_expectancy.csv')\n",
    "child_mortality = Table.read_table('data/child_mortality.csv').relabel(2, 'child_mortality_under_5_per_1000_born')\n",
    "fertility = Table.read_table('data/fertility.csv')"
   ]
  },
  {
   "cell_type": "markdown",
   "id": "d94677ff",
   "metadata": {},
   "source": [
    "The `life_expectancy` table contains a statistic that is often used to measure how long people live, called *life expectancy at birth*. This number, for a country in a given year, [does not measure how long babies born in that year are expected to live](http://blogs.worldbank.org/opendata/what-does-life-expectancy-birth-really-mean). Instead, it measures how long someone would live, on average, if the *mortality conditions* in that year persisted throughout their lifetime. These \"mortality conditions\" describe what fraction of people at each age survived the year. So, it is a way of measuring the proportion of people that are staying alive, aggregated over different age groups in the population."
   ]
  },
  {
   "cell_type": "markdown",
   "id": "f3d1db71",
   "metadata": {},
   "source": [
    "Run the following cells below to see `life_expectancy`, `child_mortality`, and `fertility`. Refer back to these tables as they will be helpful for answering further questions!"
   ]
  },
  {
   "cell_type": "code",
   "execution_count": null,
   "id": "b00ecf6a",
   "metadata": {},
   "outputs": [],
   "source": [
    "life_expectancy.show(10)"
   ]
  },
  {
   "cell_type": "code",
   "execution_count": null,
   "id": "4d183dc1",
   "metadata": {},
   "outputs": [],
   "source": [
    "child_mortality.show(10)"
   ]
  },
  {
   "cell_type": "code",
   "execution_count": null,
   "id": "2cf61c3f",
   "metadata": {},
   "outputs": [],
   "source": [
    "fertility.show(10)"
   ]
  },
  {
   "cell_type": "markdown",
   "id": "46a892c6",
   "metadata": {},
   "source": [
    "<!-- BEGIN QUESTION -->\n",
    "\n",
    "**Question 3.** Perhaps population is growing more slowly because people aren't living as long. Use the `life_expectancy` table to draw a line graph with the years 1980 and later on the horizontal axis that shows how the *life expectancy at birth* has changed in Bangladesh.\n"
   ]
  },
  {
   "cell_type": "code",
   "execution_count": null,
   "id": "cc62bd6d",
   "metadata": {
    "tags": []
   },
   "outputs": [],
   "source": [
    "#Fill in code here\n",
    "..."
   ]
  },
  {
   "cell_type": "markdown",
   "id": "3610edf0",
   "metadata": {},
   "source": [
    "<!-- END QUESTION -->\n",
    "\n",
    "<!-- BEGIN QUESTION -->\n",
    "\n",
    "**Question 4.** Assuming everything else stays the same, do the trends in life expectancy in the graph above directly explain why the population growth rate decreased from 1985 to 2010 in Bangladesh? Why or why not? \n",
    "\n",
    "Hint: What happened in Bangladesh in 1991, and does that event explain the overall change in population growth rate?\n"
   ]
  },
  {
   "cell_type": "markdown",
   "id": "424b701d",
   "metadata": {},
   "source": [
    "_Type your answer here, replacing this text._"
   ]
  },
  {
   "cell_type": "markdown",
   "id": "17722c31",
   "metadata": {},
   "source": [
    "<!-- END QUESTION -->\n",
    "\n",
    "The `fertility` table contains a statistic that is often used to measure how many babies are being born, the *total fertility rate*. This number describes the [number of children a woman would have in her lifetime](https://www.measureevaluation.org/prh/rh_indicators/specific/fertility/total-fertility-rate), on average, if the current rates of birth by age of the mother persisted throughout her child bearing years, assuming she survived through age 49. "
   ]
  },
  {
   "cell_type": "markdown",
   "id": "9624eb97",
   "metadata": {},
   "source": [
    "**Question 5.** Write a function `fertility_over_time` that takes the Alpha-3 code of a `country` and a `start` year. It returns a two-column table with labels `Year` and `Children per woman` that can be used to generate a line chart of the country's fertility rate each year, starting at the `start` year. The plot should include the `start` year and all later years that appear in the `fertility` table. \n",
    "\n",
    "Then, in the next cell, call your `fertility_over_time` function on the Alpha-3 code for Bangladesh and the year 1980 in order to plot how Bangladesh's fertility rate has changed since 1980. Note that the function `fertility_over_time` should not return the plot itself. **The expression that draws the line plot is provided for you; please don't change it.**\n"
   ]
  },
  {
   "cell_type": "code",
   "execution_count": null,
   "id": "36f6c22c",
   "metadata": {
    "tags": []
   },
   "outputs": [],
   "source": [
    "def fertility_over_time(country, start):\n",
    "    \"\"\"Create a two-column table that describes a country's total fertility rate each year.\"\"\"\n",
    "    country_fertility = ...\n",
    "    country_fertility_after_start = ...\n",
    "    cleaned_table = ...\n",
    "    ...\n",
    "bangladesh_code = ...\n",
    "fertility_over_time(bangladesh_code, 1980).plot(0, 1) # You should *not* change this line."
   ]
  },
  {
   "cell_type": "code",
   "execution_count": null,
   "id": "fbce459f",
   "metadata": {
    "deletable": false,
    "editable": false
   },
   "outputs": [],
   "source": [
    "grader.check(\"q1_5\")"
   ]
  },
  {
   "cell_type": "markdown",
   "id": "535e710b",
   "metadata": {},
   "source": [
    "<!-- BEGIN QUESTION -->\n",
    "\n",
    "**Question 6.** Assuming everything else is constant, do the trends in fertility in the graph above help directly explain why the population growth rate decreased from 1985 to 2010 in Bangladesh? Why or why not?\n"
   ]
  },
  {
   "cell_type": "markdown",
   "id": "cec9bc2a",
   "metadata": {},
   "source": [
    "_Type your answer here, replacing this text._"
   ]
  },
  {
   "cell_type": "markdown",
   "id": "47574621",
   "metadata": {},
   "source": [
    "<!-- END QUESTION -->\n",
    "\n",
    "It has been observed that lower fertility rates are often associated with lower child mortality rates. The link has been attributed to family planning: if parents can expect that their children will all survive into adulthood, then they will choose to have fewer children. We can see if this association is evident in Bangladesh by plotting the relationship between total fertility rate and [child mortality rate per 1000 children](https://en.wikipedia.org/wiki/Child_mortality)."
   ]
  },
  {
   "cell_type": "markdown",
   "id": "77c09235",
   "metadata": {},
   "source": [
    "**Question 7.** Using both the `fertility` and `child_mortality` tables, draw a scatter diagram that has Bangladesh's total fertility on the horizontal axis and its child mortality on the vertical axis with one point for each year, starting with 1980.\n",
    "\n",
    "**The expression that draws the scatter diagram is provided for you; please don't change it.** Instead, create a table called `post_1979_fertility_and_child_mortality` with the appropriate column labels and data in order to generate the chart correctly. Use the label `Children per woman` to describe total fertility and the label `Child deaths per 1000 born` to describe child mortality.\n"
   ]
  },
  {
   "cell_type": "code",
   "execution_count": null,
   "id": "0259ee84",
   "metadata": {
    "tags": []
   },
   "outputs": [],
   "source": [
    "bgd_fertility = ...\n",
    "bgd_child_mortality = ...\n",
    "fertility_and_child_mortality = ...\n",
    "post_1979_fertility_and_child_mortality = ...\n",
    "post_1979_fertility_and_child_mortality.scatter('Children per woman', 'Child deaths per 1000 born') # You should *not* change this line."
   ]
  },
  {
   "cell_type": "code",
   "execution_count": null,
   "id": "d330d97c",
   "metadata": {
    "deletable": false,
    "editable": false
   },
   "outputs": [],
   "source": [
    "grader.check(\"q1_7\")"
   ]
  },
  {
   "cell_type": "markdown",
   "id": "b122aa97",
   "metadata": {},
   "source": [
    "<!-- BEGIN QUESTION -->\n",
    "\n",
    "**Question 8.** In one or two sentences, describe the association (if any) that is illustrated by this scatter diagram. Does the diagram show that reduced child mortality causes parents to choose to have fewer children?\n"
   ]
  },
  {
   "cell_type": "markdown",
   "id": "db2de884",
   "metadata": {},
   "source": [
    "_Type your answer here, replacing this text._"
   ]
  },
  {
   "cell_type": "markdown",
   "id": "12a94533",
   "metadata": {},
   "source": [
    "<!-- END QUESTION -->\n",
    "\n",
    "### Checkpoint (due 16th May by 11:59pm PT) ##\n",
    "Congratulations, you have reached the Checkpoint!\n",
    "\n",
    "To submit:\n",
    "- **save the notebook** first (**`Save and Checkpoint`** from the `File` menu)\n",
    "- go up to the `Kernel` menu and select `Restart & Clear Output` (make sure the notebook is saved first, because otherwise, you will lose all your work!). \n",
    "- go to `Cell -> Run All Above` this Markdown Cell. Carefully look through your notebook and verify that all computations execute correctly. You should see **no errors**; if there are any errors, make sure to correct them before you submit the notebook.\n",
    "- <span style=\"color:red\">The tests don't usually tell you that your answer is correct.</span> Take a look at the results that you are getting and verify that they match what is being asked and what you would expect to see.\n",
    "* go to `File -> Download as -> Notebook` and download the notebook to your own computer. ([Please verify](https://ucsb-ds.github.io/ds1-f20/troubleshooting/#i-downloaded-the-notebook-file-but-it-saves-as-the-ipynbjson-extension-so-whenever-i-upload-it-to-gradescope-it-fails) that it got saved as an .ipynb file.)\n",
    "* Upload the notebook to [Gradescope](https://www.gradescope.com/). You can drag and drop both files or hold down Ctrl to click on multiple files when you are uploading them."
   ]
  },
  {
   "cell_type": "markdown",
   "id": "8bbbd076",
   "metadata": {},
   "source": [
    "## The World\n",
    "\n",
    "The change observed in Bangladesh since 1980 can also be observed in many other developing countries: health services improve, life expectancy increases, and child mortality decreases. At the same time, the fertility rate often plummets, and so the population growth rate decreases despite increasing longevity."
   ]
  },
  {
   "cell_type": "markdown",
   "id": "61b6f0c7",
   "metadata": {},
   "source": [
    "Run the cell below to generate two overlaid histograms, one for 1960 and one for 2010, that show the distributions of total fertility rates for these two years among all 201 countries in the `fertility` table."
   ]
  },
  {
   "cell_type": "code",
   "execution_count": null,
   "id": "dd867002",
   "metadata": {},
   "outputs": [],
   "source": [
    "Table().with_columns(\n",
    "    '1960', fertility.where('time', 1960).column(2),\n",
    "    '2010', fertility.where('time', 2010).column(2)\n",
    ").hist(bins=np.arange(0, 10, 0.5), unit='child per woman')\n",
    "_ = plots.xlabel('Children per woman')\n",
    "_ = plots.ylabel('Percent per children per woman')\n",
    "_ = plots.xticks(np.arange(10))"
   ]
  },
  {
   "cell_type": "markdown",
   "id": "8483e166",
   "metadata": {},
   "source": [
    "**Question 9.** Assign `fertility_statements` to an array of the numbers of each statement below that can be correctly inferred from these histograms.\n",
    "1. About the same number of countries had a fertility rate between 3.5 and 4.5 in both 1960 and 2010.\n",
    "1. In 2010, about 40% of countries had a fertility rate between 1.5 and 2.\n",
    "1. In 1960, less than 20% of countries had a fertility rate below 3.\n",
    "1. More countries had a fertility rate above 3 in 1960 than in 2010.\n",
    "1. At least half of countries had a fertility rate between 5 and 8 in 1960.\n",
    "1. At least half of countries had a fertility rate below 3 in 2010.\n"
   ]
  },
  {
   "cell_type": "code",
   "execution_count": null,
   "id": "4b90b471",
   "metadata": {
    "scrolled": true,
    "tags": []
   },
   "outputs": [],
   "source": [
    "fertility_statements = ..."
   ]
  },
  {
   "cell_type": "code",
   "execution_count": null,
   "id": "dec82619",
   "metadata": {
    "deletable": false,
    "editable": false
   },
   "outputs": [],
   "source": [
    "grader.check(\"q1_9\")"
   ]
  },
  {
   "cell_type": "markdown",
   "id": "5a65dc92",
   "metadata": {},
   "source": [
    "<!-- BEGIN QUESTION -->\n",
    "\n",
    "**Question 10.** Draw a line plot of the world population from 1800 through 2005. The world population is the sum of all the country's populations. \n",
    "\n"
   ]
  },
  {
   "cell_type": "code",
   "execution_count": null,
   "id": "c7a922ec",
   "metadata": {
    "tags": []
   },
   "outputs": [],
   "source": [
    "# Fill in code here\n",
    "# Manually graded question\n",
    "..."
   ]
  },
  {
   "cell_type": "markdown",
   "id": "c463e69c",
   "metadata": {},
   "source": [
    "<!-- END QUESTION -->\n",
    "\n",
    "**Question 11.** Create a function `stats_for_year` that takes a `year` and returns a table of statistics. The table it returns should have four columns: `geo`, `population_total`, `children_per_woman_total_fertility`, and `child_mortality_under_5_per_1000_born`. Each row should contain one Alpha-3 country code and three statistics: population, fertility rate, and child mortality for that `year` from the `population`, `fertility` and `child_mortality` tables. Only include rows for which all three statistics are available for the country and year.\n",
    "\n",
    "In addition, restrict the result to country codes that appears in `big_25`, an array of the 25 most populous countries in 2010. This restriction will speed up computations later in the project.\n",
    "\n",
    "After you write `stats_for_year`, try calling `stats_for_year` on any year between 1960 and 2010. Try to understand the output of stats_for_year.\n",
    "\n",
    "*Hint*: The tests for this question are quite comprehensive, so if you pass the tests, your function is probably correct. However, without calling your function yourself and looking at the output, it will be very difficult to understand any problems you have, so try your best to write the function correctly and check that it works before you rely on the `ok` tests to confirm your work.\n"
   ]
  },
  {
   "cell_type": "code",
   "execution_count": null,
   "id": "28b07332",
   "metadata": {
    "tags": []
   },
   "outputs": [],
   "source": [
    "# We first create a population table that only includes the\n",
    "# 25 countries with the largest 2010 populations. We focus on\n",
    "# these 25 countries only so that plotting later will run faster.\n",
    "big_25 = population.where('time', are.equal_to(2010)).sort(\"population_total\", descending=True).take(np.arange(25)).column('geo')\n",
    "population_of_big_25 = population.where('time', are.above(1959)).where('geo', are.contained_in(big_25))\n",
    "def stats_for_year(year):\n",
    "    \"\"\"Return a table of the stats for each country that year.\"\"\"\n",
    "    p = population_of_big_25.where('time', are.equal_to(year)).drop('time')\n",
    "    f = fertility.where('time', are.equal_to(year)).drop('time')\n",
    "    c = child_mortality.where('time', are.equal_to(year)).drop('time')\n",
    "    ...\n",
    "...\n",
    "\n"
   ]
  },
  {
   "cell_type": "code",
   "execution_count": null,
   "id": "28f9efa2",
   "metadata": {
    "deletable": false,
    "editable": false
   },
   "outputs": [],
   "source": [
    "grader.check(\"q1_11\")"
   ]
  },
  {
   "cell_type": "markdown",
   "id": "82c05f6c",
   "metadata": {},
   "source": [
    "**Question 12.** Create a table called `pop_by_decade` with two columns called `decade` and `population`. It has a row for each `year` since 1960 that starts a decade. The `population` column contains the total population of all countries included in the result of `stats_for_year(year)` for the first `year` of the decade. For example, 1960 is the first year of the 1960's decade. You should see that these countries contain most of the world's population.\n",
    "\n",
    "*Hint:* One approach is to define a function `pop_for_year` that computes this total population, then `apply` it to the `decade` column.  The `stats_for_year` function from the previous question may be useful here.\n",
    "\n",
    "This first test is just a sanity check for your helper function if you choose to use it. You will not lose points for not implementing the function `pop_for_year`.\n",
    "\n",
    "**Note:** The cell where you will generate the `pop_by_decade` table is below the cell where you can choose to define the helper function `pop_for_year`. You should define your `pop_by_decade` table in the cell that starts with the table `decades` being defined. \n"
   ]
  },
  {
   "cell_type": "code",
   "execution_count": null,
   "id": "4eb55fac",
   "metadata": {
    "tags": []
   },
   "outputs": [],
   "source": [
    "def pop_for_year(year):\n",
    "    ..."
   ]
  },
  {
   "cell_type": "code",
   "execution_count": null,
   "id": "b34bb7a2",
   "metadata": {
    "deletable": false,
    "editable": false
   },
   "outputs": [],
   "source": [
    "grader.check(\"q1_12_a\")"
   ]
  },
  {
   "cell_type": "markdown",
   "id": "1298aab7",
   "metadata": {},
   "source": [
    "Now that you've defined your helper function (if you've chosen to do so), define the `pop_by_decade` table.\n"
   ]
  },
  {
   "cell_type": "code",
   "execution_count": null,
   "id": "d8ae0939",
   "metadata": {
    "tags": []
   },
   "outputs": [],
   "source": [
    "decades = Table().with_column('decade', np.arange(1960, 2011, 10))\n",
    "pop_by_decade = ...\n",
    "pop_by_decade.set_format(1, NumberFormatter).show()"
   ]
  },
  {
   "cell_type": "code",
   "execution_count": null,
   "id": "c1f32524",
   "metadata": {
    "deletable": false,
    "editable": false
   },
   "outputs": [],
   "source": [
    "grader.check(\"q1_12_b\")"
   ]
  },
  {
   "cell_type": "markdown",
   "id": "7de0a5d6",
   "metadata": {},
   "source": [
    "The `countries` table describes various characteristics of countries. The `country` column contains the same codes as the `geo` column in each of the other data tables (`population`, `fertility`, and `child_mortality`). The `world_6region` column classifies each country into a region of the world. Run the cell below to inspect the data."
   ]
  },
  {
   "cell_type": "code",
   "execution_count": null,
   "id": "ef804fe5",
   "metadata": {},
   "outputs": [],
   "source": [
    "countries = Table.read_table('data/countries.csv').where('country', are.contained_in(population.group('geo').column('geo')))\n",
    "countries.select('country', 'name', 'world_6region').show(10)"
   ]
  },
  {
   "cell_type": "markdown",
   "id": "d5f37e6b",
   "metadata": {},
   "source": [
    "**Question 13.** Create a table called `region_counts` that has two columns, `region` and `count`. It should contain two columns: a region column and a count column that contains the number of countries in each region that appear in the result of `stats_for_year(1960)`. For example, one row would have `south_asia` as its `world_6region` value and an integer as its `count` value: the number of large South Asian countries for which we have population, fertility, and child mortality numbers from 1960.\n"
   ]
  },
  {
   "cell_type": "code",
   "execution_count": null,
   "id": "3bb9b82b",
   "metadata": {
    "tags": []
   },
   "outputs": [],
   "source": [
    "region_counts = ...\n",
    "region_counts.show()"
   ]
  },
  {
   "cell_type": "code",
   "execution_count": null,
   "id": "49ae5a7b",
   "metadata": {
    "deletable": false,
    "editable": false
   },
   "outputs": [],
   "source": [
    "grader.check(\"q1_13\")"
   ]
  },
  {
   "cell_type": "markdown",
   "id": "c6877a85",
   "metadata": {},
   "source": [
    "The following scatter diagram compares total fertility rate and child mortality rate for each country in 1960. The area of each dot represents the population of the country, and the color represents its region of the world. Run the cell. Do you think you can identify any of the dots?"
   ]
  },
  {
   "cell_type": "code",
   "execution_count": null,
   "id": "74a7bd0b",
   "metadata": {},
   "outputs": [],
   "source": [
    "from functools import lru_cache as cache\n",
    "\n",
    "# This cache annotation makes sure that if the same year\n",
    "# is passed as an argument twice, the work of computing\n",
    "# the result is only carried out once.\n",
    "@cache(None)\n",
    "def stats_relabeled(year):\n",
    "    \"\"\"Relabeled and cached version of stats_for_year.\"\"\"\n",
    "    return stats_for_year(year).relabel(2, 'Children per woman').relabel(3, 'Child deaths per 1000 born')\n",
    "\n",
    "def fertility_vs_child_mortality(year):\n",
    "    \"\"\"Draw a color scatter diagram comparing child mortality and fertility.\"\"\"\n",
    "    with_region = stats_relabeled(year).join('geo', countries.select('country', 'world_6region'), 'country')\n",
    "    with_region.scatter(2, 3, sizes=1, group=4, s=500)\n",
    "    plots.xlim(0,10)\n",
    "    plots.ylim(-50, 500)\n",
    "    plots.title(year)\n",
    "\n",
    "fertility_vs_child_mortality(1960)"
   ]
  },
  {
   "cell_type": "markdown",
   "id": "45ffbc95",
   "metadata": {},
   "source": [
    "**Question 14.** Assign `scatter_statements` to an array of the numbers of each statement below that can be inferred from this scatter diagram for 1960. \n",
    "1. As a whole, the `europe_central_asia` region had the lowest child mortality rate.\n",
    "1. The lowest child mortality rate of any country was from an `east_asia_pacific` country.\n",
    "1. Most countries had a fertility rate above 5.\n",
    "1. There was an association between child mortality and fertility.\n",
    "1. The two largest countries by population also had the two highest child mortality rate.\n"
   ]
  },
  {
   "cell_type": "code",
   "execution_count": null,
   "id": "0e4992ed",
   "metadata": {
    "tags": []
   },
   "outputs": [],
   "source": [
    "scatter_statements = ..."
   ]
  },
  {
   "cell_type": "code",
   "execution_count": null,
   "id": "66a46f31",
   "metadata": {
    "deletable": false,
    "editable": false
   },
   "outputs": [],
   "source": [
    "grader.check(\"q1_14\")"
   ]
  },
  {
   "cell_type": "markdown",
   "id": "9cdbcca7",
   "metadata": {},
   "source": [
    "The result of the cell below is interactive. Drag the slider to the right to see how countries have changed over time. You'll find\n",
    "that the great divide between so-called \"Western\" and \"developing\" countries that existed in the 1960's has nearly\n",
    "disappeared. This shift in fertility rates is the reason that the global population is expected to grow more slowly in the 21st\n",
    "century than it did in the 19th and 20th centuries.\n",
    "\n",
    "**Note:** Don't worry if a red warning pops up when running the cell below. You'll still be able to run the cell!"
   ]
  },
  {
   "cell_type": "code",
   "execution_count": null,
   "id": "ce5eeb8c",
   "metadata": {},
   "outputs": [],
   "source": [
    "import ipywidgets as widgets\n",
    "# This part takes a few minutes to run because it\n",
    "# computes 55 tables in advance: one for each year.\n",
    "Table().with_column('Year', np.arange(1960, 2016))#.apply(stats_relabeled, 'Year')\n",
    "_ = widgets.interact(fertility_vs_child_mortality,\n",
    "year=widgets.IntSlider(min=1960, max=2015, value=1960))"
   ]
  },
  {
   "cell_type": "markdown",
   "id": "6d68230f",
   "metadata": {},
   "source": [
    "Now is a great time to take a break and watch the same data presented by Hans Rosling in a 2010 TEDx talk\n",
    "(https://www.gapminder.org/videos/reducing-child-mortality-a-moral-and-environmental-imperative) with smoother animation\n",
    "and witty commentary."
   ]
  },
  {
   "cell_type": "markdown",
   "id": "886b4aa3",
   "metadata": {},
   "source": [
    "## Global Poverty"
   ]
  },
  {
   "cell_type": "markdown",
   "id": "1d7edae1",
   "metadata": {},
   "source": [
    "In 1800, 85% of the world's 1 billion people lived in extreme poverty, defined by the United Nations as \"a condition characterized by severe deprivation of basic human needs, including food, safe drinking water, sanitation facilities, health, shelter, education and information.\" A common measure of extreme poverty is a person living on less than $1.25 per day.\n",
    "\n",
    "In 2018, the proportion of people living in extreme poverty was estimated to be 8 percent. Although the world rate of extreme poverty has declined consistently for hundreds of years, the number of people living in extreme poverty is still over 600 million. The United Nations recently adopted an ambitious goal (http://www.un.org/sustainabledevelopment/poverty/): \"By 2030, eradicate extreme poverty for all people everywhere.\" In this section, we will examine extreme poverty trends around\n",
    "the world.\n",
    "\n",
    "First, load the population and poverty rate by country and year and the country descriptions. While the population table has values for every recent year for many countries, the poverty table only includes certain years for each country in which a measurement of the rate of extreme poverty was available."
   ]
  },
  {
   "cell_type": "code",
   "execution_count": null,
   "id": "828e0bf9",
   "metadata": {},
   "outputs": [],
   "source": [
    "population = Table.read_table('data/population.csv')\n",
    "countries = Table.read_table('data/countries.csv').where('country', are.contained_in(population.group('geo').column('geo')))\n",
    "poverty = Table.read_table('data/poverty.csv')\n",
    "poverty.show(3)"
   ]
  },
  {
   "cell_type": "markdown",
   "id": "11bcb197",
   "metadata": {},
   "source": [
    "**Question 1.** Assign latest_poverty to a three-column table with one row for each country that appears in the poverty table. The first column should contain the 3-letter code for the country. The second column should contain the most recent year for which an extreme poverty rate is available for the country. The third column should contain the poverty rate in that year. **Do not change the last line, so that the labels of your table are set correctly.**\n",
    "\n",
    "Hint: think about how group works: it does a sequential search of the table (from top to bottom) and collects values in the\n",
    "array in the order in which they appear, and then applies a function to that array. The first function may be helpful, but\n",
    "you are not required to use it.\n",
    "\n",
    "\n"
   ]
  },
  {
   "cell_type": "code",
   "execution_count": null,
   "id": "ece95da8",
   "metadata": {
    "tags": []
   },
   "outputs": [],
   "source": [
    "def first(values):\n",
    "    return values.item(0)\n",
    "\n",
    "latest_poverty = ...\n",
    "latest_poverty = latest_poverty.relabeled(0, 'geo').relabeled(1, 'time').relabeled(2, 'poverty_percent') # You should *not* change this line.\n",
    "latest_poverty.show(10)"
   ]
  },
  {
   "cell_type": "code",
   "execution_count": null,
   "id": "8be26252",
   "metadata": {
    "deletable": false,
    "editable": false
   },
   "outputs": [],
   "source": [
    "grader.check(\"q2_1\")"
   ]
  },
  {
   "cell_type": "markdown",
   "id": "93836fe2",
   "metadata": {},
   "source": [
    "**Question 2.** Using both latest_poverty and population , create a four-column table called\n",
    "recent_poverty_total with one row for each country in latest_poverty . The four columns should have the following labels and contents:\n",
    "\n",
    "1. geo contains the 3-letter country code,\n",
    "2. poverty_percent contains the most recent poverty percent,\n",
    "3. population_total contains the population of the country in 2015,\n",
    "4. poverty_total contains the number of people in poverty rounded to the nearest integer, based on the 2015 population and most recent poverty rate.\n",
    "\n",
    "*HINT:* We recommend splitting this task into multiple steps. You may want to use `poverty_and_pop` as an intermediary table which has the poverty_percent and population_total values.\n"
   ]
  },
  {
   "cell_type": "code",
   "execution_count": null,
   "id": "c310e92b",
   "metadata": {
    "tags": []
   },
   "outputs": [],
   "source": [
    "poverty_and_pop = ...\n",
    "recent_poverty_total = ...\n",
    "recent_poverty_total"
   ]
  },
  {
   "cell_type": "code",
   "execution_count": null,
   "id": "67b08ba2",
   "metadata": {
    "deletable": false,
    "editable": false
   },
   "outputs": [],
   "source": [
    "grader.check(\"q2_2\")"
   ]
  },
  {
   "cell_type": "markdown",
   "id": "1ae1d88e",
   "metadata": {},
   "source": [
    "**Question 3.** Assign the name poverty_percent to the known percentage of the world’s 2015 population that were living in extreme poverty. Assume that the poverty_total numbers in the recent_poverty_total table describe all\n",
    "people in 2015 living in extreme poverty. You should find a number that is above the 2018 global estimate of 8%, since many country-specific poverty rates are older than 2018.\n",
    "\n",
    "Hint: The sum of the population_total column in the recent_poverty_total table is not the world population, because only a subset of the world's countries are included in the recent_poverty_total table (only some countries have known poverty rates). Use the population table to compute the world's 2015 total population..\n"
   ]
  },
  {
   "cell_type": "code",
   "execution_count": null,
   "id": "ec15a0dc",
   "metadata": {
    "tags": []
   },
   "outputs": [],
   "source": [
    "poverty_percent = ...\n",
    "poverty_percent"
   ]
  },
  {
   "cell_type": "code",
   "execution_count": null,
   "id": "cdc3d321",
   "metadata": {
    "deletable": false,
    "editable": false
   },
   "outputs": [],
   "source": [
    "grader.check(\"q2_3\")"
   ]
  },
  {
   "cell_type": "markdown",
   "id": "7f6db25f",
   "metadata": {},
   "source": [
    "The countries table includes not only the name and region of countries, but also their positions on the globe."
   ]
  },
  {
   "cell_type": "code",
   "execution_count": null,
   "id": "b1186ae9",
   "metadata": {},
   "outputs": [],
   "source": [
    "countries.select('country', 'name', 'world_4region', 'latitude', 'longitude').show(10)"
   ]
  },
  {
   "cell_type": "markdown",
   "id": "0dccef77",
   "metadata": {},
   "source": [
    "**Question 4.** Using both countries and recent_poverty_total , create a five-column table called poverty_map with one row for every country in recent_poverty_total . The five columns should have the following labels and contents:\n",
    "\n",
    "1. latitude contains the country's latitude,\n",
    "2. longitude contains the country's longitude,\n",
    "3. name contains the country's name,\n",
    "4. region contains the country's region from the world_4region column of countries ,\n",
    "5. poverty_total contains the country's poverty total.\n"
   ]
  },
  {
   "cell_type": "code",
   "execution_count": null,
   "id": "a6458027",
   "metadata": {
    "tags": []
   },
   "outputs": [],
   "source": [
    "poverty_map = ...\n",
    "poverty_map"
   ]
  },
  {
   "cell_type": "code",
   "execution_count": null,
   "id": "b0b926c8",
   "metadata": {
    "deletable": false,
    "editable": false
   },
   "outputs": [],
   "source": [
    "grader.check(\"q2_4\")"
   ]
  },
  {
   "cell_type": "markdown",
   "id": "dc258666",
   "metadata": {},
   "source": [
    "Run the cell below to draw a map of the world in which the areas of circles represent the number of people living in extreme poverty. Double-click on the map to zoom in."
   ]
  },
  {
   "cell_type": "code",
   "execution_count": null,
   "id": "884a1612",
   "metadata": {},
   "outputs": [],
   "source": [
    "# It may take a few seconds to generate this map.\n",
    "colors = {'africa': 'blue', 'europe': 'black', 'asia': 'red', 'americas': 'green'}\n",
    "scaled = poverty_map.with_columns(\n",
    "'poverty_total', 1e-4 * poverty_map.column('poverty_total'),\n",
    "'region', poverty_map.apply(colors.get, 'region')\n",
    ")\n",
    "Circle.map_table(scaled)"
   ]
  },
  {
   "cell_type": "markdown",
   "id": "c597194b",
   "metadata": {},
   "source": [
    "Although people live in extreme poverty throughout the world (with more than 5 million in the United States), the largest numbers are in Asia and Africa."
   ]
  },
  {
   "cell_type": "markdown",
   "id": "a492023f",
   "metadata": {},
   "source": [
    "**Question 5.** Assign largest to a two-column table with the name (not the 3-letter code) and poverty_total of the 20\n",
    "countries with the largest number of people living in extreme poverty."
   ]
  },
  {
   "cell_type": "code",
   "execution_count": null,
   "id": "3d813c6c",
   "metadata": {
    "tags": []
   },
   "outputs": [],
   "source": [
    "largest = ...\n",
    "largest.set_format('poverty_total', NumberFormatter).show(10)"
   ]
  },
  {
   "cell_type": "code",
   "execution_count": null,
   "id": "5c260376",
   "metadata": {
    "deletable": false,
    "editable": false
   },
   "outputs": [],
   "source": [
    "grader.check(\"q2_5\")"
   ]
  },
  {
   "cell_type": "markdown",
   "id": "eec3d101",
   "metadata": {},
   "source": [
    "**Question 6.** Write a function called poverty_timeline that takes the name of a country as its argument. It should draw a line plot of the number of people living in poverty in that country with time on the horizontal axis. The line plot should have a point for each row in the poverty table for that country. To compute the population living in poverty from a poverty percentage, multiply by the population of the country in that year.\n",
    "\n",
    "Hint: This question is long. Feel free to create cells and experiment. You may use `geo` as an intermediary variable. "
   ]
  },
  {
   "cell_type": "markdown",
   "id": "522729a8",
   "metadata": {},
   "source": [
    "<!-- BEGIN QUESTION -->\n",
    "\n"
   ]
  },
  {
   "cell_type": "code",
   "execution_count": null,
   "id": "96d7e85d",
   "metadata": {
    "tags": []
   },
   "outputs": [],
   "source": [
    "def poverty_timeline(country):\n",
    "    '''Draw a timeline of people living in extreme poverty in a country.'''\n",
    "    geo = ...\n",
    "    # This solution will take multiple lines of code. Use as many as you need\n",
    "    ..."
   ]
  },
  {
   "cell_type": "markdown",
   "id": "5a51ab17",
   "metadata": {},
   "source": [
    "<!-- END QUESTION -->\n",
    "\n",
    "Finally, draw the timelines below to see how the world is changing. You can check your work by comparing your graphs to the\n",
    "ones on gapminder.org (https://tools-legacy.gapminder.org/tools/#$state$entities$show$country$/$in@=ind;;;;&marker$axis_y$which=number_of_people_in_poverty&scaleType=linear&spaceRef:null;;;&chart-type=linechart)."
   ]
  },
  {
   "cell_type": "code",
   "execution_count": null,
   "id": "e004a5c7",
   "metadata": {},
   "outputs": [],
   "source": [
    "poverty_timeline('India')\n",
    "poverty_timeline('Nigeria')\n",
    "poverty_timeline('China')\n",
    "poverty_timeline('United States')"
   ]
  },
  {
   "cell_type": "markdown",
   "id": "2f9e600f",
   "metadata": {},
   "source": [
    "Although the number of people living in extreme poverty has been increasing in Nigeria and the United States, the massive decreases in China and India have shaped the overall trend that extreme poverty is decreasing worldwide, both in percentage and in absolute number.\n",
    "\n",
    "To learn more, watch Hans Rosling in a 2015 film (https://www.gapminder.org/videos/dont-panic-end-poverty/) about the UN goal of eradicating extreme poverty from the world.\n",
    "\n",
    "Below, we've also added an interactive dropdown menu for you to visualize poverty_timeline graphs for other countries. Note that each dropdown menu selection may take a few seconds to run."
   ]
  },
  {
   "cell_type": "code",
   "execution_count": null,
   "id": "f5f70540",
   "metadata": {},
   "outputs": [],
   "source": [
    "# Just run this cell\n",
    "all_countries = poverty_map.column('name')\n",
    "_ = widgets.interact(poverty_timeline, country=list(all_countries))"
   ]
  },
  {
   "cell_type": "markdown",
   "id": "f421989a",
   "metadata": {},
   "source": [
    "You're finished! Congratulations on completing the Midterm Project for CMPSC 5A. Time to submit."
   ]
  },
  {
   "cell_type": "markdown",
   "id": "f75cd047",
   "metadata": {},
   "source": [
    "### Full Submission (due Tuesday, 21st November at 11:59pm PT)\n",
    "\n",
    "To submit:\n",
    "- **save the notebook** first (**`Save and Checkpoint`** from the `File` menu)\n",
    "- go up to the `Kernel` menu and select `Restart & Clear Output` (make sure the notebook is saved first, because otherwise, you will lose all your work!). \n",
    "- go to `Cell -> Run All`. Carefully look through your notebook and verify that all computations execute correctly. You should see **no errors**; if there are any errors, make sure to correct them before you submit the notebook.\n",
    "- <span style=\"color:red\">The tests don't usually tell you that your answer is correct.</span> Take a look at the results that you are getting and verify that they match what is being asked and what you would expect to see.\n",
    "* go to `File -> Download as -> Notebook` and download the notebook to your own computer. ([Please verify](https://ucsb-ds.github.io/ds1-f20/troubleshooting/#i-downloaded-the-notebook-file-but-it-saves-as-the-ipynbjson-extension-so-whenever-i-upload-it-to-gradescope-it-fails) that it got saved as an .ipynb file.)\n",
    "* Upload the notebook to [Gradescope](https://www.gradescope.com/). You can drag and drop both files or hold down Ctrl to click on multiple files when you are uploading them.\n",
    "* One submission per group. After you submit your notebook, you can Add Group Member. [How to Add Group Member in Gradescope](https://help.gradescope.com/article/m5qz2xsnjy-student-add-group-members)\n",
    "* Review the feedback you received for your Midterm Project Checkpoint. You can make any necessary corrections in this Full Submission of your Midterm Project, as we will check all questions in this notebook. "
   ]
  },
  {
   "cell_type": "markdown",
   "id": "84cea8fd",
   "metadata": {
    "deletable": false,
    "editable": false
   },
   "source": [
    "---\n",
    "\n",
    "To double-check your work, the cell below will rerun all of the autograder tests."
   ]
  },
  {
   "cell_type": "code",
   "execution_count": null,
   "id": "3e53645b",
   "metadata": {
    "deletable": false,
    "editable": false
   },
   "outputs": [],
   "source": [
    "grader.check_all()"
   ]
  }
 ],
 "metadata": {
  "kernelspec": {
   "display_name": "Python 3 (ipykernel)",
   "language": "python",
   "name": "python3"
  },
  "language_info": {
   "codemirror_mode": {
    "name": "ipython",
    "version": 3
   },
   "file_extension": ".py",
   "mimetype": "text/x-python",
   "name": "python",
   "nbconvert_exporter": "python",
   "pygments_lexer": "ipython3",
   "version": "3.11.5"
  },
  "toc": {
   "base_numbering": 1,
   "nav_menu": {},
   "number_sections": false,
   "sideBar": true,
   "skip_h1_title": false,
   "title_cell": "Table of Contents",
   "title_sidebar": "Contents",
   "toc_cell": false,
   "toc_position": {
    "height": "calc(100% - 180px)",
    "left": "10px",
    "top": "150px",
    "width": "216px"
   },
   "toc_section_display": true,
   "toc_window_display": true
  }
 },
 "nbformat": 4,
 "nbformat_minor": 5
}
