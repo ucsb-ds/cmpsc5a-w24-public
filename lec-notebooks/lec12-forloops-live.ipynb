{
 "cells": [
  {
   "cell_type": "code",
   "execution_count": 1,
   "metadata": {
    "tags": []
   },
   "outputs": [],
   "source": [
    "from datascience import *\n",
    "import numpy as np\n",
    "%matplotlib inline\n",
    "import matplotlib.pyplot as plots\n",
    "plots.style.use('fivethirtyeight')"
   ]
  },
  {
   "cell_type": "markdown",
   "metadata": {},
   "source": [
    "# Lecture 12\n",
    "\n",
    "In this lecture we introduce more complex boolean expressions, conditionals, and for loops."
   ]
  },
  {
   "cell_type": "markdown",
   "metadata": {},
   "source": [
    "---\n",
    "\n",
    "## Boolean expressions\n",
    "\n",
    "We have already seen basic boolean expressions before"
   ]
  },
  {
   "cell_type": "code",
   "execution_count": 2,
   "metadata": {
    "tags": []
   },
   "outputs": [
    {
     "data": {
      "text/plain": [
       "True"
      ]
     },
     "execution_count": 2,
     "metadata": {},
     "output_type": "execute_result"
    }
   ],
   "source": [
    "3 > 1"
   ]
  },
  {
   "cell_type": "code",
   "execution_count": 3,
   "metadata": {
    "tags": []
   },
   "outputs": [
    {
     "data": {
      "text/plain": [
       "bool"
      ]
     },
     "execution_count": 3,
     "metadata": {},
     "output_type": "execute_result"
    }
   ],
   "source": [
    "type(3 > 1)"
   ]
  },
  {
   "cell_type": "code",
   "execution_count": 4,
   "metadata": {
    "tags": []
   },
   "outputs": [
    {
     "data": {
      "text/plain": [
       "bool"
      ]
     },
     "execution_count": 4,
     "metadata": {},
     "output_type": "execute_result"
    }
   ],
   "source": [
    "type(True)"
   ]
  },
  {
   "cell_type": "markdown",
   "metadata": {
    "tags": [
     "raises-exception"
    ]
   },
   "source": [
    "Recall that single `=` is **assignment**.  Thus the following is an error:\n",
    "\n",
    "```python\n",
    "3 = 3.0\n",
    "```"
   ]
  },
  {
   "cell_type": "markdown",
   "metadata": {},
   "source": [
    "Equality:"
   ]
  },
  {
   "cell_type": "code",
   "execution_count": 5,
   "metadata": {
    "tags": []
   },
   "outputs": [
    {
     "data": {
      "text/plain": [
       "True"
      ]
     },
     "execution_count": 5,
     "metadata": {},
     "output_type": "execute_result"
    }
   ],
   "source": [
    "3 == 3.0"
   ]
  },
  {
   "cell_type": "markdown",
   "metadata": {},
   "source": [
    "Inequality: "
   ]
  },
  {
   "cell_type": "code",
   "execution_count": 6,
   "metadata": {
    "tags": []
   },
   "outputs": [
    {
     "data": {
      "text/plain": [
       "True"
      ]
     },
     "execution_count": 6,
     "metadata": {},
     "output_type": "execute_result"
    }
   ],
   "source": [
    "10 != 2"
   ]
  },
  {
   "cell_type": "markdown",
   "metadata": {},
   "source": [
    "Using variables in boolean expressions:"
   ]
  },
  {
   "cell_type": "code",
   "execution_count": 7,
   "metadata": {
    "tags": []
   },
   "outputs": [],
   "source": [
    "x = 14\n",
    "y = 3 # assigning values to variables, with one equal sign"
   ]
  },
  {
   "cell_type": "code",
   "execution_count": 8,
   "metadata": {
    "tags": []
   },
   "outputs": [
    {
     "data": {
      "text/plain": [
       "False"
      ]
     },
     "execution_count": 8,
     "metadata": {},
     "output_type": "execute_result"
    }
   ],
   "source": [
    "x > 15 # comparison operators"
   ]
  },
  {
   "cell_type": "code",
   "execution_count": 9,
   "metadata": {
    "tags": []
   },
   "outputs": [
    {
     "data": {
      "text/plain": [
       "True"
      ]
     },
     "execution_count": 9,
     "metadata": {},
     "output_type": "execute_result"
    }
   ],
   "source": [
    "12 < x"
   ]
  },
  {
   "cell_type": "code",
   "execution_count": 10,
   "metadata": {
    "tags": []
   },
   "outputs": [
    {
     "data": {
      "text/plain": [
       "True"
      ]
     },
     "execution_count": 10,
     "metadata": {},
     "output_type": "execute_result"
    }
   ],
   "source": [
    "x < 20"
   ]
  },
  {
   "cell_type": "markdown",
   "metadata": {},
   "source": [
    "Compound boolean expressions:"
   ]
  },
  {
   "cell_type": "code",
   "execution_count": 11,
   "metadata": {},
   "outputs": [
    {
     "data": {
      "text/plain": [
       "True"
      ]
     },
     "execution_count": 11,
     "metadata": {},
     "output_type": "execute_result"
    }
   ],
   "source": [
    "12 < x < 20"
   ]
  },
  {
   "cell_type": "markdown",
   "metadata": {},
   "source": [
    "(The comparison `12 < x < 20` is equivalent to `12 < x and x < 20`.)"
   ]
  },
  {
   "cell_type": "code",
   "execution_count": 12,
   "metadata": {},
   "outputs": [
    {
     "data": {
      "text/plain": [
       "True"
      ]
     },
     "execution_count": 12,
     "metadata": {},
     "output_type": "execute_result"
    }
   ],
   "source": [
    "12 < x and x < 20"
   ]
  },
  {
   "cell_type": "markdown",
   "metadata": {},
   "source": [
    "Note: `or` is non-exclusive"
   ]
  },
  {
   "cell_type": "code",
   "execution_count": 13,
   "metadata": {
    "tags": []
   },
   "outputs": [
    {
     "data": {
      "text/plain": [
       "True"
      ]
     },
     "execution_count": 13,
     "metadata": {},
     "output_type": "execute_result"
    }
   ],
   "source": [
    "False or True # just one of the statements in an 'or' statement, need to be true"
   ]
  },
  {
   "cell_type": "code",
   "execution_count": 14,
   "metadata": {
    "tags": []
   },
   "outputs": [
    {
     "data": {
      "text/plain": [
       "True"
      ]
     },
     "execution_count": 14,
     "metadata": {},
     "output_type": "execute_result"
    }
   ],
   "source": [
    "True or True"
   ]
  },
  {
   "cell_type": "code",
   "execution_count": 15,
   "metadata": {},
   "outputs": [
    {
     "data": {
      "text/plain": [
       "False"
      ]
     },
     "execution_count": 15,
     "metadata": {},
     "output_type": "execute_result"
    }
   ],
   "source": [
    "False and True # requirements for an 'and' statement to be true, both statements or all statements listed\n",
    "# need to be true"
   ]
  },
  {
   "cell_type": "code",
   "execution_count": 16,
   "metadata": {},
   "outputs": [
    {
     "data": {
      "text/plain": [
       "True"
      ]
     },
     "execution_count": 16,
     "metadata": {},
     "output_type": "execute_result"
    }
   ],
   "source": [
    "12 < x or x < 12 # 12 < x is true and x < 12 is false\n",
    "# remember with an 'or' statement, just one of the statements needs to be true, for the entire statement to be true"
   ]
  },
  {
   "cell_type": "code",
   "execution_count": 17,
   "metadata": {},
   "outputs": [
    {
     "data": {
      "text/plain": [
       "False"
      ]
     },
     "execution_count": 17,
     "metadata": {},
     "output_type": "execute_result"
    }
   ],
   "source": [
    "12 < x and x < 12 # 12 < x is true and x < 12 is false\n",
    "# with an 'and' statement, we need both/all statements to be true, for the entire statement to be true"
   ]
  },
  {
   "cell_type": "markdown",
   "metadata": {},
   "source": [
    "---\n",
    "<center> return to slides </center>\n",
    "\n",
    "---"
   ]
  },
  {
   "cell_type": "markdown",
   "metadata": {},
   "source": [
    "## Boolean Expressions with Arrays\n",
    "\n",
    "Just as arrays can be used in mathematical expressions we can also apply boolean operations to arrays.  They are applied element-wise."
   ]
  },
  {
   "cell_type": "code",
   "execution_count": 18,
   "metadata": {},
   "outputs": [
    {
     "data": {
      "text/plain": [
       "array(['cat', 'cat', 'dog', 'cat', 'dog', 'rabbit'],\n",
       "      dtype='<U6')"
      ]
     },
     "execution_count": 18,
     "metadata": {},
     "output_type": "execute_result"
    }
   ],
   "source": [
    "pets = make_array('cat', 'cat', 'dog', 'cat', 'dog', 'rabbit')\n",
    "pets"
   ]
  },
  {
   "cell_type": "code",
   "execution_count": 19,
   "metadata": {},
   "outputs": [
    {
     "data": {
      "text/plain": [
       "array([ True,  True, False,  True, False, False], dtype=bool)"
      ]
     },
     "execution_count": 19,
     "metadata": {},
     "output_type": "execute_result"
    }
   ],
   "source": [
    "pets == 'cat'"
   ]
  },
  {
   "cell_type": "markdown",
   "metadata": {},
   "source": [
    "How many cats?"
   ]
  },
  {
   "cell_type": "code",
   "execution_count": 20,
   "metadata": {},
   "outputs": [
    {
     "data": {
      "text/plain": [
       "3"
      ]
     },
     "execution_count": 20,
     "metadata": {},
     "output_type": "execute_result"
    }
   ],
   "source": [
    "sum(pets == 'cat')\n",
    "# first python, converts pets == 'cat' into an array of boolean values \n",
    "#array([ True,  True, False,  True, False, False], dtype=bool)\n",
    "# python interprets my array of boolean values and converts it into numerical values, True = 1, False = 0\n",
    "# array([ 1,      1,   0,       1,    0 ,    0], dtype=bool)\n",
    "# sum(array([ 1,      1,   0,       1,    0 ,    0]) = 3\n",
    "# Notice, when we are taking the sum of an array of boolean values or an array of 1s and 0s, we are effectively\n",
    "# counting the number of Trues or 1s"
   ]
  },
  {
   "cell_type": "markdown",
   "metadata": {},
   "source": [
    "Math with booleans\n",
    "- What is the average number of cats?\n",
    "- Let's create an array `is_cat` holding `True` values for cats and `False` for not cats\n",
    "- Let's create an array where we put `1` for cat and `-1` for not cat"
   ]
  },
  {
   "cell_type": "code",
   "execution_count": 21,
   "metadata": {},
   "outputs": [
    {
     "data": {
      "text/plain": [
       "array([ True,  True, False,  True, False, False], dtype=bool)"
      ]
     },
     "execution_count": 21,
     "metadata": {},
     "output_type": "execute_result"
    }
   ],
   "source": [
    "is_cat = (pets == 'cat') # count number of cats in my pets array\n",
    "is_cat"
   ]
  },
  {
   "cell_type": "code",
   "execution_count": 27,
   "metadata": {},
   "outputs": [],
   "source": [
    "is_cat_fixed = is_cat * 2 - 1"
   ]
  },
  {
   "cell_type": "code",
   "execution_count": 28,
   "metadata": {},
   "outputs": [
    {
     "data": {
      "text/plain": [
       "0.0"
      ]
     },
     "execution_count": 28,
     "metadata": {},
     "output_type": "execute_result"
    }
   ],
   "source": [
    "# array([ 1,  1, 0,  1, 0, 0], dtype=bool)\n",
    "\n",
    "np.mean(is_cat_fixed)"
   ]
  },
  {
   "cell_type": "code",
   "execution_count": null,
   "metadata": {},
   "outputs": [],
   "source": []
  },
  {
   "cell_type": "code",
   "execution_count": null,
   "metadata": {},
   "outputs": [],
   "source": []
  },
  {
   "cell_type": "code",
   "execution_count": null,
   "metadata": {},
   "outputs": [],
   "source": []
  },
  {
   "cell_type": "markdown",
   "metadata": {},
   "source": [
    "---\n",
    "\n",
    "<center> return to slides </center>\n",
    "\n",
    "---"
   ]
  },
  {
   "cell_type": "markdown",
   "metadata": {},
   "source": [
    "## Rows & Apply\n",
    "\n",
    "Just as we can access individual columns in a table we can also access individual rows. \n",
    "- pull out the first row of the table and assign it to a variable `r` (using the `.row()` method)\n",
    "- check the type of `r`\n",
    "- get a value of the row (using the `item()` method). Get e.g. the 'Year' (0th element) and the 'Extraversion' (1st element)"
   ]
  },
  {
   "cell_type": "code",
   "execution_count": 29,
   "metadata": {
    "tags": []
   },
   "outputs": [
    {
     "data": {
      "text/html": [
       "<table border=\"1\" class=\"dataframe\">\n",
       "    <thead>\n",
       "        <tr>\n",
       "            <th>Year</th> <th>Extraversion</th> <th>Number of texts</th> <th>Handedness</th> <th>Sleep position</th> <th>Hours of Sleep</th> <th>Siblings</th> <th>Pets</th> <th>Random Number</th> <th>Tattoo</th> <th>Commute</th>\n",
       "        </tr>\n",
       "    </thead>\n",
       "    <tbody>\n",
       "        <tr>\n",
       "            <td>Second</td> <td>3           </td> <td>5              </td> <td>Right     </td> <td>Back          </td> <td>6             </td> <td>1       </td> <td>cat          </td> <td>4635         </td> <td>No    </td> <td>walk   </td>\n",
       "        </tr>\n",
       "        <tr>\n",
       "            <td>Second</td> <td>3           </td> <td>30             </td> <td>Right     </td> <td>Left side     </td> <td>8             </td> <td>1       </td> <td>1            </td> <td>1025         </td> <td>Yes   </td> <td>walk   </td>\n",
       "        </tr>\n",
       "        <tr>\n",
       "            <td>First </td> <td>2           </td> <td>5              </td> <td>Right     </td> <td>Back          </td> <td>8             </td> <td>2       </td> <td>Jack Mackerel</td> <td>7682         </td> <td>No    </td> <td>walk   </td>\n",
       "        </tr>\n",
       "    </tbody>\n",
       "</table>\n",
       "<p>... (48 rows omitted)</p>"
      ],
      "text/plain": [
       "<IPython.core.display.HTML object>"
      ]
     },
     "metadata": {},
     "output_type": "display_data"
    }
   ],
   "source": [
    "survey = Table.read_table('data/welcome_survey_w24_cleaned.csv') # changed to welcome_survey_w24_cleaned.csv\n",
    "survey.show(3)"
   ]
  },
  {
   "cell_type": "code",
   "execution_count": 33,
   "metadata": {},
   "outputs": [
    {
     "data": {
      "text/plain": [
       "Row(Year='Second', Extraversion=3.0, Number of texts=5.0, Handedness='Right', Sleep position='Back', Hours of Sleep=6.0, Siblings='1', Pets='cat', Random Number=4635, Tattoo='No', Commute='walk')"
      ]
     },
     "execution_count": 33,
     "metadata": {},
     "output_type": "execute_result"
    }
   ],
   "source": [
    "r = survey.row(0)\n",
    "type(r) # notice r is a datascience.table.Row data type, as opposed to an array\n",
    "r"
   ]
  },
  {
   "cell_type": "code",
   "execution_count": 34,
   "metadata": {},
   "outputs": [
    {
     "data": {
      "text/plain": [
       "'Second'"
      ]
     },
     "execution_count": 34,
     "metadata": {},
     "output_type": "execute_result"
    }
   ],
   "source": [
    "r.item('Year')"
   ]
  },
  {
   "cell_type": "markdown",
   "metadata": {},
   "source": [
    "Getting a field from a row"
   ]
  },
  {
   "cell_type": "code",
   "execution_count": null,
   "metadata": {},
   "outputs": [],
   "source": []
  },
  {
   "cell_type": "markdown",
   "metadata": {},
   "source": [
    "### Math On Rows"
   ]
  },
  {
   "cell_type": "markdown",
   "metadata": {},
   "source": [
    "Suppose we get a row that contains only numbers:"
   ]
  },
  {
   "cell_type": "code",
   "execution_count": 35,
   "metadata": {},
   "outputs": [
    {
     "data": {
      "text/plain": [
       "Row(Extraversion=2.0, Number of texts=5.0, Hours of Sleep=8.0)"
      ]
     },
     "execution_count": 35,
     "metadata": {},
     "output_type": "execute_result"
    }
   ],
   "source": [
    "r2 = survey.select(\"Extraversion\", \"Number of texts\", \"Hours of Sleep\").row(2) # change Number of textees to Number of texts\n",
    "# change Hours of sleep to Hours of Sleep\n",
    "r2"
   ]
  },
  {
   "cell_type": "markdown",
   "metadata": {},
   "source": [
    "We can apply aggregation functions to that row. Try e.g. `sum()`"
   ]
  },
  {
   "cell_type": "code",
   "execution_count": 36,
   "metadata": {},
   "outputs": [
    {
     "data": {
      "text/plain": [
       "15.0"
      ]
     },
     "execution_count": 36,
     "metadata": {},
     "output_type": "execute_result"
    }
   ],
   "source": [
    "sum(r2) # adding extraversion rating + number of text + hours of sleep together\n",
    "# what does the sum effectively tell you?\n",
    "# is there insight gained from the output?"
   ]
  },
  {
   "cell_type": "markdown",
   "metadata": {},
   "source": [
    "What if the row does NOT contain only numbers?"
   ]
  },
  {
   "cell_type": "code",
   "execution_count": 37,
   "metadata": {
    "tags": []
   },
   "outputs": [
    {
     "data": {
      "text/plain": [
       "Row(Year='First', Extraversion=2.0, Number of texts=5.0, Hours of Sleep=8.0)"
      ]
     },
     "execution_count": 37,
     "metadata": {},
     "output_type": "execute_result"
    }
   ],
   "source": [
    "r3 = survey.select(\"Year\", \"Extraversion\", \"Number of texts\", \"Hours of Sleep\").row(2)\n",
    "r3"
   ]
  },
  {
   "cell_type": "code",
   "execution_count": 38,
   "metadata": {},
   "outputs": [
    {
     "ename": "TypeError",
     "evalue": "unsupported operand type(s) for +: 'int' and 'numpy.str_'",
     "output_type": "error",
     "traceback": [
      "\u001b[0;31m---------------------------------------------------------------------------\u001b[0m",
      "\u001b[0;31mTypeError\u001b[0m                                 Traceback (most recent call last)",
      "Cell \u001b[0;32mIn[38], line 1\u001b[0m\n\u001b[0;32m----> 1\u001b[0m \u001b[38;5;28;43msum\u001b[39;49m\u001b[43m(\u001b[49m\u001b[43mr3\u001b[49m\u001b[43m)\u001b[49m\n",
      "\u001b[0;31mTypeError\u001b[0m: unsupported operand type(s) for +: 'int' and 'numpy.str_'"
     ]
    }
   ],
   "source": [
    "sum(r3)"
   ]
  },
  {
   "cell_type": "markdown",
   "metadata": {},
   "source": [
    "Recall that if we wanted to **apply** a function to all the rows of a table we use `apply`"
   ]
  },
  {
   "cell_type": "code",
   "execution_count": 39,
   "metadata": {
    "tags": []
   },
   "outputs": [
    {
     "data": {
      "text/plain": [
       "array([  14.,   41.,   15.,   14.,   64.,  172.,   13.,   23.,   66.,\n",
       "         34.,   66.,  523.,   31.,   54.,   35.,   62.,   24.,   50.,\n",
       "         20.,   64.,   29.,   98.,   21.,   44.,   44.,   91.,   22.,\n",
       "         40.,   16.,   21.,   39.,   19.,   26.,   26.,   65.,   34.,\n",
       "         15.,   12.,   47.,   34.,   11.,   48.,   29.,   12.,  116.,\n",
       "         14.,   17.,   18.,   44.,   19.,   19.])"
      ]
     },
     "execution_count": 39,
     "metadata": {},
     "output_type": "execute_result"
    }
   ],
   "source": [
    "(\n",
    "    survey\n",
    "    .select(\"Extraversion\", \"Number of texts\", \"Hours of Sleep\")\n",
    "    .apply(sum)\n",
    ")"
   ]
  },
  {
   "cell_type": "code",
   "execution_count": 40,
   "metadata": {},
   "outputs": [
    {
     "data": {
      "text/plain": [
       "51"
      ]
     },
     "execution_count": 40,
     "metadata": {},
     "output_type": "execute_result"
    }
   ],
   "source": [
    "survey.num_rows"
   ]
  },
  {
   "cell_type": "code",
   "execution_count": 42,
   "metadata": {},
   "outputs": [
    {
     "data": {
      "text/plain": [
       "51"
      ]
     },
     "execution_count": 42,
     "metadata": {},
     "output_type": "execute_result"
    }
   ],
   "source": [
    "len([  14.,   41.,   15.,   14.,   64.,  172.,   13.,   23.,   66.,\n",
    "         34.,   66.,  523.,   31.,   54.,   35.,   62.,   24.,   50.,\n",
    "         20.,   64.,   29.,   98.,   21.,   44.,   44.,   91.,   22.,\n",
    "         40.,   16.,   21.,   39.,   19.,   26.,   26.,   65.,   34.,\n",
    "         15.,   12.,   47.,   34.,   11.,   48.,   29.,   12.,  116.,\n",
    "         14.,   17.,   18.,   44.,   19.,   19.])"
   ]
  },
  {
   "cell_type": "markdown",
   "metadata": {},
   "source": [
    "Let's use this insight to improve our pivot table:"
   ]
  },
  {
   "cell_type": "code",
   "execution_count": 43,
   "metadata": {
    "tags": []
   },
   "outputs": [
    {
     "data": {
      "text/html": [
       "<table border=\"1\" class=\"dataframe\">\n",
       "    <thead>\n",
       "        <tr>\n",
       "            <th>Hours of Sleep</th> <th>Back</th> <th>Left side</th> <th>Right side</th> <th>Stomach</th>\n",
       "        </tr>\n",
       "    </thead>\n",
       "    <tbody>\n",
       "        <tr>\n",
       "            <td>5             </td> <td>0   </td> <td>0        </td> <td>1         </td> <td>0      </td>\n",
       "        </tr>\n",
       "        <tr>\n",
       "            <td>6             </td> <td>2   </td> <td>4        </td> <td>0         </td> <td>1      </td>\n",
       "        </tr>\n",
       "        <tr>\n",
       "            <td>7             </td> <td>1   </td> <td>5        </td> <td>14        </td> <td>0      </td>\n",
       "        </tr>\n",
       "        <tr>\n",
       "            <td>8             </td> <td>3   </td> <td>4        </td> <td>6         </td> <td>1      </td>\n",
       "        </tr>\n",
       "        <tr>\n",
       "            <td>9             </td> <td>2   </td> <td>2        </td> <td>0         </td> <td>3      </td>\n",
       "        </tr>\n",
       "        <tr>\n",
       "            <td>10            </td> <td>0   </td> <td>0        </td> <td>1         </td> <td>0      </td>\n",
       "        </tr>\n",
       "        <tr>\n",
       "            <td>13            </td> <td>0   </td> <td>0        </td> <td>0         </td> <td>1      </td>\n",
       "        </tr>\n",
       "    </tbody>\n",
       "</table>"
      ],
      "text/plain": [
       "<IPython.core.display.HTML object>"
      ]
     },
     "metadata": {},
     "output_type": "display_data"
    }
   ],
   "source": [
    "p = survey.pivot(\"Sleep position\", \"Hours of Sleep\")\n",
    "p.show()"
   ]
  },
  {
   "cell_type": "markdown",
   "metadata": {},
   "source": [
    "**Exercise:** Add the row totals to the table:"
   ]
  },
  {
   "cell_type": "code",
   "execution_count": 47,
   "metadata": {},
   "outputs": [
    {
     "data": {
      "text/html": [
       "<table border=\"1\" class=\"dataframe\">\n",
       "    <thead>\n",
       "        <tr>\n",
       "            <th>Hours of Sleep</th> <th>Back</th> <th>Left side</th> <th>Right side</th> <th>Stomach</th> <th>Total</th>\n",
       "        </tr>\n",
       "    </thead>\n",
       "    <tbody>\n",
       "        <tr>\n",
       "            <td>5             </td> <td>0   </td> <td>0        </td> <td>1         </td> <td>0      </td> <td>1    </td>\n",
       "        </tr>\n",
       "        <tr>\n",
       "            <td>6             </td> <td>2   </td> <td>4        </td> <td>0         </td> <td>1      </td> <td>7    </td>\n",
       "        </tr>\n",
       "        <tr>\n",
       "            <td>7             </td> <td>1   </td> <td>5        </td> <td>14        </td> <td>0      </td> <td>20   </td>\n",
       "        </tr>\n",
       "        <tr>\n",
       "            <td>8             </td> <td>3   </td> <td>4        </td> <td>6         </td> <td>1      </td> <td>14   </td>\n",
       "        </tr>\n",
       "        <tr>\n",
       "            <td>9             </td> <td>2   </td> <td>2        </td> <td>0         </td> <td>3      </td> <td>7    </td>\n",
       "        </tr>\n",
       "        <tr>\n",
       "            <td>10            </td> <td>0   </td> <td>0        </td> <td>1         </td> <td>0      </td> <td>1    </td>\n",
       "        </tr>\n",
       "        <tr>\n",
       "            <td>13            </td> <td>0   </td> <td>0        </td> <td>0         </td> <td>1      </td> <td>1    </td>\n",
       "        </tr>\n",
       "    </tbody>\n",
       "</table>"
      ],
      "text/plain": [
       "Hours of Sleep | Back | Left side | Right side | Stomach | Total\n",
       "5              | 0    | 0         | 1          | 0       | 1\n",
       "6              | 2    | 4         | 0          | 1       | 7\n",
       "7              | 1    | 5         | 14         | 0       | 20\n",
       "8              | 3    | 4         | 6          | 1       | 14\n",
       "9              | 2    | 2         | 0          | 3       | 7\n",
       "10             | 0    | 0         | 1          | 0       | 1\n",
       "13             | 0    | 0         | 0          | 1       | 1"
      ]
     },
     "execution_count": 47,
     "metadata": {},
     "output_type": "execute_result"
    }
   ],
   "source": [
    "totals = p.drop('Hours of Sleep')\n",
    "totals = totals.apply(sum)\n",
    "p.with_column('Total', totals)"
   ]
  },
  {
   "cell_type": "markdown",
   "metadata": {},
   "source": [
    "**Exercise:** Do the same thing with a `group` and a `join`:"
   ]
  },
  {
   "cell_type": "code",
   "execution_count": 51,
   "metadata": {},
   "outputs": [
    {
     "data": {
      "text/html": [
       "<table border=\"1\" class=\"dataframe\">\n",
       "    <thead>\n",
       "        <tr>\n",
       "            <th>Hours of Sleep</th> <th>Back</th> <th>Left side</th> <th>Right side</th> <th>Stomach</th> <th>count</th>\n",
       "        </tr>\n",
       "    </thead>\n",
       "    <tbody>\n",
       "        <tr>\n",
       "            <td>5             </td> <td>0   </td> <td>0        </td> <td>1         </td> <td>0      </td> <td>1    </td>\n",
       "        </tr>\n",
       "        <tr>\n",
       "            <td>6             </td> <td>2   </td> <td>4        </td> <td>0         </td> <td>1      </td> <td>7    </td>\n",
       "        </tr>\n",
       "        <tr>\n",
       "            <td>7             </td> <td>1   </td> <td>5        </td> <td>14        </td> <td>0      </td> <td>20   </td>\n",
       "        </tr>\n",
       "        <tr>\n",
       "            <td>8             </td> <td>3   </td> <td>4        </td> <td>6         </td> <td>1      </td> <td>14   </td>\n",
       "        </tr>\n",
       "        <tr>\n",
       "            <td>9             </td> <td>2   </td> <td>2        </td> <td>0         </td> <td>3      </td> <td>7    </td>\n",
       "        </tr>\n",
       "        <tr>\n",
       "            <td>10            </td> <td>0   </td> <td>0        </td> <td>1         </td> <td>0      </td> <td>1    </td>\n",
       "        </tr>\n",
       "        <tr>\n",
       "            <td>13            </td> <td>0   </td> <td>0        </td> <td>0         </td> <td>1      </td> <td>1    </td>\n",
       "        </tr>\n",
       "    </tbody>\n",
       "</table>"
      ],
      "text/plain": [
       "Hours of Sleep | Back | Left side | Right side | Stomach | count\n",
       "5              | 0    | 0         | 1          | 0       | 1\n",
       "6              | 2    | 4         | 0          | 1       | 7\n",
       "7              | 1    | 5         | 14         | 0       | 20\n",
       "8              | 3    | 4         | 6          | 1       | 14\n",
       "9              | 2    | 2         | 0          | 3       | 7\n",
       "10             | 0    | 0         | 1          | 0       | 1\n",
       "13             | 0    | 0         | 0          | 1       | 1"
      ]
     },
     "execution_count": 51,
     "metadata": {},
     "output_type": "execute_result"
    }
   ],
   "source": [
    "totals_group = survey.group('Hours of Sleep')\n",
    "p.join('Hours of Sleep', totals_group, 'Hours of Sleep')"
   ]
  },
  {
   "cell_type": "code",
   "execution_count": 52,
   "metadata": {},
   "outputs": [
    {
     "data": {
      "text/plain": [
       "\u001b[0;31mSignature:\u001b[0m \u001b[0mTable\u001b[0m\u001b[0;34m.\u001b[0m\u001b[0mapply\u001b[0m\u001b[0;34m(\u001b[0m\u001b[0mself\u001b[0m\u001b[0;34m,\u001b[0m \u001b[0mfn\u001b[0m\u001b[0;34m,\u001b[0m \u001b[0;34m*\u001b[0m\u001b[0mcolumn_or_columns\u001b[0m\u001b[0;34m)\u001b[0m\u001b[0;34m\u001b[0m\u001b[0;34m\u001b[0m\u001b[0m\n",
       "\u001b[0;31mDocstring:\u001b[0m\n",
       "Apply ``fn`` to each element or elements of ``column_or_columns``.\n",
       "If no ``column_or_columns`` provided, `fn`` is applied to each row.\n",
       "\n",
       "Args:\n",
       "    ``fn`` (function) -- The function to apply to each element\n",
       "        of ``column_or_columns``.\n",
       "    ``column_or_columns`` -- Columns containing the arguments to ``fn``\n",
       "        as either column labels (``str``) or column indices (``int``).\n",
       "        The number of columns must match the number of arguments\n",
       "        that ``fn`` expects.\n",
       "\n",
       "Raises:\n",
       "    ``ValueError`` -- if  ``column_label`` is not an existing\n",
       "        column in the table.\n",
       "    ``TypeError`` -- if insufficient number of ``column_label`` passed\n",
       "        to ``fn``.\n",
       "\n",
       "Returns:\n",
       "    An array consisting of results of applying ``fn`` to elements\n",
       "    specified by ``column_label`` in each row.\n",
       "\n",
       ">>> t = Table().with_columns(\n",
       "...     'letter', make_array('a', 'b', 'c', 'z'),\n",
       "...     'count',  make_array(9, 3, 3, 1),\n",
       "...     'points', make_array(1, 2, 2, 10))\n",
       ">>> t\n",
       "letter | count | points\n",
       "a      | 9     | 1\n",
       "b      | 3     | 2\n",
       "c      | 3     | 2\n",
       "z      | 1     | 10\n",
       ">>> t.apply(lambda x: x - 1, 'points')\n",
       "array([0, 1, 1, 9])\n",
       ">>> t.apply(lambda x, y: x * y, 'count', 'points')\n",
       "array([ 9,  6,  6, 10])\n",
       ">>> t.apply(lambda x: x - 1, 'count', 'points')\n",
       "Traceback (most recent call last):\n",
       "    ...\n",
       "TypeError: <lambda>() takes 1 positional argument but 2 were given\n",
       ">>> t.apply(lambda x: x - 1, 'counts')\n",
       "Traceback (most recent call last):\n",
       "    ...\n",
       "ValueError: The column \"counts\" is not in the table. The table contains these columns: letter, count, points\n",
       "\n",
       "Whole rows are passed to the function if no columns are specified.\n",
       "\n",
       ">>> t.apply(lambda row: row[1] * 2)\n",
       "array([18,  6,  6,  2])\n",
       "\u001b[0;31mFile:\u001b[0m      ~/.local/lib/python3.11/site-packages/datascience/tables.py\n",
       "\u001b[0;31mType:\u001b[0m      function"
      ]
     },
     "metadata": {},
     "output_type": "display_data"
    }
   ],
   "source": [
    "Table.apply?"
   ]
  },
  {
   "cell_type": "markdown",
   "metadata": {},
   "source": [
    "---\n",
    "\n",
    "<center> return to slides </center>\n",
    "\n",
    "---"
   ]
  },
  {
   "cell_type": "markdown",
   "metadata": {},
   "source": [
    "## Conditional Statements\n",
    "\n",
    "Conditional statements in python allow us to do different things based on the values in our data"
   ]
  },
  {
   "cell_type": "code",
   "execution_count": 53,
   "metadata": {
    "tags": []
   },
   "outputs": [],
   "source": [
    "x = 20 # assignment statement\n",
    "# we are assigning value 20 to the variable name x"
   ]
  },
  {
   "cell_type": "markdown",
   "metadata": {},
   "source": [
    "If the value of x is greater than or equal to 18 then print 'You can legally vote.'"
   ]
  },
  {
   "cell_type": "code",
   "execution_count": 54,
   "metadata": {},
   "outputs": [
    {
     "data": {
      "text/plain": [
       "True"
      ]
     },
     "execution_count": 54,
     "metadata": {},
     "output_type": "execute_result"
    }
   ],
   "source": [
    "x >= 18"
   ]
  },
  {
   "cell_type": "code",
   "execution_count": 57,
   "metadata": {
    "tags": []
   },
   "outputs": [
    {
     "name": "stdout",
     "output_type": "stream",
     "text": [
      "You can legally vote.\n"
     ]
    }
   ],
   "source": [
    "if x >= 18: # this is a control statement, if the following statement is true, proceed with executing the code indented below\n",
    "    print('You can legally vote.') # <---- following code will be ran if x >= 18 is True"
   ]
  },
  {
   "cell_type": "markdown",
   "metadata": {},
   "source": [
    "Conditionals consist of two main parts:\n",
    "\n",
    "```python\n",
    "\n",
    "if boolean expression here :\n",
    "    # body of the if statement goes here and must be indented\n",
    "```\n",
    "\n",
    "Notice than if the boolean expression is False than the body of the if statement is not executed:"
   ]
  },
  {
   "cell_type": "code",
   "execution_count": 59,
   "metadata": {},
   "outputs": [
    {
     "data": {
      "text/plain": [
       "False"
      ]
     },
     "execution_count": 59,
     "metadata": {},
     "output_type": "execute_result"
    }
   ],
   "source": [
    "x >= 21"
   ]
  },
  {
   "cell_type": "code",
   "execution_count": 58,
   "metadata": {
    "tags": []
   },
   "outputs": [
    {
     "name": "stdout",
     "output_type": "stream",
     "text": [
      "Can you drink?\n",
      "This is run\n",
      "The value of x is 20\n"
     ]
    }
   ],
   "source": [
    "print(\"Can you drink?\")\n",
    "\n",
    "if x >= 21: # remember x = 20, x >= 21 will be False, so we do not enter the body of this conditional statement\n",
    "    print('You can legally drink.')\n",
    "    print(\"This line of code is never run...\")    \n",
    "\n",
    "print(\"This is run\")\n",
    "print(\"The value of x is\", x)"
   ]
  },
  {
   "cell_type": "markdown",
   "metadata": {},
   "source": [
    "Sometimes you want to do something else if the first statement wasn't true:"
   ]
  },
  {
   "cell_type": "code",
   "execution_count": 60,
   "metadata": {},
   "outputs": [
    {
     "name": "stdout",
     "output_type": "stream",
     "text": [
      "You can legally vote.\n"
     ]
    }
   ],
   "source": [
    "if x >= 21: # remember at this point x = 20, x > = 21 is False, skip to line 3\n",
    "    print('You can legally vote and drink.')\n",
    "elif x >= 18: # x= 20, so x >=18 is True, so we will enter this conditional statement body\n",
    "    print('You can legally vote.') # run this line, and exit out of this if-else body of code\n",
    "else:\n",
    "    print('You can legally drink milk.')"
   ]
  },
  {
   "cell_type": "markdown",
   "metadata": {},
   "source": [
    "Implementing a function with conditionals and muliple return values:"
   ]
  },
  {
   "cell_type": "code",
   "execution_count": 61,
   "metadata": {},
   "outputs": [],
   "source": [
    "def age(x):\n",
    "    if x >= 21:\n",
    "        return 'You can legally vote and drink.'\n",
    "    elif x >= 18:\n",
    "        return 'You can legally vote.'\n",
    "    else:\n",
    "        return 'You can legally drink milk.'"
   ]
  },
  {
   "cell_type": "code",
   "execution_count": 62,
   "metadata": {},
   "outputs": [
    {
     "data": {
      "text/plain": [
       "'You can legally drink milk.'"
      ]
     },
     "execution_count": 62,
     "metadata": {},
     "output_type": "execute_result"
    }
   ],
   "source": [
    "age(3)"
   ]
  },
  {
   "cell_type": "code",
   "execution_count": 63,
   "metadata": {},
   "outputs": [
    {
     "data": {
      "text/plain": [
       "'You can legally vote.'"
      ]
     },
     "execution_count": 63,
     "metadata": {},
     "output_type": "execute_result"
    }
   ],
   "source": [
    "age(20)"
   ]
  },
  {
   "cell_type": "code",
   "execution_count": 64,
   "metadata": {},
   "outputs": [
    {
     "data": {
      "text/plain": [
       "'You can legally vote and drink.'"
      ]
     },
     "execution_count": 64,
     "metadata": {},
     "output_type": "execute_result"
    }
   ],
   "source": [
    "age(23)"
   ]
  },
  {
   "cell_type": "markdown",
   "metadata": {},
   "source": [
    "### Putting the pieces together\n",
    "\n",
    "Here we will build a function that returns whether a trip was one way or a round trip:"
   ]
  },
  {
   "cell_type": "code",
   "execution_count": 66,
   "metadata": {
    "tags": []
   },
   "outputs": [
    {
     "data": {
      "text/html": [
       "<table border=\"1\" class=\"dataframe\">\n",
       "    <thead>\n",
       "        <tr>\n",
       "            <th>Trip ID</th> <th>Duration</th> <th>Start Date</th> <th>Start Station</th> <th>Start Terminal</th> <th>End Date</th> <th>End Station</th> <th>End Terminal</th> <th>Bike #</th> <th>Subscriber Type</th> <th>Zip Code</th>\n",
       "        </tr>\n",
       "    </thead>\n",
       "    <tbody>\n",
       "        <tr>\n",
       "            <td>913460 </td> <td>765     </td> <td>8/31/2015 23:26</td> <td>Harry Bridges Plaza (Ferry Building)         </td> <td>50            </td> <td>8/31/2015 23:39</td> <td>San Francisco Caltrain (Townsend at 4th)     </td> <td>70          </td> <td>288   </td> <td>Subscriber     </td> <td>2139    </td>\n",
       "        </tr>\n",
       "        <tr>\n",
       "            <td>913459 </td> <td>1036    </td> <td>8/31/2015 23:11</td> <td>San Antonio Shopping Center                  </td> <td>31            </td> <td>8/31/2015 23:28</td> <td>Mountain View City Hall                      </td> <td>27          </td> <td>35    </td> <td>Subscriber     </td> <td>95032   </td>\n",
       "        </tr>\n",
       "        <tr>\n",
       "            <td>913455 </td> <td>307     </td> <td>8/31/2015 23:13</td> <td>Post at Kearny                               </td> <td>47            </td> <td>8/31/2015 23:18</td> <td>2nd at South Park                            </td> <td>64          </td> <td>468   </td> <td>Subscriber     </td> <td>94107   </td>\n",
       "        </tr>\n",
       "        <tr>\n",
       "            <td>913454 </td> <td>409     </td> <td>8/31/2015 23:10</td> <td>San Jose City Hall                           </td> <td>10            </td> <td>8/31/2015 23:17</td> <td>San Salvador at 1st                          </td> <td>8           </td> <td>68    </td> <td>Subscriber     </td> <td>95113   </td>\n",
       "        </tr>\n",
       "        <tr>\n",
       "            <td>913453 </td> <td>789     </td> <td>8/31/2015 23:09</td> <td>Embarcadero at Folsom                        </td> <td>51            </td> <td>8/31/2015 23:22</td> <td>Embarcadero at Sansome                       </td> <td>60          </td> <td>487   </td> <td>Customer       </td> <td>9069    </td>\n",
       "        </tr>\n",
       "        <tr>\n",
       "            <td>913452 </td> <td>293     </td> <td>8/31/2015 23:07</td> <td>Yerba Buena Center of the Arts (3rd @ Howard)</td> <td>68            </td> <td>8/31/2015 23:12</td> <td>San Francisco Caltrain (Townsend at 4th)     </td> <td>70          </td> <td>538   </td> <td>Subscriber     </td> <td>94118   </td>\n",
       "        </tr>\n",
       "        <tr>\n",
       "            <td>913451 </td> <td>896     </td> <td>8/31/2015 23:07</td> <td>Embarcadero at Folsom                        </td> <td>51            </td> <td>8/31/2015 23:22</td> <td>Embarcadero at Sansome                       </td> <td>60          </td> <td>363   </td> <td>Customer       </td> <td>92562   </td>\n",
       "        </tr>\n",
       "        <tr>\n",
       "            <td>913450 </td> <td>255     </td> <td>8/31/2015 22:16</td> <td>Embarcadero at Sansome                       </td> <td>60            </td> <td>8/31/2015 22:20</td> <td>Steuart at Market                            </td> <td>74          </td> <td>470   </td> <td>Subscriber     </td> <td>94111   </td>\n",
       "        </tr>\n",
       "        <tr>\n",
       "            <td>913449 </td> <td>126     </td> <td>8/31/2015 22:12</td> <td>Beale at Market                              </td> <td>56            </td> <td>8/31/2015 22:15</td> <td>Temporary Transbay Terminal (Howard at Beale)</td> <td>55          </td> <td>439   </td> <td>Subscriber     </td> <td>94130   </td>\n",
       "        </tr>\n",
       "        <tr>\n",
       "            <td>913448 </td> <td>932     </td> <td>8/31/2015 21:57</td> <td>Post at Kearny                               </td> <td>47            </td> <td>8/31/2015 22:12</td> <td>South Van Ness at Market                     </td> <td>66          </td> <td>472   </td> <td>Subscriber     </td> <td>94702   </td>\n",
       "        </tr>\n",
       "        <tr>\n",
       "            <td>913443 </td> <td>691     </td> <td>8/31/2015 21:49</td> <td>Embarcadero at Sansome                       </td> <td>60            </td> <td>8/31/2015 22:01</td> <td>Market at Sansome                            </td> <td>77          </td> <td>434   </td> <td>Subscriber     </td> <td>94109   </td>\n",
       "        </tr>\n",
       "        <tr>\n",
       "            <td>913442 </td> <td>633     </td> <td>8/31/2015 21:44</td> <td>Market at 10th                               </td> <td>67            </td> <td>8/31/2015 21:54</td> <td>San Francisco Caltrain (Townsend at 4th)     </td> <td>70          </td> <td>531   </td> <td>Subscriber     </td> <td>94107   </td>\n",
       "        </tr>\n",
       "        <tr>\n",
       "            <td>913441 </td> <td>387     </td> <td>8/31/2015 21:39</td> <td>Market at 4th                                </td> <td>76            </td> <td>8/31/2015 21:46</td> <td>Grant Avenue at Columbus Avenue              </td> <td>73          </td> <td>383   </td> <td>Subscriber     </td> <td>94104   </td>\n",
       "        </tr>\n",
       "        <tr>\n",
       "            <td>913440 </td> <td>281     </td> <td>8/31/2015 21:31</td> <td>Market at Sansome                            </td> <td>77            </td> <td>8/31/2015 21:36</td> <td>Broadway St at Battery St                    </td> <td>82          </td> <td>621   </td> <td>Subscriber     </td> <td>94107   </td>\n",
       "        </tr>\n",
       "        <tr>\n",
       "            <td>913435 </td> <td>424     </td> <td>8/31/2015 21:25</td> <td>Temporary Transbay Terminal (Howard at Beale)</td> <td>55            </td> <td>8/31/2015 21:33</td> <td>San Francisco Caltrain 2 (330 Townsend)      </td> <td>69          </td> <td>602   </td> <td>Subscriber     </td> <td>94401   </td>\n",
       "        </tr>\n",
       "        <tr>\n",
       "            <td>913434 </td> <td>283     </td> <td>8/31/2015 21:19</td> <td>San Francisco Caltrain 2 (330 Townsend)      </td> <td>69            </td> <td>8/31/2015 21:24</td> <td>Townsend at 7th                              </td> <td>65          </td> <td>521   </td> <td>Subscriber     </td> <td>94107   </td>\n",
       "        </tr>\n",
       "        <tr>\n",
       "            <td>913433 </td> <td>145     </td> <td>8/31/2015 21:17</td> <td>University and Emerson                       </td> <td>35            </td> <td>8/31/2015 21:20</td> <td>Cowper at University                         </td> <td>37          </td> <td>75    </td> <td>Customer       </td> <td>6907    </td>\n",
       "        </tr>\n",
       "        <tr>\n",
       "            <td>913432 </td> <td>703     </td> <td>8/31/2015 21:16</td> <td>Spear at Folsom                              </td> <td>49            </td> <td>8/31/2015 21:28</td> <td>San Francisco Caltrain 2 (330 Townsend)      </td> <td>69          </td> <td>426   </td> <td>Subscriber     </td> <td>95032   </td>\n",
       "        </tr>\n",
       "        <tr>\n",
       "            <td>913431 </td> <td>605     </td> <td>8/31/2015 21:11</td> <td>Temporary Transbay Terminal (Howard at Beale)</td> <td>55            </td> <td>8/31/2015 21:21</td> <td>Grant Avenue at Columbus Avenue              </td> <td>73          </td> <td>572   </td> <td>Subscriber     </td> <td>94133   </td>\n",
       "        </tr>\n",
       "        <tr>\n",
       "            <td>913429 </td> <td>902     </td> <td>8/31/2015 21:07</td> <td>San Francisco Caltrain (Townsend at 4th)     </td> <td>70            </td> <td>8/31/2015 21:22</td> <td>Broadway St at Battery St                    </td> <td>82          </td> <td>501   </td> <td>Subscriber     </td> <td>94133   </td>\n",
       "        </tr>\n",
       "    </tbody>\n",
       "</table>\n",
       "<p>... (354132 rows omitted)</p>"
      ],
      "text/plain": [
       "<IPython.core.display.HTML object>"
      ]
     },
     "metadata": {},
     "output_type": "display_data"
    }
   ],
   "source": [
    "trip = Table().read_table('data/trip.csv')\n",
    "trip.show(20)"
   ]
  },
  {
   "cell_type": "code",
   "execution_count": 67,
   "metadata": {
    "tags": []
   },
   "outputs": [],
   "source": [
    "# are there any round trips in our bike-share table?\n",
    "# if so, how many?\n",
    "def trip_kind(start, end):\n",
    "    if start == end:\n",
    "        return 'round trip'\n",
    "    else: \n",
    "        return 'one way'"
   ]
  },
  {
   "cell_type": "code",
   "execution_count": 72,
   "metadata": {},
   "outputs": [],
   "source": [
    "kinds_of_trips = trip.apply(trip_kind, 'Start Station', 'End Station')\n",
    "sum(kinds_of_trips == 'round trip')\n",
    "# add kinds_of_trips back to trip table\n",
    "kinds_table = trip.with_column('Trip Kind', kinds_of_trips)\n",
    "#kinds_table"
   ]
  },
  {
   "cell_type": "markdown",
   "metadata": {},
   "source": [
    "Pivotting to Trip Kind"
   ]
  },
  {
   "cell_type": "code",
   "execution_count": 77,
   "metadata": {},
   "outputs": [
    {
     "data": {
      "text/html": [
       "<table border=\"1\" class=\"dataframe\">\n",
       "    <thead>\n",
       "        <tr>\n",
       "            <th>Start Station</th> <th>one way</th> <th>round trip</th>\n",
       "        </tr>\n",
       "    </thead>\n",
       "    <tbody>\n",
       "        <tr>\n",
       "            <td>Embarcadero at Sansome                  </td> <td>6938   </td> <td>120       </td>\n",
       "        </tr>\n",
       "        <tr>\n",
       "            <td>Harry Bridges Plaza (Ferry Building)    </td> <td>8643   </td> <td>105       </td>\n",
       "        </tr>\n",
       "        <tr>\n",
       "            <td>San Francisco Caltrain 2 (330 Townsend) </td> <td>12021  </td> <td>104       </td>\n",
       "        </tr>\n",
       "        <tr>\n",
       "            <td>2nd at South Park                       </td> <td>6484   </td> <td>98        </td>\n",
       "        </tr>\n",
       "        <tr>\n",
       "            <td>San Francisco Caltrain (Townsend at 4th)</td> <td>11181  </td> <td>95        </td>\n",
       "        </tr>\n",
       "        <tr>\n",
       "            <td>2nd at Townsend                         </td> <td>9513   </td> <td>83        </td>\n",
       "        </tr>\n",
       "        <tr>\n",
       "            <td>Powell Street BART                      </td> <td>7156   </td> <td>81        </td>\n",
       "        </tr>\n",
       "        <tr>\n",
       "            <td>Market at 10th                          </td> <td>6599   </td> <td>80        </td>\n",
       "        </tr>\n",
       "        <tr>\n",
       "            <td>Civic Center BART (7th at Market)       </td> <td>5179   </td> <td>73        </td>\n",
       "        </tr>\n",
       "        <tr>\n",
       "            <td>Townsend at 7th                         </td> <td>8073   </td> <td>68        </td>\n",
       "        </tr>\n",
       "    </tbody>\n",
       "</table>"
      ],
      "text/plain": [
       "Start Station                            | one way | round trip\n",
       "Embarcadero at Sansome                   | 6938    | 120\n",
       "Harry Bridges Plaza (Ferry Building)     | 8643    | 105\n",
       "San Francisco Caltrain 2 (330 Townsend)  | 12021   | 104\n",
       "2nd at South Park                        | 6484    | 98\n",
       "San Francisco Caltrain (Townsend at 4th) | 11181   | 95\n",
       "2nd at Townsend                          | 9513    | 83\n",
       "Powell Street BART                       | 7156    | 81\n",
       "Market at 10th                           | 6599    | 80\n",
       "Civic Center BART (7th at Market)        | 5179    | 73\n",
       "Townsend at 7th                          | 8073    | 68"
      ]
     },
     "execution_count": 77,
     "metadata": {},
     "output_type": "execute_result"
    }
   ],
   "source": [
    "kinds_pivot = (\n",
    "    kinds_table\n",
    "    .where('Duration', are.below(600)) # looking at shorter trips\n",
    "    .pivot('Trip Kind', 'Start Station') # comparing kinds of trips with start stations\n",
    "    .sort(\"round trip\", descending=True) # sorting by round trip, longest round trips at the top\n",
    "    .take(np.arange(10)) # finding the top 10 longest round trips, as opposed to one way trips\n",
    ")\n",
    "kinds_pivot"
   ]
  },
  {
   "cell_type": "markdown",
   "metadata": {},
   "source": [
    "---\n",
    "\n",
    "<center> return to slides </center>\n",
    "\n",
    "---"
   ]
  },
  {
   "cell_type": "markdown",
   "metadata": {},
   "source": [
    "## Simulation\n",
    "\n",
    "We will use simulation heavily in this class.  A key element of simulation is leveraging randomness. The numpy python library has many functions for generating random events. Today we will use the `np.random.choice` function:"
   ]
  },
  {
   "cell_type": "code",
   "execution_count": 79,
   "metadata": {},
   "outputs": [
    {
     "data": {
      "text/plain": [
       "array(['wake up', 'sleep in'],\n",
       "      dtype='<U8')"
      ]
     },
     "execution_count": 79,
     "metadata": {},
     "output_type": "execute_result"
    }
   ],
   "source": [
    "mornings = make_array('wake up', 'sleep in')\n",
    "mornings"
   ]
  },
  {
   "cell_type": "code",
   "execution_count": 89,
   "metadata": {},
   "outputs": [
    {
     "data": {
      "text/plain": [
       "'sleep in'"
      ]
     },
     "execution_count": 89,
     "metadata": {},
     "output_type": "execute_result"
    }
   ],
   "source": [
    "np.random.choice(mornings)"
   ]
  },
  {
   "cell_type": "code",
   "execution_count": 81,
   "metadata": {},
   "outputs": [
    {
     "data": {
      "text/plain": [
       "'sleep in'"
      ]
     },
     "execution_count": 81,
     "metadata": {},
     "output_type": "execute_result"
    }
   ],
   "source": [
    "np.random.choice(mornings)"
   ]
  },
  {
   "cell_type": "code",
   "execution_count": 82,
   "metadata": {},
   "outputs": [
    {
     "data": {
      "text/plain": [
       "'wake up'"
      ]
     },
     "execution_count": 82,
     "metadata": {},
     "output_type": "execute_result"
    }
   ],
   "source": [
    "np.random.choice(mornings)"
   ]
  },
  {
   "cell_type": "markdown",
   "metadata": {},
   "source": [
    "We can also pass an argument that specifies how many times to make a random choice:"
   ]
  },
  {
   "cell_type": "code",
   "execution_count": 90,
   "metadata": {},
   "outputs": [
    {
     "data": {
      "text/plain": [
       "array(['wake up', 'wake up', 'wake up', 'sleep in', 'wake up', 'wake up',\n",
       "       'sleep in'],\n",
       "      dtype='<U8')"
      ]
     },
     "execution_count": 90,
     "metadata": {},
     "output_type": "execute_result"
    }
   ],
   "source": [
    "np.random.choice(mornings, 7)"
   ]
  },
  {
   "cell_type": "code",
   "execution_count": 91,
   "metadata": {},
   "outputs": [
    {
     "data": {
      "text/plain": [
       "array(['wake up', 'wake up', 'wake up', 'wake up', 'wake up', 'wake up',\n",
       "       'sleep in'],\n",
       "      dtype='<U8')"
      ]
     },
     "execution_count": 91,
     "metadata": {},
     "output_type": "execute_result"
    }
   ],
   "source": [
    "np.random.choice(mornings, 7)"
   ]
  },
  {
   "cell_type": "code",
   "execution_count": 92,
   "metadata": {},
   "outputs": [
    {
     "data": {
      "text/plain": [
       "array(['wake up', 'wake up', 'wake up', 'sleep in', 'sleep in', 'sleep in',\n",
       "       'sleep in'],\n",
       "      dtype='<U8')"
      ]
     },
     "execution_count": 92,
     "metadata": {},
     "output_type": "execute_result"
    }
   ],
   "source": [
    "morning_week = np.random.choice(mornings, 7)\n",
    "morning_week"
   ]
  },
  {
   "cell_type": "code",
   "execution_count": 93,
   "metadata": {},
   "outputs": [
    {
     "data": {
      "text/plain": [
       "array(['wake up', 'wake up', 'wake up', 'sleep in', 'sleep in', 'sleep in',\n",
       "       'sleep in'],\n",
       "      dtype='<U8')"
      ]
     },
     "execution_count": 93,
     "metadata": {},
     "output_type": "execute_result"
    }
   ],
   "source": [
    "morning_week"
   ]
  },
  {
   "cell_type": "code",
   "execution_count": 94,
   "metadata": {},
   "outputs": [
    {
     "data": {
      "text/plain": [
       "array([ True,  True,  True, False, False, False, False], dtype=bool)"
      ]
     },
     "execution_count": 94,
     "metadata": {},
     "output_type": "execute_result"
    }
   ],
   "source": [
    "morning_week == 'wake up'"
   ]
  },
  {
   "cell_type": "code",
   "execution_count": 96,
   "metadata": {},
   "outputs": [
    {
     "data": {
      "text/plain": [
       "3"
      ]
     },
     "execution_count": 96,
     "metadata": {},
     "output_type": "execute_result"
    }
   ],
   "source": [
    "sum(morning_week == 'wake up')"
   ]
  },
  {
   "cell_type": "code",
   "execution_count": 95,
   "metadata": {},
   "outputs": [
    {
     "data": {
      "text/plain": [
       "4"
      ]
     },
     "execution_count": 95,
     "metadata": {},
     "output_type": "execute_result"
    }
   ],
   "source": [
    "sum(morning_week == 'sleep in')"
   ]
  },
  {
   "cell_type": "code",
   "execution_count": 97,
   "metadata": {},
   "outputs": [
    {
     "data": {
      "text/plain": [
       "0.5714285714285714"
      ]
     },
     "execution_count": 97,
     "metadata": {},
     "output_type": "execute_result"
    }
   ],
   "source": [
    "np.mean(morning_week == 'sleep in')"
   ]
  },
  {
   "cell_type": "code",
   "execution_count": 98,
   "metadata": {},
   "outputs": [
    {
     "data": {
      "text/plain": [
       "0.5714285714285714"
      ]
     },
     "execution_count": 98,
     "metadata": {},
     "output_type": "execute_result"
    }
   ],
   "source": [
    "4/7"
   ]
  },
  {
   "cell_type": "markdown",
   "metadata": {},
   "source": [
    "### Playing a Game of Chance"
   ]
  },
  {
   "cell_type": "markdown",
   "metadata": {},
   "source": [
    "Steps:\n",
    "1. Find a way to simulate two dice rolls.\n",
    "2. Compute how much money we win/lose based on the result.\n",
    "3. Do steps 1 and 2 10,000 times."
   ]
  },
  {
   "cell_type": "markdown",
   "metadata": {},
   "source": [
    "### Simulating the roll of a die"
   ]
  },
  {
   "cell_type": "code",
   "execution_count": 99,
   "metadata": {},
   "outputs": [
    {
     "data": {
      "text/plain": [
       "array([1, 2, 3, 4, 5, 6])"
      ]
     },
     "execution_count": 99,
     "metadata": {},
     "output_type": "execute_result"
    }
   ],
   "source": [
    "die_faces = np.arange(1, 7)\n",
    "die_faces"
   ]
  },
  {
   "cell_type": "code",
   "execution_count": 106,
   "metadata": {},
   "outputs": [
    {
     "data": {
      "text/plain": [
       "4"
      ]
     },
     "execution_count": 106,
     "metadata": {},
     "output_type": "execute_result"
    }
   ],
   "source": [
    "np.random.choice(die_faces)"
   ]
  },
  {
   "cell_type": "markdown",
   "metadata": {},
   "source": [
    "**Exercise:** Implement a function to simulate a single round of play and returns the result."
   ]
  },
  {
   "cell_type": "code",
   "execution_count": 124,
   "metadata": {},
   "outputs": [],
   "source": [
    "def simulate_one_round():\n",
    "    my_roll = np.random.choice(die_faces)\n",
    "    your_roll = np.random.choice(die_faces)\n",
    "    #print('my_roll: ', my_roll, 'your_roll: ', your_roll)\n",
    "    \n",
    "    if my_roll > your_roll:\n",
    "        return 1 # you owe me a $1\n",
    "    elif my_roll < your_roll:\n",
    "        return -1 # i lose a $1\n",
    "    else: \n",
    "        return 0"
   ]
  },
  {
   "cell_type": "code",
   "execution_count": 117,
   "metadata": {},
   "outputs": [
    {
     "name": "stdout",
     "output_type": "stream",
     "text": [
      "my_roll:  2 your_roll:  2\n"
     ]
    },
    {
     "data": {
      "text/plain": [
       "0"
      ]
     },
     "execution_count": 117,
     "metadata": {},
     "output_type": "execute_result"
    }
   ],
   "source": [
    "simulate_one_round()"
   ]
  },
  {
   "cell_type": "markdown",
   "metadata": {},
   "source": [
    "---\n",
    "\n",
    "<center> return to slides </center>\n",
    "\n",
    "---"
   ]
  },
  {
   "cell_type": "markdown",
   "metadata": {},
   "source": [
    "## `For` Statements\n",
    "\n",
    "The for statement is another way to apply code to each element in a list or an array."
   ]
  },
  {
   "cell_type": "code",
   "execution_count": 118,
   "metadata": {
    "scrolled": true
   },
   "outputs": [
    {
     "name": "stdout",
     "output_type": "stream",
     "text": [
      "I love my cat\n",
      "I love my dog\n",
      "I love my rabbit\n"
     ]
    }
   ],
   "source": [
    "print('I love my cat')\n",
    "print('I love my dog')\n",
    "print('I love my rabbit')"
   ]
  },
  {
   "cell_type": "code",
   "execution_count": 119,
   "metadata": {
    "scrolled": true
   },
   "outputs": [
    {
     "name": "stdout",
     "output_type": "stream",
     "text": [
      "for loop #: 1\n",
      "cat\n",
      "I love my cat\n",
      "for loop #: 2\n",
      "dog\n",
      "I love my dog\n",
      "for loop #: 3\n",
      "rabbit\n",
      "I love my rabbit\n"
     ]
    }
   ],
   "source": [
    "count = 0\n",
    "for pet in make_array('cat', 'dog', 'rabbit'):\n",
    "    count = count + 1\n",
    "    print('for loop #:', count)\n",
    "    print(pet)\n",
    "    print('I love my ' + pet)"
   ]
  },
  {
   "cell_type": "markdown",
   "metadata": {},
   "source": [
    "**Exercise:** What is the output of this for loop?"
   ]
  },
  {
   "cell_type": "code",
   "execution_count": 121,
   "metadata": {},
   "outputs": [
    {
     "name": "stdout",
     "output_type": "stream",
     "text": [
      "1\n",
      "2\n",
      "3\n"
     ]
    }
   ],
   "source": [
    "for i in np.arange(1,4): # (1,2,3)\n",
    "    print(i)"
   ]
  },
  {
   "cell_type": "code",
   "execution_count": 122,
   "metadata": {},
   "outputs": [
    {
     "name": "stdout",
     "output_type": "stream",
     "text": [
      "1\n",
      "3\n",
      "6\n",
      "The final value of x is: 6\n"
     ]
    }
   ],
   "source": [
    "x = 0\n",
    "for i in np.arange(1, 4): # np.arange(1,4): (1,2,3)\n",
    "    x = x + i\n",
    "    print(x)\n",
    "\n",
    "print(\"The final value of x is:\", x)"
   ]
  },
  {
   "cell_type": "markdown",
   "metadata": {},
   "source": [
    "**Exercise:** Use a for loop to simulate the total outcome of 10,000 plays of our game of chance:"
   ]
  },
  {
   "cell_type": "code",
   "execution_count": 125,
   "metadata": {},
   "outputs": [
    {
     "name": "stdout",
     "output_type": "stream",
     "text": [
      "I win -9 dollars.\n"
     ]
    }
   ],
   "source": [
    "N = 10_000\n",
    "winnings = 0\n",
    "\n",
    "for i in np.arange(N):\n",
    "    winnings = winnings + simulate_one_round() # add winnings (+1, -1, 0) each time\n",
    "\n",
    "print('I win', winnings, 'dollars.')"
   ]
  },
  {
   "cell_type": "markdown",
   "metadata": {},
   "source": [
    "**Bonus Exercise:** Use table functions to simulate 10,000 rounds of play:"
   ]
  },
  {
   "cell_type": "code",
   "execution_count": null,
   "metadata": {},
   "outputs": [],
   "source": []
  },
  {
   "cell_type": "code",
   "execution_count": null,
   "metadata": {},
   "outputs": [],
   "source": [
    "print(\"My total winnings:\", rolls.column(\"outcome\").sum())"
   ]
  },
  {
   "cell_type": "markdown",
   "metadata": {},
   "source": [
    "---\n",
    "\n",
    "<center> return to slides </center>\n",
    "\n",
    "---"
   ]
  },
  {
   "cell_type": "markdown",
   "metadata": {},
   "source": [
    "## Appending Arrays\n",
    "\n",
    "Sometimes we will want to collect the outcomes of our simulations into a single array.  We can do this by appending each experiment to the end of an array using the numpy `np.append` function."
   ]
  },
  {
   "cell_type": "code",
   "execution_count": null,
   "metadata": {},
   "outputs": [],
   "source": [
    "first = np.arange(4)\n",
    "second = np.arange(10, 17)"
   ]
  },
  {
   "cell_type": "code",
   "execution_count": null,
   "metadata": {},
   "outputs": [],
   "source": [
    "np.append(first, 6)"
   ]
  },
  {
   "cell_type": "code",
   "execution_count": null,
   "metadata": {},
   "outputs": [],
   "source": [
    "first"
   ]
  },
  {
   "cell_type": "code",
   "execution_count": null,
   "metadata": {},
   "outputs": [],
   "source": [
    "np.append(first, second)"
   ]
  },
  {
   "cell_type": "code",
   "execution_count": null,
   "metadata": {},
   "outputs": [],
   "source": [
    "first"
   ]
  },
  {
   "cell_type": "code",
   "execution_count": null,
   "metadata": {},
   "outputs": [],
   "source": [
    "second"
   ]
  },
  {
   "cell_type": "markdown",
   "metadata": {},
   "source": [
    "**Exercise:** Use append to record the outcomes of all the games rather than just the total."
   ]
  },
  {
   "cell_type": "code",
   "execution_count": null,
   "metadata": {},
   "outputs": [],
   "source": []
  },
  {
   "cell_type": "markdown",
   "metadata": {},
   "source": [
    "### Another example: simulating heads in 100 coin tosses\n",
    "\n",
    "Suppose we simulate 100 coin tosses.  What fraction will be heads?  What if we simulate 100 coin tosses thousands of times.  What fraction will be heads?"
   ]
  },
  {
   "cell_type": "code",
   "execution_count": null,
   "metadata": {},
   "outputs": [],
   "source": [
    "coin = make_array('heads', 'tails')"
   ]
  },
  {
   "cell_type": "code",
   "execution_count": null,
   "metadata": {},
   "outputs": [],
   "source": [
    "sum(np.random.choice(coin, 100) == 'heads')"
   ]
  },
  {
   "cell_type": "code",
   "execution_count": null,
   "metadata": {},
   "outputs": [],
   "source": [
    "# Simulate one outcome\n",
    "\n",
    "def num_heads():\n",
    "    return sum(np.random.choice(coin, 100) == 'heads')"
   ]
  },
  {
   "cell_type": "code",
   "execution_count": null,
   "metadata": {},
   "outputs": [],
   "source": [
    "# Decide how many times you want to repeat the experiment\n",
    "\n",
    "repetitions = 10000"
   ]
  },
  {
   "cell_type": "code",
   "execution_count": null,
   "metadata": {},
   "outputs": [],
   "source": [
    "# Simulate that many outcomes\n",
    "\n",
    "outcomes = make_array()\n",
    "\n",
    "for i in np.arange(repetitions):\n",
    "    outcomes = np.append(outcomes, num_heads())"
   ]
  },
  {
   "cell_type": "code",
   "execution_count": null,
   "metadata": {},
   "outputs": [],
   "source": [
    "heads = Table().with_column('Heads', outcomes)\n",
    "heads.hist(bins = np.arange(29.5, 70.6))"
   ]
  },
  {
   "cell_type": "markdown",
   "metadata": {},
   "source": [
    "--- \n",
    "## Optional: Advanced `where`\n",
    "\n",
    "Sometimes the `are.above_or_equal_to` style syntax will be painful to use.  We can instead construct an array of booleans to select rows from our table.  This will allow us to select rows based on complex boolean expressions spanning multiple columns. "
   ]
  },
  {
   "cell_type": "code",
   "execution_count": null,
   "metadata": {},
   "outputs": [],
   "source": [
    "ages = make_array(16, 22, 18, 15, 19, 39, 27, 21)\n",
    "patients = Table().with_columns(\"Patient Id\", np.arange(len(ages))+1000, 'Age', ages,)\n",
    "patients"
   ]
  },
  {
   "cell_type": "markdown",
   "metadata": {},
   "source": [
    "**Exercise:** Find all the patients that are older than 21 or have a Patient Id that is even:"
   ]
  },
  {
   "cell_type": "code",
   "execution_count": null,
   "metadata": {},
   "outputs": [],
   "source": []
  },
  {
   "cell_type": "markdown",
   "metadata": {},
   "source": [
    "To compute the even patient ids, we can use the `%` modulus operator:"
   ]
  },
  {
   "cell_type": "code",
   "execution_count": null,
   "metadata": {},
   "outputs": [],
   "source": []
  }
 ],
 "metadata": {
  "anaconda-cloud": {},
  "kernelspec": {
   "display_name": "Python 3 (ipykernel)",
   "language": "python",
   "name": "python3"
  },
  "language_info": {
   "codemirror_mode": {
    "name": "ipython",
    "version": 3
   },
   "file_extension": ".py",
   "mimetype": "text/x-python",
   "name": "python",
   "nbconvert_exporter": "python",
   "pygments_lexer": "ipython3",
   "version": "3.11.5"
  }
 },
 "nbformat": 4,
 "nbformat_minor": 4
}
