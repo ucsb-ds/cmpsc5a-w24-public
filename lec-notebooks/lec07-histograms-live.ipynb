{
 "cells": [
  {
   "cell_type": "markdown",
   "metadata": {},
   "source": [
    "# Lecture 7\n",
    "\n",
    "In this lecture we focus on visualizing the distribution of data. "
   ]
  },
  {
   "cell_type": "code",
   "execution_count": 1,
   "metadata": {
    "tags": []
   },
   "outputs": [],
   "source": [
    "from datascience import *\n",
    "import numpy as np"
   ]
  },
  {
   "cell_type": "code",
   "execution_count": 2,
   "metadata": {
    "tags": []
   },
   "outputs": [],
   "source": [
    "%matplotlib inline\n",
    "import matplotlib.pyplot as plots\n",
    "plots.style.use('fivethirtyeight')\n",
    "plots.rcParams[\"patch.force_edgecolor\"] = True"
   ]
  },
  {
   "cell_type": "markdown",
   "metadata": {},
   "source": [
    "# Charts Review"
   ]
  },
  {
   "cell_type": "code",
   "execution_count": 3,
   "metadata": {
    "tags": []
   },
   "outputs": [
    {
     "data": {
      "text/html": [
       "<table border=\"1\" class=\"dataframe\">\n",
       "    <thead>\n",
       "        <tr>\n",
       "            <th>vehicle</th> <th>year</th> <th>msrp</th> <th>acceleration</th> <th>mpg</th> <th>class</th>\n",
       "        </tr>\n",
       "    </thead>\n",
       "    <tbody>\n",
       "        <tr>\n",
       "            <td>Prius (1st Gen)</td> <td>1997</td> <td>24509.7</td> <td>7.46        </td> <td>41.26</td> <td>Compact   </td>\n",
       "        </tr>\n",
       "        <tr>\n",
       "            <td>Tino           </td> <td>2000</td> <td>35355  </td> <td>8.2         </td> <td>54.1 </td> <td>Compact   </td>\n",
       "        </tr>\n",
       "        <tr>\n",
       "            <td>Prius (2nd Gen)</td> <td>2000</td> <td>26832.2</td> <td>7.97        </td> <td>45.23</td> <td>Compact   </td>\n",
       "        </tr>\n",
       "        <tr>\n",
       "            <td>Insight        </td> <td>2000</td> <td>18936.4</td> <td>9.52        </td> <td>53   </td> <td>Two Seater</td>\n",
       "        </tr>\n",
       "        <tr>\n",
       "            <td>Civic (1st Gen)</td> <td>2001</td> <td>25833.4</td> <td>7.04        </td> <td>47.04</td> <td>Compact   </td>\n",
       "        </tr>\n",
       "        <tr>\n",
       "            <td>Insight        </td> <td>2001</td> <td>19036.7</td> <td>9.52        </td> <td>53   </td> <td>Two Seater</td>\n",
       "        </tr>\n",
       "        <tr>\n",
       "            <td>Insight        </td> <td>2002</td> <td>19137  </td> <td>9.71        </td> <td>53   </td> <td>Two Seater</td>\n",
       "        </tr>\n",
       "        <tr>\n",
       "            <td>Alphard        </td> <td>2003</td> <td>38084.8</td> <td>8.33        </td> <td>40.46</td> <td>Minivan   </td>\n",
       "        </tr>\n",
       "        <tr>\n",
       "            <td>Insight        </td> <td>2003</td> <td>19137  </td> <td>9.52        </td> <td>53   </td> <td>Two Seater</td>\n",
       "        </tr>\n",
       "        <tr>\n",
       "            <td>Civic          </td> <td>2003</td> <td>14071.9</td> <td>8.62        </td> <td>41   </td> <td>Compact   </td>\n",
       "        </tr>\n",
       "    </tbody>\n",
       "</table>\n",
       "<p>... (143 rows omitted)</p>"
      ],
      "text/plain": [
       "vehicle         | year | msrp    | acceleration | mpg   | class\n",
       "Prius (1st Gen) | 1997 | 24509.7 | 7.46         | 41.26 | Compact\n",
       "Tino            | 2000 | 35355   | 8.2          | 54.1  | Compact\n",
       "Prius (2nd Gen) | 2000 | 26832.2 | 7.97         | 45.23 | Compact\n",
       "Insight         | 2000 | 18936.4 | 9.52         | 53    | Two Seater\n",
       "Civic (1st Gen) | 2001 | 25833.4 | 7.04         | 47.04 | Compact\n",
       "Insight         | 2001 | 19036.7 | 9.52         | 53    | Two Seater\n",
       "Insight         | 2002 | 19137   | 9.71         | 53    | Two Seater\n",
       "Alphard         | 2003 | 38084.8 | 8.33         | 40.46 | Minivan\n",
       "Insight         | 2003 | 19137   | 9.52         | 53    | Two Seater\n",
       "Civic           | 2003 | 14071.9 | 8.62         | 41    | Compact\n",
       "... (143 rows omitted)"
      ]
     },
     "execution_count": 3,
     "metadata": {},
     "output_type": "execute_result"
    }
   ],
   "source": [
    "hybrid = Table.read_table('data/hybrid.csv')\n",
    "hybrid"
   ]
  },
  {
   "cell_type": "code",
   "execution_count": 4,
   "metadata": {},
   "outputs": [
    {
     "data": {
      "text/plain": [
       "datascience.tables.Table"
      ]
     },
     "execution_count": 4,
     "metadata": {},
     "output_type": "execute_result"
    }
   ],
   "source": [
    "most_fuel_efficient = hybrid.sort('mpg', descending = True).take(0)\n",
    "# first argument is column name, stored as a string\n",
    "# second and third arguments are optional\n",
    "# know how to use descending = True or descending = False\n",
    "# sorted by mpg, greatest to smallest\n",
    "# want to show the top row, row in position 0\n",
    "type(most_fuel_efficient)"
   ]
  },
  {
   "cell_type": "code",
   "execution_count": 5,
   "metadata": {},
   "outputs": [
    {
     "data": {
      "text/html": [
       "<table border=\"1\" class=\"dataframe\">\n",
       "    <thead>\n",
       "        <tr>\n",
       "            <th>vehicle</th> <th>year</th> <th>msrp</th> <th>acceleration</th> <th>mpg</th> <th>class</th>\n",
       "        </tr>\n",
       "    </thead>\n",
       "    <tbody>\n",
       "        <tr>\n",
       "            <td>Prius alpha (V)</td> <td>2011</td> <td>30588.3</td> <td>10          </td> <td>72.92</td> <td>Midsize</td>\n",
       "        </tr>\n",
       "    </tbody>\n",
       "</table>"
      ],
      "text/plain": [
       "vehicle         | year | msrp    | acceleration | mpg   | class\n",
       "Prius alpha (V) | 2011 | 30588.3 | 10           | 72.92 | Midsize"
      ]
     },
     "execution_count": 5,
     "metadata": {},
     "output_type": "execute_result"
    }
   ],
   "source": [
    "hybrid.where('mpg', are.above(70))"
   ]
  },
  {
   "cell_type": "code",
   "execution_count": 6,
   "metadata": {
    "tags": []
   },
   "outputs": [
    {
     "data": {
      "image/png": "[encoded data removed]",
      "text/plain": [
       "<Figure size 500x500 with 1 Axes>"
      ]
     },
     "metadata": {},
     "output_type": "display_data"
    }
   ],
   "source": [
    "hybrid.scatter('msrp', 'mpg') # the more expensive hybrid cars are less fuel efficient\n",
    "# and we have a couple of more reasonably priced hybrid cars that are very fuel efficient"
   ]
  },
  {
   "cell_type": "markdown",
   "metadata": {},
   "source": [
    "Excercise: Plot the first 5 hybrid car names vs the mpg"
   ]
  },
  {
   "cell_type": "code",
   "execution_count": 7,
   "metadata": {
    "tags": []
   },
   "outputs": [
    {
     "data": {
      "image/png": "[encoded data removed]",
      "text/plain": [
       "<Figure size 500x500 with 1 Axes>"
      ]
     },
     "metadata": {},
     "output_type": "display_data"
    }
   ],
   "source": [
    "first_5 = hybrid.take(make_array(0,1,2,3,4))\n",
    "first_5.scatter('vehicle', 'mpg')"
   ]
  },
  {
   "cell_type": "markdown",
   "metadata": {},
   "source": [
    "--- \n",
    "\n",
    "## Categorical Distribution \n",
    "\n",
    "How often does each possible value occur? There are a finite set of values and so we can visualize those counts as a bar chart."
   ]
  },
  {
   "cell_type": "markdown",
   "metadata": {},
   "source": [
    "Using the top movies data from the previous lecture."
   ]
  },
  {
   "cell_type": "code",
   "execution_count": 8,
   "metadata": {
    "tags": []
   },
   "outputs": [
    {
     "data": {
      "text/html": [
       "<table border=\"1\" class=\"dataframe\">\n",
       "    <thead>\n",
       "        <tr>\n",
       "            <th>Title</th> <th>Studio</th> <th>Gross</th> <th>Gross (Adjusted)</th> <th>Year</th>\n",
       "        </tr>\n",
       "    </thead>\n",
       "    <tbody>\n",
       "        <tr>\n",
       "            <td>Gone with the Wind              </td> <td>MGM            </td> <td>198676459</td> <td>1796176700      </td> <td>1939</td>\n",
       "        </tr>\n",
       "        <tr>\n",
       "            <td>Star Wars                       </td> <td>Fox            </td> <td>460998007</td> <td>1583483200      </td> <td>1977</td>\n",
       "        </tr>\n",
       "        <tr>\n",
       "            <td>The Sound of Music              </td> <td>Fox            </td> <td>158671368</td> <td>1266072700      </td> <td>1965</td>\n",
       "        </tr>\n",
       "        <tr>\n",
       "            <td>E.T.: The Extra-Terrestrial     </td> <td>Universal      </td> <td>435110554</td> <td>1261085000      </td> <td>1982</td>\n",
       "        </tr>\n",
       "        <tr>\n",
       "            <td>Titanic                         </td> <td>Paramount      </td> <td>658672302</td> <td>1204368000      </td> <td>1997</td>\n",
       "        </tr>\n",
       "        <tr>\n",
       "            <td>The Ten Commandments            </td> <td>Paramount      </td> <td>65500000 </td> <td>1164590000      </td> <td>1956</td>\n",
       "        </tr>\n",
       "        <tr>\n",
       "            <td>Jaws                            </td> <td>Universal      </td> <td>260000000</td> <td>1138620700      </td> <td>1975</td>\n",
       "        </tr>\n",
       "        <tr>\n",
       "            <td>Doctor Zhivago                  </td> <td>MGM            </td> <td>111721910</td> <td>1103564200      </td> <td>1965</td>\n",
       "        </tr>\n",
       "        <tr>\n",
       "            <td>The Exorcist                    </td> <td>Warner Brothers</td> <td>232906145</td> <td>983226600       </td> <td>1973</td>\n",
       "        </tr>\n",
       "        <tr>\n",
       "            <td>Snow White and the Seven Dwarves</td> <td>Disney         </td> <td>184925486</td> <td>969010000       </td> <td>1937</td>\n",
       "        </tr>\n",
       "    </tbody>\n",
       "</table>\n",
       "<p>... (190 rows omitted)</p>"
      ],
      "text/plain": [
       "Title                            | Studio          | Gross     | Gross (Adjusted) | Year\n",
       "Gone with the Wind               | MGM             | 198676459 | 1796176700       | 1939\n",
       "Star Wars                        | Fox             | 460998007 | 1583483200       | 1977\n",
       "The Sound of Music               | Fox             | 158671368 | 1266072700       | 1965\n",
       "E.T.: The Extra-Terrestrial      | Universal       | 435110554 | 1261085000       | 1982\n",
       "Titanic                          | Paramount       | 658672302 | 1204368000       | 1997\n",
       "The Ten Commandments             | Paramount       | 65500000  | 1164590000       | 1956\n",
       "Jaws                             | Universal       | 260000000 | 1138620700       | 1975\n",
       "Doctor Zhivago                   | MGM             | 111721910 | 1103564200       | 1965\n",
       "The Exorcist                     | Warner Brothers | 232906145 | 983226600        | 1973\n",
       "Snow White and the Seven Dwarves | Disney          | 184925486 | 969010000        | 1937\n",
       "... (190 rows omitted)"
      ]
     },
     "execution_count": 8,
     "metadata": {},
     "output_type": "execute_result"
    }
   ],
   "source": [
    "top_movies = Table.read_table('data/top_movies_2017.csv')\n",
    "top_movies#.where('Studio','MGM')"
   ]
  },
  {
   "cell_type": "markdown",
   "metadata": {},
   "source": [
    "**Exercise:** Compute how many times does each studio appears in the list.  (Here we use the `group` function which we cover in more detail next week. [Data8 Reference Page](https://www.data8.org/sp23/reference/))"
   ]
  },
  {
   "cell_type": "code",
   "execution_count": 9,
   "metadata": {
    "tags": []
   },
   "outputs": [
    {
     "data": {
      "text/html": [
       "<table border=\"1\" class=\"dataframe\">\n",
       "    <thead>\n",
       "        <tr>\n",
       "            <th>Pets</th>\n",
       "        </tr>\n",
       "    </thead>\n",
       "    <tbody>\n",
       "        <tr>\n",
       "            <td>Cat </td>\n",
       "        </tr>\n",
       "        <tr>\n",
       "            <td>Dog </td>\n",
       "        </tr>\n",
       "        <tr>\n",
       "            <td>Dog </td>\n",
       "        </tr>\n",
       "        <tr>\n",
       "            <td>Bird</td>\n",
       "        </tr>\n",
       "        <tr>\n",
       "            <td>Cat </td>\n",
       "        </tr>\n",
       "        <tr>\n",
       "            <td>Dog </td>\n",
       "        </tr>\n",
       "        <tr>\n",
       "            <td>Cat </td>\n",
       "        </tr>\n",
       "    </tbody>\n",
       "</table>"
      ],
      "text/plain": [
       "Pets\n",
       "Cat\n",
       "Dog\n",
       "Dog\n",
       "Bird\n",
       "Cat\n",
       "Dog\n",
       "Cat"
      ]
     },
     "execution_count": 9,
     "metadata": {},
     "output_type": "execute_result"
    }
   ],
   "source": [
    "my_pets = make_array(\"Cat\", \"Dog\", \"Dog\", \"Bird\", \"Cat\", \"Dog\", \"Cat\")\n",
    "toy = Table().with_columns(\"Pets\", my_pets)\n",
    "# toy = Table().with_columns(\"Pets\", make_array(\"Cat\", \"Dog\", \"Dog\", \"Bird\", \"Cat\", \"Dog\", \"Cat\"))\n",
    "\n",
    "toy"
   ]
  },
  {
   "cell_type": "code",
   "execution_count": 10,
   "metadata": {},
   "outputs": [],
   "source": [
    "# visually inspecting, i can count how many of each type of pet i have\n",
    "# 3 cats\n",
    "# 3 dogs\n",
    "# 1 bird"
   ]
  },
  {
   "cell_type": "code",
   "execution_count": 11,
   "metadata": {},
   "outputs": [
    {
     "data": {
      "text/html": [
       "<table border=\"1\" class=\"dataframe\">\n",
       "    <thead>\n",
       "        <tr>\n",
       "            <th>Pets</th> <th>count</th>\n",
       "        </tr>\n",
       "    </thead>\n",
       "    <tbody>\n",
       "        <tr>\n",
       "            <td>Bird</td> <td>1    </td>\n",
       "        </tr>\n",
       "        <tr>\n",
       "            <td>Cat </td> <td>3    </td>\n",
       "        </tr>\n",
       "        <tr>\n",
       "            <td>Dog </td> <td>3    </td>\n",
       "        </tr>\n",
       "    </tbody>\n",
       "</table>"
      ],
      "text/plain": [
       "Pets | count\n",
       "Bird | 1\n",
       "Cat  | 3\n",
       "Dog  | 3"
      ]
     },
     "execution_count": 11,
     "metadata": {},
     "output_type": "execute_result"
    }
   ],
   "source": [
    "toy.group('Pets')"
   ]
  },
  {
   "cell_type": "code",
   "execution_count": 12,
   "metadata": {},
   "outputs": [
    {
     "data": {
      "text/plain": [
       "35"
      ]
     },
     "execution_count": 12,
     "metadata": {},
     "output_type": "execute_result"
    }
   ],
   "source": [
    "# how many buena vista movies are in our table?\n",
    "top_movies.where('Studio', 'Buena Vista').num_rows"
   ]
  },
  {
   "cell_type": "code",
   "execution_count": 13,
   "metadata": {},
   "outputs": [
    {
     "data": {
      "text/plain": [
       "35"
      ]
     },
     "execution_count": 13,
     "metadata": {},
     "output_type": "execute_result"
    }
   ],
   "source": [
    "top_movies.select('Studio').group('Studio').take(1).column('count').item(0)\n",
    "# .column extracts the column as an array\n",
    "# .item(0) grabs the element in the array, in position 0 (first thing)"
   ]
  },
  {
   "cell_type": "code",
   "execution_count": 14,
   "metadata": {},
   "outputs": [
    {
     "data": {
      "text/html": [
       "<table border=\"1\" class=\"dataframe\">\n",
       "    <thead>\n",
       "        <tr>\n",
       "            <th>Studio</th> <th>count</th>\n",
       "        </tr>\n",
       "    </thead>\n",
       "    <tbody>\n",
       "        <tr>\n",
       "            <td>AVCO       </td> <td>1    </td>\n",
       "        </tr>\n",
       "        <tr>\n",
       "            <td>Buena Vista</td> <td>35   </td>\n",
       "        </tr>\n",
       "        <tr>\n",
       "            <td>Columbia   </td> <td>9    </td>\n",
       "        </tr>\n",
       "        <tr>\n",
       "            <td>Disney     </td> <td>11   </td>\n",
       "        </tr>\n",
       "        <tr>\n",
       "            <td>Dreamworks </td> <td>3    </td>\n",
       "        </tr>\n",
       "        <tr>\n",
       "            <td>Fox        </td> <td>24   </td>\n",
       "        </tr>\n",
       "        <tr>\n",
       "            <td>IFC        </td> <td>1    </td>\n",
       "        </tr>\n",
       "        <tr>\n",
       "            <td>Lionsgate  </td> <td>3    </td>\n",
       "        </tr>\n",
       "        <tr>\n",
       "            <td>MGM        </td> <td>7    </td>\n",
       "        </tr>\n",
       "        <tr>\n",
       "            <td>Metro      </td> <td>1    </td>\n",
       "        </tr>\n",
       "    </tbody>\n",
       "</table>\n",
       "<p>... (13 rows omitted)</p>"
      ],
      "text/plain": [
       "Studio      | count\n",
       "AVCO        | 1\n",
       "Buena Vista | 35\n",
       "Columbia    | 9\n",
       "Disney      | 11\n",
       "Dreamworks  | 3\n",
       "Fox         | 24\n",
       "IFC         | 1\n",
       "Lionsgate   | 3\n",
       "MGM         | 7\n",
       "Metro       | 1\n",
       "... (13 rows omitted)"
      ]
     },
     "execution_count": 14,
     "metadata": {},
     "output_type": "execute_result"
    }
   ],
   "source": [
    "studio_counts = top_movies.select('Studio').group('Studio')#.sort('count', descending = True)\n",
    "studio_counts # total number of times each studio appears in data set\n",
    "# in other words, how many movies from given studio, is represented in this data set"
   ]
  },
  {
   "cell_type": "markdown",
   "metadata": {},
   "source": [
    "**Exercise:** Construct a bar chart depicting the number of movies from each studio (the `\"count\"`)."
   ]
  },
  {
   "cell_type": "code",
   "execution_count": 15,
   "metadata": {},
   "outputs": [
    {
     "data": {
      "image/png": "[encoded data removed]",
      "text/plain": [
       "<Figure size 600x1150 with 1 Axes>"
      ]
     },
     "metadata": {},
     "output_type": "display_data"
    }
   ],
   "source": [
    "(studio_counts\n",
    " .sort('count', descending = True)\n",
    " .barh('Studio', 'count'))"
   ]
  },
  {
   "cell_type": "code",
   "execution_count": null,
   "metadata": {},
   "outputs": [],
   "source": []
  },
  {
   "cell_type": "markdown",
   "metadata": {},
   "source": [
    "**Exercise:** Construct a bar chart containing the percentage of the movies from each studio."
   ]
  },
  {
   "cell_type": "code",
   "execution_count": 16,
   "metadata": {},
   "outputs": [
    {
     "data": {
      "text/plain": [
       "200"
      ]
     },
     "execution_count": 16,
     "metadata": {},
     "output_type": "execute_result"
    }
   ],
   "source": [
    "# can we sum up the total counts from studio_counts?\n",
    "# it should be 200 movies\n",
    "# extract count column as an array, using .column\n",
    "\n",
    "# apply sum to that array\n",
    "studio_counts.select('count').num_rows # this gives us number of unique studios\n",
    "studio_counts_array = studio_counts.column('count')\n",
    "sum(studio_counts_array)\n",
    "\n",
    "#studio_counts.with_column("
   ]
  },
  {
   "cell_type": "code",
   "execution_count": 17,
   "metadata": {},
   "outputs": [
    {
     "data": {
      "text/plain": [
       "array([  0.5,  17.5,   4.5,   5.5,   1.5,  12. ,   0.5,   1.5,   3.5,\n",
       "         0.5,   0.5,   2.5,   0.5,  12.5,   2. ,   1.5,   0.5,   2. ,\n",
       "         0.5,   1. ,   3. ,  11.5,  14.5])"
      ]
     },
     "execution_count": 17,
     "metadata": {},
     "output_type": "execute_result"
    }
   ],
   "source": [
    "percentage_movies = studio_counts_array / 200 * 100\n",
    "percentage_movies"
   ]
  },
  {
   "cell_type": "code",
   "execution_count": 18,
   "metadata": {},
   "outputs": [
    {
     "data": {
      "text/plain": [
       "100.0"
      ]
     },
     "execution_count": 18,
     "metadata": {},
     "output_type": "execute_result"
    }
   ],
   "source": [
    "studio_counts.with_column('Percentage', percentage_movies)#.column('Percentage')\n",
    "\n",
    "percentage_array = studio_counts.with_column('Percentage', percentage_movies).column('Percentage')\n",
    "sum(percentage_array)"
   ]
  },
  {
   "cell_type": "markdown",
   "metadata": {},
   "source": [
    "**Question:**\n",
    "I attempted to construct a bar chart depicting the top 10 movies from each studio (the `\"share\"`).\n",
    "- Where did I go wrong?\n",
    "- Is this a distribution of my data?"
   ]
  },
  {
   "cell_type": "code",
   "execution_count": 19,
   "metadata": {},
   "outputs": [
    {
     "data": {
      "image/png": "[encoded data removed]",
      "text/plain": [
       "<Figure size 600x500 with 1 Axes>"
      ]
     },
     "metadata": {},
     "output_type": "display_data"
    }
   ],
   "source": [
    "(\n",
    "    studio_counts\n",
    "    .sort('count', descending=True) # sort greatest to smallest\n",
    "    .take(np.arange(10)) # take top 10\n",
    "    .barh('Studio', 'count') # barchart, categorical: studio name, numerical: count\n",
    ")"
   ]
  },
  {
   "cell_type": "markdown",
   "metadata": {},
   "source": [
    "---\n",
    "\n",
    "<center> Return to Slides </center>\n",
    "\n",
    "---"
   ]
  },
  {
   "cell_type": "markdown",
   "metadata": {},
   "source": [
    "## Distributions of Numerical Data\n",
    "\n",
    "The most basic tool for visualizing the **distribution** of numerical data is the histogram. "
   ]
  },
  {
   "cell_type": "markdown",
   "metadata": {},
   "source": [
    "In this part of the demo, we are going to examine the age of the top 200 films. "
   ]
  },
  {
   "cell_type": "code",
   "execution_count": 20,
   "metadata": {},
   "outputs": [
    {
     "data": {
      "text/plain": [
       "array([0, 1, 2, 3, 4])"
      ]
     },
     "execution_count": 20,
     "metadata": {},
     "output_type": "execute_result"
    }
   ],
   "source": [
    "np.arange(5) # generates an array with 5 elements, starting with 0"
   ]
  },
  {
   "cell_type": "code",
   "execution_count": 21,
   "metadata": {},
   "outputs": [
    {
     "data": {
      "text/html": [
       "<table border=\"1\" class=\"dataframe\">\n",
       "    <thead>\n",
       "        <tr>\n",
       "            <th>Title</th> <th>Studio</th> <th>Gross</th> <th>Gross (Adjusted)</th> <th>Year</th>\n",
       "        </tr>\n",
       "    </thead>\n",
       "    <tbody>\n",
       "        <tr>\n",
       "            <td>Gone with the Wind         </td> <td>MGM      </td> <td>198676459</td> <td>1796176700      </td> <td>1939</td>\n",
       "        </tr>\n",
       "        <tr>\n",
       "            <td>Star Wars                  </td> <td>Fox      </td> <td>460998007</td> <td>1583483200      </td> <td>1977</td>\n",
       "        </tr>\n",
       "        <tr>\n",
       "            <td>The Sound of Music         </td> <td>Fox      </td> <td>158671368</td> <td>1266072700      </td> <td>1965</td>\n",
       "        </tr>\n",
       "        <tr>\n",
       "            <td>E.T.: The Extra-Terrestrial</td> <td>Universal</td> <td>435110554</td> <td>1261085000      </td> <td>1982</td>\n",
       "        </tr>\n",
       "        <tr>\n",
       "            <td>Titanic                    </td> <td>Paramount</td> <td>658672302</td> <td>1204368000      </td> <td>1997</td>\n",
       "        </tr>\n",
       "    </tbody>\n",
       "</table>"
      ],
      "text/plain": [
       "Title                       | Studio    | Gross     | Gross (Adjusted) | Year\n",
       "Gone with the Wind          | MGM       | 198676459 | 1796176700       | 1939\n",
       "Star Wars                   | Fox       | 460998007 | 1583483200       | 1977\n",
       "The Sound of Music          | Fox       | 158671368 | 1266072700       | 1965\n",
       "E.T.: The Extra-Terrestrial | Universal | 435110554 | 1261085000       | 1982\n",
       "Titanic                     | Paramount | 658672302 | 1204368000       | 1997"
      ]
     },
     "execution_count": 21,
     "metadata": {},
     "output_type": "execute_result"
    }
   ],
   "source": [
    "top_movies.take(np.arange(5)) # just a preview \n",
    "# or\n",
    "# top_movies.take(make_array(0,1,2,3,4))"
   ]
  },
  {
   "cell_type": "markdown",
   "metadata": {},
   "source": [
    "**Exercise:** Add a column containing the age of each movie to the `top_movies` table."
   ]
  },
  {
   "cell_type": "code",
   "execution_count": 22,
   "metadata": {},
   "outputs": [
    {
     "data": {
      "text/html": [
       "<table border=\"1\" class=\"dataframe\">\n",
       "    <thead>\n",
       "        <tr>\n",
       "            <th>Title</th> <th>Studio</th> <th>Gross</th> <th>Gross (Adjusted)</th> <th>Year</th> <th>Age</th>\n",
       "        </tr>\n",
       "    </thead>\n",
       "    <tbody>\n",
       "        <tr>\n",
       "            <td>Gone with the Wind              </td> <td>MGM            </td> <td>198676459</td> <td>1796176700      </td> <td>1939</td> <td>85  </td>\n",
       "        </tr>\n",
       "        <tr>\n",
       "            <td>Star Wars                       </td> <td>Fox            </td> <td>460998007</td> <td>1583483200      </td> <td>1977</td> <td>47  </td>\n",
       "        </tr>\n",
       "        <tr>\n",
       "            <td>The Sound of Music              </td> <td>Fox            </td> <td>158671368</td> <td>1266072700      </td> <td>1965</td> <td>59  </td>\n",
       "        </tr>\n",
       "        <tr>\n",
       "            <td>E.T.: The Extra-Terrestrial     </td> <td>Universal      </td> <td>435110554</td> <td>1261085000      </td> <td>1982</td> <td>42  </td>\n",
       "        </tr>\n",
       "        <tr>\n",
       "            <td>Titanic                         </td> <td>Paramount      </td> <td>658672302</td> <td>1204368000      </td> <td>1997</td> <td>27  </td>\n",
       "        </tr>\n",
       "        <tr>\n",
       "            <td>The Ten Commandments            </td> <td>Paramount      </td> <td>65500000 </td> <td>1164590000      </td> <td>1956</td> <td>68  </td>\n",
       "        </tr>\n",
       "        <tr>\n",
       "            <td>Jaws                            </td> <td>Universal      </td> <td>260000000</td> <td>1138620700      </td> <td>1975</td> <td>49  </td>\n",
       "        </tr>\n",
       "        <tr>\n",
       "            <td>Doctor Zhivago                  </td> <td>MGM            </td> <td>111721910</td> <td>1103564200      </td> <td>1965</td> <td>59  </td>\n",
       "        </tr>\n",
       "        <tr>\n",
       "            <td>The Exorcist                    </td> <td>Warner Brothers</td> <td>232906145</td> <td>983226600       </td> <td>1973</td> <td>51  </td>\n",
       "        </tr>\n",
       "        <tr>\n",
       "            <td>Snow White and the Seven Dwarves</td> <td>Disney         </td> <td>184925486</td> <td>969010000       </td> <td>1937</td> <td>87  </td>\n",
       "        </tr>\n",
       "    </tbody>\n",
       "</table>\n",
       "<p>... (190 rows omitted)</p>"
      ],
      "text/plain": [
       "Title                            | Studio          | Gross     | Gross (Adjusted) | Year | Age\n",
       "Gone with the Wind               | MGM             | 198676459 | 1796176700       | 1939 | 85\n",
       "Star Wars                        | Fox             | 460998007 | 1583483200       | 1977 | 47\n",
       "The Sound of Music               | Fox             | 158671368 | 1266072700       | 1965 | 59\n",
       "E.T.: The Extra-Terrestrial      | Universal       | 435110554 | 1261085000       | 1982 | 42\n",
       "Titanic                          | Paramount       | 658672302 | 1204368000       | 1997 | 27\n",
       "The Ten Commandments             | Paramount       | 65500000  | 1164590000       | 1956 | 68\n",
       "Jaws                             | Universal       | 260000000 | 1138620700       | 1975 | 49\n",
       "Doctor Zhivago                   | MGM             | 111721910 | 1103564200       | 1965 | 59\n",
       "The Exorcist                     | Warner Brothers | 232906145 | 983226600        | 1973 | 51\n",
       "Snow White and the Seven Dwarves | Disney          | 184925486 | 969010000        | 1937 | 87\n",
       "... (190 rows omitted)"
      ]
     },
     "execution_count": 22,
     "metadata": {},
     "output_type": "execute_result"
    }
   ],
   "source": [
    "this_year = 2024\n",
    "ages = this_year - top_movies.column('Year') # 2024 - each year in Year column, ages is an array with that difference\n",
    "top_movies = top_movies.with_column('Age', ages) # added new column Ages, with ages array\n",
    "top_movies"
   ]
  },
  {
   "cell_type": "code",
   "execution_count": 23,
   "metadata": {},
   "outputs": [
    {
     "data": {
      "text/html": [
       "<table border=\"1\" class=\"dataframe\">\n",
       "    <thead>\n",
       "        <tr>\n",
       "            <th>Title</th> <th>Studio</th> <th>Gross</th> <th>Gross (Adjusted)</th> <th>Year</th> <th>Age</th>\n",
       "        </tr>\n",
       "    </thead>\n",
       "    <tbody>\n",
       "        <tr>\n",
       "            <td>Beauty and the Beast (2017)   </td> <td>Buena Vista    </td> <td>504014165</td> <td>504014165       </td> <td>2017</td> <td>7   </td>\n",
       "        </tr>\n",
       "        <tr>\n",
       "            <td>Wonder Woman                  </td> <td>Warner Brothers</td> <td>406381596</td> <td>406381596       </td> <td>2017</td> <td>7   </td>\n",
       "        </tr>\n",
       "        <tr>\n",
       "            <td>Guardians of the Galaxy Vol. 2</td> <td>Buena Vista    </td> <td>389397196</td> <td>389397196       </td> <td>2017</td> <td>7   </td>\n",
       "        </tr>\n",
       "        <tr>\n",
       "            <td>Rogue One: A Star Wars Story  </td> <td>Buena Vista    </td> <td>532177324</td> <td>537326000       </td> <td>2016</td> <td>8   </td>\n",
       "        </tr>\n",
       "        <tr>\n",
       "            <td>Finding Dory                  </td> <td>Buena Vista    </td> <td>486295561</td> <td>499245400       </td> <td>2016</td> <td>8   </td>\n",
       "        </tr>\n",
       "        <tr>\n",
       "            <td>Captain America: Civil War    </td> <td>Buena Vista    </td> <td>408084349</td> <td>415654000       </td> <td>2016</td> <td>8   </td>\n",
       "        </tr>\n",
       "        <tr>\n",
       "            <td>The Secret Life of Pets       </td> <td>Universal      </td> <td>368384330</td> <td>384704200       </td> <td>2016</td> <td>8   </td>\n",
       "        </tr>\n",
       "        <tr>\n",
       "            <td>Deadpool                      </td> <td>Fox            </td> <td>363070709</td> <td>375984600       </td> <td>2016</td> <td>8   </td>\n",
       "        </tr>\n",
       "        <tr>\n",
       "            <td>The Jungle Book (2016)        </td> <td>Buena Vista    </td> <td>364001123</td> <td>370808400       </td> <td>2016</td> <td>8   </td>\n",
       "        </tr>\n",
       "        <tr>\n",
       "            <td>Zootopia                      </td> <td>Buena Vista    </td> <td>341268248</td> <td>352098200       </td> <td>2016</td> <td>8   </td>\n",
       "        </tr>\n",
       "    </tbody>\n",
       "</table>\n",
       "<p>... (190 rows omitted)</p>"
      ],
      "text/plain": [
       "Title                          | Studio          | Gross     | Gross (Adjusted) | Year | Age\n",
       "Beauty and the Beast (2017)    | Buena Vista     | 504014165 | 504014165        | 2017 | 7\n",
       "Wonder Woman                   | Warner Brothers | 406381596 | 406381596        | 2017 | 7\n",
       "Guardians of the Galaxy Vol. 2 | Buena Vista     | 389397196 | 389397196        | 2017 | 7\n",
       "Rogue One: A Star Wars Story   | Buena Vista     | 532177324 | 537326000        | 2016 | 8\n",
       "Finding Dory                   | Buena Vista     | 486295561 | 499245400        | 2016 | 8\n",
       "Captain America: Civil War     | Buena Vista     | 408084349 | 415654000        | 2016 | 8\n",
       "The Secret Life of Pets        | Universal       | 368384330 | 384704200        | 2016 | 8\n",
       "Deadpool                       | Fox             | 363070709 | 375984600        | 2016 | 8\n",
       "The Jungle Book (2016)         | Buena Vista     | 364001123 | 370808400        | 2016 | 8\n",
       "Zootopia                       | Buena Vista     | 341268248 | 352098200        | 2016 | 8\n",
       "... (190 rows omitted)"
      ]
     },
     "execution_count": 23,
     "metadata": {},
     "output_type": "execute_result"
    }
   ],
   "source": [
    "top_movies.sort('Age', descending = False)"
   ]
  },
  {
   "cell_type": "markdown",
   "metadata": {},
   "source": [
    "**Exercise:** Split the `\"Age\"` column into the following bins"
   ]
  },
  {
   "cell_type": "code",
   "execution_count": 24,
   "metadata": {},
   "outputs": [],
   "source": [
    "my_bins = make_array(0, 5, 10, 15, 25, 40, 65, 103) # 7 bins\n",
    "# with intervals [0, 5), [5, 10), [15, 25), [25, 40), [40, 65), [65, 103)"
   ]
  },
  {
   "cell_type": "code",
   "execution_count": 25,
   "metadata": {},
   "outputs": [
    {
     "data": {
      "text/html": [
       "<table border=\"1\" class=\"dataframe\">\n",
       "    <thead>\n",
       "        <tr>\n",
       "            <th>bin</th> <th>Age count</th>\n",
       "        </tr>\n",
       "    </thead>\n",
       "    <tbody>\n",
       "        <tr>\n",
       "            <td>0   </td> <td>0        </td>\n",
       "        </tr>\n",
       "        <tr>\n",
       "            <td>5   </td> <td>18       </td>\n",
       "        </tr>\n",
       "        <tr>\n",
       "            <td>10  </td> <td>15       </td>\n",
       "        </tr>\n",
       "        <tr>\n",
       "            <td>15  </td> <td>42       </td>\n",
       "        </tr>\n",
       "        <tr>\n",
       "            <td>25  </td> <td>43       </td>\n",
       "        </tr>\n",
       "        <tr>\n",
       "            <td>40  </td> <td>59       </td>\n",
       "        </tr>\n",
       "        <tr>\n",
       "            <td>65  </td> <td>23       </td>\n",
       "        </tr>\n",
       "        <tr>\n",
       "            <td>103 </td> <td>0        </td>\n",
       "        </tr>\n",
       "    </tbody>\n",
       "</table>"
      ],
      "text/plain": [
       "bin  | Age count\n",
       "0    | 0\n",
       "5    | 18\n",
       "10   | 15\n",
       "15   | 42\n",
       "25   | 43\n",
       "40   | 59\n",
       "65   | 23\n",
       "103  | 0"
      ]
     },
     "execution_count": 25,
     "metadata": {},
     "output_type": "execute_result"
    }
   ],
   "source": [
    "binned_data = top_movies.bin('Age', bins = my_bins)\n",
    "binned_data"
   ]
  },
  {
   "cell_type": "markdown",
   "metadata": {},
   "source": [
    "You can also use `np.arange` to create regular bins of a fixed size or even just specify a number."
   ]
  },
  {
   "cell_type": "code",
   "execution_count": null,
   "metadata": {},
   "outputs": [],
   "source": []
  },
  {
   "cell_type": "code",
   "execution_count": null,
   "metadata": {},
   "outputs": [],
   "source": []
  },
  {
   "cell_type": "markdown",
   "metadata": {},
   "source": [
    "---\n",
    "\n",
    "<center> Return to Slides </center>\n",
    "\n",
    "---"
   ]
  },
  {
   "cell_type": "markdown",
   "metadata": {},
   "source": [
    "## Histograms \n",
    "\n",
    "We can construct histograms of numerical variables by calling `tbl.hist(...)` function using our `bins`."
   ]
  },
  {
   "cell_type": "markdown",
   "metadata": {},
   "source": [
    "**Exercise:** Make a histogram of `\"Age\"` using `my_bins`. "
   ]
  },
  {
   "cell_type": "code",
   "execution_count": null,
   "metadata": {},
   "outputs": [],
   "source": []
  },
  {
   "cell_type": "markdown",
   "metadata": {},
   "source": [
    "**Exercise:** Same thing as before but with equally spaced bins."
   ]
  },
  {
   "cell_type": "code",
   "execution_count": null,
   "metadata": {},
   "outputs": [],
   "source": []
  },
  {
   "cell_type": "markdown",
   "metadata": {},
   "source": [
    "**Exercise:** Same thing as before but we specify the number of bins"
   ]
  },
  {
   "cell_type": "code",
   "execution_count": null,
   "metadata": {},
   "outputs": [],
   "source": []
  },
  {
   "cell_type": "markdown",
   "metadata": {},
   "source": [
    "**Exercise:** Same thing as before but we don't specify the bins"
   ]
  },
  {
   "cell_type": "code",
   "execution_count": null,
   "metadata": {},
   "outputs": [],
   "source": []
  },
  {
   "cell_type": "markdown",
   "metadata": {},
   "source": [
    "Using the interactive plotting tools:"
   ]
  },
  {
   "cell_type": "code",
   "execution_count": null,
   "metadata": {},
   "outputs": [],
   "source": []
  },
  {
   "cell_type": "markdown",
   "metadata": {},
   "source": [
    "## Exploring Data Distributions"
   ]
  },
  {
   "cell_type": "markdown",
   "metadata": {},
   "source": [
    "**Exercise:** Make a histogram of the `\"Gross (Adjusted)\"` revenue for all the movies."
   ]
  },
  {
   "cell_type": "code",
   "execution_count": null,
   "metadata": {},
   "outputs": [],
   "source": []
  },
  {
   "cell_type": "markdown",
   "metadata": {},
   "source": [
    "**Exercise:** Examine the distribution of dates for `\"Disney\"` and `\"Buena Vista\"`."
   ]
  },
  {
   "cell_type": "code",
   "execution_count": null,
   "metadata": {},
   "outputs": [],
   "source": []
  },
  {
   "cell_type": "markdown",
   "metadata": {},
   "source": [
    "---\n",
    "\n",
    "<center> Return to Slides </center>\n",
    "\n",
    "---"
   ]
  },
  {
   "cell_type": "markdown",
   "metadata": {},
   "source": [
    "## Height \n",
    "Lets compute the heights for the bars using our bins from before:"
   ]
  },
  {
   "cell_type": "code",
   "execution_count": 26,
   "metadata": {},
   "outputs": [
    {
     "data": {
      "text/html": [
       "<table border=\"1\" class=\"dataframe\">\n",
       "    <thead>\n",
       "        <tr>\n",
       "            <th>bin</th> <th>Age count</th>\n",
       "        </tr>\n",
       "    </thead>\n",
       "    <tbody>\n",
       "        <tr>\n",
       "            <td>0   </td> <td>0        </td>\n",
       "        </tr>\n",
       "        <tr>\n",
       "            <td>5   </td> <td>18       </td>\n",
       "        </tr>\n",
       "        <tr>\n",
       "            <td>10  </td> <td>15       </td>\n",
       "        </tr>\n",
       "        <tr>\n",
       "            <td>15  </td> <td>42       </td>\n",
       "        </tr>\n",
       "        <tr>\n",
       "            <td>25  </td> <td>43       </td>\n",
       "        </tr>\n",
       "        <tr>\n",
       "            <td>40  </td> <td>59       </td>\n",
       "        </tr>\n",
       "        <tr>\n",
       "            <td>65  </td> <td>23       </td>\n",
       "        </tr>\n",
       "        <tr>\n",
       "            <td>103 </td> <td>0        </td>\n",
       "        </tr>\n",
       "    </tbody>\n",
       "</table>"
      ],
      "text/plain": [
       "bin  | Age count\n",
       "0    | 0\n",
       "5    | 18\n",
       "10   | 15\n",
       "15   | 42\n",
       "25   | 43\n",
       "40   | 59\n",
       "65   | 23\n",
       "103  | 0"
      ]
     },
     "execution_count": 26,
     "metadata": {},
     "output_type": "execute_result"
    },
    {
     "data": {
      "image/png": "[encoded data removed]",
      "text/plain": [
       "<Figure size 600x400 with 1 Axes>"
      ]
     },
     "metadata": {},
     "output_type": "display_data"
    }
   ],
   "source": [
    "top_movies.hist('Age', bins=my_bins, unit='Year')\n",
    "binned_data"
   ]
  },
  {
   "cell_type": "markdown",
   "metadata": {},
   "source": [
    "**Exercise:** Add a column containing the percentage of data in each bin."
   ]
  },
  {
   "cell_type": "code",
   "execution_count": null,
   "metadata": {},
   "outputs": [],
   "source": []
  },
  {
   "cell_type": "markdown",
   "metadata": {},
   "source": [
    "**Exercise:** Compute the height of all the bins in binned data.\n",
    "\n",
    "\\begin{align}\n",
    "\\text{Area} =  \\text{Width}\\,\\, \\times  \\,\\, \\text{Height} \\quad \\rightarrow \\quad\n",
    "\\text{Height} =  \\frac{\\text{Area}}{ \\text{Width}}\n",
    "\\end{align}"
   ]
  },
  {
   "cell_type": "code",
   "execution_count": 27,
   "metadata": {},
   "outputs": [
    {
     "data": {
      "text/html": [
       "<table border=\"1\" class=\"dataframe\">\n",
       "    <thead>\n",
       "        <tr>\n",
       "            <th>bin</th> <th>Age count</th>\n",
       "        </tr>\n",
       "    </thead>\n",
       "    <tbody>\n",
       "        <tr>\n",
       "            <td>0   </td> <td>0        </td>\n",
       "        </tr>\n",
       "        <tr>\n",
       "            <td>5   </td> <td>18       </td>\n",
       "        </tr>\n",
       "        <tr>\n",
       "            <td>10  </td> <td>15       </td>\n",
       "        </tr>\n",
       "        <tr>\n",
       "            <td>15  </td> <td>42       </td>\n",
       "        </tr>\n",
       "        <tr>\n",
       "            <td>25  </td> <td>43       </td>\n",
       "        </tr>\n",
       "        <tr>\n",
       "            <td>40  </td> <td>59       </td>\n",
       "        </tr>\n",
       "        <tr>\n",
       "            <td>65  </td> <td>23       </td>\n",
       "        </tr>\n",
       "        <tr>\n",
       "            <td>103 </td> <td>0        </td>\n",
       "        </tr>\n",
       "    </tbody>\n",
       "</table>"
      ],
      "text/plain": [
       "bin  | Age count\n",
       "0    | 0\n",
       "5    | 18\n",
       "10   | 15\n",
       "15   | 42\n",
       "25   | 43\n",
       "40   | 59\n",
       "65   | 23\n",
       "103  | 0"
      ]
     },
     "execution_count": 27,
     "metadata": {},
     "output_type": "execute_result"
    }
   ],
   "source": [
    "binned_data"
   ]
  },
  {
   "cell_type": "markdown",
   "metadata": {},
   "source": [
    "Restrict the table to just the left side bins by dropping the last row.  I will call this `bi` (for bin intervals) since we are going to be typing it a lot."
   ]
  },
  {
   "cell_type": "code",
   "execution_count": 28,
   "metadata": {},
   "outputs": [
    {
     "data": {
      "text/plain": [
       "()"
      ]
     },
     "execution_count": 28,
     "metadata": {},
     "output_type": "execute_result"
    }
   ],
   "source": [
    "bi = (\n",
    "    \n",
    ")\n",
    "bi"
   ]
  },
  {
   "cell_type": "markdown",
   "metadata": {},
   "source": [
    "Create an array of the right side of the bins by dropping the first row."
   ]
  },
  {
   "cell_type": "code",
   "execution_count": 29,
   "metadata": {},
   "outputs": [
    {
     "data": {
      "text/plain": [
       "()"
      ]
     },
     "execution_count": 29,
     "metadata": {},
     "output_type": "execute_result"
    }
   ],
   "source": [
    "right_bins = (\n",
    "\n",
    ")\n",
    "right_bins"
   ]
  },
  {
   "cell_type": "code",
   "execution_count": null,
   "metadata": {},
   "outputs": [],
   "source": []
  },
  {
   "cell_type": "markdown",
   "metadata": {},
   "source": [
    "Assemble the bi (Bin Interval) table by computing the width and the height of each column."
   ]
  },
  {
   "cell_type": "code",
   "execution_count": null,
   "metadata": {},
   "outputs": [],
   "source": []
  },
  {
   "cell_type": "code",
   "execution_count": null,
   "metadata": {},
   "outputs": [],
   "source": []
  },
  {
   "cell_type": "code",
   "execution_count": 32,
   "metadata": {},
   "outputs": [
    {
     "data": {
      "text/plain": [
       "\u001b[0;31mSignature:\u001b[0m \u001b[0mTable\u001b[0m\u001b[0;34m.\u001b[0m\u001b[0mgroup\u001b[0m\u001b[0;34m(\u001b[0m\u001b[0mself\u001b[0m\u001b[0;34m,\u001b[0m \u001b[0mcolumn_or_label\u001b[0m\u001b[0;34m,\u001b[0m \u001b[0mcollect\u001b[0m\u001b[0;34m=\u001b[0m\u001b[0;32mNone\u001b[0m\u001b[0;34m)\u001b[0m\u001b[0;34m\u001b[0m\u001b[0;34m\u001b[0m\u001b[0m\n",
       "\u001b[0;31mDocstring:\u001b[0m\n",
       "Group rows by unique values in a column; count or aggregate others.\n",
       "\n",
       "Args:\n",
       "    ``column_or_label``: values to group (column label or index, or array)\n",
       "\n",
       "    ``collect``: a function applied to values in other columns for each group\n",
       "\n",
       "Returns:\n",
       "    A Table with each row corresponding to a unique value in ``column_or_label``,\n",
       "    where the first column contains the unique values from ``column_or_label``, and the\n",
       "    second contains counts for each of the unique values. If ``collect`` is\n",
       "    provided, a Table is returned with all original columns, each containing values\n",
       "    calculated by first grouping rows according to ``column_or_label``, then applying\n",
       "    ``collect`` to each set of grouped values in the other columns.\n",
       "\n",
       "Note:\n",
       "    The grouped column will appear first in the result table. If ``collect`` does not\n",
       "    accept arguments with one of the column types, that column will be empty in the resulting\n",
       "    table.\n",
       "\n",
       ">>> marbles = Table().with_columns(\n",
       "...    \"Color\", make_array(\"Red\", \"Green\", \"Blue\", \"Red\", \"Green\", \"Green\"),\n",
       "...    \"Shape\", make_array(\"Round\", \"Rectangular\", \"Rectangular\", \"Round\", \"Rectangular\", \"Round\"),\n",
       "...    \"Amount\", make_array(4, 6, 12, 7, 9, 2),\n",
       "...    \"Price\", make_array(1.30, 1.30, 2.00, 1.75, 1.40, 1.00))\n",
       ">>> marbles\n",
       "Color | Shape       | Amount | Price\n",
       "Red   | Round       | 4      | 1.3\n",
       "Green | Rectangular | 6      | 1.3\n",
       "Blue  | Rectangular | 12     | 2\n",
       "Red   | Round       | 7      | 1.75\n",
       "Green | Rectangular | 9      | 1.4\n",
       "Green | Round       | 2      | 1\n",
       ">>> marbles.group(\"Color\") # just gives counts\n",
       "Color | count\n",
       "Blue  | 1\n",
       "Green | 3\n",
       "Red   | 2\n",
       ">>> marbles.group(\"Color\", max) # takes the max of each grouping, in each column\n",
       "Color | Shape max   | Amount max | Price max\n",
       "Blue  | Rectangular | 12         | 2\n",
       "Green | Round       | 9          | 1.4\n",
       "Red   | Round       | 7          | 1.75\n",
       ">>> marbles.group(\"Shape\", sum) # sum doesn't make sense for strings\n",
       "Shape       | Color sum | Amount sum | Price sum\n",
       "Rectangular |           | 27         | 4.7\n",
       "Round       |           | 13         | 4.05\n",
       "\u001b[0;31mFile:\u001b[0m      ~/.local/lib/python3.11/site-packages/datascience/tables.py\n",
       "\u001b[0;31mType:\u001b[0m      function"
      ]
     },
     "metadata": {},
     "output_type": "display_data"
    }
   ],
   "source": [
    "Table.group?"
   ]
  },
  {
   "cell_type": "code",
   "execution_count": 34,
   "metadata": {},
   "outputs": [
    {
     "data": {
      "text/html": [
       "<table border=\"1\" class=\"dataframe\">\n",
       "    <thead>\n",
       "        <tr>\n",
       "            <th>Year</th> <th>Title average</th> <th>Studio average</th> <th>Gross average</th> <th>Gross (Adjusted) average</th> <th>Age average</th>\n",
       "        </tr>\n",
       "    </thead>\n",
       "    <tbody>\n",
       "        <tr>\n",
       "            <td>1921</td> <td>             </td> <td>              </td> <td>9.18367e+06  </td> <td>4.08214e+08             </td> <td>103        </td>\n",
       "        </tr>\n",
       "        <tr>\n",
       "            <td>1937</td> <td>             </td> <td>              </td> <td>1.84925e+08  </td> <td>9.6901e+08              </td> <td>87         </td>\n",
       "        </tr>\n",
       "        <tr>\n",
       "            <td>1939</td> <td>             </td> <td>              </td> <td>1.98676e+08  </td> <td>1.79618e+09             </td> <td>85         </td>\n",
       "        </tr>\n",
       "        <tr>\n",
       "            <td>1940</td> <td>             </td> <td>              </td> <td>8.42542e+07  </td> <td>5.99216e+08             </td> <td>84         </td>\n",
       "        </tr>\n",
       "        <tr>\n",
       "            <td>1941</td> <td>             </td> <td>              </td> <td>4.6385e+07   </td> <td>5.83036e+08             </td> <td>83         </td>\n",
       "        </tr>\n",
       "        <tr>\n",
       "            <td>1942</td> <td>             </td> <td>              </td> <td>1.02247e+08  </td> <td>5.66404e+08             </td> <td>82         </td>\n",
       "        </tr>\n",
       "        <tr>\n",
       "            <td>1945</td> <td>             </td> <td>              </td> <td>2.13333e+07  </td> <td>5.57804e+08             </td> <td>79         </td>\n",
       "        </tr>\n",
       "        <tr>\n",
       "            <td>1946</td> <td>             </td> <td>              </td> <td>2.20291e+07  </td> <td>4.71261e+08             </td> <td>78         </td>\n",
       "        </tr>\n",
       "        <tr>\n",
       "            <td>1950</td> <td>             </td> <td>              </td> <td>9.31411e+07  </td> <td>5.3608e+08              </td> <td>74         </td>\n",
       "        </tr>\n",
       "        <tr>\n",
       "            <td>1952</td> <td>             </td> <td>              </td> <td>3.6e+07      </td> <td>5.334e+08               </td> <td>72         </td>\n",
       "        </tr>\n",
       "    </tbody>\n",
       "</table>\n",
       "<p>... (62 rows omitted)</p>"
      ],
      "text/plain": [
       "Year | Title average | Studio average | Gross average | Gross (Adjusted) average | Age average\n",
       "1921 |               |                | 9.18367e+06   | 4.08214e+08              | 103\n",
       "1937 |               |                | 1.84925e+08   | 9.6901e+08               | 87\n",
       "1939 |               |                | 1.98676e+08   | 1.79618e+09              | 85\n",
       "1940 |               |                | 8.42542e+07   | 5.99216e+08              | 84\n",
       "1941 |               |                | 4.6385e+07    | 5.83036e+08              | 83\n",
       "1942 |               |                | 1.02247e+08   | 5.66404e+08              | 82\n",
       "1945 |               |                | 2.13333e+07   | 5.57804e+08              | 79\n",
       "1946 |               |                | 2.20291e+07   | 4.71261e+08              | 78\n",
       "1950 |               |                | 9.31411e+07   | 5.3608e+08               | 74\n",
       "1952 |               |                | 3.6e+07       | 5.334e+08                | 72\n",
       "... (62 rows omitted)"
      ]
     },
     "execution_count": 34,
     "metadata": {},
     "output_type": "execute_result"
    }
   ],
   "source": [
    "top_movies.group('Year', np.average)\n",
    "# grouped by Year, each row is a unique Year category\n",
    "# we apply the function np.average to the rest of the table \n"
   ]
  },
  {
   "cell_type": "code",
   "execution_count": 37,
   "metadata": {},
   "outputs": [
    {
     "data": {
      "text/html": [
       "<table border=\"1\" class=\"dataframe\">\n",
       "    <thead>\n",
       "        <tr>\n",
       "            <th>Title</th> <th>Studio</th> <th>Gross</th> <th>Gross (Adjusted)</th> <th>Year</th> <th>Age</th>\n",
       "        </tr>\n",
       "    </thead>\n",
       "    <tbody>\n",
       "        <tr>\n",
       "            <td>Age  </td> <td>MGM            </td> <td>198676459</td> <td>1796176700      </td> <td>1939</td> <td>85  </td>\n",
       "        </tr>\n",
       "        <tr>\n",
       "            <td>Age  </td> <td>Fox            </td> <td>460998007</td> <td>1583483200      </td> <td>1977</td> <td>47  </td>\n",
       "        </tr>\n",
       "        <tr>\n",
       "            <td>Age  </td> <td>Fox            </td> <td>158671368</td> <td>1266072700      </td> <td>1965</td> <td>59  </td>\n",
       "        </tr>\n",
       "        <tr>\n",
       "            <td>Age  </td> <td>Universal      </td> <td>435110554</td> <td>1261085000      </td> <td>1982</td> <td>42  </td>\n",
       "        </tr>\n",
       "        <tr>\n",
       "            <td>Age  </td> <td>Paramount      </td> <td>658672302</td> <td>1204368000      </td> <td>1997</td> <td>27  </td>\n",
       "        </tr>\n",
       "        <tr>\n",
       "            <td>Age  </td> <td>Paramount      </td> <td>65500000 </td> <td>1164590000      </td> <td>1956</td> <td>68  </td>\n",
       "        </tr>\n",
       "        <tr>\n",
       "            <td>Age  </td> <td>Universal      </td> <td>260000000</td> <td>1138620700      </td> <td>1975</td> <td>49  </td>\n",
       "        </tr>\n",
       "        <tr>\n",
       "            <td>Age  </td> <td>MGM            </td> <td>111721910</td> <td>1103564200      </td> <td>1965</td> <td>59  </td>\n",
       "        </tr>\n",
       "        <tr>\n",
       "            <td>Age  </td> <td>Warner Brothers</td> <td>232906145</td> <td>983226600       </td> <td>1973</td> <td>51  </td>\n",
       "        </tr>\n",
       "        <tr>\n",
       "            <td>Age  </td> <td>Disney         </td> <td>184925486</td> <td>969010000       </td> <td>1937</td> <td>87  </td>\n",
       "        </tr>\n",
       "    </tbody>\n",
       "</table>\n",
       "<p>... (190 rows omitted)</p>"
      ],
      "text/plain": [
       "Title | Studio          | Gross     | Gross (Adjusted) | Year | Age\n",
       "Age   | MGM             | 198676459 | 1796176700       | 1939 | 85\n",
       "Age   | Fox             | 460998007 | 1583483200       | 1977 | 47\n",
       "Age   | Fox             | 158671368 | 1266072700       | 1965 | 59\n",
       "Age   | Universal       | 435110554 | 1261085000       | 1982 | 42\n",
       "Age   | Paramount       | 658672302 | 1204368000       | 1997 | 27\n",
       "Age   | Paramount       | 65500000  | 1164590000       | 1956 | 68\n",
       "Age   | Universal       | 260000000 | 1138620700       | 1975 | 49\n",
       "Age   | MGM             | 111721910 | 1103564200       | 1965 | 59\n",
       "Age   | Warner Brothers | 232906145 | 983226600        | 1973 | 51\n",
       "Age   | Disney          | 184925486 | 969010000        | 1937 | 87\n",
       "... (190 rows omitted)"
      ]
     },
     "execution_count": 37,
     "metadata": {},
     "output_type": "execute_result"
    }
   ],
   "source": [
    "top_movies.with_columns('Title', 'Age')\n",
    "# .with_column('name of my new column', values i should enter into new column usually an array)"
   ]
  },
  {
   "cell_type": "code",
   "execution_count": 38,
   "metadata": {},
   "outputs": [
    {
     "data": {
      "text/html": [
       "<table border=\"1\" class=\"dataframe\">\n",
       "    <thead>\n",
       "        <tr>\n",
       "            <th>Title</th> <th>Studio</th> <th>Gross</th> <th>Gross (Adjusted)</th> <th>Year</th> <th>Age</th>\n",
       "        </tr>\n",
       "    </thead>\n",
       "    <tbody>\n",
       "        <tr>\n",
       "            <td>Gone with the Wind              </td> <td>MGM            </td> <td>198676459</td> <td>1796176700      </td> <td>1939</td> <td>85  </td>\n",
       "        </tr>\n",
       "        <tr>\n",
       "            <td>Star Wars                       </td> <td>Fox            </td> <td>460998007</td> <td>1583483200      </td> <td>1977</td> <td>47  </td>\n",
       "        </tr>\n",
       "        <tr>\n",
       "            <td>The Sound of Music              </td> <td>Fox            </td> <td>158671368</td> <td>1266072700      </td> <td>1965</td> <td>59  </td>\n",
       "        </tr>\n",
       "        <tr>\n",
       "            <td>E.T.: The Extra-Terrestrial     </td> <td>Universal      </td> <td>435110554</td> <td>1261085000      </td> <td>1982</td> <td>42  </td>\n",
       "        </tr>\n",
       "        <tr>\n",
       "            <td>Titanic                         </td> <td>Paramount      </td> <td>658672302</td> <td>1204368000      </td> <td>1997</td> <td>27  </td>\n",
       "        </tr>\n",
       "        <tr>\n",
       "            <td>The Ten Commandments            </td> <td>Paramount      </td> <td>65500000 </td> <td>1164590000      </td> <td>1956</td> <td>68  </td>\n",
       "        </tr>\n",
       "        <tr>\n",
       "            <td>Jaws                            </td> <td>Universal      </td> <td>260000000</td> <td>1138620700      </td> <td>1975</td> <td>49  </td>\n",
       "        </tr>\n",
       "        <tr>\n",
       "            <td>Doctor Zhivago                  </td> <td>MGM            </td> <td>111721910</td> <td>1103564200      </td> <td>1965</td> <td>59  </td>\n",
       "        </tr>\n",
       "        <tr>\n",
       "            <td>The Exorcist                    </td> <td>Warner Brothers</td> <td>232906145</td> <td>983226600       </td> <td>1973</td> <td>51  </td>\n",
       "        </tr>\n",
       "        <tr>\n",
       "            <td>Snow White and the Seven Dwarves</td> <td>Disney         </td> <td>184925486</td> <td>969010000       </td> <td>1937</td> <td>87  </td>\n",
       "        </tr>\n",
       "    </tbody>\n",
       "</table>\n",
       "<p>... (190 rows omitted)</p>"
      ],
      "text/plain": [
       "Title                            | Studio          | Gross     | Gross (Adjusted) | Year | Age\n",
       "Gone with the Wind               | MGM             | 198676459 | 1796176700       | 1939 | 85\n",
       "Star Wars                        | Fox             | 460998007 | 1583483200       | 1977 | 47\n",
       "The Sound of Music               | Fox             | 158671368 | 1266072700       | 1965 | 59\n",
       "E.T.: The Extra-Terrestrial      | Universal       | 435110554 | 1261085000       | 1982 | 42\n",
       "Titanic                          | Paramount       | 658672302 | 1204368000       | 1997 | 27\n",
       "The Ten Commandments             | Paramount       | 65500000  | 1164590000       | 1956 | 68\n",
       "Jaws                             | Universal       | 260000000 | 1138620700       | 1975 | 49\n",
       "Doctor Zhivago                   | MGM             | 111721910 | 1103564200       | 1965 | 59\n",
       "The Exorcist                     | Warner Brothers | 232906145 | 983226600        | 1973 | 51\n",
       "Snow White and the Seven Dwarves | Disney          | 184925486 | 969010000        | 1937 | 87\n",
       "... (190 rows omitted)"
      ]
     },
     "execution_count": 38,
     "metadata": {},
     "output_type": "execute_result"
    }
   ],
   "source": [
    "top_movies"
   ]
  },
  {
   "cell_type": "code",
   "execution_count": 39,
   "metadata": {},
   "outputs": [
    {
     "data": {
      "text/html": [
       "<table border=\"1\" class=\"dataframe\">\n",
       "    <thead>\n",
       "        <tr>\n",
       "            <th>Year</th> <th>Studio</th> <th>Title mean</th> <th>Gross mean</th> <th>Gross (Adjusted) mean</th> <th>Age mean</th>\n",
       "        </tr>\n",
       "    </thead>\n",
       "    <tbody>\n",
       "        <tr>\n",
       "            <td>1921</td> <td>Metro          </td> <td>          </td> <td>9.18367e+06</td> <td>4.08214e+08          </td> <td>103     </td>\n",
       "        </tr>\n",
       "        <tr>\n",
       "            <td>1937</td> <td>Disney         </td> <td>          </td> <td>1.84925e+08</td> <td>9.6901e+08           </td> <td>87      </td>\n",
       "        </tr>\n",
       "        <tr>\n",
       "            <td>1939</td> <td>MGM            </td> <td>          </td> <td>1.98676e+08</td> <td>1.79618e+09          </td> <td>85      </td>\n",
       "        </tr>\n",
       "        <tr>\n",
       "            <td>1940</td> <td>Disney         </td> <td>          </td> <td>8.42542e+07</td> <td>5.99216e+08          </td> <td>84      </td>\n",
       "        </tr>\n",
       "        <tr>\n",
       "            <td>1941</td> <td>Disney         </td> <td>          </td> <td>7.64081e+07</td> <td>7.38256e+08          </td> <td>83      </td>\n",
       "        </tr>\n",
       "        <tr>\n",
       "            <td>1941</td> <td>Warner Brothers</td> <td>          </td> <td>1.63619e+07</td> <td>4.27815e+08          </td> <td>83      </td>\n",
       "        </tr>\n",
       "        <tr>\n",
       "            <td>1942</td> <td>RKO            </td> <td>          </td> <td>1.02247e+08</td> <td>5.66404e+08          </td> <td>82      </td>\n",
       "        </tr>\n",
       "        <tr>\n",
       "            <td>1945</td> <td>RKO            </td> <td>          </td> <td>2.13333e+07</td> <td>5.57804e+08          </td> <td>79      </td>\n",
       "        </tr>\n",
       "        <tr>\n",
       "            <td>1946</td> <td>RKO            </td> <td>          </td> <td>2.365e+07  </td> <td>4.8895e+08           </td> <td>78      </td>\n",
       "        </tr>\n",
       "        <tr>\n",
       "            <td>1946</td> <td>Selz.          </td> <td>          </td> <td>2.04082e+07</td> <td>4.53571e+08          </td> <td>78      </td>\n",
       "        </tr>\n",
       "    </tbody>\n",
       "</table>\n",
       "<p>... (165 rows omitted)</p>"
      ],
      "text/plain": [
       "Year | Studio          | Title mean | Gross mean  | Gross (Adjusted) mean | Age mean\n",
       "1921 | Metro           |            | 9.18367e+06 | 4.08214e+08           | 103\n",
       "1937 | Disney          |            | 1.84925e+08 | 9.6901e+08            | 87\n",
       "1939 | MGM             |            | 1.98676e+08 | 1.79618e+09           | 85\n",
       "1940 | Disney          |            | 8.42542e+07 | 5.99216e+08           | 84\n",
       "1941 | Disney          |            | 7.64081e+07 | 7.38256e+08           | 83\n",
       "1941 | Warner Brothers |            | 1.63619e+07 | 4.27815e+08           | 83\n",
       "1942 | RKO             |            | 1.02247e+08 | 5.66404e+08           | 82\n",
       "1945 | RKO             |            | 2.13333e+07 | 5.57804e+08           | 79\n",
       "1946 | RKO             |            | 2.365e+07   | 4.8895e+08            | 78\n",
       "1946 | Selz.           |            | 2.04082e+07 | 4.53571e+08           | 78\n",
       "... (165 rows omitted)"
      ]
     },
     "execution_count": 39,
     "metadata": {},
     "output_type": "execute_result"
    }
   ],
   "source": [
    "top_movies.group([ 'Year', 'Studio'], np.mean)\n"
   ]
  },
  {
   "cell_type": "code",
   "execution_count": null,
   "metadata": {},
   "outputs": [],
   "source": []
  }
 ],
 "metadata": {
  "anaconda-cloud": {},
  "kernelspec": {
   "display_name": "Python 3 (ipykernel)",
   "language": "python",
   "name": "python3"
  },
  "language_info": {
   "codemirror_mode": {
    "name": "ipython",
    "version": 3
   },
   "file_extension": ".py",
   "mimetype": "text/x-python",
   "name": "python",
   "nbconvert_exporter": "python",
   "pygments_lexer": "ipython3",
   "version": "3.11.5"
  }
 },
 "nbformat": 4,
 "nbformat_minor": 4
}
