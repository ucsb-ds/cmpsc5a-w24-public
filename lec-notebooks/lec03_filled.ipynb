{
 "cells": [
  {
   "cell_type": "code",
   "execution_count": 1,
   "metadata": {
    "tags": []
   },
   "outputs": [],
   "source": [
    "from datascience import *\n",
    "import numpy as np\n",
    "\n",
    "%matplotlib inline\n",
    "import matplotlib.pyplot as plots"
   ]
  },
  {
   "cell_type": "markdown",
   "metadata": {
    "jp-MarkdownHeadingCollapsed": true
   },
   "source": [
    "# Review of Tables\n",
    "\n",
    "## Basics\n",
    "\n",
    "- what is a CSV?\n",
    "- read the CSV 'data/skyscrapers.csv' using `read_table()`\n",
    "- display a table using `show()`\n",
    "- sort a table using `sort()` ascending/descending\n",
    "- select column(s) using `select()`\n",
    "- drop column(s) using `drop()`"
   ]
  },
  {
   "cell_type": "code",
   "execution_count": null,
   "metadata": {},
   "outputs": [],
   "source": []
  },
  {
   "cell_type": "markdown",
   "metadata": {
    "jp-MarkdownHeadingCollapsed": true,
    "tags": []
   },
   "source": [
    "## Subsetting:\n",
    "- subset rows using `where()`\n",
    "    - skyscrapers in LA\n",
    "    - skyscrapers in LA that were completed in 1971\n",
    "- subset rows using `where()` and [predicates](http://www.data8.org/datascience/reference-nb/datascience-reference.html#Table.where-Predicates)\n",
    "    - skyscrapers that were completed after 2014\n",
    "    - skyscrapers that were completed in the 1990s\n",
    "    \n",
    "> some predicates: \n",
    "> - `are.equal_to()` \n",
    "> - `are.above()`,`are.below()`\n",
    "> - `are.above_or_equal_to()`, `are.below_or_equal_to()`, \n",
    "> - `are.between()`, `are.between_or_equal_to()`, \n",
    "\n",
    "- skyscrapers that are a 'Tower' (using `are.containing()`) \n",
    "- skyscrapers that are in Chicago or Houston  (using `are.contained_in()`)"
   ]
  },
  {
   "cell_type": "code",
   "execution_count": 2,
   "metadata": {
    "tags": []
   },
   "outputs": [],
   "source": [
    "skyscrapers = Table().read_table('data/skyscrapers.csv')"
   ]
  },
  {
   "cell_type": "code",
   "execution_count": 3,
   "metadata": {},
   "outputs": [
    {
     "data": {
      "text/html": [
       "<table border=\"1\" class=\"dataframe\">\n",
       "    <thead>\n",
       "        <tr>\n",
       "            <th>name</th> <th>material</th> <th>city</th> <th>height</th> <th>completed</th>\n",
       "        </tr>\n",
       "    </thead>\n",
       "    <tbody>\n",
       "        <tr>\n",
       "            <td>432 Park Avenue      </td> <td>concrete</td> <td>New York City    </td> <td>425.5 </td> <td>2015     </td>\n",
       "        </tr>\n",
       "        <tr>\n",
       "            <td>Sky                  </td> <td>concrete</td> <td>New York City    </td> <td>206   </td> <td>2015     </td>\n",
       "        </tr>\n",
       "        <tr>\n",
       "            <td>Mansions at Acqualina</td> <td>concrete</td> <td>Sunny Isles Beach</td> <td>196   </td> <td>2015     </td>\n",
       "        </tr>\n",
       "    </tbody>\n",
       "</table>"
      ],
      "text/plain": [
       "name                  | material | city              | height | completed\n",
       "432 Park Avenue       | concrete | New York City     | 425.5  | 2015\n",
       "Sky                   | concrete | New York City     | 206    | 2015\n",
       "Mansions at Acqualina | concrete | Sunny Isles Beach | 196    | 2015"
      ]
     },
     "execution_count": 3,
     "metadata": {},
     "output_type": "execute_result"
    }
   ],
   "source": [
    "skyscrapers.where('completed', are.above(2014))"
   ]
  },
  {
   "cell_type": "code",
   "execution_count": 4,
   "metadata": {},
   "outputs": [
    {
     "data": {
      "text/html": [
       "<table border=\"1\" class=\"dataframe\">\n",
       "    <thead>\n",
       "        <tr>\n",
       "            <th>name</th> <th>material</th> <th>city</th> <th>height</th> <th>completed</th>\n",
       "        </tr>\n",
       "    </thead>\n",
       "    <tbody>\n",
       "        <tr>\n",
       "            <td>Willis Tower                     </td> <td>steel    </td> <td>Chicago      </td> <td>442.14</td> <td>1974     </td>\n",
       "        </tr>\n",
       "        <tr>\n",
       "            <td>Trump International Hotel & Tower</td> <td>concrete </td> <td>Chicago      </td> <td>423.22</td> <td>2009     </td>\n",
       "        </tr>\n",
       "        <tr>\n",
       "            <td>Bank of America Tower            </td> <td>composite</td> <td>New York City</td> <td>365.8 </td> <td>2009     </td>\n",
       "        </tr>\n",
       "        <tr>\n",
       "            <td>Stratosphere Tower               </td> <td>concrete </td> <td>Las Vegas    </td> <td>350.22</td> <td>1996     </td>\n",
       "        </tr>\n",
       "        <tr>\n",
       "            <td>WITI TV Tower                    </td> <td>steel    </td> <td>Shorewood    </td> <td>329   </td> <td>1962     </td>\n",
       "        </tr>\n",
       "        <tr>\n",
       "            <td>New York Times Tower             </td> <td>steel    </td> <td>New York City</td> <td>318.77</td> <td>2007     </td>\n",
       "        </tr>\n",
       "        <tr>\n",
       "            <td>U.S. Bank Tower                  </td> <td>steel    </td> <td>Los Angeles  </td> <td>310.29</td> <td>1990     </td>\n",
       "        </tr>\n",
       "        <tr>\n",
       "            <td>The Franklin - North Tower       </td> <td>composite</td> <td>Chicago      </td> <td>306.94</td> <td>1989     </td>\n",
       "        </tr>\n",
       "        <tr>\n",
       "            <td>JPMorgan Chase Tower             </td> <td>composite</td> <td>Houston      </td> <td>305.41</td> <td>1982     </td>\n",
       "        </tr>\n",
       "        <tr>\n",
       "            <td>Key Tower                        </td> <td>composite</td> <td>Cleveland    </td> <td>288.65</td> <td>1991     </td>\n",
       "        </tr>\n",
       "    </tbody>\n",
       "</table>\n",
       "<p>... (48 rows omitted)</p>"
      ],
      "text/plain": [
       "name                              | material  | city          | height | completed\n",
       "Willis Tower                      | steel     | Chicago       | 442.14 | 1974\n",
       "Trump International Hotel & Tower | concrete  | Chicago       | 423.22 | 2009\n",
       "Bank of America Tower             | composite | New York City | 365.8  | 2009\n",
       "Stratosphere Tower                | concrete  | Las Vegas     | 350.22 | 1996\n",
       "WITI TV Tower                     | steel     | Shorewood     | 329    | 1962\n",
       "New York Times Tower              | steel     | New York City | 318.77 | 2007\n",
       "U.S. Bank Tower                   | steel     | Los Angeles   | 310.29 | 1990\n",
       "The Franklin - North Tower        | composite | Chicago       | 306.94 | 1989\n",
       "JPMorgan Chase Tower              | composite | Houston       | 305.41 | 1982\n",
       "Key Tower                         | composite | Cleveland     | 288.65 | 1991\n",
       "... (48 rows omitted)"
      ]
     },
     "execution_count": 4,
     "metadata": {},
     "output_type": "execute_result"
    }
   ],
   "source": [
    "skyscrapers.where('name', are.containing('Tower'))"
   ]
  },
  {
   "cell_type": "code",
   "execution_count": 6,
   "metadata": {},
   "outputs": [
    {
     "data": {
      "text/html": [
       "<table border=\"1\" class=\"dataframe\">\n",
       "    <thead>\n",
       "        <tr>\n",
       "            <th>name</th> <th>material</th> <th>city</th> <th>height</th> <th>completed</th>\n",
       "        </tr>\n",
       "    </thead>\n",
       "    <tbody>\n",
       "        <tr>\n",
       "            <td>Willis Tower                     </td> <td>steel    </td> <td>Chicago</td> <td>442.14</td> <td>1974     </td>\n",
       "        </tr>\n",
       "        <tr>\n",
       "            <td>Trump International Hotel & Tower</td> <td>concrete </td> <td>Chicago</td> <td>423.22</td> <td>2009     </td>\n",
       "        </tr>\n",
       "        <tr>\n",
       "            <td>Aon Center                       </td> <td>steel    </td> <td>Chicago</td> <td>346.26</td> <td>1973     </td>\n",
       "        </tr>\n",
       "        <tr>\n",
       "            <td>John Hancock Center              </td> <td>steel    </td> <td>Chicago</td> <td>343.69</td> <td>1969     </td>\n",
       "        </tr>\n",
       "        <tr>\n",
       "            <td>The Franklin - North Tower       </td> <td>composite</td> <td>Chicago</td> <td>306.94</td> <td>1989     </td>\n",
       "        </tr>\n",
       "        <tr>\n",
       "            <td>JPMorgan Chase Tower             </td> <td>composite</td> <td>Houston</td> <td>305.41</td> <td>1982     </td>\n",
       "        </tr>\n",
       "        <tr>\n",
       "            <td>Two Prudential Plaza             </td> <td>concrete </td> <td>Chicago</td> <td>303.28</td> <td>1990     </td>\n",
       "        </tr>\n",
       "        <tr>\n",
       "            <td>Wells Fargo Plaza                </td> <td>steel    </td> <td>Houston</td> <td>302.37</td> <td>1983     </td>\n",
       "        </tr>\n",
       "        <tr>\n",
       "            <td>311 South Wacker Drive           </td> <td>concrete </td> <td>Chicago</td> <td>292.92</td> <td>1990     </td>\n",
       "        </tr>\n",
       "        <tr>\n",
       "            <td>Williams Tower                   </td> <td>steel    </td> <td>Houston</td> <td>274.63</td> <td>1982     </td>\n",
       "        </tr>\n",
       "    </tbody>\n",
       "</table>\n",
       "<p>... (40 rows omitted)</p>"
      ],
      "text/plain": [
       "name                              | material  | city    | height | completed\n",
       "Willis Tower                      | steel     | Chicago | 442.14 | 1974\n",
       "Trump International Hotel & Tower | concrete  | Chicago | 423.22 | 2009\n",
       "Aon Center                        | steel     | Chicago | 346.26 | 1973\n",
       "John Hancock Center               | steel     | Chicago | 343.69 | 1969\n",
       "The Franklin - North Tower        | composite | Chicago | 306.94 | 1989\n",
       "JPMorgan Chase Tower              | composite | Houston | 305.41 | 1982\n",
       "Two Prudential Plaza              | concrete  | Chicago | 303.28 | 1990\n",
       "Wells Fargo Plaza                 | steel     | Houston | 302.37 | 1983\n",
       "311 South Wacker Drive            | concrete  | Chicago | 292.92 | 1990\n",
       "Williams Tower                    | steel     | Houston | 274.63 | 1982\n",
       "... (40 rows omitted)"
      ]
     },
     "execution_count": 6,
     "metadata": {},
     "output_type": "execute_result"
    }
   ],
   "source": [
    "skyscrapers.where('city', are.contained_in(('Houston', 'Chicago')))"
   ]
  },
  {
   "cell_type": "markdown",
   "metadata": {
    "jp-MarkdownHeadingCollapsed": true,
    "tags": []
   },
   "source": [
    "## Visualizations\n",
    "1. read the csv `data/movies_by_year.csv`\n",
    "1. Plot the number of movies over time using `plot()`\n",
    "1. Plot the number of movies vs the total gross using `scatter()`\n",
    "    - add a trendline\n",
    "    - try adding year as label"
   ]
  },
  {
   "cell_type": "code",
   "execution_count": 9,
   "metadata": {
    "tags": []
   },
   "outputs": [
    {
     "data": {
      "text/html": [
       "<table border=\"1\" class=\"dataframe\">\n",
       "    <thead>\n",
       "        <tr>\n",
       "            <th>Year</th> <th>Total Gross</th> <th>Number of Movies</th> <th>#1 Movie</th>\n",
       "        </tr>\n",
       "    </thead>\n",
       "    <tbody>\n",
       "        <tr>\n",
       "            <td>2022</td> <td>7373451042 </td> <td>449             </td> <td>Top Gun: Maverick                         </td>\n",
       "        </tr>\n",
       "        <tr>\n",
       "            <td>2021</td> <td>4861041470 </td> <td>406             </td> <td>Spider-Man: No Way Home                   </td>\n",
       "        </tr>\n",
       "        <tr>\n",
       "            <td>2020</td> <td>1426005959 </td> <td>334             </td> <td>Bad Boys for Life                         </td>\n",
       "        </tr>\n",
       "        <tr>\n",
       "            <td>2019</td> <td>11443939610</td> <td>792             </td> <td>Avengers: Endgame                         </td>\n",
       "        </tr>\n",
       "        <tr>\n",
       "            <td>2018</td> <td>11610362001</td> <td>872             </td> <td>Black Panther                             </td>\n",
       "        </tr>\n",
       "        <tr>\n",
       "            <td>2017</td> <td>11127252460</td> <td>742             </td> <td>Star Wars: Episode VIII - The Last Jedi   </td>\n",
       "        </tr>\n",
       "        <tr>\n",
       "            <td>2016</td> <td>11373700570</td> <td>737             </td> <td>Rogue One: A Star Wars Story              </td>\n",
       "        </tr>\n",
       "        <tr>\n",
       "            <td>2015</td> <td>11098999414</td> <td>707             </td> <td>Star Wars: Episode VII - The Force Awakens</td>\n",
       "        </tr>\n",
       "        <tr>\n",
       "            <td>2014</td> <td>10436810102</td> <td>708             </td> <td>American Sniper                           </td>\n",
       "        </tr>\n",
       "        <tr>\n",
       "            <td>2013</td> <td>10955270663</td> <td>686             </td> <td>The Hunger Games: Catching Fire           </td>\n",
       "        </tr>\n",
       "    </tbody>\n",
       "</table>\n",
       "<p>... (36 rows omitted)</p>"
      ],
      "text/plain": [
       "Year | Total Gross | Number of Movies | #1 Movie\n",
       "2022 | 7373451042  | 449              | Top Gun: Maverick\n",
       "2021 | 4861041470  | 406              | Spider-Man: No Way Home\n",
       "2020 | 1426005959  | 334              | Bad Boys for Life\n",
       "2019 | 11443939610 | 792              | Avengers: Endgame\n",
       "2018 | 11610362001 | 872              | Black Panther\n",
       "2017 | 11127252460 | 742              | Star Wars: Episode VIII - The Last Jedi\n",
       "2016 | 11373700570 | 737              | Rogue One: A Star Wars Story\n",
       "2015 | 11098999414 | 707              | Star Wars: Episode VII - The Force Awakens\n",
       "2014 | 10436810102 | 708              | American Sniper\n",
       "2013 | 10955270663 | 686              | The Hunger Games: Catching Fire\n",
       "... (36 rows omitted)"
      ]
     },
     "execution_count": 9,
     "metadata": {},
     "output_type": "execute_result"
    }
   ],
   "source": [
    "movies = Table().read_table('data/movies_by_year.csv')\n",
    "movies"
   ]
  },
  {
   "cell_type": "code",
   "execution_count": 13,
   "metadata": {},
   "outputs": [
    {
     "data": {
      "text/plain": [
       "\u001b[0;31mSignature:\u001b[0m\n",
       "\u001b[0mmovies\u001b[0m\u001b[0;34m.\u001b[0m\u001b[0mscatter\u001b[0m\u001b[0;34m(\u001b[0m\u001b[0;34m\u001b[0m\n",
       "\u001b[0;34m\u001b[0m    \u001b[0mcolumn_for_x\u001b[0m\u001b[0;34m,\u001b[0m\u001b[0;34m\u001b[0m\n",
       "\u001b[0;34m\u001b[0m    \u001b[0mselect\u001b[0m\u001b[0;34m=\u001b[0m\u001b[0;32mNone\u001b[0m\u001b[0;34m,\u001b[0m\u001b[0;34m\u001b[0m\n",
       "\u001b[0;34m\u001b[0m    \u001b[0moverlay\u001b[0m\u001b[0;34m=\u001b[0m\u001b[0;32mTrue\u001b[0m\u001b[0;34m,\u001b[0m\u001b[0;34m\u001b[0m\n",
       "\u001b[0;34m\u001b[0m    \u001b[0mfit_line\u001b[0m\u001b[0;34m=\u001b[0m\u001b[0;32mFalse\u001b[0m\u001b[0;34m,\u001b[0m\u001b[0;34m\u001b[0m\n",
       "\u001b[0;34m\u001b[0m    \u001b[0mgroup\u001b[0m\u001b[0;34m=\u001b[0m\u001b[0;32mNone\u001b[0m\u001b[0;34m,\u001b[0m\u001b[0;34m\u001b[0m\n",
       "\u001b[0;34m\u001b[0m    \u001b[0mlabels\u001b[0m\u001b[0;34m=\u001b[0m\u001b[0;32mNone\u001b[0m\u001b[0;34m,\u001b[0m\u001b[0;34m\u001b[0m\n",
       "\u001b[0;34m\u001b[0m    \u001b[0msizes\u001b[0m\u001b[0;34m=\u001b[0m\u001b[0;32mNone\u001b[0m\u001b[0;34m,\u001b[0m\u001b[0;34m\u001b[0m\n",
       "\u001b[0;34m\u001b[0m    \u001b[0mwidth\u001b[0m\u001b[0;34m=\u001b[0m\u001b[0;32mNone\u001b[0m\u001b[0;34m,\u001b[0m\u001b[0;34m\u001b[0m\n",
       "\u001b[0;34m\u001b[0m    \u001b[0mheight\u001b[0m\u001b[0;34m=\u001b[0m\u001b[0;32mNone\u001b[0m\u001b[0;34m,\u001b[0m\u001b[0;34m\u001b[0m\n",
       "\u001b[0;34m\u001b[0m    \u001b[0ms\u001b[0m\u001b[0;34m=\u001b[0m\u001b[0;36m20\u001b[0m\u001b[0;34m,\u001b[0m\u001b[0;34m\u001b[0m\n",
       "\u001b[0;34m\u001b[0m    \u001b[0;34m**\u001b[0m\u001b[0mvargs\u001b[0m\u001b[0;34m,\u001b[0m\u001b[0;34m\u001b[0m\n",
       "\u001b[0;34m\u001b[0m\u001b[0;34m)\u001b[0m\u001b[0;34m\u001b[0m\u001b[0;34m\u001b[0m\u001b[0m\n",
       "\u001b[0;31mDocstring:\u001b[0m\n",
       "Creates scatterplots, optionally adding a line of best fit. Redirects to ``Table#iscatter``\n",
       "if interactive plots are enabled with ``Table#interactive_plots``\n",
       "\n",
       "args:\n",
       "    ``column_for_x`` (``str``): the column to use for the x-axis values\n",
       "        and label of the scatter plots.\n",
       "\n",
       "kwargs:\n",
       "    ``overlay`` (``bool``): if true, creates a chart with one color\n",
       "        per data column; if false, each plot will be displayed separately.\n",
       "\n",
       "    ``fit_line`` (``bool``): draw a line of best fit for each set of points.\n",
       "\n",
       "    ``vargs``: additional arguments that get passed into `plt.scatter`.\n",
       "        see http://matplotlib.org/api/pyplot_api.html#matplotlib.pyplot.scatter\n",
       "        for additional arguments that can be passed into vargs. these\n",
       "        include: `marker` and `norm`, to name a couple.\n",
       "\n",
       "    ``group``: a column of categories to be used for coloring dots per\n",
       "        each category grouping.\n",
       "\n",
       "    ``labels``: a column of text labels to annotate dots.\n",
       "\n",
       "    ``sizes``:  a column of values to set the relative areas of dots.\n",
       "\n",
       "    ``s``: size of dots. if sizes is also provided, then dots will be\n",
       "        in the range 0 to 2 * s.\n",
       "\n",
       "    ``colors``: (deprecated) A synonym for ``group``. Retained\n",
       "        temporarily for backwards compatibility. This argument\n",
       "        will be removed in future releases.\n",
       "\n",
       "    ``show`` (``bool``): whether to show the figure if using interactive plots; if false, \n",
       "        the figure is returned instead\n",
       "\n",
       "Raises:\n",
       "    ValueError -- Every column, ``column_for_x`` or ``select``, must be numerical\n",
       "\n",
       "Returns:\n",
       "    Scatter plot of values of ``column_for_x`` plotted against\n",
       "    values for all other columns in self. Each plot uses the values in\n",
       "    `column_for_x` for horizontal positions. One plot is produced for\n",
       "    all other columns in self as y (or for the columns designated by\n",
       "    `select`).\n",
       "\n",
       "\n",
       ">>> table = Table().with_columns(\n",
       "...     'x', make_array(9, 3, 3, 1),\n",
       "...     'y', make_array(1, 2, 2, 10),\n",
       "...     'z', make_array(3, 4, 5, 6))\n",
       ">>> table\n",
       "x    | y    | z\n",
       "9    | 1    | 3\n",
       "3    | 2    | 4\n",
       "3    | 2    | 5\n",
       "1    | 10   | 6\n",
       ">>> table.scatter('x') # doctest: +SKIP\n",
       "<scatterplot of values in y and z on x>\n",
       "\n",
       ">>> table.scatter('x', overlay=False) # doctest: +SKIP\n",
       "<scatterplot of values in y on x>\n",
       "<scatterplot of values in z on x>\n",
       "\n",
       ">>> table.scatter('x', fit_line=True) # doctest: +SKIP\n",
       "<scatterplot of values in y and z on x with lines of best fit>\n",
       "\u001b[0;31mFile:\u001b[0m      ~/.local/lib/python3.11/site-packages/datascience/tables.py\n",
       "\u001b[0;31mType:\u001b[0m      method"
      ]
     },
     "metadata": {},
     "output_type": "display_data"
    }
   ],
   "source": [
    "movies.scatter?"
   ]
  },
  {
   "cell_type": "code",
   "execution_count": 16,
   "metadata": {},
   "outputs": [
    {
     "data": {
      "image/png": "[encoded data removed]",
      "text/plain": [
       "<Figure size 500x500 with 1 Axes>"
      ]
     },
     "metadata": {},
     "output_type": "display_data"
    }
   ],
   "source": [
    "movies.scatter('Number of Movies', 'Total Gross', fit_line=True)"
   ]
  },
  {
   "cell_type": "code",
   "execution_count": 10,
   "metadata": {},
   "outputs": [
    {
     "data": {
      "image/png": "[encoded data removed]",
      "text/plain": [
       "<Figure size 600x600 with 1 Axes>"
      ]
     },
     "metadata": {},
     "output_type": "display_data"
    }
   ],
   "source": [
    "movies.plot('Year', 'Number of Movies')"
   ]
  },
  {
   "cell_type": "markdown",
   "metadata": {
    "tags": []
   },
   "source": [
    "# Numbers \n",
    "Python has two number types \n",
    "- int: an integer of any size\n",
    "- float: a number with an optional fractional part\n",
    "\n",
    "An **int** never has a decimal point; a **float** always does. A float might be printed using scientific notation.\n",
    "\n",
    "Three limitations of float values:\n",
    "- They have limited size (but the limit is huge)\n",
    "- They have limited precision of 15-16 decimal places\n",
    "- After arithmetic, the final few decimal places can be wrong\n",
    "\n",
    "## Basics: ints vs floats\n",
    "- multiplication of two ints -> int\n",
    "- division of two ints -> float\n",
    "- raise integer by integer -> int\n",
    "- raise by float -> float\n",
    "- inspect data type using `type()` function"
   ]
  },
  {
   "cell_type": "code",
   "execution_count": 27,
   "metadata": {},
   "outputs": [
    {
     "data": {
      "text/plain": [
       "2.0"
      ]
     },
     "execution_count": 27,
     "metadata": {},
     "output_type": "execute_result"
    }
   ],
   "source": [
    "2 / 1"
   ]
  },
  {
   "cell_type": "code",
   "execution_count": 30,
   "metadata": {},
   "outputs": [],
   "source": [
    "a = 2**0.5"
   ]
  },
  {
   "cell_type": "code",
   "execution_count": 31,
   "metadata": {},
   "outputs": [
    {
     "data": {
      "text/plain": [
       "float"
      ]
     },
     "execution_count": 31,
     "metadata": {},
     "output_type": "execute_result"
    }
   ],
   "source": [
    "type(a)"
   ]
  },
  {
   "cell_type": "code",
   "execution_count": 33,
   "metadata": {},
   "outputs": [
    {
     "data": {
      "text/plain": [
       "float"
      ]
     },
     "execution_count": 33,
     "metadata": {},
     "output_type": "execute_result"
    }
   ],
   "source": [
    "type(1.0)"
   ]
  },
  {
   "cell_type": "code",
   "execution_count": 35,
   "metadata": {},
   "outputs": [
    {
     "data": {
      "text/plain": [
       "1"
      ]
     },
     "execution_count": 35,
     "metadata": {},
     "output_type": "execute_result"
    }
   ],
   "source": [
    "10%3"
   ]
  },
  {
   "cell_type": "markdown",
   "metadata": {
    "jp-MarkdownHeadingCollapsed": true
   },
   "source": [
    "## Why integers and float\n",
    "- ints (accurately) representing very large numbers. \n",
    "    - Try creating a very large number\n",
    "- floats have a limit in precision\n",
    "    - `10/3 != 3 1/3`\n",
    "    - try calculating difference between two precise numbers\n",
    "    - $(\\sqrt 13)^2 \\neq 13$"
   ]
  },
  {
   "cell_type": "code",
   "execution_count": 39,
   "metadata": {
    "tags": []
   },
   "outputs": [
    {
     "data": {
      "text/plain": [
       "1000000000000000000000000000000000000000000000000000000000000000000000000000000000000000000000000000000000000000000000000000000000000000000000000000000000000000000000000000000000000000000000000000000000000000000000000000000000000000000000000000000000000000000000000000000000000000000000000000000000000"
      ]
     },
     "execution_count": 39,
     "metadata": {},
     "output_type": "execute_result"
    }
   ],
   "source": [
    "10**300"
   ]
  },
  {
   "cell_type": "code",
   "execution_count": 40,
   "metadata": {},
   "outputs": [
    {
     "data": {
      "text/plain": [
       "3.3333333333333335"
      ]
     },
     "execution_count": 40,
     "metadata": {},
     "output_type": "execute_result"
    }
   ],
   "source": [
    "10/3"
   ]
  },
  {
   "cell_type": "code",
   "execution_count": 42,
   "metadata": {},
   "outputs": [
    {
     "data": {
      "text/plain": [
       "0.0"
      ]
     },
     "execution_count": 42,
     "metadata": {},
     "output_type": "execute_result"
    }
   ],
   "source": [
    "3425.1225434564675786897978908099 - 3425.1225434564675786"
   ]
  },
  {
   "cell_type": "code",
   "execution_count": 44,
   "metadata": {},
   "outputs": [
    {
     "data": {
      "text/plain": [
       "12.999999999999998"
      ]
     },
     "execution_count": 44,
     "metadata": {},
     "output_type": "execute_result"
    }
   ],
   "source": [
    "(13**0.5)**2"
   ]
  },
  {
   "cell_type": "markdown",
   "metadata": {},
   "source": [
    "## Converting (\"Casting\") between int and float\n",
    "- careful with decimals/rounding"
   ]
  },
  {
   "cell_type": "code",
   "execution_count": 45,
   "metadata": {},
   "outputs": [
    {
     "data": {
      "text/plain": [
       "24.0"
      ]
     },
     "execution_count": 45,
     "metadata": {},
     "output_type": "execute_result"
    }
   ],
   "source": [
    "24 / 1"
   ]
  },
  {
   "cell_type": "code",
   "execution_count": 46,
   "metadata": {},
   "outputs": [
    {
     "data": {
      "text/plain": [
       "24.0"
      ]
     },
     "execution_count": 46,
     "metadata": {},
     "output_type": "execute_result"
    }
   ],
   "source": [
    "float(24)"
   ]
  },
  {
   "cell_type": "code",
   "execution_count": 48,
   "metadata": {},
   "outputs": [
    {
     "data": {
      "text/plain": [
       "1"
      ]
     },
     "execution_count": 48,
     "metadata": {},
     "output_type": "execute_result"
    }
   ],
   "source": [
    "int(1.0)"
   ]
  },
  {
   "cell_type": "code",
   "execution_count": 49,
   "metadata": {},
   "outputs": [
    {
     "data": {
      "text/plain": [
       "1"
      ]
     },
     "execution_count": 49,
     "metadata": {},
     "output_type": "execute_result"
    }
   ],
   "source": [
    "int(1.5)"
   ]
  },
  {
   "cell_type": "code",
   "execution_count": 50,
   "metadata": {},
   "outputs": [
    {
     "data": {
      "text/plain": [
       "1"
      ]
     },
     "execution_count": 50,
     "metadata": {},
     "output_type": "execute_result"
    }
   ],
   "source": [
    "int(1.9)"
   ]
  },
  {
   "cell_type": "markdown",
   "metadata": {
    "tags": []
   },
   "source": [
    "## Scientific notation\n",
    "- divide by large number\n",
    "- write scientific notation\n",
    "- underscores for thousand separators"
   ]
  },
  {
   "cell_type": "code",
   "execution_count": 52,
   "metadata": {},
   "outputs": [
    {
     "data": {
      "text/plain": [
       "1e-14"
      ]
     },
     "execution_count": 52,
     "metadata": {},
     "output_type": "execute_result"
    }
   ],
   "source": [
    "1 / 100000000000000"
   ]
  },
  {
   "cell_type": "code",
   "execution_count": 56,
   "metadata": {},
   "outputs": [
    {
     "data": {
      "text/plain": [
       "1000000.0"
      ]
     },
     "execution_count": 56,
     "metadata": {},
     "output_type": "execute_result"
    }
   ],
   "source": [
    "1_000_000.0"
   ]
  },
  {
   "cell_type": "markdown",
   "metadata": {},
   "source": [
    "# Text / Strings\n",
    "A string value is a snippet of text of any length\n",
    "- `'a'`\n",
    "- `'word'`\n",
    "- `\"there can be 2 sentences. Here's the second!\"`\n",
    "\n",
    "Strings consisting of numbers can be converted to numbers\n",
    "- `int('12')`\n",
    "- `float('1.2')`\n",
    "\n",
    "Any value can be converted to a string\n",
    "- `str(5)`\n",
    "\n",
    " **Question:** What does the following evaluate to:\n",
    "\n",
    "```python\n",
    "'1' + '2'\n",
    "```\n",
    "\n",
    "## Basics\n",
    "- single quotes vs double quotes \n",
    "    - escaping\n",
    "    - apostrophe\n",
    "- add/concatenate string.\n",
    "- multiply by int/float\n",
    "- add string and number\n",
    "- convert from string to number\n",
    "- string formatting"
   ]
  },
  {
   "cell_type": "code",
   "execution_count": 61,
   "metadata": {},
   "outputs": [
    {
     "data": {
      "text/plain": [
       "'simon says: \"hey\"'"
      ]
     },
     "execution_count": 61,
     "metadata": {},
     "output_type": "execute_result"
    }
   ],
   "source": [
    "'simon says: \"hey\"'"
   ]
  },
  {
   "cell_type": "code",
   "execution_count": 63,
   "metadata": {},
   "outputs": [
    {
     "data": {
      "text/plain": [
       "'abcd'"
      ]
     },
     "execution_count": 63,
     "metadata": {},
     "output_type": "execute_result"
    }
   ],
   "source": [
    "'abc' + 'd'"
   ]
  },
  {
   "cell_type": "code",
   "execution_count": 64,
   "metadata": {},
   "outputs": [
    {
     "data": {
      "text/plain": [
       "'hahaha'"
      ]
     },
     "execution_count": 64,
     "metadata": {},
     "output_type": "execute_result"
    }
   ],
   "source": [
    "'ha' * 3"
   ]
  },
  {
   "cell_type": "code",
   "execution_count": 65,
   "metadata": {},
   "outputs": [
    {
     "ename": "TypeError",
     "evalue": "can only concatenate str (not \"int\") to str",
     "output_type": "error",
     "traceback": [
      "\u001b[0;31m---------------------------------------------------------------------------\u001b[0m",
      "\u001b[0;31mTypeError\u001b[0m                                 Traceback (most recent call last)",
      "Cell \u001b[0;32mIn[65], line 1\u001b[0m\n\u001b[0;32m----> 1\u001b[0m \u001b[38;5;124;43m'\u001b[39;49m\u001b[38;5;124;43ma\u001b[39;49m\u001b[38;5;124;43m'\u001b[39;49m\u001b[43m \u001b[49m\u001b[38;5;241;43m+\u001b[39;49m\u001b[43m \u001b[49m\u001b[38;5;241;43m1\u001b[39;49m\n",
      "\u001b[0;31mTypeError\u001b[0m: can only concatenate str (not \"int\") to str"
     ]
    }
   ],
   "source": [
    "'a' + 1"
   ]
  },
  {
   "cell_type": "code",
   "execution_count": 69,
   "metadata": {},
   "outputs": [
    {
     "data": {
      "text/plain": [
       "6"
      ]
     },
     "execution_count": 69,
     "metadata": {},
     "output_type": "execute_result"
    }
   ],
   "source": [
    "int('2') * 3"
   ]
  },
  {
   "cell_type": "code",
   "execution_count": 70,
   "metadata": {},
   "outputs": [
    {
     "data": {
      "text/plain": [
       "'12'"
      ]
     },
     "execution_count": 70,
     "metadata": {},
     "output_type": "execute_result"
    }
   ],
   "source": [
    "'1' + '2'"
   ]
  },
  {
   "cell_type": "code",
   "execution_count": 73,
   "metadata": {},
   "outputs": [
    {
     "data": {
      "text/plain": [
       "'this class has 7 TAs'"
      ]
     },
     "execution_count": 73,
     "metadata": {},
     "output_type": "execute_result"
    }
   ],
   "source": [
    "n_tas = 7\n",
    "'this class has ' + str(n_tas) + ' TAs'"
   ]
  },
  {
   "cell_type": "markdown",
   "metadata": {
    "tags": []
   },
   "source": [
    "## Discussion question:\n",
    "Assume you have run the following statements:\n",
    "```python\n",
    "x = 3\n",
    "y = '4'\n",
    "z = '5.6'\n",
    "```\n",
    "\n",
    "What's the source of the error in each example?\n",
    "1. `x + y`\n",
    "1. `x + int(y + z)`\n",
    "1. `str(x) + int(y)`\n",
    "1. `y + float(z)`\n"
   ]
  },
  {
   "cell_type": "code",
   "execution_count": 75,
   "metadata": {},
   "outputs": [],
   "source": [
    "x = 3\n",
    "y = '4'\n",
    "z = '5.6'"
   ]
  },
  {
   "cell_type": "code",
   "execution_count": 76,
   "metadata": {},
   "outputs": [
    {
     "ename": "TypeError",
     "evalue": "unsupported operand type(s) for +: 'int' and 'str'",
     "output_type": "error",
     "traceback": [
      "\u001b[0;31m---------------------------------------------------------------------------\u001b[0m",
      "\u001b[0;31mTypeError\u001b[0m                                 Traceback (most recent call last)",
      "Cell \u001b[0;32mIn[76], line 1\u001b[0m\n\u001b[0;32m----> 1\u001b[0m \u001b[43mx\u001b[49m\u001b[43m \u001b[49m\u001b[38;5;241;43m+\u001b[39;49m\u001b[43m \u001b[49m\u001b[43my\u001b[49m\n",
      "\u001b[0;31mTypeError\u001b[0m: unsupported operand type(s) for +: 'int' and 'str'"
     ]
    }
   ],
   "source": [
    "x + y"
   ]
  },
  {
   "cell_type": "code",
   "execution_count": 80,
   "metadata": {},
   "outputs": [
    {
     "data": {
      "text/plain": [
       "48.6"
      ]
     },
     "execution_count": 80,
     "metadata": {},
     "output_type": "execute_result"
    }
   ],
   "source": [
    "x + float(y + z)"
   ]
  },
  {
   "cell_type": "code",
   "execution_count": null,
   "metadata": {},
   "outputs": [],
   "source": [
    "x + int(y + z)"
   ]
  },
  {
   "cell_type": "code",
   "execution_count": 82,
   "metadata": {},
   "outputs": [
    {
     "data": {
      "text/plain": [
       "4"
      ]
     },
     "execution_count": 82,
     "metadata": {},
     "output_type": "execute_result"
    }
   ],
   "source": [
    "int(y)"
   ]
  },
  {
   "cell_type": "code",
   "execution_count": 81,
   "metadata": {},
   "outputs": [
    {
     "data": {
      "text/plain": [
       "'3'"
      ]
     },
     "execution_count": 81,
     "metadata": {},
     "output_type": "execute_result"
    }
   ],
   "source": [
    "str(x)  "
   ]
  },
  {
   "cell_type": "markdown",
   "metadata": {
    "tags": []
   },
   "source": [
    "# Boolean\n",
    "- inequalities\n",
    "- logic (and / or)\n",
    "- cast bool to int\n",
    "- sum/add bools"
   ]
  },
  {
   "cell_type": "code",
   "execution_count": 84,
   "metadata": {
    "tags": []
   },
   "outputs": [
    {
     "data": {
      "text/plain": [
       "False"
      ]
     },
     "execution_count": 84,
     "metadata": {},
     "output_type": "execute_result"
    }
   ],
   "source": [
    "2 < 1"
   ]
  },
  {
   "cell_type": "code",
   "execution_count": 85,
   "metadata": {},
   "outputs": [
    {
     "data": {
      "text/plain": [
       "True"
      ]
     },
     "execution_count": 85,
     "metadata": {},
     "output_type": "execute_result"
    }
   ],
   "source": [
    "True and True"
   ]
  },
  {
   "cell_type": "code",
   "execution_count": 86,
   "metadata": {},
   "outputs": [
    {
     "data": {
      "text/plain": [
       "False"
      ]
     },
     "execution_count": 86,
     "metadata": {},
     "output_type": "execute_result"
    }
   ],
   "source": [
    "True and False"
   ]
  },
  {
   "cell_type": "code",
   "execution_count": 87,
   "metadata": {},
   "outputs": [
    {
     "data": {
      "text/plain": [
       "True"
      ]
     },
     "execution_count": 87,
     "metadata": {},
     "output_type": "execute_result"
    }
   ],
   "source": [
    "True or True"
   ]
  },
  {
   "cell_type": "markdown",
   "metadata": {
    "jp-MarkdownHeadingCollapsed": true
   },
   "source": [
    "# Types\n",
    "We’ve seen 6 types so far:\n",
    "- `int: 2`\n",
    "- `float: 2.2`\n",
    "- `str: 'Red fish, blue fish'`\n",
    "- `builtin_function_or_method: abs`\n",
    "- `Table`\n",
    "- `boolean`\n",
    "\n",
    "\n",
    "The `type` function can tell you the type of a value\n",
    "- `type(2)`\n",
    "- `type(2 + 2)`\n",
    "\n",
    "An expression’s “type” is based on its value, not how it looks\n",
    "\n",
    "- `x = 2`\n",
    "- `type(x)`"
   ]
  },
  {
   "cell_type": "code",
   "execution_count": null,
   "metadata": {
    "tags": []
   },
   "outputs": [],
   "source": []
  },
  {
   "cell_type": "markdown",
   "metadata": {
    "jp-MarkdownHeadingCollapsed": true
   },
   "source": [
    "## Arrays \n",
    "An array contains a sequence of values\n",
    "- All elements of an array should have the same type\n",
    "- Arithmetic is applied to each element individually\n",
    "- Adding arrays adds elements (**if same length!**)\n",
    "- A column of a table is an array\n",
    "\n",
    "## Let's:\n",
    "- Create an array using `make_array()`\n",
    "- multiply/raise/add/divide array with/by constant\n",
    "- sum up all elements in array using `sum()`\n",
    "- calculate the average value\n",
    "- create a new array \n",
    "- add two arrays\n",
    "    - check the size of array using `len()`\n",
    "- make an array of strings\n",
    "- use numpy functions on arrays\n",
    "    - `np.average()` / `np.mean`\n",
    "    - `np.median()`"
   ]
  },
  {
   "cell_type": "code",
   "execution_count": null,
   "metadata": {},
   "outputs": [],
   "source": []
  },
  {
   "cell_type": "markdown",
   "metadata": {
    "jp-MarkdownHeadingCollapsed": true
   },
   "source": [
    "## Columns of Tabldtypeare Arrays \n",
    "- select the height coumn of the skyscrapers using\n",
    "    - `select`\n",
    "    - `column`\n",
    "- calculate the average height of the skyscrapers in SF vs LA\n",
    "- What units are the heights in?"
   ]
  },
  {
   "cell_type": "code",
   "execution_count": null,
   "metadata": {},
   "outputs": [],
   "source": []
  }
 ],
 "metadata": {
  "anaconda-cloud": {},
  "kernelspec": {
   "display_name": "Python 3 (ipykernel)",
   "language": "python",
   "name": "python3"
  },
  "language_info": {
   "codemirror_mode": {
    "name": "ipython",
    "version": 3
   },
   "file_extension": ".py",
   "mimetype": "text/x-python",
   "name": "python",
   "nbconvert_exporter": "python",
   "pygments_lexer": "ipython3",
   "version": "3.11.5"
  },
  "toc": {
   "base_numbering": 1,
   "nav_menu": {},
   "number_sections": true,
   "sideBar": true,
   "skip_h1_title": false,
   "title_cell": "Table of Contents",
   "title_sidebar": "Contents",
   "toc_cell": false,
   "toc_position": {},
   "toc_section_display": true,
   "toc_window_display": false
  }
 },
 "nbformat": 4,
 "nbformat_minor": 4
}
