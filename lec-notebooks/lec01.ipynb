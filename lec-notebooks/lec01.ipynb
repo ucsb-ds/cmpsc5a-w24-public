{
 "cells": [
  {
   "cell_type": "code",
   "execution_count": 1,
   "id": "d6eba674-c4eb-4adc-a242-3e0f557f20bd",
   "metadata": {
    "tags": []
   },
   "outputs": [],
   "source": [
    "from datascience import *\n",
    "import numpy as np\n",
    "\n",
    "%matplotlib inline\n",
    "import matplotlib.pyplot as plots\n",
    "plots.style.use('fivethirtyeight')"
   ]
  },
  {
   "cell_type": "markdown",
   "id": "68566a37-fe56-4d1c-beda-b00a7114132d",
   "metadata": {},
   "source": [
    "# Markdown\n",
    "- Chapters, sections\n",
    "- bold, italic\n",
    "- Create bullet list\n",
    "- Create a numbered list\n",
    "- Create a table\n",
    "\n",
    "|column 1 | column2|\n",
    "|--|--|\n",
    "| a| b|"
   ]
  },
  {
   "cell_type": "markdown",
   "id": "b0126bb6-5eb8-4c9e-8213-99cf13905570",
   "metadata": {},
   "source": [
    "# Python\n",
    "\n",
    "let's do some basic math operation: add, divide, multiply, raise"
   ]
  },
  {
   "cell_type": "code",
   "execution_count": null,
   "id": "cbb1929f-5a08-438a-9a77-a76aa9e3dfd1",
   "metadata": {},
   "outputs": [],
   "source": []
  },
  {
   "cell_type": "markdown",
   "id": "1df6584d-33c5-4fbd-9514-3bb45a8d1d32",
   "metadata": {},
   "source": [
    "# Names/Variables\n",
    "- let's assign some values variables/names\n",
    "- let's use the variables\n",
    "- let's overwrite variables"
   ]
  },
  {
   "cell_type": "code",
   "execution_count": null,
   "id": "83959c5c-ae5b-4206-b76b-b8f8691b8a09",
   "metadata": {},
   "outputs": [],
   "source": []
  },
  {
   "cell_type": "markdown",
   "id": "e88ea74c-7af5-42fd-b90c-a11dc373773e",
   "metadata": {},
   "source": [
    "## Why names?\n",
    "Calculate the annual salary for a person working full-time under California minimum wage of 15 USD/hour. "
   ]
  },
  {
   "cell_type": "code",
   "execution_count": null,
   "id": "e824ef11-de79-4ada-a55b-d1f940c018fb",
   "metadata": {},
   "outputs": [],
   "source": []
  },
  {
   "cell_type": "markdown",
   "id": "09eb346a-f238-4fab-afbc-d0ff29650a03",
   "metadata": {},
   "source": [
    "On 2023-01-01, the minimum wage was raised to 15.50 USD/hour. Recalculate the minimum wage."
   ]
  },
  {
   "cell_type": "markdown",
   "id": "2c9e3aa7-2d5b-44ee-b795-6a6b86832b2d",
   "metadata": {
    "tags": []
   },
   "source": [
    "## Strings\n",
    "let's create some strings"
   ]
  },
  {
   "cell_type": "code",
   "execution_count": null,
   "id": "29d1b938-088e-4890-a875-4f1fa6c9e80a",
   "metadata": {},
   "outputs": [],
   "source": []
  },
  {
   "cell_type": "markdown",
   "id": "a1bbc7ec-ca1e-4077-b59b-4f1d75474a9c",
   "metadata": {},
   "source": [
    "# Functions\n",
    "- let's use some built-in functions. E.g:\n",
    "    - absolute value\n",
    "    - round\n",
    "    - the lower of two values\n",
    "- lets use the `help()` function to learn about the usage of functions\n",
    "- let's define our own function"
   ]
  },
  {
   "cell_type": "code",
   "execution_count": null,
   "id": "9ca9d279-bfc0-4669-b290-2ff5535126d3",
   "metadata": {},
   "outputs": [],
   "source": []
  },
  {
   "cell_type": "markdown",
   "id": "39c883d7-9dea-4a29-bf85-90f925f2e57c",
   "metadata": {
    "tags": []
   },
   "source": [
    "# Collections/Lists\n",
    "Lets define collections of values"
   ]
  },
  {
   "cell_type": "code",
   "execution_count": null,
   "id": "13db652a-678c-46eb-a45b-2ad5771af04f",
   "metadata": {},
   "outputs": [],
   "source": []
  },
  {
   "cell_type": "markdown",
   "id": "c059d6a6-f73a-4c5a-b8e8-27438423c4b4",
   "metadata": {
    "tags": []
   },
   "source": [
    "# Tables\n",
    "usage: \n",
    "```python\n",
    "Table().with_columns([column1_name, column1_values,\n",
    "                      column2_name, column2_values,\n",
    "                      ...])\n",
    "```                      "
   ]
  },
  {
   "cell_type": "code",
   "execution_count": null,
   "id": "b9f2d7e9-a997-4412-8aa1-1f42c2774433",
   "metadata": {},
   "outputs": [],
   "source": []
  }
 ],
 "metadata": {
  "kernelspec": {
   "display_name": "Python 3 (ipykernel)",
   "language": "python",
   "name": "python3"
  },
  "language_info": {
   "codemirror_mode": {
    "name": "ipython",
    "version": 3
   },
   "file_extension": ".py",
   "mimetype": "text/x-python",
   "name": "python",
   "nbconvert_exporter": "python",
   "pygments_lexer": "ipython3",
   "version": "3.10.12"
  }
 },
 "nbformat": 4,
 "nbformat_minor": 5
}
