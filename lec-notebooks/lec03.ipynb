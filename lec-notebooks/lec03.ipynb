{
 "cells": [
  {
   "cell_type": "code",
   "execution_count": 2,
   "metadata": {
    "tags": []
   },
   "outputs": [],
   "source": [
    "from datascience import *\n",
    "import numpy as np\n",
    "\n",
    "%matplotlib inline\n",
    "import matplotlib.pyplot as plots"
   ]
  },
  {
   "cell_type": "markdown",
   "metadata": {},
   "source": [
    "# Review of Tables\n",
    "\n",
    "## Basics\n",
    "\n",
    "- what is a CSV?\n",
    "- read the CSV 'data/skyscrapers.csv' using `read_table()`\n",
    "- display a table using `show()`\n",
    "- sort a table using `sort()` ascending/descending\n",
    "- select column(s) using `select()`\n",
    "- drop column(s) using `drop()`"
   ]
  },
  {
   "cell_type": "code",
   "execution_count": 4,
   "metadata": {},
   "outputs": [
    {
     "data": {
      "text/html": [
       "<table border=\"1\" class=\"dataframe\">\n",
       "    <thead>\n",
       "        <tr>\n",
       "            <th>name</th> <th>material</th> <th>city</th> <th>height</th> <th>completed</th>\n",
       "        </tr>\n",
       "    </thead>\n",
       "    <tbody>\n",
       "        <tr>\n",
       "            <td>One World Trade Center                          </td> <td>composite     </td> <td>New York City    </td> <td>541.3 </td> <td>2014     </td>\n",
       "        </tr>\n",
       "        <tr>\n",
       "            <td>Willis Tower                                    </td> <td>steel         </td> <td>Chicago          </td> <td>442.14</td> <td>1974     </td>\n",
       "        </tr>\n",
       "        <tr>\n",
       "            <td>432 Park Avenue                                 </td> <td>concrete      </td> <td>New York City    </td> <td>425.5 </td> <td>2015     </td>\n",
       "        </tr>\n",
       "        <tr>\n",
       "            <td>Trump International Hotel & Tower               </td> <td>concrete      </td> <td>Chicago          </td> <td>423.22</td> <td>2009     </td>\n",
       "        </tr>\n",
       "        <tr>\n",
       "            <td>Empire State Building                           </td> <td>steel         </td> <td>New York City    </td> <td>381   </td> <td>1931     </td>\n",
       "        </tr>\n",
       "        <tr>\n",
       "            <td>Bank of America Tower                           </td> <td>composite     </td> <td>New York City    </td> <td>365.8 </td> <td>2009     </td>\n",
       "        </tr>\n",
       "        <tr>\n",
       "            <td>Stratosphere Tower                              </td> <td>concrete      </td> <td>Las Vegas        </td> <td>350.22</td> <td>1996     </td>\n",
       "        </tr>\n",
       "        <tr>\n",
       "            <td>Aon Center                                      </td> <td>steel         </td> <td>Chicago          </td> <td>346.26</td> <td>1973     </td>\n",
       "        </tr>\n",
       "        <tr>\n",
       "            <td>John Hancock Center                             </td> <td>steel         </td> <td>Chicago          </td> <td>343.69</td> <td>1969     </td>\n",
       "        </tr>\n",
       "        <tr>\n",
       "            <td>WITI TV Tower                                   </td> <td>steel         </td> <td>Shorewood        </td> <td>329   </td> <td>1962     </td>\n",
       "        </tr>\n",
       "        <tr>\n",
       "            <td>Chrysler Building                               </td> <td>steel         </td> <td>New York City    </td> <td>318.9 </td> <td>1930     </td>\n",
       "        </tr>\n",
       "        <tr>\n",
       "            <td>New York Times Tower                            </td> <td>steel         </td> <td>New York City    </td> <td>318.77</td> <td>2007     </td>\n",
       "        </tr>\n",
       "        <tr>\n",
       "            <td>Bank of America Plaza                           </td> <td>composite     </td> <td>Atlanta          </td> <td>311.8 </td> <td>1992     </td>\n",
       "        </tr>\n",
       "        <tr>\n",
       "            <td>U.S. Bank Tower                                 </td> <td>steel         </td> <td>Los Angeles      </td> <td>310.29</td> <td>1990     </td>\n",
       "        </tr>\n",
       "        <tr>\n",
       "            <td>The Franklin - North Tower                      </td> <td>composite     </td> <td>Chicago          </td> <td>306.94</td> <td>1989     </td>\n",
       "        </tr>\n",
       "        <tr>\n",
       "            <td>One57                                           </td> <td>steel/concrete</td> <td>New York City    </td> <td>306.07</td> <td>2014     </td>\n",
       "        </tr>\n",
       "        <tr>\n",
       "            <td>JPMorgan Chase Tower                            </td> <td>composite     </td> <td>Houston          </td> <td>305.41</td> <td>1982     </td>\n",
       "        </tr>\n",
       "        <tr>\n",
       "            <td>Two Prudential Plaza                            </td> <td>concrete      </td> <td>Chicago          </td> <td>303.28</td> <td>1990     </td>\n",
       "        </tr>\n",
       "        <tr>\n",
       "            <td>Wells Fargo Plaza                               </td> <td>steel         </td> <td>Houston          </td> <td>302.37</td> <td>1983     </td>\n",
       "        </tr>\n",
       "        <tr>\n",
       "            <td>4 World Trade Center                            </td> <td>composite     </td> <td>New York City    </td> <td>297.73</td> <td>2014     </td>\n",
       "        </tr>\n",
       "        <tr>\n",
       "            <td>Comcast Center                                  </td> <td>composite     </td> <td>Philadelphia     </td> <td>296.73</td> <td>2008     </td>\n",
       "        </tr>\n",
       "        <tr>\n",
       "            <td>311 South Wacker Drive                          </td> <td>concrete      </td> <td>Chicago          </td> <td>292.92</td> <td>1990     </td>\n",
       "        </tr>\n",
       "        <tr>\n",
       "            <td>70 Pine                                         </td> <td>steel         </td> <td>New York City    </td> <td>290.17</td> <td>1932     </td>\n",
       "        </tr>\n",
       "        <tr>\n",
       "            <td>Key Tower                                       </td> <td>composite     </td> <td>Cleveland        </td> <td>288.65</td> <td>1991     </td>\n",
       "        </tr>\n",
       "        <tr>\n",
       "            <td>One Liberty Place                               </td> <td>steel         </td> <td>Philadelphia     </td> <td>288.04</td> <td>1987     </td>\n",
       "        </tr>\n",
       "        <tr>\n",
       "            <td>Columbia Center                                 </td> <td>composite     </td> <td>Seattle          </td> <td>284.38</td> <td>1984     </td>\n",
       "        </tr>\n",
       "        <tr>\n",
       "            <td>The Trump Building                              </td> <td>steel         </td> <td>New York City    </td> <td>282.55</td> <td>1930     </td>\n",
       "        </tr>\n",
       "        <tr>\n",
       "            <td>Bank of America Plaza                           </td> <td>composite     </td> <td>Dallas           </td> <td>280.72</td> <td>1985     </td>\n",
       "        </tr>\n",
       "        <tr>\n",
       "            <td>Citigroup Center                                </td> <td>steel         </td> <td>New York City    </td> <td>278.9 </td> <td>1977     </td>\n",
       "        </tr>\n",
       "        <tr>\n",
       "            <td>Williams Tower                                  </td> <td>steel         </td> <td>Houston          </td> <td>274.63</td> <td>1982     </td>\n",
       "        </tr>\n",
       "        <tr>\n",
       "            <td>Renaissance Tower                               </td> <td>steel         </td> <td>Dallas           </td> <td>270.06</td> <td>1986     </td>\n",
       "        </tr>\n",
       "        <tr>\n",
       "            <td>Bank of America Corporate Center                </td> <td>concrete      </td> <td>Charlotte        </td> <td>265.48</td> <td>1992     </td>\n",
       "        </tr>\n",
       "        <tr>\n",
       "            <td>Eight Spruce Street                             </td> <td>concrete      </td> <td>New York City    </td> <td>265.18</td> <td>2011     </td>\n",
       "        </tr>\n",
       "        <tr>\n",
       "            <td>900 North Michigan Avenue                       </td> <td>concrete/steel</td> <td>Chicago          </td> <td>265   </td> <td>1989     </td>\n",
       "        </tr>\n",
       "        <tr>\n",
       "            <td>SunTrust Plaza                                  </td> <td>concrete      </td> <td>Atlanta          </td> <td>264.25</td> <td>1992     </td>\n",
       "        </tr>\n",
       "        <tr>\n",
       "            <td>Trump World Tower                               </td> <td>concrete      </td> <td>New York City    </td> <td>262.44</td> <td>2001     </td>\n",
       "        </tr>\n",
       "        <tr>\n",
       "            <td>Water Tower Place                               </td> <td>concrete      </td> <td>Chicago          </td> <td>261.88</td> <td>1976     </td>\n",
       "        </tr>\n",
       "        <tr>\n",
       "            <td>Aqua                                            </td> <td>concrete      </td> <td>Chicago          </td> <td>261.75</td> <td>2009     </td>\n",
       "        </tr>\n",
       "        <tr>\n",
       "            <td>Aon Center                                      </td> <td>steel         </td> <td>Los Angeles      </td> <td>261.52</td> <td>1974     </td>\n",
       "        </tr>\n",
       "        <tr>\n",
       "            <td>Transamerica Pyramid                            </td> <td>composite     </td> <td>San Francisco    </td> <td>260   </td> <td>1972     </td>\n",
       "        </tr>\n",
       "        <tr>\n",
       "            <td>Comcast Building                                </td> <td>steel         </td> <td>New York City    </td> <td>259.08</td> <td>1933     </td>\n",
       "        </tr>\n",
       "        <tr>\n",
       "            <td>Chase Tower                                     </td> <td>steel         </td> <td>Chicago          </td> <td>259.08</td> <td>1969     </td>\n",
       "        </tr>\n",
       "        <tr>\n",
       "            <td>Two Liberty Place                               </td> <td>steel         </td> <td>Philadelphia     </td> <td>258.47</td> <td>1990     </td>\n",
       "        </tr>\n",
       "        <tr>\n",
       "            <td>Park Tower                                      </td> <td>concrete      </td> <td>Chicago          </td> <td>257.35</td> <td>2000     </td>\n",
       "        </tr>\n",
       "        <tr>\n",
       "            <td>Devon Energy Center                             </td> <td>concrete      </td> <td>Oklahoma City    </td> <td>257.23</td> <td>2012     </td>\n",
       "        </tr>\n",
       "        <tr>\n",
       "            <td>U.S. Steel Tower                                </td> <td>steel         </td> <td>Pittsburgh       </td> <td>256.34</td> <td>1970     </td>\n",
       "        </tr>\n",
       "        <tr>\n",
       "            <td>One Atlantic Center                             </td> <td>composite     </td> <td>Atlanta          </td> <td>249.94</td> <td>1987     </td>\n",
       "        </tr>\n",
       "        <tr>\n",
       "            <td>The Legacy at Millennium Park                   </td> <td>concrete      </td> <td>Chicago          </td> <td>249.33</td> <td>2010     </td>\n",
       "        </tr>\n",
       "        <tr>\n",
       "            <td>CitySpire                                       </td> <td>concrete      </td> <td>New York City    </td> <td>248.11</td> <td>1987     </td>\n",
       "        </tr>\n",
       "        <tr>\n",
       "            <td>28 Liberty                                      </td> <td>steel         </td> <td>New York City    </td> <td>247.81</td> <td>1961     </td>\n",
       "        </tr>\n",
       "        <tr>\n",
       "            <td>4 Times Square                                  </td> <td>steel         </td> <td>New York City    </td> <td>246.54</td> <td>1999     </td>\n",
       "        </tr>\n",
       "        <tr>\n",
       "            <td>MetLife Building                                </td> <td>steel         </td> <td>New York City    </td> <td>246.28</td> <td>1963     </td>\n",
       "        </tr>\n",
       "        <tr>\n",
       "            <td>Bloomberg Tower                                 </td> <td>concrete/steel</td> <td>New York City    </td> <td>245.62</td> <td>2004     </td>\n",
       "        </tr>\n",
       "        <tr>\n",
       "            <td>Mellon Bank Center                              </td> <td>composite     </td> <td>Philadelphia     </td> <td>241.41</td> <td>1990     </td>\n",
       "        </tr>\n",
       "        <tr>\n",
       "            <td>Woolworth Building                              </td> <td>steel         </td> <td>New York City    </td> <td>241.4 </td> <td>1913     </td>\n",
       "        </tr>\n",
       "        <tr>\n",
       "            <td>IDS Tower                                       </td> <td>composite     </td> <td>Minneapolis      </td> <td>241.38</td> <td>1973     </td>\n",
       "        </tr>\n",
       "        <tr>\n",
       "            <td>200 Clarendon                                   </td> <td>steel         </td> <td>Boston           </td> <td>240.79</td> <td>1976     </td>\n",
       "        </tr>\n",
       "        <tr>\n",
       "            <td>Four Seasons Hotel & Tower                      </td> <td>concrete      </td> <td>Miami            </td> <td>240.41</td> <td>2003     </td>\n",
       "        </tr>\n",
       "        <tr>\n",
       "            <td>Comerica Bank Tower                             </td> <td>composite     </td> <td>Dallas           </td> <td>239.88</td> <td>1987     </td>\n",
       "        </tr>\n",
       "        <tr>\n",
       "            <td>Duke Energy Center                              </td> <td>concrete/steel</td> <td>Charlotte        </td> <td>239.7 </td> <td>2010     </td>\n",
       "        </tr>\n",
       "        <tr>\n",
       "            <td>300 North LaSalle                               </td> <td>composite     </td> <td>Chicago          </td> <td>239.12</td> <td>2009     </td>\n",
       "        </tr>\n",
       "        <tr>\n",
       "            <td>30 Hudson Street                                </td> <td>steel         </td> <td>Jersey City      </td> <td>238.05</td> <td>2004     </td>\n",
       "        </tr>\n",
       "        <tr>\n",
       "            <td>Bank of America Center                          </td> <td>steel         </td> <td>Houston          </td> <td>237.75</td> <td>1983     </td>\n",
       "        </tr>\n",
       "        <tr>\n",
       "            <td>555 California Street                           </td> <td>steel         </td> <td>San Francisco    </td> <td>237.44</td> <td>1969     </td>\n",
       "        </tr>\n",
       "        <tr>\n",
       "            <td>1 Worldwide Plaza                               </td> <td>steel         </td> <td>New York City    </td> <td>237.14</td> <td>1989     </td>\n",
       "        </tr>\n",
       "        <tr>\n",
       "            <td>Capella Tower                                   </td> <td>composite     </td> <td>Minneapolis      </td> <td>236.53</td> <td>1992     </td>\n",
       "        </tr>\n",
       "        <tr>\n",
       "            <td>Wells Fargo Center                              </td> <td>composite     </td> <td>Minneapolis      </td> <td>236.32</td> <td>1988     </td>\n",
       "        </tr>\n",
       "        <tr>\n",
       "            <td>1201 Third Avenue Tower                         </td> <td>steel         </td> <td>Seattle          </td> <td>235.31</td> <td>1988     </td>\n",
       "        </tr>\n",
       "        <tr>\n",
       "            <td>191 Peachtree Tower                             </td> <td>composite     </td> <td>Atlanta          </td> <td>234.7 </td> <td>1992     </td>\n",
       "        </tr>\n",
       "        <tr>\n",
       "            <td>Three First National Plaza                      </td> <td>composite     </td> <td>Chicago          </td> <td>233.65</td> <td>1981     </td>\n",
       "        </tr>\n",
       "        <tr>\n",
       "            <td>Southeast Financial Center                      </td> <td>composite     </td> <td>Miami            </td> <td>232.8 </td> <td>1983     </td>\n",
       "        </tr>\n",
       "        <tr>\n",
       "            <td>Heritage Plaza                                  </td> <td>steel         </td> <td>Houston          </td> <td>232.26</td> <td>1987     </td>\n",
       "        </tr>\n",
       "        <tr>\n",
       "            <td>Carnegie Hall Tower                             </td> <td>concrete      </td> <td>New York City    </td> <td>230.74</td> <td>1991     </td>\n",
       "        </tr>\n",
       "        <tr>\n",
       "            <td>Chicago Title & Trust Center                    </td> <td>composite     </td> <td>Chicago          </td> <td>230.48</td> <td>1992     </td>\n",
       "        </tr>\n",
       "        <tr>\n",
       "            <td>Enterprise Plaza                                </td> <td>composite     </td> <td>Houston          </td> <td>230.4 </td> <td>1980     </td>\n",
       "        </tr>\n",
       "        <tr>\n",
       "            <td>383 Madison Avenue                              </td> <td>steel         </td> <td>New York City    </td> <td>230.25</td> <td>2001     </td>\n",
       "        </tr>\n",
       "        <tr>\n",
       "            <td>Courtyard & Residence Inn Manhattan/Central Park</td> <td>concrete      </td> <td>New York City    </td> <td>229.62</td> <td>2013     </td>\n",
       "        </tr>\n",
       "        <tr>\n",
       "            <td>AXA Center                                      </td> <td>steel         </td> <td>New York City    </td> <td>229.21</td> <td>1985     </td>\n",
       "        </tr>\n",
       "        <tr>\n",
       "            <td>One Penn Plaza                                  </td> <td>steel         </td> <td>New York City    </td> <td>228.6 </td> <td>1972     </td>\n",
       "        </tr>\n",
       "        <tr>\n",
       "            <td>1251 Avenue of the Americas                     </td> <td>steel         </td> <td>New York City    </td> <td>228.6 </td> <td>1972     </td>\n",
       "        </tr>\n",
       "        <tr>\n",
       "            <td>Prudential Tower                                </td> <td>steel         </td> <td>Boston           </td> <td>228.6 </td> <td>1964     </td>\n",
       "        </tr>\n",
       "        <tr>\n",
       "            <td>Two California Plaza                            </td> <td>steel         </td> <td>Los Angeles      </td> <td>228.6 </td> <td>1992     </td>\n",
       "        </tr>\n",
       "        <tr>\n",
       "            <td>Time Warner Center North Tower                  </td> <td>concrete/steel</td> <td>New York City    </td> <td>228.32</td> <td>2004     </td>\n",
       "        </tr>\n",
       "        <tr>\n",
       "            <td>Time Warner Center South Tower                  </td> <td>concrete/steel</td> <td>New York City    </td> <td>228.32</td> <td>2004     </td>\n",
       "        </tr>\n",
       "        <tr>\n",
       "            <td>Gas Company Tower                               </td> <td>steel         </td> <td>Los Angeles      </td> <td>228.3 </td> <td>1991     </td>\n",
       "        </tr>\n",
       "        <tr>\n",
       "            <td>Goldman Sachs Headquarters                      </td> <td>steel         </td> <td>New York City    </td> <td>228.3 </td> <td>2010     </td>\n",
       "        </tr>\n",
       "        <tr>\n",
       "            <td>60 Wall Street                                  </td> <td>steel         </td> <td>New York City    </td> <td>227.08</td> <td>1989     </td>\n",
       "        </tr>\n",
       "        <tr>\n",
       "            <td>One Astor Plaza                                 </td> <td>composite     </td> <td>New York City    </td> <td>227.08</td> <td>1972     </td>\n",
       "        </tr>\n",
       "        <tr>\n",
       "            <td>RSA Battle House Tower                          </td> <td>steel/concrete</td> <td>Mobile           </td> <td>227.08</td> <td>2007     </td>\n",
       "        </tr>\n",
       "        <tr>\n",
       "            <td>Blue Cross-Blue Shield Tower                    </td> <td>composite     </td> <td>Chicago          </td> <td>226.72</td> <td>2010     </td>\n",
       "        </tr>\n",
       "        <tr>\n",
       "            <td>7 World Trade Center                            </td> <td>steel/concrete</td> <td>New York City    </td> <td>226.5 </td> <td>2006     </td>\n",
       "        </tr>\n",
       "        <tr>\n",
       "            <td>One Liberty Plaza                               </td> <td>steel         </td> <td>New York City    </td> <td>226.47</td> <td>1972     </td>\n",
       "        </tr>\n",
       "        <tr>\n",
       "            <td>Twenty Exchange                                 </td> <td>steel         </td> <td>New York City    </td> <td>225.86</td> <td>1931     </td>\n",
       "        </tr>\n",
       "        <tr>\n",
       "            <td>Centerpoint Energy Plaza                        </td> <td>steel         </td> <td>Houston          </td> <td>225.86</td> <td>1996     </td>\n",
       "        </tr>\n",
       "        <tr>\n",
       "            <td>Two Union Square                                </td> <td>composite     </td> <td>Seattle          </td> <td>225.56</td> <td>1989     </td>\n",
       "        </tr>\n",
       "        <tr>\n",
       "            <td>Three Logan                                     </td> <td>steel         </td> <td>Philadelphia     </td> <td>225.25</td> <td>1991     </td>\n",
       "        </tr>\n",
       "        <tr>\n",
       "            <td>Three World Financial Center                    </td> <td>steel         </td> <td>New York City    </td> <td>225.2 </td> <td>1986     </td>\n",
       "        </tr>\n",
       "        <tr>\n",
       "            <td>Bank of America Plaza                           </td> <td>steel         </td> <td>Los Angeles      </td> <td>224.03</td> <td>1975     </td>\n",
       "        </tr>\n",
       "        <tr>\n",
       "            <td>1600 Smith Street                               </td> <td>steel         </td> <td>Houston          </td> <td>223.12</td> <td>1984     </td>\n",
       "        </tr>\n",
       "        <tr>\n",
       "            <td>Olympia Centre                                  </td> <td>concrete      </td> <td>Chicago          </td> <td>222.9 </td> <td>1986     </td>\n",
       "        </tr>\n",
       "        <tr>\n",
       "            <td>Detroit Marriott at the Renaissance Center      </td> <td>concrete      </td> <td>Detroit          </td> <td>221.49</td> <td>1977     </td>\n",
       "        </tr>\n",
       "        <tr>\n",
       "            <td>One Museum Park                                 </td> <td>concrete      </td> <td>Chicago          </td> <td>221.34</td> <td>2009     </td>\n",
       "        </tr>\n",
       "        <tr>\n",
       "            <td>Times Square Tower                              </td> <td>steel         </td> <td>New York City    </td> <td>221.29</td> <td>2004     </td>\n",
       "        </tr>\n",
       "        <tr>\n",
       "            <td>One Mellon Center                               </td> <td>steel         </td> <td>Pittsburgh       </td> <td>221   </td> <td>1983     </td>\n",
       "        </tr>\n",
       "        <tr>\n",
       "            <td>777 Tower                                       </td> <td>steel         </td> <td>Los Angeles      </td> <td>221   </td> <td>1991     </td>\n",
       "        </tr>\n",
       "        <tr>\n",
       "            <td>Fulbright Tower                                 </td> <td>composite     </td> <td>Houston          </td> <td>221   </td> <td>1982     </td>\n",
       "        </tr>\n",
       "        <tr>\n",
       "            <td>Westin Peachtree Plaza                          </td> <td>concrete      </td> <td>Atlanta          </td> <td>220.37</td> <td>1976     </td>\n",
       "        </tr>\n",
       "        <tr>\n",
       "            <td>Wells Fargo Tower                               </td> <td>steel         </td> <td>Los Angeles      </td> <td>220.37</td> <td>1983     </td>\n",
       "        </tr>\n",
       "        <tr>\n",
       "            <td>Seattle Municipal Tower                         </td> <td>steel         </td> <td>Seattle          </td> <td>220.07</td> <td>1990     </td>\n",
       "        </tr>\n",
       "        <tr>\n",
       "            <td>Fountain Place                                  </td> <td>steel         </td> <td>Dallas           </td> <td>219.46</td> <td>1986     </td>\n",
       "        </tr>\n",
       "        <tr>\n",
       "            <td>Revel Resort and Casino                         </td> <td>concrete      </td> <td>Atlantic City    </td> <td>218.92</td> <td>2012     </td>\n",
       "        </tr>\n",
       "        <tr>\n",
       "            <td>Figueroa at Wilshire                            </td> <td>steel         </td> <td>Los Angeles      </td> <td>218.54</td> <td>1989     </td>\n",
       "        </tr>\n",
       "        <tr>\n",
       "            <td>Metropolitan Tower                              </td> <td>concrete      </td> <td>New York City    </td> <td>218.24</td> <td>1985     </td>\n",
       "        </tr>\n",
       "        <tr>\n",
       "            <td>Republic Plaza                                  </td> <td>steel         </td> <td>Denver           </td> <td>217.63</td> <td>1984     </td>\n",
       "        </tr>\n",
       "        <tr>\n",
       "            <td>One Shell Plaza                                 </td> <td>concrete      </td> <td>Houston          </td> <td>217.63</td> <td>1970     </td>\n",
       "        </tr>\n",
       "        <tr>\n",
       "            <td>1801 California Plaza                           </td> <td>steel         </td> <td>Denver           </td> <td>216.11</td> <td>1982     </td>\n",
       "        </tr>\n",
       "        <tr>\n",
       "            <td>Terminal Tower                                  </td> <td>steel         </td> <td>Cleveland        </td> <td>215.8 </td> <td>1928     </td>\n",
       "        </tr>\n",
       "        <tr>\n",
       "            <td>JPMorgan Chase Tower                            </td> <td>steel         </td> <td>New York City    </td> <td>215.5 </td> <td>1960     </td>\n",
       "        </tr>\n",
       "        <tr>\n",
       "            <td>General Motors Building                         </td> <td>steel         </td> <td>New York City    </td> <td>214.89</td> <td>1968     </td>\n",
       "        </tr>\n",
       "        <tr>\n",
       "            <td>Chase Tower                                     </td> <td>steel         </td> <td>Indianapolis     </td> <td>213.67</td> <td>1990     </td>\n",
       "        </tr>\n",
       "        <tr>\n",
       "            <td>Metropolitan Life Tower                         </td> <td>steel         </td> <td>New York City    </td> <td>213.36</td> <td>1909     </td>\n",
       "        </tr>\n",
       "        <tr>\n",
       "            <td>City National Tower                             </td> <td>steel         </td> <td>Los Angeles      </td> <td>213.06</td> <td>1971     </td>\n",
       "        </tr>\n",
       "        <tr>\n",
       "            <td>Paul Hastings Tower                             </td> <td>steel         </td> <td>Los Angeles      </td> <td>213.06</td> <td>1971     </td>\n",
       "        </tr>\n",
       "        <tr>\n",
       "            <td>Wells Fargo Center                              </td> <td>composite     </td> <td>Denver           </td> <td>212.75</td> <td>1983     </td>\n",
       "        </tr>\n",
       "        <tr>\n",
       "            <td>500 Fifth Avenue                                </td> <td>steel         </td> <td>New York City    </td> <td>212.45</td> <td>1931     </td>\n",
       "        </tr>\n",
       "        <tr>\n",
       "            <td>One Shell Square                                </td> <td>composite     </td> <td>New Orleans      </td> <td>212.45</td> <td>1972     </td>\n",
       "        </tr>\n",
       "        <tr>\n",
       "            <td>AMA Plaza                                       </td> <td>composite     </td> <td>Chicago          </td> <td>211.84</td> <td>1972     </td>\n",
       "        </tr>\n",
       "        <tr>\n",
       "            <td>345 California Center                           </td> <td>steel         </td> <td>San Francisco    </td> <td>211.84</td> <td>1986     </td>\n",
       "        </tr>\n",
       "        <tr>\n",
       "            <td>Americas Tower                                  </td> <td>steel         </td> <td>New York City    </td> <td>210.92</td> <td>1992     </td>\n",
       "        </tr>\n",
       "        <tr>\n",
       "            <td>1400 Smith Street                               </td> <td>steel         </td> <td>Houston          </td> <td>210.52</td> <td>1983     </td>\n",
       "        </tr>\n",
       "        <tr>\n",
       "            <td>Solow Building                                  </td> <td>steel         </td> <td>New York City    </td> <td>210   </td> <td>1974     </td>\n",
       "        </tr>\n",
       "        <tr>\n",
       "            <td>HSBC Bank Building                              </td> <td>steel         </td> <td>New York City    </td> <td>209.71</td> <td>1967     </td>\n",
       "        </tr>\n",
       "        <tr>\n",
       "            <td>55 Water Street                                 </td> <td>steel         </td> <td>New York City    </td> <td>209.4 </td> <td>1972     </td>\n",
       "        </tr>\n",
       "        <tr>\n",
       "            <td>277 Park Avenue                                 </td> <td>steel         </td> <td>New York City    </td> <td>209.4 </td> <td>1963     </td>\n",
       "        </tr>\n",
       "        <tr>\n",
       "            <td>Waldorf Astoria Chicago                         </td> <td>concrete      </td> <td>Chicago          </td> <td>209   </td> <td>2009     </td>\n",
       "        </tr>\n",
       "        <tr>\n",
       "            <td>Three Allen Center                              </td> <td>steel         </td> <td>Houston          </td> <td>208.79</td> <td>1980     </td>\n",
       "        </tr>\n",
       "        <tr>\n",
       "            <td>Random House Tower                              </td> <td>steel         </td> <td>New York City    </td> <td>208.49</td> <td>2003     </td>\n",
       "        </tr>\n",
       "        <tr>\n",
       "            <td>The Austonian                                   </td> <td>concrete      </td> <td>Austin           </td> <td>208.15</td> <td>2010     </td>\n",
       "        </tr>\n",
       "        <tr>\n",
       "            <td>Four Seasons Hotel                              </td> <td>concrete      </td> <td>New York City    </td> <td>207.88</td> <td>1993     </td>\n",
       "        </tr>\n",
       "        <tr>\n",
       "            <td>111 South Wacker                                </td> <td>composite     </td> <td>Chicago          </td> <td>207.64</td> <td>2005     </td>\n",
       "        </tr>\n",
       "        <tr>\n",
       "            <td>181 West Madison                                </td> <td>composite     </td> <td>Chicago          </td> <td>207.27</td> <td>1990     </td>\n",
       "        </tr>\n",
       "        <tr>\n",
       "            <td>Hyatt Center                                    </td> <td>composite     </td> <td>Chicago          </td> <td>207.1 </td> <td>2005     </td>\n",
       "        </tr>\n",
       "        <tr>\n",
       "            <td>Marquis                                         </td> <td>concrete      </td> <td>Miami            </td> <td>207   </td> <td>2009     </td>\n",
       "        </tr>\n",
       "        <tr>\n",
       "            <td>LyondellBassell Tower                           </td> <td>composite     </td> <td>Houston          </td> <td>206.8 </td> <td>1978     </td>\n",
       "        </tr>\n",
       "        <tr>\n",
       "            <td>AT&T Building                                   </td> <td>concrete      </td> <td>Atlanta          </td> <td>206.35</td> <td>1980     </td>\n",
       "        </tr>\n",
       "        <tr>\n",
       "            <td>Sky                                             </td> <td>concrete      </td> <td>New York City    </td> <td>206   </td> <td>2015     </td>\n",
       "        </tr>\n",
       "        <tr>\n",
       "            <td>McGraw-Hill Building                            </td> <td>steel         </td> <td>New York City    </td> <td>205.44</td> <td>1972     </td>\n",
       "        </tr>\n",
       "        <tr>\n",
       "            <td>One Magnificent Mile                            </td> <td>concrete      </td> <td>Chicago          </td> <td>205.13</td> <td>1983     </td>\n",
       "        </tr>\n",
       "        <tr>\n",
       "            <td>One Grand Central Place                         </td> <td>steel         </td> <td>New York City    </td> <td>205.13</td> <td>1930     </td>\n",
       "        </tr>\n",
       "        <tr>\n",
       "            <td>Citigroup Building                              </td> <td>steel         </td> <td>New York City    </td> <td>205.13</td> <td>1990     </td>\n",
       "        </tr>\n",
       "        <tr>\n",
       "            <td>Barclay Tower                                   </td> <td>concrete      </td> <td>New York City    </td> <td>205.06</td> <td>2007     </td>\n",
       "        </tr>\n",
       "        <tr>\n",
       "            <td>340 on the Park                                 </td> <td>concrete      </td> <td>Chicago          </td> <td>204.9 </td> <td>2007     </td>\n",
       "        </tr>\n",
       "        <tr>\n",
       "            <td>Paramount Plaza                                 </td> <td>steel         </td> <td>New York City    </td> <td>204.22</td> <td>1970     </td>\n",
       "        </tr>\n",
       "        <tr>\n",
       "            <td>United Building                                 </td> <td>composite     </td> <td>Chicago          </td> <td>203.61</td> <td>1992     </td>\n",
       "        </tr>\n",
       "        <tr>\n",
       "            <td>33 South 6th Street                             </td> <td>concrete      </td> <td>Minneapolis      </td> <td>203.58</td> <td>1983     </td>\n",
       "        </tr>\n",
       "        <tr>\n",
       "            <td>BOK Tower                                       </td> <td>steel         </td> <td>Tulsa            </td> <td>203.3 </td> <td>1975     </td>\n",
       "        </tr>\n",
       "        <tr>\n",
       "            <td>Ritz-Carlton/Marriott Marquis Los Angeles       </td> <td>steel         </td> <td>Los Angeles      </td> <td>203.28</td> <td>2010     </td>\n",
       "        </tr>\n",
       "        <tr>\n",
       "            <td>Sovereign                                       </td> <td>concrete      </td> <td>Atlanta          </td> <td>202.69</td> <td>2008     </td>\n",
       "        </tr>\n",
       "        <tr>\n",
       "            <td>Great American Tower at Queen City Square       </td> <td>composite     </td> <td>Cincinnati       </td> <td>202.69</td> <td>2011     </td>\n",
       "        </tr>\n",
       "        <tr>\n",
       "            <td>Trump Tower                                     </td> <td>concrete      </td> <td>New York City    </td> <td>202.39</td> <td>1982     </td>\n",
       "        </tr>\n",
       "        <tr>\n",
       "            <td>Hearst Tower                                    </td> <td>steel/concrete</td> <td>Charlotte        </td> <td>200.81</td> <td>2002     </td>\n",
       "        </tr>\n",
       "        <tr>\n",
       "            <td>200 Public Square                               </td> <td>steel         </td> <td>Cleveland        </td> <td>200.56</td> <td>1985     </td>\n",
       "        </tr>\n",
       "        <tr>\n",
       "            <td>1180 Peachtree                                  </td> <td>concrete      </td> <td>Atlanta          </td> <td>200.16</td> <td>2006     </td>\n",
       "        </tr>\n",
       "        <tr>\n",
       "            <td>Wells Fargo Tower                               </td> <td>steel/concrete</td> <td>Miami            </td> <td>199.5 </td> <td>2010     </td>\n",
       "        </tr>\n",
       "        <tr>\n",
       "            <td>One Wall Street                                 </td> <td>steel         </td> <td>New York City    </td> <td>199.34</td> <td>1932     </td>\n",
       "        </tr>\n",
       "        <tr>\n",
       "            <td>Silver Towers East                              </td> <td>concrete      </td> <td>New York City    </td> <td>199.17</td> <td>2009     </td>\n",
       "        </tr>\n",
       "        <tr>\n",
       "            <td>Silver Towers West                              </td> <td>concrete      </td> <td>New York City    </td> <td>199.17</td> <td>2009     </td>\n",
       "        </tr>\n",
       "        <tr>\n",
       "            <td>599 Lexington Avenue                            </td> <td>steel         </td> <td>New York City    </td> <td>199.04</td> <td>1986     </td>\n",
       "        </tr>\n",
       "        <tr>\n",
       "            <td>UBS Tower                                       </td> <td>composite     </td> <td>Chicago          </td> <td>198.58</td> <td>2001     </td>\n",
       "        </tr>\n",
       "        <tr>\n",
       "            <td>712 5th Avenue                                  </td> <td>steel         </td> <td>New York City    </td> <td>198.12</td> <td>1990     </td>\n",
       "        </tr>\n",
       "        <tr>\n",
       "            <td>900 Biscayne Bay                                </td> <td>concrete      </td> <td>Miami            </td> <td>198   </td> <td>2008     </td>\n",
       "        </tr>\n",
       "        <tr>\n",
       "            <td>Chanin Building                                 </td> <td>steel         </td> <td>New York City    </td> <td>197.8 </td> <td>1929     </td>\n",
       "        </tr>\n",
       "        <tr>\n",
       "            <td>245 Park Avenue                                 </td> <td>steel         </td> <td>New York City    </td> <td>197.51</td> <td>1967     </td>\n",
       "        </tr>\n",
       "        <tr>\n",
       "            <td>Richard J. Daley Center                         </td> <td>steel         </td> <td>Chicago          </td> <td>197.51</td> <td>1965     </td>\n",
       "        </tr>\n",
       "        <tr>\n",
       "            <td>550 Madison Avenue                              </td> <td>steel         </td> <td>New York City    </td> <td>197.32</td> <td>1983     </td>\n",
       "        </tr>\n",
       "        <tr>\n",
       "            <td>55 East Erie                                    </td> <td>concrete      </td> <td>Chicago          </td> <td>197.15</td> <td>2004     </td>\n",
       "        </tr>\n",
       "        <tr>\n",
       "            <td>Millennium Tower                                </td> <td>concrete      </td> <td>San Francisco    </td> <td>196.6 </td> <td>2009     </td>\n",
       "        </tr>\n",
       "        <tr>\n",
       "            <td>Two World Financial Center                      </td> <td>steel         </td> <td>New York City    </td> <td>196.6 </td> <td>1986     </td>\n",
       "        </tr>\n",
       "        <tr>\n",
       "            <td>Lake Point Tower                                </td> <td>concrete      </td> <td>Chicago          </td> <td>196.45</td> <td>1968     </td>\n",
       "        </tr>\n",
       "        <tr>\n",
       "            <td>1095 Avenue of the Americas                     </td> <td>steel         </td> <td>New York City    </td> <td>196.44</td> <td>2007     </td>\n",
       "        </tr>\n",
       "        <tr>\n",
       "            <td>River East Center                               </td> <td>concrete      </td> <td>Chicago          </td> <td>196.29</td> <td>2001     </td>\n",
       "        </tr>\n",
       "        <tr>\n",
       "            <td>570 Lexington Avenue                            </td> <td>steel         </td> <td>New York City    </td> <td>196   </td> <td>1931     </td>\n",
       "        </tr>\n",
       "        <tr>\n",
       "            <td>Mansions at Acqualina                           </td> <td>concrete      </td> <td>Sunny Isles Beach</td> <td>196   </td> <td>2015     </td>\n",
       "        </tr>\n",
       "        <tr>\n",
       "            <td>The Palazzo                                     </td> <td>composite     </td> <td>Las Vegas        </td> <td>195.68</td> <td>2007     </td>\n",
       "        </tr>\n",
       "        <tr>\n",
       "            <td>Grand Plaza Apartments                          </td> <td>concrete      </td> <td>Chicago          </td> <td>195.38</td> <td>2003     </td>\n",
       "        </tr>\n",
       "        <tr>\n",
       "            <td>1 New York Plaza                                </td> <td>steel         </td> <td>New York City    </td> <td>195.07</td> <td>1969     </td>\n",
       "        </tr>\n",
       "        <tr>\n",
       "            <td>Four Seasons Hotel & Private Residences         </td> <td>concrete      </td> <td>Denver           </td> <td>194.75</td> <td>2010     </td>\n",
       "        </tr>\n",
       "        <tr>\n",
       "            <td>155 North Wacker                                </td> <td>composite     </td> <td>Chicago          </td> <td>194.57</td> <td>2009     </td>\n",
       "        </tr>\n",
       "        <tr>\n",
       "            <td>1 MiMA Tower                                    </td> <td>concrete      </td> <td>New York City    </td> <td>194.55</td> <td>2011     </td>\n",
       "        </tr>\n",
       "        <tr>\n",
       "            <td>Leo Burnett Building                            </td> <td>composite     </td> <td>Chicago          </td> <td>193.55</td> <td>1989     </td>\n",
       "        </tr>\n",
       "        <tr>\n",
       "            <td>One PPG Place                                   </td> <td>steel         </td> <td>Pittsburgh       </td> <td>193.55</td> <td>1984     </td>\n",
       "        </tr>\n",
       "        <tr>\n",
       "            <td>One First National Center                       </td> <td>composite     </td> <td>Omaha            </td> <td>193.25</td> <td>2002     </td>\n",
       "        </tr>\n",
       "        <tr>\n",
       "            <td>345 Park Avenue                                 </td> <td>steel         </td> <td>New York City    </td> <td>193.25</td> <td>1969     </td>\n",
       "        </tr>\n",
       "        <tr>\n",
       "            <td>BG Group Place                                  </td> <td>concrete      </td> <td>Houston          </td> <td>192.74</td> <td>2011     </td>\n",
       "        </tr>\n",
       "        <tr>\n",
       "            <td>Mercantile Building                             </td> <td>steel         </td> <td>New York City    </td> <td>192.6 </td> <td>1929     </td>\n",
       "        </tr>\n",
       "        <tr>\n",
       "            <td>Langham Place                                   </td> <td>concrete      </td> <td>New York City    </td> <td>192.58</td> <td>2010     </td>\n",
       "        </tr>\n",
       "        <tr>\n",
       "            <td>The Heritage at Millennium Park                 </td> <td>concrete      </td> <td>Chicago          </td> <td>192.38</td> <td>2005     </td>\n",
       "        </tr>\n",
       "        <tr>\n",
       "            <td>Encore                                          </td> <td>concrete      </td> <td>Las Vegas        </td> <td>192.33</td> <td>2008     </td>\n",
       "        </tr>\n",
       "        <tr>\n",
       "            <td>Mint at Riverfront                              </td> <td>concrete      </td> <td>Miami            </td> <td>192.28</td> <td>2009     </td>\n",
       "        </tr>\n",
       "        <tr>\n",
       "            <td>W New York Downtown Hotel & Residences          </td> <td>concrete      </td> <td>New York City    </td> <td>192.11</td> <td>2010     </td>\n",
       "        </tr>\n",
       "    </tbody>\n",
       "</table>"
      ],
      "text/plain": [
       "<IPython.core.display.HTML object>"
      ]
     },
     "metadata": {},
     "output_type": "display_data"
    }
   ],
   "source": [
    "Table.read_table('data/skyscrapers.csv').show()"
   ]
  },
  {
   "cell_type": "code",
   "execution_count": 39,
   "metadata": {},
   "outputs": [
    {
     "data": {
      "text/html": [
       "<table border=\"1\" class=\"dataframe\">\n",
       "    <thead>\n",
       "        <tr>\n",
       "            <th>name</th> <th>material</th> <th>city</th> <th>height</th> <th>completed</th>\n",
       "        </tr>\n",
       "    </thead>\n",
       "    <tbody>\n",
       "        <tr>\n",
       "            <td>Metropolitan Life Tower</td> <td>steel   </td> <td>New York City</td> <td>213.36</td> <td>1909     </td>\n",
       "        </tr>\n",
       "        <tr>\n",
       "            <td>Woolworth Building     </td> <td>steel   </td> <td>New York City</td> <td>241.4 </td> <td>1913     </td>\n",
       "        </tr>\n",
       "        <tr>\n",
       "            <td>Terminal Tower         </td> <td>steel   </td> <td>Cleveland    </td> <td>215.8 </td> <td>1928     </td>\n",
       "        </tr>\n",
       "        <tr>\n",
       "            <td>Chanin Building        </td> <td>steel   </td> <td>New York City</td> <td>197.8 </td> <td>1929     </td>\n",
       "        </tr>\n",
       "        <tr>\n",
       "            <td>Mercantile Building    </td> <td>steel   </td> <td>New York City</td> <td>192.6 </td> <td>1929     </td>\n",
       "        </tr>\n",
       "        <tr>\n",
       "            <td>Chrysler Building      </td> <td>steel   </td> <td>New York City</td> <td>318.9 </td> <td>1930     </td>\n",
       "        </tr>\n",
       "        <tr>\n",
       "            <td>The Trump Building     </td> <td>steel   </td> <td>New York City</td> <td>282.55</td> <td>1930     </td>\n",
       "        </tr>\n",
       "        <tr>\n",
       "            <td>One Grand Central Place</td> <td>steel   </td> <td>New York City</td> <td>205.13</td> <td>1930     </td>\n",
       "        </tr>\n",
       "        <tr>\n",
       "            <td>Empire State Building  </td> <td>steel   </td> <td>New York City</td> <td>381   </td> <td>1931     </td>\n",
       "        </tr>\n",
       "        <tr>\n",
       "            <td>Twenty Exchange        </td> <td>steel   </td> <td>New York City</td> <td>225.86</td> <td>1931     </td>\n",
       "        </tr>\n",
       "    </tbody>\n",
       "</table>\n",
       "<p>... (190 rows omitted)</p>"
      ],
      "text/plain": [
       "name                    | material | city          | height | completed\n",
       "Metropolitan Life Tower | steel    | New York City | 213.36 | 1909\n",
       "Woolworth Building      | steel    | New York City | 241.4  | 1913\n",
       "Terminal Tower          | steel    | Cleveland     | 215.8  | 1928\n",
       "Chanin Building         | steel    | New York City | 197.8  | 1929\n",
       "Mercantile Building     | steel    | New York City | 192.6  | 1929\n",
       "Chrysler Building       | steel    | New York City | 318.9  | 1930\n",
       "The Trump Building      | steel    | New York City | 282.55 | 1930\n",
       "One Grand Central Place | steel    | New York City | 205.13 | 1930\n",
       "Empire State Building   | steel    | New York City | 381    | 1931\n",
       "Twenty Exchange         | steel    | New York City | 225.86 | 1931\n",
       "... (190 rows omitted)"
      ]
     },
     "execution_count": 39,
     "metadata": {},
     "output_type": "execute_result"
    }
   ],
   "source": [
    "Table.read_table('data/skyscrapers.csv').sort('completed') # default sort ascending order or smallest to largest\n",
    "Table.read_table('data/skyscrapers.csv').sort('completed', descending = False) # skyscrapers newest to oldest, descending order"
   ]
  },
  {
   "cell_type": "code",
   "execution_count": 10,
   "metadata": {},
   "outputs": [
    {
     "data": {
      "text/html": [
       "<table border=\"1\" class=\"dataframe\">\n",
       "    <thead>\n",
       "        <tr>\n",
       "            <th>name</th> <th>material</th> <th>city</th> <th>height</th> <th>completed</th>\n",
       "        </tr>\n",
       "    </thead>\n",
       "    <tbody>\n",
       "        <tr>\n",
       "            <td>One World Trade Center           </td> <td>composite</td> <td>New York City</td> <td>541.3 </td> <td>2014     </td>\n",
       "        </tr>\n",
       "        <tr>\n",
       "            <td>Willis Tower                     </td> <td>steel    </td> <td>Chicago      </td> <td>442.14</td> <td>1974     </td>\n",
       "        </tr>\n",
       "        <tr>\n",
       "            <td>432 Park Avenue                  </td> <td>concrete </td> <td>New York City</td> <td>425.5 </td> <td>2015     </td>\n",
       "        </tr>\n",
       "        <tr>\n",
       "            <td>Trump International Hotel & Tower</td> <td>concrete </td> <td>Chicago      </td> <td>423.22</td> <td>2009     </td>\n",
       "        </tr>\n",
       "        <tr>\n",
       "            <td>Empire State Building            </td> <td>steel    </td> <td>New York City</td> <td>381   </td> <td>1931     </td>\n",
       "        </tr>\n",
       "        <tr>\n",
       "            <td>Bank of America Tower            </td> <td>composite</td> <td>New York City</td> <td>365.8 </td> <td>2009     </td>\n",
       "        </tr>\n",
       "        <tr>\n",
       "            <td>Stratosphere Tower               </td> <td>concrete </td> <td>Las Vegas    </td> <td>350.22</td> <td>1996     </td>\n",
       "        </tr>\n",
       "        <tr>\n",
       "            <td>Aon Center                       </td> <td>steel    </td> <td>Chicago      </td> <td>346.26</td> <td>1973     </td>\n",
       "        </tr>\n",
       "        <tr>\n",
       "            <td>John Hancock Center              </td> <td>steel    </td> <td>Chicago      </td> <td>343.69</td> <td>1969     </td>\n",
       "        </tr>\n",
       "        <tr>\n",
       "            <td>WITI TV Tower                    </td> <td>steel    </td> <td>Shorewood    </td> <td>329   </td> <td>1962     </td>\n",
       "        </tr>\n",
       "    </tbody>\n",
       "</table>\n",
       "<p>... (190 rows omitted)</p>"
      ],
      "text/plain": [
       "name                              | material  | city          | height | completed\n",
       "One World Trade Center            | composite | New York City | 541.3  | 2014\n",
       "Willis Tower                      | steel     | Chicago       | 442.14 | 1974\n",
       "432 Park Avenue                   | concrete  | New York City | 425.5  | 2015\n",
       "Trump International Hotel & Tower | concrete  | Chicago       | 423.22 | 2009\n",
       "Empire State Building             | steel     | New York City | 381    | 1931\n",
       "Bank of America Tower             | composite | New York City | 365.8  | 2009\n",
       "Stratosphere Tower                | concrete  | Las Vegas     | 350.22 | 1996\n",
       "Aon Center                        | steel     | Chicago       | 346.26 | 1973\n",
       "John Hancock Center               | steel     | Chicago       | 343.69 | 1969\n",
       "WITI TV Tower                     | steel     | Shorewood     | 329    | 1962\n",
       "... (190 rows omitted)"
      ]
     },
     "execution_count": 10,
     "metadata": {},
     "output_type": "execute_result"
    }
   ],
   "source": [
    "skyscrapers = Table.read_table('data/skyscrapers.csv') # assign value to skyscrapers\n",
    "skyscrapers # call on my new variable name, skyscrapers so I can view below"
   ]
  },
  {
   "cell_type": "code",
   "execution_count": 14,
   "metadata": {},
   "outputs": [
    {
     "data": {
      "text/html": [
       "<table border=\"1\" class=\"dataframe\">\n",
       "    <thead>\n",
       "        <tr>\n",
       "            <th>name</th>\n",
       "        </tr>\n",
       "    </thead>\n",
       "    <tbody>\n",
       "        <tr>\n",
       "            <td>Woolworth Building    </td>\n",
       "        </tr>\n",
       "        <tr>\n",
       "            <td>Willis Tower          </td>\n",
       "        </tr>\n",
       "        <tr>\n",
       "            <td>Williams Tower        </td>\n",
       "        </tr>\n",
       "        <tr>\n",
       "            <td>Westin Peachtree Plaza</td>\n",
       "        </tr>\n",
       "        <tr>\n",
       "            <td>Wells Fargo Tower     </td>\n",
       "        </tr>\n",
       "        <tr>\n",
       "            <td>Wells Fargo Tower     </td>\n",
       "        </tr>\n",
       "        <tr>\n",
       "            <td>Wells Fargo Plaza     </td>\n",
       "        </tr>\n",
       "        <tr>\n",
       "            <td>Wells Fargo Center    </td>\n",
       "        </tr>\n",
       "        <tr>\n",
       "            <td>Wells Fargo Center    </td>\n",
       "        </tr>\n",
       "        <tr>\n",
       "            <td>Water Tower Place     </td>\n",
       "        </tr>\n",
       "    </tbody>\n",
       "</table>\n",
       "<p>... (190 rows omitted)</p>"
      ],
      "text/plain": [
       "name\n",
       "Woolworth Building\n",
       "Willis Tower\n",
       "Williams Tower\n",
       "Westin Peachtree Plaza\n",
       "Wells Fargo Tower\n",
       "Wells Fargo Tower\n",
       "Wells Fargo Plaza\n",
       "Wells Fargo Center\n",
       "Wells Fargo Center\n",
       "Water Tower Place\n",
       "... (190 rows omitted)"
      ]
     },
     "execution_count": 14,
     "metadata": {},
     "output_type": "execute_result"
    }
   ],
   "source": [
    "skyscrapers.select('name').sort('name', descending = True) #combining Table operations: select() and sort()\n",
    "\n",
    "# we are selecting a column from the skyscrapers first \n",
    "# and then\n",
    "# sorting by name"
   ]
  },
  {
   "cell_type": "code",
   "execution_count": 15,
   "metadata": {},
   "outputs": [
    {
     "data": {
      "text/html": [
       "<table border=\"1\" class=\"dataframe\">\n",
       "    <thead>\n",
       "        <tr>\n",
       "            <th>name</th> <th>material</th> <th>city</th> <th>height</th> <th>completed</th>\n",
       "        </tr>\n",
       "    </thead>\n",
       "    <tbody>\n",
       "        <tr>\n",
       "            <td>One World Trade Center           </td> <td>composite</td> <td>New York City</td> <td>541.3 </td> <td>2014     </td>\n",
       "        </tr>\n",
       "        <tr>\n",
       "            <td>Willis Tower                     </td> <td>steel    </td> <td>Chicago      </td> <td>442.14</td> <td>1974     </td>\n",
       "        </tr>\n",
       "        <tr>\n",
       "            <td>432 Park Avenue                  </td> <td>concrete </td> <td>New York City</td> <td>425.5 </td> <td>2015     </td>\n",
       "        </tr>\n",
       "        <tr>\n",
       "            <td>Trump International Hotel & Tower</td> <td>concrete </td> <td>Chicago      </td> <td>423.22</td> <td>2009     </td>\n",
       "        </tr>\n",
       "        <tr>\n",
       "            <td>Empire State Building            </td> <td>steel    </td> <td>New York City</td> <td>381   </td> <td>1931     </td>\n",
       "        </tr>\n",
       "        <tr>\n",
       "            <td>Bank of America Tower            </td> <td>composite</td> <td>New York City</td> <td>365.8 </td> <td>2009     </td>\n",
       "        </tr>\n",
       "        <tr>\n",
       "            <td>Stratosphere Tower               </td> <td>concrete </td> <td>Las Vegas    </td> <td>350.22</td> <td>1996     </td>\n",
       "        </tr>\n",
       "        <tr>\n",
       "            <td>Aon Center                       </td> <td>steel    </td> <td>Chicago      </td> <td>346.26</td> <td>1973     </td>\n",
       "        </tr>\n",
       "        <tr>\n",
       "            <td>John Hancock Center              </td> <td>steel    </td> <td>Chicago      </td> <td>343.69</td> <td>1969     </td>\n",
       "        </tr>\n",
       "        <tr>\n",
       "            <td>WITI TV Tower                    </td> <td>steel    </td> <td>Shorewood    </td> <td>329   </td> <td>1962     </td>\n",
       "        </tr>\n",
       "    </tbody>\n",
       "</table>\n",
       "<p>... (190 rows omitted)</p>"
      ],
      "text/plain": [
       "name                              | material  | city          | height | completed\n",
       "One World Trade Center            | composite | New York City | 541.3  | 2014\n",
       "Willis Tower                      | steel     | Chicago       | 442.14 | 1974\n",
       "432 Park Avenue                   | concrete  | New York City | 425.5  | 2015\n",
       "Trump International Hotel & Tower | concrete  | Chicago       | 423.22 | 2009\n",
       "Empire State Building             | steel     | New York City | 381    | 1931\n",
       "Bank of America Tower             | composite | New York City | 365.8  | 2009\n",
       "Stratosphere Tower                | concrete  | Las Vegas     | 350.22 | 1996\n",
       "Aon Center                        | steel     | Chicago       | 346.26 | 1973\n",
       "John Hancock Center               | steel     | Chicago       | 343.69 | 1969\n",
       "WITI TV Tower                     | steel     | Shorewood     | 329    | 1962\n",
       "... (190 rows omitted)"
      ]
     },
     "execution_count": 15,
     "metadata": {},
     "output_type": "execute_result"
    }
   ],
   "source": [
    "skyscrapers"
   ]
  },
  {
   "cell_type": "code",
   "execution_count": 20,
   "metadata": {},
   "outputs": [
    {
     "data": {
      "text/html": [
       "<table border=\"1\" class=\"dataframe\">\n",
       "    <thead>\n",
       "        <tr>\n",
       "            <th>name</th> <th>city</th> <th>height</th> <th>completed</th>\n",
       "        </tr>\n",
       "    </thead>\n",
       "    <tbody>\n",
       "        <tr>\n",
       "            <td>One World Trade Center           </td> <td>New York City</td> <td>541.3 </td> <td>2014     </td>\n",
       "        </tr>\n",
       "        <tr>\n",
       "            <td>Willis Tower                     </td> <td>Chicago      </td> <td>442.14</td> <td>1974     </td>\n",
       "        </tr>\n",
       "        <tr>\n",
       "            <td>432 Park Avenue                  </td> <td>New York City</td> <td>425.5 </td> <td>2015     </td>\n",
       "        </tr>\n",
       "        <tr>\n",
       "            <td>Trump International Hotel & Tower</td> <td>Chicago      </td> <td>423.22</td> <td>2009     </td>\n",
       "        </tr>\n",
       "        <tr>\n",
       "            <td>Empire State Building            </td> <td>New York City</td> <td>381   </td> <td>1931     </td>\n",
       "        </tr>\n",
       "        <tr>\n",
       "            <td>Bank of America Tower            </td> <td>New York City</td> <td>365.8 </td> <td>2009     </td>\n",
       "        </tr>\n",
       "        <tr>\n",
       "            <td>Stratosphere Tower               </td> <td>Las Vegas    </td> <td>350.22</td> <td>1996     </td>\n",
       "        </tr>\n",
       "        <tr>\n",
       "            <td>Aon Center                       </td> <td>Chicago      </td> <td>346.26</td> <td>1973     </td>\n",
       "        </tr>\n",
       "        <tr>\n",
       "            <td>John Hancock Center              </td> <td>Chicago      </td> <td>343.69</td> <td>1969     </td>\n",
       "        </tr>\n",
       "        <tr>\n",
       "            <td>WITI TV Tower                    </td> <td>Shorewood    </td> <td>329   </td> <td>1962     </td>\n",
       "        </tr>\n",
       "    </tbody>\n",
       "</table>\n",
       "<p>... (190 rows omitted)</p>"
      ],
      "text/plain": [
       "name                              | city          | height | completed\n",
       "One World Trade Center            | New York City | 541.3  | 2014\n",
       "Willis Tower                      | Chicago       | 442.14 | 1974\n",
       "432 Park Avenue                   | New York City | 425.5  | 2015\n",
       "Trump International Hotel & Tower | Chicago       | 423.22 | 2009\n",
       "Empire State Building             | New York City | 381    | 1931\n",
       "Bank of America Tower             | New York City | 365.8  | 2009\n",
       "Stratosphere Tower                | Las Vegas     | 350.22 | 1996\n",
       "Aon Center                        | Chicago       | 346.26 | 1973\n",
       "John Hancock Center               | Chicago       | 343.69 | 1969\n",
       "WITI TV Tower                     | Shorewood     | 329    | 1962\n",
       "... (190 rows omitted)"
      ]
     },
     "execution_count": 20,
     "metadata": {},
     "output_type": "execute_result"
    }
   ],
   "source": [
    "skyscrapers.drop('material')"
   ]
  },
  {
   "cell_type": "code",
   "execution_count": 21,
   "metadata": {},
   "outputs": [
    {
     "data": {
      "text/html": [
       "<table border=\"1\" class=\"dataframe\">\n",
       "    <thead>\n",
       "        <tr>\n",
       "            <th>name</th> <th>material</th> <th>city</th> <th>height</th> <th>completed</th>\n",
       "        </tr>\n",
       "    </thead>\n",
       "    <tbody>\n",
       "        <tr>\n",
       "            <td>One World Trade Center           </td> <td>composite</td> <td>New York City</td> <td>541.3 </td> <td>2014     </td>\n",
       "        </tr>\n",
       "        <tr>\n",
       "            <td>Willis Tower                     </td> <td>steel    </td> <td>Chicago      </td> <td>442.14</td> <td>1974     </td>\n",
       "        </tr>\n",
       "        <tr>\n",
       "            <td>432 Park Avenue                  </td> <td>concrete </td> <td>New York City</td> <td>425.5 </td> <td>2015     </td>\n",
       "        </tr>\n",
       "        <tr>\n",
       "            <td>Trump International Hotel & Tower</td> <td>concrete </td> <td>Chicago      </td> <td>423.22</td> <td>2009     </td>\n",
       "        </tr>\n",
       "        <tr>\n",
       "            <td>Empire State Building            </td> <td>steel    </td> <td>New York City</td> <td>381   </td> <td>1931     </td>\n",
       "        </tr>\n",
       "        <tr>\n",
       "            <td>Bank of America Tower            </td> <td>composite</td> <td>New York City</td> <td>365.8 </td> <td>2009     </td>\n",
       "        </tr>\n",
       "        <tr>\n",
       "            <td>Stratosphere Tower               </td> <td>concrete </td> <td>Las Vegas    </td> <td>350.22</td> <td>1996     </td>\n",
       "        </tr>\n",
       "        <tr>\n",
       "            <td>Aon Center                       </td> <td>steel    </td> <td>Chicago      </td> <td>346.26</td> <td>1973     </td>\n",
       "        </tr>\n",
       "        <tr>\n",
       "            <td>John Hancock Center              </td> <td>steel    </td> <td>Chicago      </td> <td>343.69</td> <td>1969     </td>\n",
       "        </tr>\n",
       "        <tr>\n",
       "            <td>WITI TV Tower                    </td> <td>steel    </td> <td>Shorewood    </td> <td>329   </td> <td>1962     </td>\n",
       "        </tr>\n",
       "    </tbody>\n",
       "</table>\n",
       "<p>... (190 rows omitted)</p>"
      ],
      "text/plain": [
       "name                              | material  | city          | height | completed\n",
       "One World Trade Center            | composite | New York City | 541.3  | 2014\n",
       "Willis Tower                      | steel     | Chicago       | 442.14 | 1974\n",
       "432 Park Avenue                   | concrete  | New York City | 425.5  | 2015\n",
       "Trump International Hotel & Tower | concrete  | Chicago       | 423.22 | 2009\n",
       "Empire State Building             | steel     | New York City | 381    | 1931\n",
       "Bank of America Tower             | composite | New York City | 365.8  | 2009\n",
       "Stratosphere Tower                | concrete  | Las Vegas     | 350.22 | 1996\n",
       "Aon Center                        | steel     | Chicago       | 346.26 | 1973\n",
       "John Hancock Center               | steel     | Chicago       | 343.69 | 1969\n",
       "WITI TV Tower                     | steel     | Shorewood     | 329    | 1962\n",
       "... (190 rows omitted)"
      ]
     },
     "execution_count": 21,
     "metadata": {},
     "output_type": "execute_result"
    }
   ],
   "source": [
    "skyscrapers"
   ]
  },
  {
   "cell_type": "code",
   "execution_count": 23,
   "metadata": {},
   "outputs": [
    {
     "data": {
      "text/html": [
       "<table border=\"1\" class=\"dataframe\">\n",
       "    <thead>\n",
       "        <tr>\n",
       "            <th>name</th> <th>city</th> <th>height</th> <th>completed</th>\n",
       "        </tr>\n",
       "    </thead>\n",
       "    <tbody>\n",
       "        <tr>\n",
       "            <td>One World Trade Center           </td> <td>New York City</td> <td>541.3 </td> <td>2014     </td>\n",
       "        </tr>\n",
       "        <tr>\n",
       "            <td>Willis Tower                     </td> <td>Chicago      </td> <td>442.14</td> <td>1974     </td>\n",
       "        </tr>\n",
       "        <tr>\n",
       "            <td>432 Park Avenue                  </td> <td>New York City</td> <td>425.5 </td> <td>2015     </td>\n",
       "        </tr>\n",
       "        <tr>\n",
       "            <td>Trump International Hotel & Tower</td> <td>Chicago      </td> <td>423.22</td> <td>2009     </td>\n",
       "        </tr>\n",
       "        <tr>\n",
       "            <td>Empire State Building            </td> <td>New York City</td> <td>381   </td> <td>1931     </td>\n",
       "        </tr>\n",
       "        <tr>\n",
       "            <td>Bank of America Tower            </td> <td>New York City</td> <td>365.8 </td> <td>2009     </td>\n",
       "        </tr>\n",
       "        <tr>\n",
       "            <td>Stratosphere Tower               </td> <td>Las Vegas    </td> <td>350.22</td> <td>1996     </td>\n",
       "        </tr>\n",
       "        <tr>\n",
       "            <td>Aon Center                       </td> <td>Chicago      </td> <td>346.26</td> <td>1973     </td>\n",
       "        </tr>\n",
       "        <tr>\n",
       "            <td>John Hancock Center              </td> <td>Chicago      </td> <td>343.69</td> <td>1969     </td>\n",
       "        </tr>\n",
       "        <tr>\n",
       "            <td>WITI TV Tower                    </td> <td>Shorewood    </td> <td>329   </td> <td>1962     </td>\n",
       "        </tr>\n",
       "    </tbody>\n",
       "</table>\n",
       "<p>... (190 rows omitted)</p>"
      ],
      "text/plain": [
       "name                              | city          | height | completed\n",
       "One World Trade Center            | New York City | 541.3  | 2014\n",
       "Willis Tower                      | Chicago       | 442.14 | 1974\n",
       "432 Park Avenue                   | New York City | 425.5  | 2015\n",
       "Trump International Hotel & Tower | Chicago       | 423.22 | 2009\n",
       "Empire State Building             | New York City | 381    | 1931\n",
       "Bank of America Tower             | New York City | 365.8  | 2009\n",
       "Stratosphere Tower                | Las Vegas     | 350.22 | 1996\n",
       "Aon Center                        | Chicago       | 346.26 | 1973\n",
       "John Hancock Center               | Chicago       | 343.69 | 1969\n",
       "WITI TV Tower                     | Shorewood     | 329    | 1962\n",
       "... (190 rows omitted)"
      ]
     },
     "execution_count": 23,
     "metadata": {},
     "output_type": "execute_result"
    }
   ],
   "source": [
    "skyscrapersnomaterial = skyscrapers.drop('material')\n",
    "skyscrapersnomaterial"
   ]
  },
  {
   "cell_type": "code",
   "execution_count": 19,
   "metadata": {},
   "outputs": [
    {
     "data": {
      "text/html": [
       "<table border=\"1\" class=\"dataframe\">\n",
       "    <thead>\n",
       "        <tr>\n",
       "            <th>name</th> <th>material</th> <th>city</th> <th>height</th> <th>completed</th>\n",
       "        </tr>\n",
       "    </thead>\n",
       "    <tbody>\n",
       "        <tr>\n",
       "            <td>One World Trade Center           </td> <td>composite</td> <td>New York City</td> <td>541.3 </td> <td>2014     </td>\n",
       "        </tr>\n",
       "        <tr>\n",
       "            <td>Willis Tower                     </td> <td>steel    </td> <td>Chicago      </td> <td>442.14</td> <td>1974     </td>\n",
       "        </tr>\n",
       "        <tr>\n",
       "            <td>432 Park Avenue                  </td> <td>concrete </td> <td>New York City</td> <td>425.5 </td> <td>2015     </td>\n",
       "        </tr>\n",
       "        <tr>\n",
       "            <td>Trump International Hotel & Tower</td> <td>concrete </td> <td>Chicago      </td> <td>423.22</td> <td>2009     </td>\n",
       "        </tr>\n",
       "        <tr>\n",
       "            <td>Empire State Building            </td> <td>steel    </td> <td>New York City</td> <td>381   </td> <td>1931     </td>\n",
       "        </tr>\n",
       "        <tr>\n",
       "            <td>Bank of America Tower            </td> <td>composite</td> <td>New York City</td> <td>365.8 </td> <td>2009     </td>\n",
       "        </tr>\n",
       "        <tr>\n",
       "            <td>Stratosphere Tower               </td> <td>concrete </td> <td>Las Vegas    </td> <td>350.22</td> <td>1996     </td>\n",
       "        </tr>\n",
       "        <tr>\n",
       "            <td>Aon Center                       </td> <td>steel    </td> <td>Chicago      </td> <td>346.26</td> <td>1973     </td>\n",
       "        </tr>\n",
       "        <tr>\n",
       "            <td>John Hancock Center              </td> <td>steel    </td> <td>Chicago      </td> <td>343.69</td> <td>1969     </td>\n",
       "        </tr>\n",
       "        <tr>\n",
       "            <td>WITI TV Tower                    </td> <td>steel    </td> <td>Shorewood    </td> <td>329   </td> <td>1962     </td>\n",
       "        </tr>\n",
       "    </tbody>\n",
       "</table>\n",
       "<p>... (190 rows omitted)</p>"
      ],
      "text/plain": [
       "name                              | material  | city          | height | completed\n",
       "One World Trade Center            | composite | New York City | 541.3  | 2014\n",
       "Willis Tower                      | steel     | Chicago       | 442.14 | 1974\n",
       "432 Park Avenue                   | concrete  | New York City | 425.5  | 2015\n",
       "Trump International Hotel & Tower | concrete  | Chicago       | 423.22 | 2009\n",
       "Empire State Building             | steel     | New York City | 381    | 1931\n",
       "Bank of America Tower             | composite | New York City | 365.8  | 2009\n",
       "Stratosphere Tower                | concrete  | Las Vegas     | 350.22 | 1996\n",
       "Aon Center                        | steel     | Chicago       | 346.26 | 1973\n",
       "John Hancock Center               | steel     | Chicago       | 343.69 | 1969\n",
       "WITI TV Tower                     | steel     | Shorewood     | 329    | 1962\n",
       "... (190 rows omitted)"
      ]
     },
     "execution_count": 19,
     "metadata": {},
     "output_type": "execute_result"
    }
   ],
   "source": [
    "skyscrapers"
   ]
  },
  {
   "cell_type": "markdown",
   "metadata": {
    "tags": []
   },
   "source": [
    "## Subsetting:\n",
    "- subset rows using `where()`\n",
    "    - skyscrapers in LA\n",
    "    - skyscrapers in LA that were completed in 1971\n",
    "- subset rows using `where()` and [predicates](http://www.data8.org/datascience/reference-nb/datascience-reference.html#Table.where-Predicates)\n",
    "    - skyscrapers that were completed after 2014\n",
    "    - skyscrapers that were completed in the 1990s\n",
    "    \n",
    "> some predicates: \n",
    "> - `are.equal_to()` \n",
    "> - `are.above()`,`are.below()`\n",
    "> - `are.above_or_equal_to()`, `are.below_or_equal_to()`, \n",
    "> - `are.between()`, `are.between_or_equal_to()`, \n",
    "\n",
    "- skyscrapers that are a 'Tower' (using `are.containing()`) \n",
    "- skyscrapers that are in Chicago or Houston  (using `are.contained_in()`)"
   ]
  },
  {
   "cell_type": "code",
   "execution_count": 27,
   "metadata": {},
   "outputs": [
    {
     "data": {
      "text/html": [
       "<table border=\"1\" class=\"dataframe\">\n",
       "    <thead>\n",
       "        <tr>\n",
       "            <th>name</th> <th>material</th> <th>city</th> <th>height</th> <th>completed</th>\n",
       "        </tr>\n",
       "    </thead>\n",
       "    <tbody>\n",
       "        <tr>\n",
       "            <td>U.S. Bank Tower      </td> <td>steel   </td> <td>Los Angeles</td> <td>310.29</td> <td>1990     </td>\n",
       "        </tr>\n",
       "        <tr>\n",
       "            <td>Aon Center           </td> <td>steel   </td> <td>Los Angeles</td> <td>261.52</td> <td>1974     </td>\n",
       "        </tr>\n",
       "        <tr>\n",
       "            <td>Two California Plaza </td> <td>steel   </td> <td>Los Angeles</td> <td>228.6 </td> <td>1992     </td>\n",
       "        </tr>\n",
       "        <tr>\n",
       "            <td>Gas Company Tower    </td> <td>steel   </td> <td>Los Angeles</td> <td>228.3 </td> <td>1991     </td>\n",
       "        </tr>\n",
       "        <tr>\n",
       "            <td>Bank of America Plaza</td> <td>steel   </td> <td>Los Angeles</td> <td>224.03</td> <td>1975     </td>\n",
       "        </tr>\n",
       "        <tr>\n",
       "            <td>777 Tower            </td> <td>steel   </td> <td>Los Angeles</td> <td>221   </td> <td>1991     </td>\n",
       "        </tr>\n",
       "        <tr>\n",
       "            <td>Wells Fargo Tower    </td> <td>steel   </td> <td>Los Angeles</td> <td>220.37</td> <td>1983     </td>\n",
       "        </tr>\n",
       "        <tr>\n",
       "            <td>Figueroa at Wilshire </td> <td>steel   </td> <td>Los Angeles</td> <td>218.54</td> <td>1989     </td>\n",
       "        </tr>\n",
       "        <tr>\n",
       "            <td>City National Tower  </td> <td>steel   </td> <td>Los Angeles</td> <td>213.06</td> <td>1971     </td>\n",
       "        </tr>\n",
       "        <tr>\n",
       "            <td>Paul Hastings Tower  </td> <td>steel   </td> <td>Los Angeles</td> <td>213.06</td> <td>1971     </td>\n",
       "        </tr>\n",
       "    </tbody>\n",
       "</table>\n",
       "<p>... (1 rows omitted)</p>"
      ],
      "text/plain": [
       "name                  | material | city        | height | completed\n",
       "U.S. Bank Tower       | steel    | Los Angeles | 310.29 | 1990\n",
       "Aon Center            | steel    | Los Angeles | 261.52 | 1974\n",
       "Two California Plaza  | steel    | Los Angeles | 228.6  | 1992\n",
       "Gas Company Tower     | steel    | Los Angeles | 228.3  | 1991\n",
       "Bank of America Plaza | steel    | Los Angeles | 224.03 | 1975\n",
       "777 Tower             | steel    | Los Angeles | 221    | 1991\n",
       "Wells Fargo Tower     | steel    | Los Angeles | 220.37 | 1983\n",
       "Figueroa at Wilshire  | steel    | Los Angeles | 218.54 | 1989\n",
       "City National Tower   | steel    | Los Angeles | 213.06 | 1971\n",
       "Paul Hastings Tower   | steel    | Los Angeles | 213.06 | 1971\n",
       "... (1 rows omitted)"
      ]
     },
     "execution_count": 27,
     "metadata": {},
     "output_type": "execute_result"
    }
   ],
   "source": [
    "skyscrapers.where('city', 'Los Angeles') \n",
    "# looking at 'city' column in skyscrapers\n",
    "# matching for 'Los Angeles' string"
   ]
  },
  {
   "cell_type": "code",
   "execution_count": 30,
   "metadata": {},
   "outputs": [
    {
     "data": {
      "text/html": [
       "<table border=\"1\" class=\"dataframe\">\n",
       "    <thead>\n",
       "        <tr>\n",
       "            <th>name</th> <th>material</th> <th>city</th> <th>height</th> <th>completed</th>\n",
       "        </tr>\n",
       "    </thead>\n",
       "    <tbody>\n",
       "        <tr>\n",
       "            <td>City National Tower</td> <td>steel   </td> <td>Los Angeles</td> <td>213.06</td> <td>1971     </td>\n",
       "        </tr>\n",
       "        <tr>\n",
       "            <td>Paul Hastings Tower</td> <td>steel   </td> <td>Los Angeles</td> <td>213.06</td> <td>1971     </td>\n",
       "        </tr>\n",
       "    </tbody>\n",
       "</table>"
      ],
      "text/plain": [
       "name                | material | city        | height | completed\n",
       "City National Tower | steel    | Los Angeles | 213.06 | 1971\n",
       "Paul Hastings Tower | steel    | Los Angeles | 213.06 | 1971"
      ]
     },
     "execution_count": 30,
     "metadata": {},
     "output_type": "execute_result"
    }
   ],
   "source": [
    "skyscrapers.where('city', 'Los Angeles').where('completed', 1971)\n",
    "# two skyscrapers in la, completed in 1971"
   ]
  },
  {
   "cell_type": "code",
   "execution_count": 36,
   "metadata": {},
   "outputs": [
    {
     "data": {
      "text/html": [
       "<table border=\"1\" class=\"dataframe\">\n",
       "    <thead>\n",
       "        <tr>\n",
       "            <th>name</th> <th>material</th> <th>city</th> <th>height</th> <th>completed</th>\n",
       "        </tr>\n",
       "    </thead>\n",
       "    <tbody>\n",
       "        <tr>\n",
       "            <td>U.S. Bank Tower                          </td> <td>steel   </td> <td>Los Angeles</td> <td>310.29</td> <td>1990     </td>\n",
       "        </tr>\n",
       "        <tr>\n",
       "            <td>Aon Center                               </td> <td>steel   </td> <td>Los Angeles</td> <td>261.52</td> <td>1974     </td>\n",
       "        </tr>\n",
       "        <tr>\n",
       "            <td>Two California Plaza                     </td> <td>steel   </td> <td>Los Angeles</td> <td>228.6 </td> <td>1992     </td>\n",
       "        </tr>\n",
       "        <tr>\n",
       "            <td>Gas Company Tower                        </td> <td>steel   </td> <td>Los Angeles</td> <td>228.3 </td> <td>1991     </td>\n",
       "        </tr>\n",
       "        <tr>\n",
       "            <td>Bank of America Plaza                    </td> <td>steel   </td> <td>Los Angeles</td> <td>224.03</td> <td>1975     </td>\n",
       "        </tr>\n",
       "        <tr>\n",
       "            <td>777 Tower                                </td> <td>steel   </td> <td>Los Angeles</td> <td>221   </td> <td>1991     </td>\n",
       "        </tr>\n",
       "        <tr>\n",
       "            <td>Wells Fargo Tower                        </td> <td>steel   </td> <td>Los Angeles</td> <td>220.37</td> <td>1983     </td>\n",
       "        </tr>\n",
       "        <tr>\n",
       "            <td>Figueroa at Wilshire                     </td> <td>steel   </td> <td>Los Angeles</td> <td>218.54</td> <td>1989     </td>\n",
       "        </tr>\n",
       "        <tr>\n",
       "            <td>City National Tower                      </td> <td>steel   </td> <td>Los Angeles</td> <td>213.06</td> <td>1971     </td>\n",
       "        </tr>\n",
       "        <tr>\n",
       "            <td>Paul Hastings Tower                      </td> <td>steel   </td> <td>Los Angeles</td> <td>213.06</td> <td>1971     </td>\n",
       "        </tr>\n",
       "        <tr>\n",
       "            <td>Ritz-Carlton/Marriott Marquis Los Angeles</td> <td>steel   </td> <td>Los Angeles</td> <td>203.28</td> <td>2010     </td>\n",
       "        </tr>\n",
       "    </tbody>\n",
       "</table>"
      ],
      "text/plain": [
       "<IPython.core.display.HTML object>"
      ]
     },
     "metadata": {},
     "output_type": "display_data"
    }
   ],
   "source": [
    "la_skyscrapers = skyscrapers.where('city', 'Los Angeles')\n",
    "la_skyscrapers.show()"
   ]
  },
  {
   "cell_type": "code",
   "execution_count": 33,
   "metadata": {
    "tags": []
   },
   "outputs": [
    {
     "data": {
      "text/html": [
       "<table border=\"1\" class=\"dataframe\">\n",
       "    <thead>\n",
       "        <tr>\n",
       "            <th>name</th> <th>material</th> <th>city</th> <th>height</th> <th>completed</th>\n",
       "        </tr>\n",
       "    </thead>\n",
       "    <tbody>\n",
       "        <tr>\n",
       "            <td>Ritz-Carlton/Marriott Marquis Los Angeles</td> <td>steel   </td> <td>Los Angeles</td> <td>203.28</td> <td>2010     </td>\n",
       "        </tr>\n",
       "    </tbody>\n",
       "</table>"
      ],
      "text/plain": [
       "name                                      | material | city        | height | completed\n",
       "Ritz-Carlton/Marriott Marquis Los Angeles | steel    | Los Angeles | 203.28 | 2010"
      ]
     },
     "execution_count": 33,
     "metadata": {},
     "output_type": "execute_result"
    }
   ],
   "source": [
    "la_skyscrapers.where('completed', are.above_or_equal_to(2000))"
   ]
  },
  {
   "cell_type": "code",
   "execution_count": 35,
   "metadata": {},
   "outputs": [
    {
     "data": {
      "text/html": [
       "<table border=\"1\" class=\"dataframe\">\n",
       "    <thead>\n",
       "        <tr>\n",
       "            <th>name</th> <th>material</th> <th>city</th> <th>height</th> <th>completed</th>\n",
       "        </tr>\n",
       "    </thead>\n",
       "    <tbody>\n",
       "        <tr>\n",
       "            <td>U.S. Bank Tower     </td> <td>steel   </td> <td>Los Angeles</td> <td>310.29</td> <td>1990     </td>\n",
       "        </tr>\n",
       "        <tr>\n",
       "            <td>Wells Fargo Tower   </td> <td>steel   </td> <td>Los Angeles</td> <td>220.37</td> <td>1983     </td>\n",
       "        </tr>\n",
       "        <tr>\n",
       "            <td>Figueroa at Wilshire</td> <td>steel   </td> <td>Los Angeles</td> <td>218.54</td> <td>1989     </td>\n",
       "        </tr>\n",
       "    </tbody>\n",
       "</table>"
      ],
      "text/plain": [
       "name                 | material | city        | height | completed\n",
       "U.S. Bank Tower      | steel    | Los Angeles | 310.29 | 1990\n",
       "Wells Fargo Tower    | steel    | Los Angeles | 220.37 | 1983\n",
       "Figueroa at Wilshire | steel    | Los Angeles | 218.54 | 1989"
      ]
     },
     "execution_count": 35,
     "metadata": {},
     "output_type": "execute_result"
    }
   ],
   "source": [
    "la_skyscrapers.where('completed', are.between_or_equal_to(1980, 1990))"
   ]
  },
  {
   "cell_type": "code",
   "execution_count": 37,
   "metadata": {},
   "outputs": [
    {
     "data": {
      "text/html": [
       "<table border=\"1\" class=\"dataframe\">\n",
       "    <thead>\n",
       "        <tr>\n",
       "            <th>name</th> <th>material</th> <th>city</th> <th>height</th> <th>completed</th>\n",
       "        </tr>\n",
       "    </thead>\n",
       "    <tbody>\n",
       "        <tr>\n",
       "            <td>One World Trade Center           </td> <td>composite     </td> <td>New York City</td> <td>541.3 </td> <td>2014     </td>\n",
       "        </tr>\n",
       "        <tr>\n",
       "            <td>432 Park Avenue                  </td> <td>concrete      </td> <td>New York City</td> <td>425.5 </td> <td>2015     </td>\n",
       "        </tr>\n",
       "        <tr>\n",
       "            <td>Trump International Hotel & Tower</td> <td>concrete      </td> <td>Chicago      </td> <td>423.22</td> <td>2009     </td>\n",
       "        </tr>\n",
       "        <tr>\n",
       "            <td>Bank of America Tower            </td> <td>composite     </td> <td>New York City</td> <td>365.8 </td> <td>2009     </td>\n",
       "        </tr>\n",
       "        <tr>\n",
       "            <td>New York Times Tower             </td> <td>steel         </td> <td>New York City</td> <td>318.77</td> <td>2007     </td>\n",
       "        </tr>\n",
       "        <tr>\n",
       "            <td>One57                            </td> <td>steel/concrete</td> <td>New York City</td> <td>306.07</td> <td>2014     </td>\n",
       "        </tr>\n",
       "        <tr>\n",
       "            <td>4 World Trade Center             </td> <td>composite     </td> <td>New York City</td> <td>297.73</td> <td>2014     </td>\n",
       "        </tr>\n",
       "        <tr>\n",
       "            <td>Comcast Center                   </td> <td>composite     </td> <td>Philadelphia </td> <td>296.73</td> <td>2008     </td>\n",
       "        </tr>\n",
       "        <tr>\n",
       "            <td>Eight Spruce Street              </td> <td>concrete      </td> <td>New York City</td> <td>265.18</td> <td>2011     </td>\n",
       "        </tr>\n",
       "        <tr>\n",
       "            <td>Trump World Tower                </td> <td>concrete      </td> <td>New York City</td> <td>262.44</td> <td>2001     </td>\n",
       "        </tr>\n",
       "    </tbody>\n",
       "</table>\n",
       "<p>... (56 rows omitted)</p>"
      ],
      "text/plain": [
       "name                              | material       | city          | height | completed\n",
       "One World Trade Center            | composite      | New York City | 541.3  | 2014\n",
       "432 Park Avenue                   | concrete       | New York City | 425.5  | 2015\n",
       "Trump International Hotel & Tower | concrete       | Chicago       | 423.22 | 2009\n",
       "Bank of America Tower             | composite      | New York City | 365.8  | 2009\n",
       "New York Times Tower              | steel          | New York City | 318.77 | 2007\n",
       "One57                             | steel/concrete | New York City | 306.07 | 2014\n",
       "4 World Trade Center              | composite      | New York City | 297.73 | 2014\n",
       "Comcast Center                    | composite      | Philadelphia  | 296.73 | 2008\n",
       "Eight Spruce Street               | concrete       | New York City | 265.18 | 2011\n",
       "Trump World Tower                 | concrete       | New York City | 262.44 | 2001\n",
       "... (56 rows omitted)"
      ]
     },
     "execution_count": 37,
     "metadata": {},
     "output_type": "execute_result"
    }
   ],
   "source": [
    "skyscrapers.where('completed', are.above_or_equal_to(2000))"
   ]
  },
  {
   "cell_type": "code",
   "execution_count": 38,
   "metadata": {},
   "outputs": [
    {
     "data": {
      "text/html": [
       "<table border=\"1\" class=\"dataframe\">\n",
       "    <thead>\n",
       "        <tr>\n",
       "            <th>name</th> <th>material</th> <th>city</th> <th>height</th> <th>completed</th>\n",
       "        </tr>\n",
       "    </thead>\n",
       "    <tbody>\n",
       "        <tr>\n",
       "            <td>U.S. Bank Tower           </td> <td>steel    </td> <td>Los Angeles </td> <td>310.29</td> <td>1990     </td>\n",
       "        </tr>\n",
       "        <tr>\n",
       "            <td>The Franklin - North Tower</td> <td>composite</td> <td>Chicago     </td> <td>306.94</td> <td>1989     </td>\n",
       "        </tr>\n",
       "        <tr>\n",
       "            <td>JPMorgan Chase Tower      </td> <td>composite</td> <td>Houston     </td> <td>305.41</td> <td>1982     </td>\n",
       "        </tr>\n",
       "        <tr>\n",
       "            <td>Two Prudential Plaza      </td> <td>concrete </td> <td>Chicago     </td> <td>303.28</td> <td>1990     </td>\n",
       "        </tr>\n",
       "        <tr>\n",
       "            <td>Wells Fargo Plaza         </td> <td>steel    </td> <td>Houston     </td> <td>302.37</td> <td>1983     </td>\n",
       "        </tr>\n",
       "        <tr>\n",
       "            <td>311 South Wacker Drive    </td> <td>concrete </td> <td>Chicago     </td> <td>292.92</td> <td>1990     </td>\n",
       "        </tr>\n",
       "        <tr>\n",
       "            <td>One Liberty Place         </td> <td>steel    </td> <td>Philadelphia</td> <td>288.04</td> <td>1987     </td>\n",
       "        </tr>\n",
       "        <tr>\n",
       "            <td>Columbia Center           </td> <td>composite</td> <td>Seattle     </td> <td>284.38</td> <td>1984     </td>\n",
       "        </tr>\n",
       "        <tr>\n",
       "            <td>Bank of America Plaza     </td> <td>composite</td> <td>Dallas      </td> <td>280.72</td> <td>1985     </td>\n",
       "        </tr>\n",
       "        <tr>\n",
       "            <td>Williams Tower            </td> <td>steel    </td> <td>Houston     </td> <td>274.63</td> <td>1982     </td>\n",
       "        </tr>\n",
       "    </tbody>\n",
       "</table>\n",
       "<p>... (48 rows omitted)</p>"
      ],
      "text/plain": [
       "name                       | material  | city         | height | completed\n",
       "U.S. Bank Tower            | steel     | Los Angeles  | 310.29 | 1990\n",
       "The Franklin - North Tower | composite | Chicago      | 306.94 | 1989\n",
       "JPMorgan Chase Tower       | composite | Houston      | 305.41 | 1982\n",
       "Two Prudential Plaza       | concrete  | Chicago      | 303.28 | 1990\n",
       "Wells Fargo Plaza          | steel     | Houston      | 302.37 | 1983\n",
       "311 South Wacker Drive     | concrete  | Chicago      | 292.92 | 1990\n",
       "One Liberty Place          | steel     | Philadelphia | 288.04 | 1987\n",
       "Columbia Center            | composite | Seattle      | 284.38 | 1984\n",
       "Bank of America Plaza      | composite | Dallas       | 280.72 | 1985\n",
       "Williams Tower             | steel     | Houston      | 274.63 | 1982\n",
       "... (48 rows omitted)"
      ]
     },
     "execution_count": 38,
     "metadata": {},
     "output_type": "execute_result"
    }
   ],
   "source": [
    "skyscrapers.where('completed', are.between_or_equal_to(1980, 1990))"
   ]
  },
  {
   "cell_type": "code",
   "execution_count": 40,
   "metadata": {},
   "outputs": [
    {
     "data": {
      "text/html": [
       "<table border=\"1\" class=\"dataframe\">\n",
       "    <thead>\n",
       "        <tr>\n",
       "            <th>name</th> <th>material</th> <th>city</th> <th>height</th> <th>completed</th>\n",
       "        </tr>\n",
       "    </thead>\n",
       "    <tbody>\n",
       "        <tr>\n",
       "            <td>Willis Tower                     </td> <td>steel    </td> <td>Chicago      </td> <td>442.14</td> <td>1974     </td>\n",
       "        </tr>\n",
       "        <tr>\n",
       "            <td>Trump International Hotel & Tower</td> <td>concrete </td> <td>Chicago      </td> <td>423.22</td> <td>2009     </td>\n",
       "        </tr>\n",
       "        <tr>\n",
       "            <td>Bank of America Tower            </td> <td>composite</td> <td>New York City</td> <td>365.8 </td> <td>2009     </td>\n",
       "        </tr>\n",
       "        <tr>\n",
       "            <td>Stratosphere Tower               </td> <td>concrete </td> <td>Las Vegas    </td> <td>350.22</td> <td>1996     </td>\n",
       "        </tr>\n",
       "        <tr>\n",
       "            <td>WITI TV Tower                    </td> <td>steel    </td> <td>Shorewood    </td> <td>329   </td> <td>1962     </td>\n",
       "        </tr>\n",
       "        <tr>\n",
       "            <td>New York Times Tower             </td> <td>steel    </td> <td>New York City</td> <td>318.77</td> <td>2007     </td>\n",
       "        </tr>\n",
       "        <tr>\n",
       "            <td>U.S. Bank Tower                  </td> <td>steel    </td> <td>Los Angeles  </td> <td>310.29</td> <td>1990     </td>\n",
       "        </tr>\n",
       "        <tr>\n",
       "            <td>The Franklin - North Tower       </td> <td>composite</td> <td>Chicago      </td> <td>306.94</td> <td>1989     </td>\n",
       "        </tr>\n",
       "        <tr>\n",
       "            <td>JPMorgan Chase Tower             </td> <td>composite</td> <td>Houston      </td> <td>305.41</td> <td>1982     </td>\n",
       "        </tr>\n",
       "        <tr>\n",
       "            <td>Key Tower                        </td> <td>composite</td> <td>Cleveland    </td> <td>288.65</td> <td>1991     </td>\n",
       "        </tr>\n",
       "    </tbody>\n",
       "</table>\n",
       "<p>... (48 rows omitted)</p>"
      ],
      "text/plain": [
       "name                              | material  | city          | height | completed\n",
       "Willis Tower                      | steel     | Chicago       | 442.14 | 1974\n",
       "Trump International Hotel & Tower | concrete  | Chicago       | 423.22 | 2009\n",
       "Bank of America Tower             | composite | New York City | 365.8  | 2009\n",
       "Stratosphere Tower                | concrete  | Las Vegas     | 350.22 | 1996\n",
       "WITI TV Tower                     | steel     | Shorewood     | 329    | 1962\n",
       "New York Times Tower              | steel     | New York City | 318.77 | 2007\n",
       "U.S. Bank Tower                   | steel     | Los Angeles   | 310.29 | 1990\n",
       "The Franklin - North Tower        | composite | Chicago       | 306.94 | 1989\n",
       "JPMorgan Chase Tower              | composite | Houston       | 305.41 | 1982\n",
       "Key Tower                         | composite | Cleveland     | 288.65 | 1991\n",
       "... (48 rows omitted)"
      ]
     },
     "execution_count": 40,
     "metadata": {},
     "output_type": "execute_result"
    }
   ],
   "source": [
    "skyscrapers.where('name', are.containing('Tower'))"
   ]
  },
  {
   "cell_type": "markdown",
   "metadata": {
    "tags": []
   },
   "source": [
    "## Visualizations\n",
    "1. read the csv `data/movies_by_year.csv`\n",
    "1. Plot the number of movies over time using `plot()`\n",
    "1. Plot the number of movies vs the total gross using `scatter()`\n",
    "    - add a trendline\n",
    "    - try adding year as label"
   ]
  },
  {
   "cell_type": "code",
   "execution_count": 41,
   "metadata": {
    "tags": []
   },
   "outputs": [
    {
     "data": {
      "text/html": [
       "<table border=\"1\" class=\"dataframe\">\n",
       "    <thead>\n",
       "        <tr>\n",
       "            <th>Year</th> <th>Total Gross</th> <th>Number of Movies</th> <th>#1 Movie</th>\n",
       "        </tr>\n",
       "    </thead>\n",
       "    <tbody>\n",
       "        <tr>\n",
       "            <td>2022</td> <td>7373451042 </td> <td>449             </td> <td>Top Gun: Maverick                         </td>\n",
       "        </tr>\n",
       "        <tr>\n",
       "            <td>2021</td> <td>4861041470 </td> <td>406             </td> <td>Spider-Man: No Way Home                   </td>\n",
       "        </tr>\n",
       "        <tr>\n",
       "            <td>2020</td> <td>1426005959 </td> <td>334             </td> <td>Bad Boys for Life                         </td>\n",
       "        </tr>\n",
       "        <tr>\n",
       "            <td>2019</td> <td>11443939610</td> <td>792             </td> <td>Avengers: Endgame                         </td>\n",
       "        </tr>\n",
       "        <tr>\n",
       "            <td>2018</td> <td>11610362001</td> <td>872             </td> <td>Black Panther                             </td>\n",
       "        </tr>\n",
       "        <tr>\n",
       "            <td>2017</td> <td>11127252460</td> <td>742             </td> <td>Star Wars: Episode VIII - The Last Jedi   </td>\n",
       "        </tr>\n",
       "        <tr>\n",
       "            <td>2016</td> <td>11373700570</td> <td>737             </td> <td>Rogue One: A Star Wars Story              </td>\n",
       "        </tr>\n",
       "        <tr>\n",
       "            <td>2015</td> <td>11098999414</td> <td>707             </td> <td>Star Wars: Episode VII - The Force Awakens</td>\n",
       "        </tr>\n",
       "        <tr>\n",
       "            <td>2014</td> <td>10436810102</td> <td>708             </td> <td>American Sniper                           </td>\n",
       "        </tr>\n",
       "        <tr>\n",
       "            <td>2013</td> <td>10955270663</td> <td>686             </td> <td>The Hunger Games: Catching Fire           </td>\n",
       "        </tr>\n",
       "    </tbody>\n",
       "</table>\n",
       "<p>... (36 rows omitted)</p>"
      ],
      "text/plain": [
       "Year | Total Gross | Number of Movies | #1 Movie\n",
       "2022 | 7373451042  | 449              | Top Gun: Maverick\n",
       "2021 | 4861041470  | 406              | Spider-Man: No Way Home\n",
       "2020 | 1426005959  | 334              | Bad Boys for Life\n",
       "2019 | 11443939610 | 792              | Avengers: Endgame\n",
       "2018 | 11610362001 | 872              | Black Panther\n",
       "2017 | 11127252460 | 742              | Star Wars: Episode VIII - The Last Jedi\n",
       "2016 | 11373700570 | 737              | Rogue One: A Star Wars Story\n",
       "2015 | 11098999414 | 707              | Star Wars: Episode VII - The Force Awakens\n",
       "2014 | 10436810102 | 708              | American Sniper\n",
       "2013 | 10955270663 | 686              | The Hunger Games: Catching Fire\n",
       "... (36 rows omitted)"
      ]
     },
     "execution_count": 41,
     "metadata": {},
     "output_type": "execute_result"
    }
   ],
   "source": [
    "movies = Table.read_table('data/movies_by_year.csv')\n",
    "movies"
   ]
  },
  {
   "cell_type": "code",
   "execution_count": 43,
   "metadata": {},
   "outputs": [
    {
     "data": {
      "image/png": "[encoded data removed]",
      "text/plain": [
       "<Figure size 600x600 with 1 Axes>"
      ]
     },
     "metadata": {},
     "output_type": "display_data"
    }
   ],
   "source": [
    "movies.plot('Year', 'Number of Movies') # Year is x-axis, first argument\n",
    "# Number of movies is y-axis, second argument"
   ]
  },
  {
   "cell_type": "code",
   "execution_count": 44,
   "metadata": {},
   "outputs": [
    {
     "data": {
      "image/png": "[encoded data removed]",
      "text/plain": [
       "<Figure size 500x500 with 1 Axes>"
      ]
     },
     "metadata": {},
     "output_type": "display_data"
    }
   ],
   "source": [
    "movies.scatter('Number of Movies', 'Total Gross')"
   ]
  },
  {
   "cell_type": "code",
   "execution_count": 47,
   "metadata": {},
   "outputs": [
    {
     "data": {
      "image/png": "[encoded data removed]",
      "text/plain": [
       "<Figure size 500x500 with 1 Axes>"
      ]
     },
     "metadata": {},
     "output_type": "display_data"
    }
   ],
   "source": [
    "movies.scatter('Number of Movies', 'Total Gross', fit_line = True, labels = 'Year')"
   ]
  },
  {
   "cell_type": "code",
   "execution_count": 48,
   "metadata": {},
   "outputs": [
    {
     "name": "stdout",
     "output_type": "stream",
     "text": [
      "Help on function scatter in module datascience.tables:\n",
      "\n",
      "scatter(self, column_for_x, select=None, overlay=True, fit_line=False, group=None, labels=None, sizes=None, width=None, height=None, s=20, **vargs)\n",
      "    Creates scatterplots, optionally adding a line of best fit. Redirects to ``Table#iscatter``\n",
      "    if interactive plots are enabled with ``Table#interactive_plots``\n",
      "    \n",
      "    args:\n",
      "        ``column_for_x`` (``str``): the column to use for the x-axis values\n",
      "            and label of the scatter plots.\n",
      "    \n",
      "    kwargs:\n",
      "        ``overlay`` (``bool``): if true, creates a chart with one color\n",
      "            per data column; if false, each plot will be displayed separately.\n",
      "    \n",
      "        ``fit_line`` (``bool``): draw a line of best fit for each set of points.\n",
      "    \n",
      "        ``vargs``: additional arguments that get passed into `plt.scatter`.\n",
      "            see http://matplotlib.org/api/pyplot_api.html#matplotlib.pyplot.scatter\n",
      "            for additional arguments that can be passed into vargs. these\n",
      "            include: `marker` and `norm`, to name a couple.\n",
      "    \n",
      "        ``group``: a column of categories to be used for coloring dots per\n",
      "            each category grouping.\n",
      "    \n",
      "        ``labels``: a column of text labels to annotate dots.\n",
      "    \n",
      "        ``sizes``:  a column of values to set the relative areas of dots.\n",
      "    \n",
      "        ``s``: size of dots. if sizes is also provided, then dots will be\n",
      "            in the range 0 to 2 * s.\n",
      "    \n",
      "        ``colors``: (deprecated) A synonym for ``group``. Retained\n",
      "            temporarily for backwards compatibility. This argument\n",
      "            will be removed in future releases.\n",
      "    \n",
      "        ``show`` (``bool``): whether to show the figure if using interactive plots; if false, \n",
      "            the figure is returned instead\n",
      "    \n",
      "    Raises:\n",
      "        ValueError -- Every column, ``column_for_x`` or ``select``, must be numerical\n",
      "    \n",
      "    Returns:\n",
      "        Scatter plot of values of ``column_for_x`` plotted against\n",
      "        values for all other columns in self. Each plot uses the values in\n",
      "        `column_for_x` for horizontal positions. One plot is produced for\n",
      "        all other columns in self as y (or for the columns designated by\n",
      "        `select`).\n",
      "    \n",
      "    \n",
      "    >>> table = Table().with_columns(\n",
      "    ...     'x', make_array(9, 3, 3, 1),\n",
      "    ...     'y', make_array(1, 2, 2, 10),\n",
      "    ...     'z', make_array(3, 4, 5, 6))\n",
      "    >>> table\n",
      "    x    | y    | z\n",
      "    9    | 1    | 3\n",
      "    3    | 2    | 4\n",
      "    3    | 2    | 5\n",
      "    1    | 10   | 6\n",
      "    >>> table.scatter('x') # doctest: +SKIP\n",
      "    <scatterplot of values in y and z on x>\n",
      "    \n",
      "    >>> table.scatter('x', overlay=False) # doctest: +SKIP\n",
      "    <scatterplot of values in y on x>\n",
      "    <scatterplot of values in z on x>\n",
      "    \n",
      "    >>> table.scatter('x', fit_line=True) # doctest: +SKIP\n",
      "    <scatterplot of values in y and z on x with lines of best fit>\n",
      "\n"
     ]
    }
   ],
   "source": [
    "help(Table.scatter)"
   ]
  },
  {
   "cell_type": "code",
   "execution_count": null,
   "metadata": {},
   "outputs": [],
   "source": []
  },
  {
   "cell_type": "code",
   "execution_count": null,
   "metadata": {},
   "outputs": [],
   "source": []
  },
  {
   "cell_type": "markdown",
   "metadata": {
    "tags": []
   },
   "source": [
    "# Numbers \n",
    "Python has two number types \n",
    "- int: an integer of any size\n",
    "- float: a number with an optional fractional part\n",
    "\n",
    "An **int** never has a decimal point; a **float** always does. A float might be printed using scientific notation.\n",
    "\n",
    "Three limitations of float values:\n",
    "- They have limited size (but the limit is huge)\n",
    "- They have limited precision of 15-16 decimal places\n",
    "- After arithmetic, the final few decimal places can be wrong\n",
    "\n",
    "## Basics: ints vs floats\n",
    "- multiplication of two ints -> int\n",
    "- division of two ints -> float\n",
    "- raise integer by integer -> int\n",
    "- raise by float -> float\n",
    "- inspect data type using `type()` function"
   ]
  },
  {
   "cell_type": "code",
   "execution_count": 50,
   "metadata": {},
   "outputs": [
    {
     "data": {
      "text/plain": [
       "int"
      ]
     },
     "execution_count": 50,
     "metadata": {},
     "output_type": "execute_result"
    }
   ],
   "source": [
    "type(2 * 2) # type(4), evaluating 2*2 first and then evaluating type(4) "
   ]
  },
  {
   "cell_type": "code",
   "execution_count": 52,
   "metadata": {},
   "outputs": [
    {
     "data": {
      "text/plain": [
       "float"
      ]
     },
     "execution_count": 52,
     "metadata": {},
     "output_type": "execute_result"
    }
   ],
   "source": [
    "type(2 / 2)"
   ]
  },
  {
   "cell_type": "code",
   "execution_count": 54,
   "metadata": {},
   "outputs": [
    {
     "data": {
      "text/plain": [
       "8"
      ]
     },
     "execution_count": 54,
     "metadata": {},
     "output_type": "execute_result"
    }
   ],
   "source": [
    "2 ** 3"
   ]
  },
  {
   "cell_type": "code",
   "execution_count": 55,
   "metadata": {},
   "outputs": [
    {
     "data": {
      "text/plain": [
       "8.0"
      ]
     },
     "execution_count": 55,
     "metadata": {},
     "output_type": "execute_result"
    }
   ],
   "source": [
    "2 ** 3.0"
   ]
  },
  {
   "cell_type": "code",
   "execution_count": 56,
   "metadata": {},
   "outputs": [
    {
     "data": {
      "text/plain": [
       "1.0"
      ]
     },
     "execution_count": 56,
     "metadata": {},
     "output_type": "execute_result"
    }
   ],
   "source": [
    "3.0 / 3.0"
   ]
  },
  {
   "cell_type": "code",
   "execution_count": 57,
   "metadata": {},
   "outputs": [
    {
     "data": {
      "text/plain": [
       "9.0"
      ]
     },
     "execution_count": 57,
     "metadata": {},
     "output_type": "execute_result"
    }
   ],
   "source": [
    "3.0 * 3.0"
   ]
  },
  {
   "cell_type": "code",
   "execution_count": 58,
   "metadata": {},
   "outputs": [
    {
     "data": {
      "text/plain": [
       "27.0"
      ]
     },
     "execution_count": 58,
     "metadata": {},
     "output_type": "execute_result"
    }
   ],
   "source": [
    "3.0 ** 3.0"
   ]
  },
  {
   "cell_type": "markdown",
   "metadata": {},
   "source": [
    "## Why integers and float\n",
    "- ints (accurately) representing very large numbers. \n",
    "    - Try creating a very large number\n",
    "- floats have a limit in precision\n",
    "    - `10/3 != 3 1/3`\n",
    "    - try calculating difference between two precise numbers\n",
    "    - $(\\sqrt 13)^2 \\neq 13$"
   ]
  },
  {
   "cell_type": "code",
   "execution_count": 59,
   "metadata": {
    "tags": []
   },
   "outputs": [
    {
     "data": {
      "text/plain": [
       "1394123094810293481098"
      ]
     },
     "execution_count": 59,
     "metadata": {},
     "output_type": "execute_result"
    }
   ],
   "source": [
    "1394123094810293481098"
   ]
  },
  {
   "cell_type": "code",
   "execution_count": 60,
   "metadata": {},
   "outputs": [
    {
     "data": {
      "text/plain": [
       "123456789123456789123456789123456789123456789123456789123456789123456789123456789123456789123456789123456789123456789"
      ]
     },
     "execution_count": 60,
     "metadata": {},
     "output_type": "execute_result"
    }
   ],
   "source": [
    "123456789123456789123456789123456789123456789123456789123456789123456789123456789123456789123456789123456789123456789\n"
   ]
  },
  {
   "cell_type": "code",
   "execution_count": 66,
   "metadata": {},
   "outputs": [
    {
     "data": {
      "text/plain": [
       "True"
      ]
     },
     "execution_count": 66,
     "metadata": {},
     "output_type": "execute_result"
    }
   ],
   "source": [
    "10/3 == 3.333333333333333333333333"
   ]
  },
  {
   "cell_type": "code",
   "execution_count": 67,
   "metadata": {},
   "outputs": [
    {
     "data": {
      "text/plain": [
       "3.3333333333333335"
      ]
     },
     "execution_count": 67,
     "metadata": {},
     "output_type": "execute_result"
    }
   ],
   "source": [
    "3.333333333333333333333333"
   ]
  },
  {
   "cell_type": "code",
   "execution_count": 69,
   "metadata": {},
   "outputs": [
    {
     "data": {
      "text/plain": [
       "3.3300000000000001"
      ]
     },
     "execution_count": 69,
     "metadata": {},
     "output_type": "execute_result"
    }
   ],
   "source": [
    "np.round(10/3, 2)"
   ]
  },
  {
   "cell_type": "code",
   "execution_count": 70,
   "metadata": {},
   "outputs": [
    {
     "data": {
      "text/plain": [
       "0.0"
      ]
     },
     "execution_count": 70,
     "metadata": {},
     "output_type": "execute_result"
    }
   ],
   "source": [
    "3.333333333333333333333333 - 3.333333333333333333333332"
   ]
  },
  {
   "cell_type": "code",
   "execution_count": 74,
   "metadata": {},
   "outputs": [
    {
     "data": {
      "text/plain": [
       "False"
      ]
     },
     "execution_count": 74,
     "metadata": {},
     "output_type": "execute_result"
    }
   ],
   "source": [
    "(np.sqrt(13))**2 == 13.0"
   ]
  },
  {
   "cell_type": "code",
   "execution_count": null,
   "metadata": {},
   "outputs": [],
   "source": []
  },
  {
   "cell_type": "markdown",
   "metadata": {},
   "source": [
    "## Converting (\"Casting\") between int and float\n",
    "- careful with decimals/rounding"
   ]
  },
  {
   "cell_type": "code",
   "execution_count": 75,
   "metadata": {},
   "outputs": [
    {
     "data": {
      "text/plain": [
       "3"
      ]
     },
     "execution_count": 75,
     "metadata": {},
     "output_type": "execute_result"
    }
   ],
   "source": [
    "int(3.333333333333333333333333)"
   ]
  },
  {
   "cell_type": "code",
   "execution_count": 76,
   "metadata": {},
   "outputs": [
    {
     "data": {
      "text/plain": [
       "3"
      ]
     },
     "execution_count": 76,
     "metadata": {},
     "output_type": "execute_result"
    }
   ],
   "source": [
    "int(3.777777)"
   ]
  },
  {
   "cell_type": "code",
   "execution_count": 77,
   "metadata": {},
   "outputs": [
    {
     "data": {
      "text/plain": [
       "4.0"
      ]
     },
     "execution_count": 77,
     "metadata": {},
     "output_type": "execute_result"
    }
   ],
   "source": [
    "np.round(3.77777)"
   ]
  },
  {
   "cell_type": "code",
   "execution_count": 78,
   "metadata": {},
   "outputs": [
    {
     "data": {
      "text/plain": [
       "11.0"
      ]
     },
     "execution_count": 78,
     "metadata": {},
     "output_type": "execute_result"
    }
   ],
   "source": [
    "float(11)"
   ]
  },
  {
   "cell_type": "code",
   "execution_count": 79,
   "metadata": {},
   "outputs": [
    {
     "data": {
      "text/plain": [
       "'11'"
      ]
     },
     "execution_count": 79,
     "metadata": {},
     "output_type": "execute_result"
    }
   ],
   "source": [
    "str(11)"
   ]
  },
  {
   "cell_type": "code",
   "execution_count": 80,
   "metadata": {},
   "outputs": [
    {
     "data": {
      "text/plain": [
       "'11.0'"
      ]
     },
     "execution_count": 80,
     "metadata": {},
     "output_type": "execute_result"
    }
   ],
   "source": [
    "str(11.0)"
   ]
  },
  {
   "cell_type": "code",
   "execution_count": 81,
   "metadata": {},
   "outputs": [
    {
     "data": {
      "text/plain": [
       "11"
      ]
     },
     "execution_count": 81,
     "metadata": {},
     "output_type": "execute_result"
    }
   ],
   "source": [
    "int('11')"
   ]
  },
  {
   "cell_type": "code",
   "execution_count": 82,
   "metadata": {},
   "outputs": [
    {
     "data": {
      "text/plain": [
       "11.0"
      ]
     },
     "execution_count": 82,
     "metadata": {},
     "output_type": "execute_result"
    }
   ],
   "source": [
    "float('11')"
   ]
  },
  {
   "cell_type": "markdown",
   "metadata": {
    "tags": []
   },
   "source": [
    "## Scientific notation\n",
    "- divide by large number\n",
    "- write scientific notation\n",
    "- underscores for thousand separators"
   ]
  },
  {
   "cell_type": "code",
   "execution_count": 83,
   "metadata": {},
   "outputs": [
    {
     "data": {
      "text/plain": [
       "1000000.0"
      ]
     },
     "execution_count": 83,
     "metadata": {},
     "output_type": "execute_result"
    }
   ],
   "source": [
    "10e5 # same thing as 10 * 10^5"
   ]
  },
  {
   "cell_type": "code",
   "execution_count": 84,
   "metadata": {},
   "outputs": [
    {
     "data": {
      "text/plain": [
       "0.0001"
      ]
     },
     "execution_count": 84,
     "metadata": {},
     "output_type": "execute_result"
    }
   ],
   "source": [
    "10e-5"
   ]
  },
  {
   "cell_type": "code",
   "execution_count": 86,
   "metadata": {},
   "outputs": [
    {
     "data": {
      "text/plain": [
       "True"
      ]
     },
     "execution_count": 86,
     "metadata": {},
     "output_type": "execute_result"
    }
   ],
   "source": [
    "1e-5 == 0.00001"
   ]
  },
  {
   "cell_type": "code",
   "execution_count": 87,
   "metadata": {},
   "outputs": [
    {
     "data": {
      "text/plain": [
       "1.000000001e+36"
      ]
     },
     "execution_count": 87,
     "metadata": {},
     "output_type": "execute_result"
    }
   ],
   "source": [
    "123456789123456789123456789123456789123456789 / 123456789\n"
   ]
  },
  {
   "cell_type": "code",
   "execution_count": 89,
   "metadata": {},
   "outputs": [
    {
     "data": {
      "text/plain": [
       "123456789"
      ]
     },
     "execution_count": 89,
     "metadata": {},
     "output_type": "execute_result"
    }
   ],
   "source": [
    "123_456_789"
   ]
  },
  {
   "cell_type": "code",
   "execution_count": null,
   "metadata": {},
   "outputs": [],
   "source": []
  },
  {
   "cell_type": "markdown",
   "metadata": {},
   "source": [
    "# Text / Strings\n",
    "A string value is a snippet of text of any length\n",
    "- `'a'`\n",
    "- `'word'`\n",
    "- `\"there can be 2 sentences. Here's the second!\"`\n",
    "\n",
    "Strings consisting of numbers can be converted to numbers\n",
    "- `int('12')`\n",
    "- `float('1.2')`\n",
    "\n",
    "Any value can be converted to a string\n",
    "- `str(5)`\n",
    "\n",
    " **Question:** What does the following evaluate to:\n",
    "\n",
    "```python\n",
    "'1' + '2'\n",
    "```\n",
    "\n",
    "## Basics\n",
    "- single quotes vs double quotes \n",
    "    - escaping\n",
    "    - apostrophe\n",
    "- add/concatenate string.\n",
    "- multiply by int/float\n",
    "- add string and number\n",
    "- convert from string to number\n",
    "- string formatting"
   ]
  },
  {
   "cell_type": "code",
   "execution_count": 90,
   "metadata": {},
   "outputs": [
    {
     "data": {
      "text/plain": [
       "'12'"
      ]
     },
     "execution_count": 90,
     "metadata": {},
     "output_type": "execute_result"
    }
   ],
   "source": [
    "'1' + '2'"
   ]
  },
  {
   "cell_type": "code",
   "execution_count": 91,
   "metadata": {},
   "outputs": [
    {
     "data": {
      "text/plain": [
       "12"
      ]
     },
     "execution_count": 91,
     "metadata": {},
     "output_type": "execute_result"
    }
   ],
   "source": [
    "int('1' + '2')"
   ]
  },
  {
   "cell_type": "code",
   "execution_count": 92,
   "metadata": {},
   "outputs": [
    {
     "data": {
      "text/plain": [
       "12.0"
      ]
     },
     "execution_count": 92,
     "metadata": {},
     "output_type": "execute_result"
    }
   ],
   "source": [
    "float('1' + '2')"
   ]
  },
  {
   "cell_type": "code",
   "execution_count": 93,
   "metadata": {},
   "outputs": [
    {
     "ename": "ValueError",
     "evalue": "invalid literal for int() with base 10: '1.02.0'",
     "output_type": "error",
     "traceback": [
      "\u001b[0;31m---------------------------------------------------------------------------\u001b[0m",
      "\u001b[0;31mValueError\u001b[0m                                Traceback (most recent call last)",
      "Cell \u001b[0;32mIn[93], line 1\u001b[0m\n\u001b[0;32m----> 1\u001b[0m \u001b[38;5;28;43mint\u001b[39;49m\u001b[43m(\u001b[49m\u001b[38;5;124;43m'\u001b[39;49m\u001b[38;5;124;43m1.0\u001b[39;49m\u001b[38;5;124;43m'\u001b[39;49m\u001b[43m \u001b[49m\u001b[38;5;241;43m+\u001b[39;49m\u001b[43m \u001b[49m\u001b[38;5;124;43m'\u001b[39;49m\u001b[38;5;124;43m2.0\u001b[39;49m\u001b[38;5;124;43m'\u001b[39;49m\u001b[43m)\u001b[49m\n",
      "\u001b[0;31mValueError\u001b[0m: invalid literal for int() with base 10: '1.02.0'"
     ]
    }
   ],
   "source": [
    "int('1.0' + '2.0')"
   ]
  },
  {
   "cell_type": "code",
   "execution_count": 97,
   "metadata": {},
   "outputs": [
    {
     "data": {
      "text/plain": [
       "12"
      ]
     },
     "execution_count": 97,
     "metadata": {},
     "output_type": "execute_result"
    }
   ],
   "source": [
    "int(float('1' + '2.0'))"
   ]
  },
  {
   "cell_type": "code",
   "execution_count": null,
   "metadata": {},
   "outputs": [],
   "source": []
  },
  {
   "cell_type": "markdown",
   "metadata": {
    "tags": []
   },
   "source": [
    "## Discussion question:\n",
    "Assume you have run the following statements:\n",
    "```python\n",
    "x = 3\n",
    "y = '4'\n",
    "z = '5.6'\n",
    "```\n",
    "\n",
    "What's the source of the error in each example?\n",
    "1. `x + y`\n",
    "1. `x + int(y + z)`\n",
    "1. `str(x) + int(y)`\n",
    "1. `y + float(z)`\n"
   ]
  },
  {
   "cell_type": "code",
   "execution_count": null,
   "metadata": {},
   "outputs": [],
   "source": []
  },
  {
   "cell_type": "markdown",
   "metadata": {
    "tags": []
   },
   "source": [
    "# Boolean\n",
    "- inequalities\n",
    "- logic (and / or)\n",
    "- cast bool to int\n",
    "- sum/add bools"
   ]
  },
  {
   "cell_type": "code",
   "execution_count": null,
   "metadata": {
    "tags": []
   },
   "outputs": [],
   "source": []
  },
  {
   "cell_type": "markdown",
   "metadata": {},
   "source": [
    "# Types\n",
    "We’ve seen 6 types so far:\n",
    "- `int: 2`\n",
    "- `float: 2.2`\n",
    "- `str: 'Red fish, blue fish'`\n",
    "- `builtin_function_or_method: abs`\n",
    "- `Table`\n",
    "- `boolean`\n",
    "\n",
    "\n",
    "The `type` function can tell you the type of a value\n",
    "- `type(2)`\n",
    "- `type(2 + 2)`\n",
    "\n",
    "An expression’s “type” is based on its value, not how it looks\n",
    "\n",
    "- `x = 2`\n",
    "- `type(x)`"
   ]
  },
  {
   "cell_type": "code",
   "execution_count": null,
   "metadata": {
    "tags": []
   },
   "outputs": [],
   "source": []
  },
  {
   "cell_type": "markdown",
   "metadata": {},
   "source": [
    "## Arrays \n",
    "An array contains a sequence of values\n",
    "- All elements of an array should have the same type\n",
    "- Arithmetic is applied to each element individually\n",
    "- Adding arrays adds elements (**if same length!**)\n",
    "- A column of a table is an array\n",
    "\n",
    "## Let's:\n",
    "- Create an array using `make_array()`\n",
    "- multiply/raise/add/divide array with/by constant\n",
    "- sum up all elements in array using `sum()`\n",
    "- calculate the average value\n",
    "- create a new array \n",
    "- add two arrays\n",
    "    - check the size of array using `len()`\n",
    "- make an array of strings\n",
    "- use numpy functions on arrays\n",
    "    - `np.average()` / `np.mean`\n",
    "    - `np.median()`"
   ]
  },
  {
   "cell_type": "code",
   "execution_count": null,
   "metadata": {},
   "outputs": [],
   "source": []
  },
  {
   "cell_type": "markdown",
   "metadata": {},
   "source": [
    "## Columns of Tabldtypeare Arrays \n",
    "- select the height coumn of the skyscrapers using\n",
    "    - `select`\n",
    "    - `column`\n",
    "- calculate the average height of the skyscrapers in SF vs LA\n",
    "- What units are the heights in?"
   ]
  },
  {
   "cell_type": "code",
   "execution_count": null,
   "metadata": {},
   "outputs": [],
   "source": []
  }
 ],
 "metadata": {
  "anaconda-cloud": {},
  "kernelspec": {
   "display_name": "Python 3 (ipykernel)",
   "language": "python",
   "name": "python3"
  },
  "language_info": {
   "codemirror_mode": {
    "name": "ipython",
    "version": 3
   },
   "file_extension": ".py",
   "mimetype": "text/x-python",
   "name": "python",
   "nbconvert_exporter": "python",
   "pygments_lexer": "ipython3",
   "version": "3.11.5"
  },
  "toc": {
   "base_numbering": 1,
   "nav_menu": {},
   "number_sections": true,
   "sideBar": true,
   "skip_h1_title": false,
   "title_cell": "Table of Contents",
   "title_sidebar": "Contents",
   "toc_cell": false,
   "toc_position": {},
   "toc_section_display": true,
   "toc_window_display": false
  }
 },
 "nbformat": 4,
 "nbformat_minor": 4
}
