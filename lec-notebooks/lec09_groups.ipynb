{
 "cells": [
  {
   "cell_type": "code",
   "execution_count": null,
   "metadata": {
    "tags": []
   },
   "outputs": [],
   "source": [
    "from datascience import *\n",
    "import numpy as np\n",
    "\n",
    "%matplotlib inline\n",
    "import matplotlib.pyplot as plots\n",
    "plots.style.use('fivethirtyeight')"
   ]
  },
  {
   "cell_type": "markdown",
   "metadata": {},
   "source": [
    "# Lecture 09 \n",
    "\n",
    "In today's lecture, we will:\n",
    "1. review functions and applying functions to tables by building a simple but sophisticated prediction function. \n",
    "2. we will introduce the group operation.\n"
   ]
  },
  {
   "cell_type": "markdown",
   "metadata": {},
   "source": [
    "## Prediction\n",
    "\n",
    "Can we predict how tall a child will grow based on the height of their parents?\n",
    "\n",
    "To do this we will use the famous [Galton's height dataset](https://galton.org/essays/1880-1889/galton-1886-jaigi-regression-stature.pdf) that was collected to demonstrate the connection between parent's heights and the height of their children. "
   ]
  },
  {
   "cell_type": "code",
   "execution_count": null,
   "metadata": {
    "tags": []
   },
   "outputs": [],
   "source": [
    "families = Table.read_table('data/family_heights.csv')\n",
    "families"
   ]
  },
  {
   "cell_type": "markdown",
   "metadata": {},
   "source": [
    "**Discussion:** This data was collected for Europeans living in the late 1800s.  What are some of the potential issues with this data?"
   ]
  },
  {
   "cell_type": "markdown",
   "metadata": {},
   "source": [
    "### Exploring the Data"
   ]
  },
  {
   "cell_type": "markdown",
   "metadata": {},
   "source": [
    "**Exercise:** Add a column `\"parent average\"` containing the average height of both parents."
   ]
  },
  {
   "cell_type": "code",
   "execution_count": null,
   "metadata": {},
   "outputs": [],
   "source": []
  },
  {
   "cell_type": "markdown",
   "metadata": {},
   "source": [
    "<details> <summary>Click for Solution</summary>\n",
    "\n",
    "```python\n",
    "families = families.with_column(\n",
    "    \"parent average\", (families.column('father') + families.column('mother'))/2.0\n",
    ")\n",
    "families\n",
    "```\n",
    "</details>"
   ]
  },
  {
   "cell_type": "markdown",
   "metadata": {},
   "source": [
    "What is the relationship between a child's height and the average parent's height? \n",
    "\n",
    "**Exercise:** Make a scatter plot showing the relationship between the `\"parent average\"` and the `\"child\"` height."
   ]
  },
  {
   "cell_type": "code",
   "execution_count": null,
   "metadata": {},
   "outputs": [],
   "source": []
  },
  {
   "cell_type": "markdown",
   "metadata": {},
   "source": [
    "<details> <summary>Click for Solution</summary> <br><br>\n",
    "    \n",
    "```python\n",
    "\n",
    "families.scatter(\"parent average\", \"child\")\n",
    "\n",
    "```\n",
    "    \n",
    "<br><br></details>"
   ]
  },
  {
   "cell_type": "markdown",
   "metadata": {},
   "source": [
    "**Questions:**\n",
    "1. Do we observe a relationship between child and parent height?\n",
    "2. Would a line plot help reveal that relationship? \n",
    "3. Could we learn something from a histogram?"
   ]
  },
  {
   "cell_type": "markdown",
   "metadata": {},
   "source": [
    "### Making a Prediction\n",
    "\n",
    "If we wanted to predict the height of a child given the height of the parents, we could look at the heigh of children with parents who have a similar average height. \n"
   ]
  },
  {
   "cell_type": "code",
   "execution_count": null,
   "metadata": {
    "tags": []
   },
   "outputs": [],
   "source": [
    "my_height = 5*12 + 8 # 5 ft 8 inches\n",
    "spouse_height = 5*12 + 7 # 5 ft 7 inches"
   ]
  },
  {
   "cell_type": "code",
   "execution_count": null,
   "metadata": {
    "tags": []
   },
   "outputs": [],
   "source": [
    "our_average = (my_height + spouse_height) / 2.0\n",
    "our_average"
   ]
  },
  {
   "cell_type": "markdown",
   "metadata": {},
   "source": [
    "Let's look at parents that are within 1 inch of our height."
   ]
  },
  {
   "cell_type": "code",
   "execution_count": null,
   "metadata": {
    "tags": []
   },
   "outputs": [],
   "source": [
    "window = 1 \n",
    "lower_bound = our_average - window\n",
    "upper_bound = our_average + window"
   ]
  },
  {
   "cell_type": "code",
   "execution_count": null,
   "metadata": {
    "tags": []
   },
   "outputs": [],
   "source": [
    "families.scatter('parent average', 'child')\n",
    "# You don't need to know the details of this plotting code yet.\n",
    "plots.plot([lower_bound, lower_bound], [50, 85], color='red', lw=2)\n",
    "plots.plot([our_average, our_average], [50, 85], color='orange', lw=2);\n",
    "plots.plot([upper_bound, upper_bound], [50, 85], color='red', lw=2);"
   ]
  },
  {
   "cell_type": "markdown",
   "metadata": {},
   "source": [
    "**Exercise:** Create a function that takes an average of the parents heights and returns *an __array__ of all the children's heights* that are within the window of the parent's average height."
   ]
  },
  {
   "cell_type": "code",
   "execution_count": null,
   "metadata": {},
   "outputs": [],
   "source": [
    "def similar_child_heights(parent_average):\n",
    "    pass"
   ]
  },
  {
   "cell_type": "markdown",
   "metadata": {},
   "source": [
    "<details> <summary>Click for Solution</summary> <br><br>   \n",
    "\n",
    "```python\n",
    "def similar_child_heights(parent_average):\n",
    "    lower_bound = parent_average - window\n",
    "    upper_bound = parent_average + window\n",
    "    return (\n",
    "        families\n",
    "            .where(\"parent average\", are.between(lower_bound, upper_bound))\n",
    "            .column(\"child\")\n",
    "    )\n",
    "```\n",
    "\n",
    "<br><br></details>"
   ]
  },
  {
   "cell_type": "markdown",
   "metadata": {},
   "source": [
    "Testing the function:"
   ]
  },
  {
   "cell_type": "code",
   "execution_count": null,
   "metadata": {},
   "outputs": [],
   "source": [
    "# window = 1.0\n",
    "similar_child_heights(our_average)"
   ]
  },
  {
   "cell_type": "markdown",
   "metadata": {},
   "source": [
    "**Exercise:** Create a function to predict the child's height as the average of the height of children within the window of the average parent height."
   ]
  },
  {
   "cell_type": "code",
   "execution_count": null,
   "metadata": {},
   "outputs": [],
   "source": [
    "def predict_child_height(parent_average):\n",
    "    pass "
   ]
  },
  {
   "cell_type": "markdown",
   "metadata": {},
   "source": [
    "<details> <summary>Click for Solution</summary> <br><br>   \n",
    "\n",
    "```python\n",
    "def predict_child_height(parent_average):\n",
    "    return np.average(similar_child_heights(parent_average))\n",
    "```\n",
    "\n",
    "<br><br></details>"
   ]
  },
  {
   "cell_type": "code",
   "execution_count": null,
   "metadata": {},
   "outputs": [],
   "source": [
    "predict_child_height(our_average)"
   ]
  },
  {
   "cell_type": "markdown",
   "metadata": {},
   "source": [
    "Let's plot the predicted height as well as the distribution of children's heights:"
   ]
  },
  {
   "cell_type": "code",
   "execution_count": null,
   "metadata": {},
   "outputs": [],
   "source": [
    "# window = 1.0\n",
    "similar = similar_child_heights(our_average)\n",
    "predicted_height = predict_child_height(our_average)\n",
    "\n",
    "print(\"Mean:\", predicted_height)\n",
    "Table().with_column(\"child\", similar).hist(\"child\", bins=20)\n",
    "plots.plot([predicted_height, predicted_height], [0, .1], color=\"red\")"
   ]
  },
  {
   "cell_type": "markdown",
   "metadata": {},
   "source": [
    "**Discussion:** Is this a good predictor? How would I know? What happens when I change window size?"
   ]
  },
  {
   "cell_type": "markdown",
   "metadata": {},
   "source": [
    "### Evaluating the Predictions\n",
    "\n",
    "To evaluate the predictions, let's see how the predictions compare to the actual heights of all the children in our dataset.  "
   ]
  },
  {
   "cell_type": "markdown",
   "metadata": {},
   "source": [
    "\n",
    "**Exercise:** Apply the function (using `apply`) to all the parent averages in the table and save the result to the `\"predicted\"` column."
   ]
  },
  {
   "cell_type": "code",
   "execution_count": null,
   "metadata": {},
   "outputs": [],
   "source": []
  },
  {
   "cell_type": "markdown",
   "metadata": {},
   "source": [
    "<details> <summary>Click for Solution</summary> <br><br>   \n",
    "\n",
    "```python\n",
    "# window = 0.5\n",
    "families = families.with_column(\n",
    "    \"predicted\", families.apply(predict_child_height, \"parent average\"))\n",
    "families\n",
    "```\n",
    "\n",
    "<br><br></details>"
   ]
  },
  {
   "cell_type": "markdown",
   "metadata": {},
   "source": [
    "**Exercise:** Construct a scatter plot with the `\"parent average\"` height on the x-axis and the `\"child\"` height and the `\"predicted\"` height on the y-axis. "
   ]
  },
  {
   "cell_type": "code",
   "execution_count": null,
   "metadata": {},
   "outputs": [],
   "source": [
    "(\n",
    "    families\n",
    "    .select('parent average','child', 'predicted')\n",
    "    .scatter('parent average')\n",
    ")"
   ]
  },
  {
   "cell_type": "markdown",
   "metadata": {},
   "source": [
    "<details> <summary>Click for Solution</summary> <br><br>   \n",
    "\n",
    "```python\n",
    "(\n",
    "    families\n",
    "    .select('parent average','child', 'predicted')\n",
    "    .scatter('parent average')\n",
    ")\n",
    "```\n",
    "\n",
    "<br><br></details>"
   ]
  },
  {
   "cell_type": "markdown",
   "metadata": {},
   "source": [
    "**Discussion:** What do we see in this plot?  What trends."
   ]
  },
  {
   "cell_type": "markdown",
   "metadata": {},
   "source": [
    "**Exercise:** Define a function to compute the error (the difference) between the predicted value and the true value and apply that function to the table adding a column containing the `\"error\"`.  Then construct a histogram of the errors.\n"
   ]
  },
  {
   "cell_type": "code",
   "execution_count": null,
   "metadata": {},
   "outputs": [],
   "source": [
    "def error(predicted, true_value):\n",
    "    pass\n",
    "\n",
    "families = families.with_column(\"error\", families.apply(error, \"predicted\", \"child\"))\n",
    "families"
   ]
  },
  {
   "cell_type": "markdown",
   "metadata": {},
   "source": [
    "<details> <summary>Click for Solution</summary> <br><br>   \n",
    "\n",
    "```python\n",
    "def error(predicted, true_value):\n",
    "    return predicted - true_value\n",
    "\n",
    "families = families.with_column(\n",
    "    \"error\", families.apply(error, \"predicted\", \"child\"))\n",
    "families\n",
    "```\n",
    "\n",
    "<br><br></details>"
   ]
  },
  {
   "cell_type": "markdown",
   "metadata": {},
   "source": [
    "Visualizing the distribution of the errors:"
   ]
  },
  {
   "cell_type": "code",
   "execution_count": null,
   "metadata": {},
   "outputs": [],
   "source": [
    "families.hist('error')"
   ]
  },
  {
   "cell_type": "markdown",
   "metadata": {},
   "source": [
    "**Discussion:** Is this good?"
   ]
  },
  {
   "cell_type": "code",
   "execution_count": null,
   "metadata": {},
   "outputs": [],
   "source": []
  },
  {
   "cell_type": "markdown",
   "metadata": {
    "tags": []
   },
   "source": [
    "### Split by female and male"
   ]
  },
  {
   "cell_type": "markdown",
   "metadata": {},
   "source": [
    "**Exercise:** Overlay the histograms of the error for male and female children.\n",
    "\n",
    "Hint: use the keyword argument `group` in hist()"
   ]
  },
  {
   "cell_type": "code",
   "execution_count": null,
   "metadata": {},
   "outputs": [],
   "source": []
  },
  {
   "cell_type": "markdown",
   "metadata": {},
   "source": [
    "<details> <summary>Click for Solution</summary> <br><br>   \n",
    "\n",
    "```python\n",
    "families.hist('error', group='sex')\n",
    "```\n",
    "\n",
    "<br><br></details>"
   ]
  },
  {
   "cell_type": "markdown",
   "metadata": {},
   "source": [
    "**Discussion:** What do we observe?"
   ]
  },
  {
   "cell_type": "markdown",
   "metadata": {},
   "source": [
    "### Building a Better Predictor\n",
    "\n",
    "Based on what we observed, let's build a better predictor. "
   ]
  },
  {
   "cell_type": "markdown",
   "metadata": {},
   "source": [
    "**Exercise:** Implement a new height prediction function that considers averages the  height of children with the same sex and whose parents had a similar height.\n",
    "\n",
    "*Hint:* Here is the previous function:\n",
    "```python\n",
    "def similar_child_heights(parent_average):\n",
    "    lower_bound = parent_average - window\n",
    "    upper_bound = parent_average + window\n",
    "    return np.average(\n",
    "        families\n",
    "            .where(\"parent average\", are.between(lower_bound, upper_bound))\n",
    "            .column(\"child\")\n",
    "    )\n",
    "```"
   ]
  },
  {
   "cell_type": "code",
   "execution_count": null,
   "metadata": {},
   "outputs": [],
   "source": []
  },
  {
   "cell_type": "markdown",
   "metadata": {},
   "source": [
    "<details> <summary>Click for Solution</summary> <br><br>   \n",
    "\n",
    "```python\n",
    "def predict_child_height_with_sex(parent_average, sex):\n",
    "    lower_bound = parent_average - window\n",
    "    upper_bound = parent_average + window\n",
    "    return np.average(\n",
    "        families\n",
    "        .where(\"sex\", sex)\n",
    "        .where(\"parent average\", are.between(lower_bound, upper_bound))\n",
    "        .column(\"child\")\n",
    "    )\n",
    "```\n",
    "\n",
    "<br><br></details>"
   ]
  },
  {
   "cell_type": "markdown",
   "metadata": {},
   "source": [
    "Let's test it out."
   ]
  },
  {
   "cell_type": "code",
   "execution_count": null,
   "metadata": {},
   "outputs": [],
   "source": [
    "predict_child_height_with_sex(our_average, \"male\")"
   ]
  },
  {
   "cell_type": "code",
   "execution_count": null,
   "metadata": {},
   "outputs": [],
   "source": [
    "predict_child_height_with_sex(our_average, \"female\")"
   ]
  },
  {
   "cell_type": "markdown",
   "metadata": {},
   "source": [
    "**Exercise:** Apply the better predictor to the table and save the predictions in a column called `\"predicted with sex\"`."
   ]
  },
  {
   "cell_type": "code",
   "execution_count": null,
   "metadata": {},
   "outputs": [],
   "source": [
    "predicted_with_sex = families.apply(predict_child_height_with_sex, \"parent average\", \"sex\")\n",
    "families = families.with_column(\"predicted with sex\", predicted_with_sex)\n",
    "families"
   ]
  },
  {
   "cell_type": "markdown",
   "metadata": {},
   "source": [
    "<details> <summary>Click for Solution</summary> <br><br>   \n",
    "\n",
    "```python\n",
    "families = families.with_column(\n",
    "    \"predicted with sex\", families.apply(predict_child_height_with_sex, \"parent average\", \"sex\"))\n",
    "families\n",
    "```\n",
    "\n",
    "<br><br></details>"
   ]
  },
  {
   "cell_type": "markdown",
   "metadata": {},
   "source": [
    "**Exercise:** Construct a histogram of the new errors broken down by the sex of the child."
   ]
  },
  {
   "cell_type": "code",
   "execution_count": null,
   "metadata": {},
   "outputs": [],
   "source": [
    "error_with_sex = families.apply(error, \"predicted with sex\", \"child\")\n",
    "families = families.with_column(\"error with sex\",  error_with_sex)\n",
    "\n",
    "families.hist(\"error with sex\", group=\"sex\")"
   ]
  },
  {
   "cell_type": "markdown",
   "metadata": {},
   "source": [
    "As a point of comparison"
   ]
  },
  {
   "cell_type": "code",
   "execution_count": null,
   "metadata": {},
   "outputs": [],
   "source": [
    "families.hist(\"error\", group=\"sex\")"
   ]
  },
  {
   "cell_type": "markdown",
   "metadata": {},
   "source": [
    "---\n",
    "<center> Return to slides <center>\n",
    "\n",
    "---"
   ]
  },
  {
   "cell_type": "markdown",
   "metadata": {},
   "source": [
    "## Grouping\n",
    "\n",
    "For this part of the notebook we will use the following toy data:"
   ]
  },
  {
   "cell_type": "code",
   "execution_count": null,
   "metadata": {},
   "outputs": [],
   "source": [
    "cones = Table.read_table('data/cones.csv')\n",
    "cones"
   ]
  },
  {
   "cell_type": "markdown",
   "metadata": {},
   "source": [
    "**Exercise:** Use the `group` function to determine the number of cones with each flavor."
   ]
  },
  {
   "cell_type": "code",
   "execution_count": null,
   "metadata": {},
   "outputs": [],
   "source": []
  },
  {
   "cell_type": "markdown",
   "metadata": {},
   "source": [
    "<details> <summary>Click for Solution</summary> <br><br>   \n",
    "\n",
    "```python\n",
    "cones.group('Flavor')\n",
    "```\n",
    "\n",
    "<br><br></details>"
   ]
  },
  {
   "cell_type": "markdown",
   "metadata": {},
   "source": [
    "**Exercise:** Use the `group` function to compute the average price of cones for each flavor."
   ]
  },
  {
   "cell_type": "code",
   "execution_count": null,
   "metadata": {
    "scrolled": true
   },
   "outputs": [],
   "source": []
  },
  {
   "cell_type": "markdown",
   "metadata": {},
   "source": [
    "<details> <summary>Click for Solution</summary> <br><br>   \n",
    "\n",
    "```python\n",
    "cones.group('Flavor', np.average)\n",
    " ```\n",
    "\n",
    "<br><br></details>"
   ]
  },
  {
   "cell_type": "markdown",
   "metadata": {},
   "source": [
    "**Exercise:** Use the `group` function to compute min price of cones for each flavor."
   ]
  },
  {
   "cell_type": "code",
   "execution_count": null,
   "metadata": {},
   "outputs": [],
   "source": []
  },
  {
   "cell_type": "markdown",
   "metadata": {},
   "source": [
    "**Question**:\n",
    "Why does color have a min?"
   ]
  },
  {
   "cell_type": "markdown",
   "metadata": {},
   "source": [
    "<details> <summary>Click for Solution</summary> <br><br>   \n",
    "\n",
    "```python\n",
    "cones.group('Flavor', np.min)\n",
    "```\n",
    "\n",
    "<br><br></details>"
   ]
  },
  {
   "cell_type": "markdown",
   "metadata": {},
   "source": [
    "What is really going on:"
   ]
  },
  {
   "cell_type": "code",
   "execution_count": null,
   "metadata": {},
   "outputs": [],
   "source": [
    "cones"
   ]
  },
  {
   "cell_type": "code",
   "execution_count": null,
   "metadata": {},
   "outputs": [],
   "source": [
    "def my_grp(grp):\n",
    "    print(grp)\n",
    "    return grp\n",
    "\n",
    "cones.group(\"Flavor\", my_grp)"
   ]
  },
  {
   "cell_type": "code",
   "execution_count": null,
   "metadata": {},
   "outputs": [],
   "source": []
  }
 ],
 "metadata": {
  "anaconda-cloud": {},
  "kernelspec": {
   "display_name": "Python 3 (ipykernel)",
   "language": "python",
   "name": "python3"
  },
  "language_info": {
   "codemirror_mode": {
    "name": "ipython",
    "version": 3
   },
   "file_extension": ".py",
   "mimetype": "text/x-python",
   "name": "python",
   "nbconvert_exporter": "python",
   "pygments_lexer": "ipython3",
   "version": "3.10.12"
  },
  "vscode": {
   "interpreter": {
    "hash": "210b0a33a8c25339cc601e66ca8609055ad39db27af0f0b06550f5278a6d8020"
   }
  }
 },
 "nbformat": 4,
 "nbformat_minor": 4
}
