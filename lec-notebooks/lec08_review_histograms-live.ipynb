{
 "cells": [
  {
   "cell_type": "markdown",
   "id": "dca999cb-742e-4625-9e4d-5d1f34d00449",
   "metadata": {},
   "source": [
    "# Lecture 08 Review of Histograms"
   ]
  },
  {
   "cell_type": "code",
   "execution_count": 1,
   "id": "729fa552-531b-4638-8c9d-695f04f240ce",
   "metadata": {
    "tags": []
   },
   "outputs": [],
   "source": [
    "from datascience import *\n",
    "import numpy as np\n",
    "%matplotlib inline\n",
    "import matplotlib.pyplot as plots\n",
    "plots.style.use('fivethirtyeight')\n",
    "plots.rcParams[\"patch.force_edgecolor\"] = True"
   ]
  },
  {
   "cell_type": "code",
   "execution_count": 2,
   "id": "c30d438d-9e7c-4f7a-988a-2784087cdc2e",
   "metadata": {
    "tags": []
   },
   "outputs": [],
   "source": [
    "top_movies = Table.read_table('data/top_movies_2017.csv')"
   ]
  },
  {
   "cell_type": "code",
   "execution_count": 4,
   "id": "1db08054-13ac-462b-8a6d-d1a4c8abb369",
   "metadata": {
    "tags": []
   },
   "outputs": [
    {
     "data": {
      "text/html": [
       "<table border=\"1\" class=\"dataframe\">\n",
       "    <thead>\n",
       "        <tr>\n",
       "            <th>Title</th> <th>Studio</th> <th>Gross</th> <th>Gross (Adjusted)</th> <th>Year</th> <th>Age</th>\n",
       "        </tr>\n",
       "    </thead>\n",
       "    <tbody>\n",
       "        <tr>\n",
       "            <td>Gone with the Wind              </td> <td>MGM            </td> <td>198676459</td> <td>1796176700      </td> <td>1939</td> <td>85  </td>\n",
       "        </tr>\n",
       "        <tr>\n",
       "            <td>Star Wars                       </td> <td>Fox            </td> <td>460998007</td> <td>1583483200      </td> <td>1977</td> <td>47  </td>\n",
       "        </tr>\n",
       "        <tr>\n",
       "            <td>The Sound of Music              </td> <td>Fox            </td> <td>158671368</td> <td>1266072700      </td> <td>1965</td> <td>59  </td>\n",
       "        </tr>\n",
       "        <tr>\n",
       "            <td>E.T.: The Extra-Terrestrial     </td> <td>Universal      </td> <td>435110554</td> <td>1261085000      </td> <td>1982</td> <td>42  </td>\n",
       "        </tr>\n",
       "        <tr>\n",
       "            <td>Titanic                         </td> <td>Paramount      </td> <td>658672302</td> <td>1204368000      </td> <td>1997</td> <td>27  </td>\n",
       "        </tr>\n",
       "        <tr>\n",
       "            <td>The Ten Commandments            </td> <td>Paramount      </td> <td>65500000 </td> <td>1164590000      </td> <td>1956</td> <td>68  </td>\n",
       "        </tr>\n",
       "        <tr>\n",
       "            <td>Jaws                            </td> <td>Universal      </td> <td>260000000</td> <td>1138620700      </td> <td>1975</td> <td>49  </td>\n",
       "        </tr>\n",
       "        <tr>\n",
       "            <td>Doctor Zhivago                  </td> <td>MGM            </td> <td>111721910</td> <td>1103564200      </td> <td>1965</td> <td>59  </td>\n",
       "        </tr>\n",
       "        <tr>\n",
       "            <td>The Exorcist                    </td> <td>Warner Brothers</td> <td>232906145</td> <td>983226600       </td> <td>1973</td> <td>51  </td>\n",
       "        </tr>\n",
       "        <tr>\n",
       "            <td>Snow White and the Seven Dwarves</td> <td>Disney         </td> <td>184925486</td> <td>969010000       </td> <td>1937</td> <td>87  </td>\n",
       "        </tr>\n",
       "    </tbody>\n",
       "</table>\n",
       "<p>... (190 rows omitted)</p>"
      ],
      "text/plain": [
       "Title                            | Studio          | Gross     | Gross (Adjusted) | Year | Age\n",
       "Gone with the Wind               | MGM             | 198676459 | 1796176700       | 1939 | 85\n",
       "Star Wars                        | Fox             | 460998007 | 1583483200       | 1977 | 47\n",
       "The Sound of Music               | Fox             | 158671368 | 1266072700       | 1965 | 59\n",
       "E.T.: The Extra-Terrestrial      | Universal       | 435110554 | 1261085000       | 1982 | 42\n",
       "Titanic                          | Paramount       | 658672302 | 1204368000       | 1997 | 27\n",
       "The Ten Commandments             | Paramount       | 65500000  | 1164590000       | 1956 | 68\n",
       "Jaws                             | Universal       | 260000000 | 1138620700       | 1975 | 49\n",
       "Doctor Zhivago                   | MGM             | 111721910 | 1103564200       | 1965 | 59\n",
       "The Exorcist                     | Warner Brothers | 232906145 | 983226600        | 1973 | 51\n",
       "Snow White and the Seven Dwarves | Disney          | 184925486 | 969010000        | 1937 | 87\n",
       "... (190 rows omitted)"
      ]
     },
     "execution_count": 4,
     "metadata": {},
     "output_type": "execute_result"
    }
   ],
   "source": [
    "this_year = 2024\n",
    "ages = this_year - top_movies.column('Year')\n",
    "top_movies = top_movies.with_column('Age', ages)\n",
    "top_movies"
   ]
  },
  {
   "cell_type": "markdown",
   "id": "72bf635d-16c4-4d2d-bccd-829cf9003981",
   "metadata": {
    "tags": []
   },
   "source": [
    "# Grouping by categorical variable\n",
    "We can group our movies by the *categorical* variable 'Studio', to find out how many movies were produced by each studio, using the `group()` function."
   ]
  },
  {
   "cell_type": "code",
   "execution_count": 5,
   "id": "13f58c51-6185-44a5-bd97-a901831f2505",
   "metadata": {},
   "outputs": [
    {
     "data": {
      "text/html": [
       "<table border=\"1\" class=\"dataframe\">\n",
       "    <thead>\n",
       "        <tr>\n",
       "            <th>Studio</th> <th>count</th>\n",
       "        </tr>\n",
       "    </thead>\n",
       "    <tbody>\n",
       "        <tr>\n",
       "            <td>AVCO       </td> <td>1    </td>\n",
       "        </tr>\n",
       "        <tr>\n",
       "            <td>Buena Vista</td> <td>35   </td>\n",
       "        </tr>\n",
       "        <tr>\n",
       "            <td>Columbia   </td> <td>9    </td>\n",
       "        </tr>\n",
       "        <tr>\n",
       "            <td>Disney     </td> <td>11   </td>\n",
       "        </tr>\n",
       "        <tr>\n",
       "            <td>Dreamworks </td> <td>3    </td>\n",
       "        </tr>\n",
       "        <tr>\n",
       "            <td>Fox        </td> <td>24   </td>\n",
       "        </tr>\n",
       "        <tr>\n",
       "            <td>IFC        </td> <td>1    </td>\n",
       "        </tr>\n",
       "        <tr>\n",
       "            <td>Lionsgate  </td> <td>3    </td>\n",
       "        </tr>\n",
       "        <tr>\n",
       "            <td>MGM        </td> <td>7    </td>\n",
       "        </tr>\n",
       "        <tr>\n",
       "            <td>Metro      </td> <td>1    </td>\n",
       "        </tr>\n",
       "    </tbody>\n",
       "</table>\n",
       "<p>... (13 rows omitted)</p>"
      ],
      "text/plain": [
       "Studio      | count\n",
       "AVCO        | 1\n",
       "Buena Vista | 35\n",
       "Columbia    | 9\n",
       "Disney      | 11\n",
       "Dreamworks  | 3\n",
       "Fox         | 24\n",
       "IFC         | 1\n",
       "Lionsgate   | 3\n",
       "MGM         | 7\n",
       "Metro       | 1\n",
       "... (13 rows omitted)"
      ]
     },
     "execution_count": 5,
     "metadata": {},
     "output_type": "execute_result"
    }
   ],
   "source": [
    "studios = top_movies.group('Studio')\n",
    "studios"
   ]
  },
  {
   "cell_type": "markdown",
   "id": "421258e1-38da-4be6-830f-c7596b821301",
   "metadata": {},
   "source": [
    "we can then go ahead and plot those in a bar plot. Remember. The First parameter is the variable to use on x-axis, second parameter is the variable to use on the y-axis. Check the [`bar()` documentation](https://www.data8.org/datascience/_autosummary/datascience.tables.Table.barh.html#datascience.tables.Table.bar)"
   ]
  },
  {
   "cell_type": "code",
   "execution_count": 6,
   "id": "2e806dda-b3e9-4526-8009-6b28123443b7",
   "metadata": {
    "tags": []
   },
   "outputs": [
    {
     "name": "stderr",
     "output_type": "stream",
     "text": [
      "/home/jovyan/.local/lib/python3.11/site-packages/datascience/tables.py:3647: UserWarning: set_ticklabels() should only be used with a fixed number of ticks, i.e. after set_ticks() or using a FixedLocator.\n",
      "  axis.set_xticklabels(tick_labels, stretch='ultra-condensed')\n"
     ]
    },
    {
     "data": {
      "image/png": "[encoded data removed]",
      "text/plain": [
       "<Figure size 600x400 with 1 Axes>"
      ]
     },
     "metadata": {},
     "output_type": "display_data"
    }
   ],
   "source": [
    "studios.bar(column_for_categories = 'Studio', select = 'count')"
   ]
  },
  {
   "cell_type": "markdown",
   "id": "2acd21d4-d36a-4bd3-ab4f-738fc665b105",
   "metadata": {},
   "source": [
    "Let's make it better\n",
    "- Sort the bars in decreasing order\n",
    "- Only show the 10 largest studios\n",
    "- Turn it around by 90 degrees\n",
    "- make the code readable"
   ]
  },
  {
   "cell_type": "code",
   "execution_count": 7,
   "id": "9045d6ed-e74f-4739-aab1-df9fc6f330f1",
   "metadata": {
    "tags": []
   },
   "outputs": [
    {
     "data": {
      "image/png": "[encoded data removed]",
      "text/plain": [
       "<Figure size 600x500 with 1 Axes>"
      ]
     },
     "metadata": {},
     "output_type": "display_data"
    }
   ],
   "source": [
    "(top_movies\n",
    " .group('Studio')\n",
    " .sort('count', descending = True)\n",
    " .take(np.arange(0,10)) # take first 10 rows --> top 10 studios\n",
    " .barh('Studio', 'count')\n",
    ")"
   ]
  },
  {
   "cell_type": "markdown",
   "id": "4d83763f-0350-4329-afa2-cf8d9b673e3a",
   "metadata": {
    "tags": []
   },
   "source": [
    "# Grouping by numerical variable\n",
    "We want to find out something about the age distribition of movies. I.e. seeing how many movies were produced in different age brackets.\n",
    "\n",
    "Let's group movies by the years using the `group()` function"
   ]
  },
  {
   "cell_type": "code",
   "execution_count": 8,
   "id": "a89211be-2f41-4525-91c2-d15029f26337",
   "metadata": {
    "tags": []
   },
   "outputs": [
    {
     "data": {
      "text/html": [
       "<table border=\"1\" class=\"dataframe\">\n",
       "    <thead>\n",
       "        <tr>\n",
       "            <th>Title</th> <th>Studio</th> <th>Gross</th> <th>Gross (Adjusted)</th> <th>Year</th> <th>Age</th>\n",
       "        </tr>\n",
       "    </thead>\n",
       "    <tbody>\n",
       "        <tr>\n",
       "            <td>Gone with the Wind              </td> <td>MGM            </td> <td>198676459</td> <td>1796176700      </td> <td>1939</td> <td>85  </td>\n",
       "        </tr>\n",
       "        <tr>\n",
       "            <td>Star Wars                       </td> <td>Fox            </td> <td>460998007</td> <td>1583483200      </td> <td>1977</td> <td>47  </td>\n",
       "        </tr>\n",
       "        <tr>\n",
       "            <td>The Sound of Music              </td> <td>Fox            </td> <td>158671368</td> <td>1266072700      </td> <td>1965</td> <td>59  </td>\n",
       "        </tr>\n",
       "        <tr>\n",
       "            <td>E.T.: The Extra-Terrestrial     </td> <td>Universal      </td> <td>435110554</td> <td>1261085000      </td> <td>1982</td> <td>42  </td>\n",
       "        </tr>\n",
       "        <tr>\n",
       "            <td>Titanic                         </td> <td>Paramount      </td> <td>658672302</td> <td>1204368000      </td> <td>1997</td> <td>27  </td>\n",
       "        </tr>\n",
       "        <tr>\n",
       "            <td>The Ten Commandments            </td> <td>Paramount      </td> <td>65500000 </td> <td>1164590000      </td> <td>1956</td> <td>68  </td>\n",
       "        </tr>\n",
       "        <tr>\n",
       "            <td>Jaws                            </td> <td>Universal      </td> <td>260000000</td> <td>1138620700      </td> <td>1975</td> <td>49  </td>\n",
       "        </tr>\n",
       "        <tr>\n",
       "            <td>Doctor Zhivago                  </td> <td>MGM            </td> <td>111721910</td> <td>1103564200      </td> <td>1965</td> <td>59  </td>\n",
       "        </tr>\n",
       "        <tr>\n",
       "            <td>The Exorcist                    </td> <td>Warner Brothers</td> <td>232906145</td> <td>983226600       </td> <td>1973</td> <td>51  </td>\n",
       "        </tr>\n",
       "        <tr>\n",
       "            <td>Snow White and the Seven Dwarves</td> <td>Disney         </td> <td>184925486</td> <td>969010000       </td> <td>1937</td> <td>87  </td>\n",
       "        </tr>\n",
       "    </tbody>\n",
       "</table>\n",
       "<p>... (190 rows omitted)</p>"
      ],
      "text/plain": [
       "Title                            | Studio          | Gross     | Gross (Adjusted) | Year | Age\n",
       "Gone with the Wind               | MGM             | 198676459 | 1796176700       | 1939 | 85\n",
       "Star Wars                        | Fox             | 460998007 | 1583483200       | 1977 | 47\n",
       "The Sound of Music               | Fox             | 158671368 | 1266072700       | 1965 | 59\n",
       "E.T.: The Extra-Terrestrial      | Universal       | 435110554 | 1261085000       | 1982 | 42\n",
       "Titanic                          | Paramount       | 658672302 | 1204368000       | 1997 | 27\n",
       "The Ten Commandments             | Paramount       | 65500000  | 1164590000       | 1956 | 68\n",
       "Jaws                             | Universal       | 260000000 | 1138620700       | 1975 | 49\n",
       "Doctor Zhivago                   | MGM             | 111721910 | 1103564200       | 1965 | 59\n",
       "The Exorcist                     | Warner Brothers | 232906145 | 983226600        | 1973 | 51\n",
       "Snow White and the Seven Dwarves | Disney          | 184925486 | 969010000        | 1937 | 87\n",
       "... (190 rows omitted)"
      ]
     },
     "execution_count": 8,
     "metadata": {},
     "output_type": "execute_result"
    }
   ],
   "source": [
    "this_year = 2024\n",
    "ages = this_year - top_movies.column('Year') # extracting Year column as an array, so that I can subtract each value from 2024\n",
    "# to find ages!\n",
    "top_movies = top_movies.with_column('Age', ages)\n",
    "top_movies"
   ]
  },
  {
   "cell_type": "code",
   "execution_count": 12,
   "id": "669f363e-1d52-4816-9760-b4b482efdcca",
   "metadata": {},
   "outputs": [
    {
     "data": {
      "text/html": [
       "<table border=\"1\" class=\"dataframe\">\n",
       "    <thead>\n",
       "        <tr>\n",
       "            <th>Age</th> <th>count</th>\n",
       "        </tr>\n",
       "    </thead>\n",
       "    <tbody>\n",
       "        <tr>\n",
       "            <td>8   </td> <td>9    </td>\n",
       "        </tr>\n",
       "        <tr>\n",
       "            <td>9   </td> <td>6    </td>\n",
       "        </tr>\n",
       "        <tr>\n",
       "            <td>20  </td> <td>6    </td>\n",
       "        </tr>\n",
       "        <tr>\n",
       "            <td>22  </td> <td>6    </td>\n",
       "        </tr>\n",
       "        <tr>\n",
       "            <td>15  </td> <td>5    </td>\n",
       "        </tr>\n",
       "        <tr>\n",
       "            <td>17  </td> <td>5    </td>\n",
       "        </tr>\n",
       "        <tr>\n",
       "            <td>21  </td> <td>5    </td>\n",
       "        </tr>\n",
       "        <tr>\n",
       "            <td>23  </td> <td>5    </td>\n",
       "        </tr>\n",
       "        <tr>\n",
       "            <td>11  </td> <td>4    </td>\n",
       "        </tr>\n",
       "        <tr>\n",
       "            <td>25  </td> <td>4    </td>\n",
       "        </tr>\n",
       "    </tbody>\n",
       "</table>\n",
       "<p>... (62 rows omitted)</p>"
      ],
      "text/plain": [
       "Age  | count\n",
       "8    | 9\n",
       "9    | 6\n",
       "20   | 6\n",
       "22   | 6\n",
       "15   | 5\n",
       "17   | 5\n",
       "21   | 5\n",
       "23   | 5\n",
       "11   | 4\n",
       "25   | 4\n",
       "... (62 rows omitted)"
      ]
     },
     "execution_count": 12,
     "metadata": {},
     "output_type": "execute_result"
    }
   ],
   "source": [
    "age_groups = top_movies.group('Age').sort('count', descending = True)\n",
    "age_groups"
   ]
  },
  {
   "cell_type": "code",
   "execution_count": 13,
   "id": "48fa29a0-cd05-4d89-b72b-745e8e67156c",
   "metadata": {},
   "outputs": [
    {
     "name": "stderr",
     "output_type": "stream",
     "text": [
      "/home/jovyan/.local/lib/python3.11/site-packages/datascience/tables.py:3647: UserWarning: set_ticklabels() should only be used with a fixed number of ticks, i.e. after set_ticks() or using a FixedLocator.\n",
      "  axis.set_xticklabels(tick_labels, stretch='ultra-condensed')\n"
     ]
    },
    {
     "data": {
      "image/png": "[encoded data removed]",
      "text/plain": [
       "<Figure size 600x400 with 1 Axes>"
      ]
     },
     "metadata": {},
     "output_type": "display_data"
    }
   ],
   "source": [
    "age_groups.bar('Age','count')"
   ]
  },
  {
   "cell_type": "code",
   "execution_count": null,
   "id": "72dfbad9-779a-41aa-8afb-77e6bfa771d6",
   "metadata": {},
   "outputs": [],
   "source": []
  },
  {
   "cell_type": "markdown",
   "id": "f52e7db6-5d90-4f34-9010-bc29b527bf07",
   "metadata": {},
   "source": [
    "# Binning\n",
    "This was a bit boring. We'd much rather create some groups (bins) in which we aggregate a ranges of ages.\n",
    "I.e. count all moves that are 0-10 years old, all movies that are 10-20 years old etc."
   ]
  },
  {
   "cell_type": "code",
   "execution_count": 17,
   "id": "b99b7d66-dc04-4ea3-babe-ebe70a1925c2",
   "metadata": {},
   "outputs": [
    {
     "data": {
      "text/plain": [
       "\u001b[0;31mSignature:\u001b[0m\n",
       "\u001b[0mTable\u001b[0m\u001b[0;34m.\u001b[0m\u001b[0mbar\u001b[0m\u001b[0;34m(\u001b[0m\u001b[0;34m\u001b[0m\n",
       "\u001b[0;34m\u001b[0m    \u001b[0mself\u001b[0m\u001b[0;34m,\u001b[0m\u001b[0;34m\u001b[0m\n",
       "\u001b[0;34m\u001b[0m    \u001b[0mcolumn_for_categories\u001b[0m\u001b[0;34m=\u001b[0m\u001b[0;32mNone\u001b[0m\u001b[0;34m,\u001b[0m\u001b[0;34m\u001b[0m\n",
       "\u001b[0;34m\u001b[0m    \u001b[0mselect\u001b[0m\u001b[0;34m=\u001b[0m\u001b[0;32mNone\u001b[0m\u001b[0;34m,\u001b[0m\u001b[0;34m\u001b[0m\n",
       "\u001b[0;34m\u001b[0m    \u001b[0moverlay\u001b[0m\u001b[0;34m=\u001b[0m\u001b[0;32mTrue\u001b[0m\u001b[0;34m,\u001b[0m\u001b[0;34m\u001b[0m\n",
       "\u001b[0;34m\u001b[0m    \u001b[0mwidth\u001b[0m\u001b[0;34m=\u001b[0m\u001b[0;32mNone\u001b[0m\u001b[0;34m,\u001b[0m\u001b[0;34m\u001b[0m\n",
       "\u001b[0;34m\u001b[0m    \u001b[0mheight\u001b[0m\u001b[0;34m=\u001b[0m\u001b[0;32mNone\u001b[0m\u001b[0;34m,\u001b[0m\u001b[0;34m\u001b[0m\n",
       "\u001b[0;34m\u001b[0m    \u001b[0;34m**\u001b[0m\u001b[0mvargs\u001b[0m\u001b[0;34m,\u001b[0m\u001b[0;34m\u001b[0m\n",
       "\u001b[0;34m\u001b[0m\u001b[0;34m)\u001b[0m\u001b[0;34m\u001b[0m\u001b[0;34m\u001b[0m\u001b[0m\n",
       "\u001b[0;31mDocstring:\u001b[0m\n",
       "Plot bar charts for the table.\n",
       "\n",
       "Each plot is labeled using the values in `column_for_categories` and\n",
       "one plot is produced for every other column (or for the columns\n",
       "designated by `select`).\n",
       "\n",
       "Every selected column except `column_for_categories` must be numerical.\n",
       "\n",
       "Args:\n",
       "    column_for_categories (str): A column containing x-axis categories\n",
       "\n",
       "Kwargs:\n",
       "    overlay (bool): create a chart with one color per data column;\n",
       "        if False, each will be displayed separately.\n",
       "\n",
       "    vargs: Additional arguments that get passed into `plt.bar`.\n",
       "        See http://matplotlib.org/api/pyplot_api.html#matplotlib.pyplot.bar\n",
       "        for additional arguments that can be passed into vargs.\n",
       "\u001b[0;31mFile:\u001b[0m      ~/.local/lib/python3.11/site-packages/datascience/tables.py\n",
       "\u001b[0;31mType:\u001b[0m      function"
      ]
     },
     "metadata": {},
     "output_type": "display_data"
    }
   ],
   "source": [
    "Table.bar?"
   ]
  },
  {
   "cell_type": "code",
   "execution_count": 18,
   "id": "af7cc16b-5daa-47b2-92ce-afdf4d14716c",
   "metadata": {},
   "outputs": [
    {
     "data": {
      "text/plain": [
       "\u001b[0;31mSignature:\u001b[0m\n",
       "\u001b[0mTable\u001b[0m\u001b[0;34m.\u001b[0m\u001b[0mbarh\u001b[0m\u001b[0;34m(\u001b[0m\u001b[0;34m\u001b[0m\n",
       "\u001b[0;34m\u001b[0m    \u001b[0mself\u001b[0m\u001b[0;34m,\u001b[0m\u001b[0;34m\u001b[0m\n",
       "\u001b[0;34m\u001b[0m    \u001b[0mcolumn_for_categories\u001b[0m\u001b[0;34m=\u001b[0m\u001b[0;32mNone\u001b[0m\u001b[0;34m,\u001b[0m\u001b[0;34m\u001b[0m\n",
       "\u001b[0;34m\u001b[0m    \u001b[0mselect\u001b[0m\u001b[0;34m=\u001b[0m\u001b[0;32mNone\u001b[0m\u001b[0;34m,\u001b[0m\u001b[0;34m\u001b[0m\n",
       "\u001b[0;34m\u001b[0m    \u001b[0moverlay\u001b[0m\u001b[0;34m=\u001b[0m\u001b[0;32mTrue\u001b[0m\u001b[0;34m,\u001b[0m\u001b[0;34m\u001b[0m\n",
       "\u001b[0;34m\u001b[0m    \u001b[0mwidth\u001b[0m\u001b[0;34m=\u001b[0m\u001b[0;32mNone\u001b[0m\u001b[0;34m,\u001b[0m\u001b[0;34m\u001b[0m\n",
       "\u001b[0;34m\u001b[0m    \u001b[0;34m**\u001b[0m\u001b[0mvargs\u001b[0m\u001b[0;34m,\u001b[0m\u001b[0;34m\u001b[0m\n",
       "\u001b[0;34m\u001b[0m\u001b[0;34m)\u001b[0m\u001b[0;34m\u001b[0m\u001b[0;34m\u001b[0m\u001b[0m\n",
       "\u001b[0;31mDocstring:\u001b[0m\n",
       "Plot horizontal bar charts for the table. Redirects to ``Table#ibarh`` if interactive plots\n",
       "are enabled with ``Table#interactive_plots``\n",
       "\n",
       "Args:\n",
       "    ``column_for_categories`` (``str``): A column containing y-axis categories\n",
       "        used to create buckets for bar chart.\n",
       "\n",
       "Kwargs:\n",
       "    overlay (bool): create a chart with one color per data column;\n",
       "        if False, each will be displayed separately.\n",
       "    show (bool): whether to show the figure if using interactive plots; if false, the \n",
       "        figure is returned instead\n",
       "    vargs: Additional arguments that get passed into `plt.barh`.\n",
       "        See http://matplotlib.org/api/pyplot_api.html#matplotlib.pyplot.barh\n",
       "        for additional arguments that can be passed into vargs.\n",
       "\n",
       "Raises:\n",
       "    ValueError -- Every selected except column for ``column_for_categories``\n",
       "        must be numerical.\n",
       "\n",
       "Returns:\n",
       "    Horizontal bar graph with buckets specified by ``column_for_categories``.\n",
       "    Each plot is labeled using the values in ``column_for_categories``\n",
       "    and one plot is produced for every other column (or for the columns\n",
       "    designated by ``select``).\n",
       "\n",
       ">>> t = Table().with_columns(\n",
       "...     'Furniture', make_array('chairs', 'tables', 'desks'),\n",
       "...     'Count', make_array(6, 1, 2),\n",
       "...     'Price', make_array(10, 20, 30)\n",
       "...     )\n",
       ">>> t\n",
       "Furniture | Count | Price\n",
       "chairs    | 6     | 10\n",
       "tables    | 1     | 20\n",
       "desks     | 2     | 30\n",
       ">>> t.barh('Furniture') # doctest: +SKIP\n",
       "<bar graph with furniture as categories and bars for count and price>\n",
       ">>> t.barh('Furniture', 'Price') # doctest: +SKIP\n",
       "<bar graph with furniture as categories and bars for price>\n",
       ">>> t.barh('Furniture', make_array(1, 2)) # doctest: +SKIP\n",
       "<bar graph with furniture as categories and bars for count and price>\n",
       "\u001b[0;31mFile:\u001b[0m      ~/.local/lib/python3.11/site-packages/datascience/tables.py\n",
       "\u001b[0;31mType:\u001b[0m      function"
      ]
     },
     "metadata": {},
     "output_type": "display_data"
    }
   ],
   "source": [
    "Table.barh?"
   ]
  },
  {
   "cell_type": "code",
   "execution_count": null,
   "id": "70d97c76-39cc-4163-b0ac-5c308c137e0c",
   "metadata": {},
   "outputs": [],
   "source": []
  },
  {
   "cell_type": "code",
   "execution_count": null,
   "id": "054d6b14-2002-42e9-9a84-bdd19901d551",
   "metadata": {},
   "outputs": [],
   "source": []
  },
  {
   "cell_type": "code",
   "execution_count": 15,
   "id": "6a76749a-e800-42a9-a8c4-8aa2958b03f2",
   "metadata": {},
   "outputs": [
    {
     "data": {
      "text/plain": [
       "(7, 103)"
      ]
     },
     "execution_count": 15,
     "metadata": {},
     "output_type": "execute_result"
    }
   ],
   "source": [
    "min(age_groups.column('Age')), max(age_groups.column('Age'))"
   ]
  },
  {
   "cell_type": "code",
   "execution_count": 23,
   "id": "9caa2a06-6735-4119-8f3a-b9bd516e3246",
   "metadata": {
    "tags": []
   },
   "outputs": [
    {
     "data": {
      "text/html": [
       "<table border=\"1\" class=\"dataframe\">\n",
       "    <thead>\n",
       "        <tr>\n",
       "            <th>bin</th> <th>Age count</th>\n",
       "        </tr>\n",
       "    </thead>\n",
       "    <tbody>\n",
       "        <tr>\n",
       "            <td>0   </td> <td>18       </td>\n",
       "        </tr>\n",
       "        <tr>\n",
       "            <td>10  </td> <td>32       </td>\n",
       "        </tr>\n",
       "        <tr>\n",
       "            <td>20  </td> <td>41       </td>\n",
       "        </tr>\n",
       "        <tr>\n",
       "            <td>30  </td> <td>27       </td>\n",
       "        </tr>\n",
       "        <tr>\n",
       "            <td>40  </td> <td>26       </td>\n",
       "        </tr>\n",
       "        <tr>\n",
       "            <td>50  </td> <td>23       </td>\n",
       "        </tr>\n",
       "        <tr>\n",
       "            <td>60  </td> <td>16       </td>\n",
       "        </tr>\n",
       "        <tr>\n",
       "            <td>70  </td> <td>10       </td>\n",
       "        </tr>\n",
       "        <tr>\n",
       "            <td>80  </td> <td>6        </td>\n",
       "        </tr>\n",
       "        <tr>\n",
       "            <td>90  </td> <td>0        </td>\n",
       "        </tr>\n",
       "        <tr>\n",
       "            <td>100 </td> <td>1        </td>\n",
       "        </tr>\n",
       "        <tr>\n",
       "            <td>110 </td> <td>0        </td>\n",
       "        </tr>\n",
       "    </tbody>\n",
       "</table>"
      ],
      "text/plain": [
       "<IPython.core.display.HTML object>"
      ]
     },
     "metadata": {},
     "output_type": "display_data"
    }
   ],
   "source": [
    "my_bins = np.arange(0, 120, 10) # (0, 10, 20, 30, 40, 50, 60, 70, 80, 90, 100, 110)\n",
    "binned_data = top_movies.bin('Age', bins = my_bins)\n",
    "binned_data.show()"
   ]
  },
  {
   "cell_type": "markdown",
   "id": "c020b640-a313-4dfe-87a5-e0246ab727f7",
   "metadata": {},
   "source": [
    "Now make bar plot"
   ]
  },
  {
   "cell_type": "code",
   "execution_count": 24,
   "id": "3362265e-522b-47a2-805e-9ebd69533909",
   "metadata": {
    "tags": []
   },
   "outputs": [
    {
     "data": {
      "image/png": "[encoded data removed]",
      "text/plain": [
       "<Figure size 600x600 with 1 Axes>"
      ]
     },
     "metadata": {},
     "output_type": "display_data"
    }
   ],
   "source": [
    "binned_data.barh('bin', 'Age count')"
   ]
  },
  {
   "cell_type": "markdown",
   "id": "79fb5873-3965-440e-90a1-c18a3f452da7",
   "metadata": {},
   "source": [
    "# Making a histogram\n",
    "We are not fully satisfied. \n",
    "- The movies in the first bar are not e.g. 0 years old. They are between 0 and 10.\n",
    "- Even worse: What happens if our bins are not uniform ... we loose our perspective on the x-axis"
   ]
  },
  {
   "cell_type": "code",
   "execution_count": 25,
   "id": "4fc793b8-4528-48e0-9017-c78839cb804a",
   "metadata": {
    "tags": []
   },
   "outputs": [
    {
     "name": "stderr",
     "output_type": "stream",
     "text": [
      "/home/jovyan/.local/lib/python3.11/site-packages/datascience/tables.py:3647: UserWarning: set_ticklabels() should only be used with a fixed number of ticks, i.e. after set_ticks() or using a FixedLocator.\n",
      "  axis.set_xticklabels(tick_labels, stretch='ultra-condensed')\n"
     ]
    },
    {
     "data": {
      "image/png": "[encoded data removed]",
      "text/plain": [
       "<Figure size 600x400 with 1 Axes>"
      ]
     },
     "metadata": {},
     "output_type": "display_data"
    }
   ],
   "source": [
    "my_bins = make_array(0, 10, 20, 40, 65, 102)\n",
    "binned_data = top_movies.bin('Age', bins = my_bins)\n",
    "binned_data.bar('bin', 'Age count')"
   ]
  },
  {
   "cell_type": "markdown",
   "id": "4f92d935-e04e-4c2c-9dca-b15c87ae8388",
   "metadata": {
    "tags": []
   },
   "source": [
    "We can fix this by using the [`hist()` function](http://www.data8.org/datascience/_autosummary/datascience.tables.Table.hist.html#datascience.tables.Table.hist)"
   ]
  },
  {
   "cell_type": "code",
   "execution_count": 26,
   "id": "4f6369c4-26ac-4a9b-83b0-14e0137586cc",
   "metadata": {
    "tags": []
   },
   "outputs": [
    {
     "data": {
      "image/png": "[encoded data removed]",
      "text/plain": [
       "<Figure size 600x400 with 1 Axes>"
      ]
     },
     "metadata": {},
     "output_type": "display_data"
    }
   ],
   "source": [
    "top_movies.hist('Age', bins = my_bins)"
   ]
  },
  {
   "cell_type": "markdown",
   "id": "8c3e20ad-6102-4c85-a2e1-5c02c8167806",
   "metadata": {},
   "source": [
    "## What does the \"percent per unit\" mean?\n",
    "\n",
    "Let's inspect our binned data"
   ]
  },
  {
   "cell_type": "code",
   "execution_count": 28,
   "id": "4b2b5a7e-3ebb-4645-97f2-7965410566d0",
   "metadata": {
    "tags": []
   },
   "outputs": [
    {
     "data": {
      "text/plain": [
       "199"
      ]
     },
     "execution_count": 28,
     "metadata": {},
     "output_type": "execute_result"
    }
   ],
   "source": [
    "sum(binned_data.column('Age count'))"
   ]
  },
  {
   "cell_type": "code",
   "execution_count": 31,
   "id": "d6685eab-bd97-4599-bb7b-944379836ab3",
   "metadata": {},
   "outputs": [
    {
     "data": {
      "text/plain": [
       "9.045226130653267"
      ]
     },
     "execution_count": 31,
     "metadata": {},
     "output_type": "execute_result"
    }
   ],
   "source": [
    "binned_data\n",
    "18 / 199 * 100"
   ]
  },
  {
   "cell_type": "markdown",
   "id": "155a4175-0656-40e3-bdbe-06541cdaf30e",
   "metadata": {},
   "source": [
    "Add a column containing the percentage of data in each bin. Hint: use `sum()` function."
   ]
  },
  {
   "cell_type": "code",
   "execution_count": 30,
   "id": "e9d210ec-5591-4e25-aa18-8b1a380017a5",
   "metadata": {},
   "outputs": [
    {
     "data": {
      "text/html": [
       "<table border=\"1\" class=\"dataframe\">\n",
       "    <thead>\n",
       "        <tr>\n",
       "            <th>bin</th> <th>Age count</th> <th>Percent</th>\n",
       "        </tr>\n",
       "    </thead>\n",
       "    <tbody>\n",
       "        <tr>\n",
       "            <td>0   </td> <td>18       </td> <td>9.04523</td>\n",
       "        </tr>\n",
       "        <tr>\n",
       "            <td>10  </td> <td>32       </td> <td>16.0804</td>\n",
       "        </tr>\n",
       "        <tr>\n",
       "            <td>20  </td> <td>68       </td> <td>34.1709</td>\n",
       "        </tr>\n",
       "        <tr>\n",
       "            <td>40  </td> <td>59       </td> <td>29.6482</td>\n",
       "        </tr>\n",
       "        <tr>\n",
       "            <td>65  </td> <td>22       </td> <td>11.0553</td>\n",
       "        </tr>\n",
       "        <tr>\n",
       "            <td>102 </td> <td>0        </td> <td>0      </td>\n",
       "        </tr>\n",
       "    </tbody>\n",
       "</table>"
      ],
      "text/plain": [
       "bin  | Age count | Percent\n",
       "0    | 18        | 9.04523\n",
       "10   | 32        | 16.0804\n",
       "20   | 68        | 34.1709\n",
       "40   | 59        | 29.6482\n",
       "65   | 22        | 11.0553\n",
       "102  | 0         | 0"
      ]
     },
     "execution_count": 30,
     "metadata": {},
     "output_type": "execute_result"
    }
   ],
   "source": [
    "# take bin [0-10) years old, there are 18 movies in there\n",
    "# 18 / 199 * 100\n",
    "share = binned_data.column('Age count') / sum(binned_data.column('Age count')) * 100\n",
    "binned_data = binned_data.with_column('Percent', share)\n",
    "binned_data"
   ]
  },
  {
   "cell_type": "markdown",
   "id": "6da8d3c0-0930-4892-8ddf-d8f7052cf3e0",
   "metadata": {},
   "source": [
    "## Bin width\n",
    "now we calculate the bin width. I.e. how many years each bin spans. We use the `np.diff()` function"
   ]
  },
  {
   "cell_type": "code",
   "execution_count": 33,
   "id": "956f4ec4-1729-4e28-8ecf-9b86c4871b2b",
   "metadata": {
    "tags": []
   },
   "outputs": [
    {
     "data": {
      "text/plain": [
       "array([1, 1, 1])"
      ]
     },
     "execution_count": 33,
     "metadata": {},
     "output_type": "execute_result"
    }
   ],
   "source": [
    "np.diff(make_array(1,2,3,4))"
   ]
  },
  {
   "cell_type": "code",
   "execution_count": 34,
   "id": "6f2a43ad-e230-4100-9dcd-8d8df0eeedb8",
   "metadata": {
    "tags": []
   },
   "outputs": [
    {
     "data": {
      "text/plain": [
       "array([ 9, -5, 10])"
      ]
     },
     "execution_count": 34,
     "metadata": {},
     "output_type": "execute_result"
    }
   ],
   "source": [
    "np.diff(make_array(1,10,5,15))"
   ]
  },
  {
   "cell_type": "code",
   "execution_count": 36,
   "id": "276a7bb6-2d1b-4d74-a2f7-db601a2930bd",
   "metadata": {
    "tags": []
   },
   "outputs": [
    {
     "data": {
      "text/plain": [
       "array([10, 10, 20, 25, 37])"
      ]
     },
     "execution_count": 36,
     "metadata": {},
     "output_type": "execute_result"
    }
   ],
   "source": [
    "bin_width = np.diff(binned_data.column('bin'))\n",
    "bin_width"
   ]
  },
  {
   "cell_type": "markdown",
   "id": "9a0991f1-d401-412f-971b-5a09826b7b79",
   "metadata": {},
   "source": [
    "we want to add a new column to the table. However, the `bin_width` is one element shorter than the table.\n",
    "We therefore shorten the table by one"
   ]
  },
  {
   "cell_type": "code",
   "execution_count": 38,
   "id": "56d5e225-5dcb-4afb-9763-f87a701cf6f3",
   "metadata": {
    "tags": []
   },
   "outputs": [
    {
     "data": {
      "text/html": [
       "<table border=\"1\" class=\"dataframe\">\n",
       "    <thead>\n",
       "        <tr>\n",
       "            <th>bin</th> <th>Age count</th> <th>Percent</th> <th>Width</th>\n",
       "        </tr>\n",
       "    </thead>\n",
       "    <tbody>\n",
       "        <tr>\n",
       "            <td>0   </td> <td>18       </td> <td>9.04523</td> <td>10   </td>\n",
       "        </tr>\n",
       "        <tr>\n",
       "            <td>10  </td> <td>32       </td> <td>16.0804</td> <td>10   </td>\n",
       "        </tr>\n",
       "        <tr>\n",
       "            <td>20  </td> <td>68       </td> <td>34.1709</td> <td>20   </td>\n",
       "        </tr>\n",
       "        <tr>\n",
       "            <td>40  </td> <td>59       </td> <td>29.6482</td> <td>25   </td>\n",
       "        </tr>\n",
       "        <tr>\n",
       "            <td>65  </td> <td>22       </td> <td>11.0553</td> <td>37   </td>\n",
       "        </tr>\n",
       "    </tbody>\n",
       "</table>"
      ],
      "text/plain": [
       "bin  | Age count | Percent | Width\n",
       "0    | 18        | 9.04523 | 10\n",
       "10   | 32        | 16.0804 | 10\n",
       "20   | 68        | 34.1709 | 20\n",
       "40   | 59        | 29.6482 | 25\n",
       "65   | 22        | 11.0553 | 37"
      ]
     },
     "execution_count": 38,
     "metadata": {},
     "output_type": "execute_result"
    }
   ],
   "source": [
    "binned_data_ = binned_data.take(np.arange(binned_data.num_rows - 1)) \n",
    "binned_data_ = binned_data_.with_column('Width', bin_width)\n",
    "binned_data_"
   ]
  },
  {
   "cell_type": "markdown",
   "id": "08416886-e449-43e6-b4f7-1acdf3fdb7b6",
   "metadata": {},
   "source": [
    "Now we can calculate the percent per unit"
   ]
  },
  {
   "cell_type": "code",
   "execution_count": 39,
   "id": "7d34103b-2daf-4881-ab38-c9bad5d677c6",
   "metadata": {
    "tags": []
   },
   "outputs": [
    {
     "data": {
      "text/plain": [
       "array([ 0.90452261,  1.6080402 ,  1.70854271,  1.18592965,  0.29879125])"
      ]
     },
     "execution_count": 39,
     "metadata": {},
     "output_type": "execute_result"
    }
   ],
   "source": [
    "percent_per_unit = binned_data_.column('Percent') / binned_data_.column('Width')\n",
    "percent_per_unit"
   ]
  },
  {
   "cell_type": "code",
   "execution_count": 40,
   "id": "b9def012-97d9-4b86-99e5-589fa19a476a",
   "metadata": {
    "tags": []
   },
   "outputs": [
    {
     "data": {
      "text/html": [
       "<table border=\"1\" class=\"dataframe\">\n",
       "    <thead>\n",
       "        <tr>\n",
       "            <th>bin</th> <th>Age count</th> <th>Percent</th> <th>Width</th> <th>percent per unit</th>\n",
       "        </tr>\n",
       "    </thead>\n",
       "    <tbody>\n",
       "        <tr>\n",
       "            <td>0   </td> <td>18       </td> <td>9.04523</td> <td>10   </td> <td>0.904523        </td>\n",
       "        </tr>\n",
       "        <tr>\n",
       "            <td>10  </td> <td>32       </td> <td>16.0804</td> <td>10   </td> <td>1.60804         </td>\n",
       "        </tr>\n",
       "        <tr>\n",
       "            <td>20  </td> <td>68       </td> <td>34.1709</td> <td>20   </td> <td>1.70854         </td>\n",
       "        </tr>\n",
       "        <tr>\n",
       "            <td>40  </td> <td>59       </td> <td>29.6482</td> <td>25   </td> <td>1.18593         </td>\n",
       "        </tr>\n",
       "        <tr>\n",
       "            <td>65  </td> <td>22       </td> <td>11.0553</td> <td>37   </td> <td>0.298791        </td>\n",
       "        </tr>\n",
       "    </tbody>\n",
       "</table>"
      ],
      "text/plain": [
       "bin  | Age count | Percent | Width | percent per unit\n",
       "0    | 18        | 9.04523 | 10    | 0.904523\n",
       "10   | 32        | 16.0804 | 10    | 1.60804\n",
       "20   | 68        | 34.1709 | 20    | 1.70854\n",
       "40   | 59        | 29.6482 | 25    | 1.18593\n",
       "65   | 22        | 11.0553 | 37    | 0.298791"
      ]
     },
     "execution_count": 40,
     "metadata": {},
     "output_type": "execute_result"
    }
   ],
   "source": [
    "binned_data_.with_column('percent per unit', percent_per_unit)"
   ]
  },
  {
   "cell_type": "code",
   "execution_count": null,
   "id": "bf893418-ab16-46c1-a44d-f023a93d5905",
   "metadata": {},
   "outputs": [],
   "source": [
    "top_movies.hist('Age', bins = my_bins, unit='Year')"
   ]
  },
  {
   "cell_type": "markdown",
   "id": "2f57c43e-1e4f-4728-9d4c-ffb01fffeb12",
   "metadata": {
    "tags": []
   },
   "source": [
    "# Discussion question\n",
    "https://ipm.ucanr.edu/calludt.cgi/WXSTATIONDATA?STN=STBARBRA.C\n",
    "\n",
    "- University of California Statewide Integrated Pest Management Program\n",
    "- How to Manage Pests: California Weather Data\n",
    "- Retrieve data in comma delimited data file format\n",
    " \n",
    "Weather database request:  \n",
    " \n",
    "Time Period: January 1, 1951 to January 1, 2023, retrieved on May 2, 2023\"\n",
    " (10958 days)\n",
    "\n",
    "|Variable  | Description                  |Units                         |\n",
    "|:--    | :--| :-- |\n",
    "|   1      | Database name                |                              |\n",
    "|   2      | Date: year,month,day         |yyyymmdd\"                     |\n",
    "|   3      | Observation time             |hhmm                          |\n",
    "|   4      | Precipitation, amount        |Millimeters\"                  |\n",
    "|   5      | Precipitation, type          |(coded)\"                      |\n",
    "|   6      | Air temperature, maximum     |Celsius\"                      |\n",
    "|   7      | Air temperature, minimum     |Celsius\"                      |\n",
    "|   8      | Air temperature, observed    |Celsius\"                      |\n",
    "|   9      | Weather conditions           |(coded)\"                      |\n",
    "|  10      | Wind, direction              |N,NE,E,SE,S,SW,W,NW, 0=calm\"  |\n",
    "|  11      | Wind, speed                  |Meters per second\"            |\n",
    "|  12      | Bulb temperature, wet        |Celsius\"                      |\n",
    "|  13      | Bulb temperature, dry        |Celsius\"                      |\n",
    "|  14      | Soil temperature, maximum    |Celsius\"                      |\n",
    "|  15      | Soil temperature, minimum    |Celsius\"                      |\n",
    "|  16      | Pan evaporation              |Millimeters\"                  |\n",
    "|  17      | Solar radiation              |Watts per sq. meters\"         |\n",
    "|  18      | Reference evapotranspiration |Millimeters\"                  |\n",
    "|  19      | Relative humidity, minimum   |Percent\"                      |\n",
    "|  20      | Relative humidity, maximum   |Percent                       |\n",
    "\n",
    "\n",
    "\n",
    "Weather Type\n",
    "Weather type contains information about the weather at the observation time. Also, if a significant weather event occurs during a day, hail or a tornado for instance, the occurrence may be noted in this field.\n",
    "\n",
    "|Code  | Meaning    |\n",
    "| :--   | :--|\n",
    "|C\t|Clear\t                                   |\n",
    "|R\t|Rain                                      |\n",
    "|PC\t|Partly cloudy\t                           |\n",
    "|R+\t|Heavy rain                                |\n",
    "|CY\t|Cloudy\t                                   |\n",
    "|W\t|Rain showers                              |\n",
    "|HZ\t|Haze or smoke\t                           |\n",
    "|W+\t|Heavy showers                             |\n",
    "|DS\t|Dust storm\t                               |\n",
    "|S\t|Snow                                      |\n",
    "|F\t|Fog\t                                   |\n",
    "|S+\t|Heavy snow                                |\n",
    "|F+\t|Heavy fog\t                               |\n",
    "|BS\t|Blowing snow                              |\n",
    "|DZ\t|Drizzle\t                               |\n",
    "|IP\t|Sleet                                     |\n",
    "|TH\t|Thunderstorm\t                           |\n",
    "|HL\t|Hail                                      |\n",
    "|TO\t|Tornado\t                               |\n",
    "|SR\t|Snow and rain mixed                       |\n",
    "|T\t|Thunder, no rain\t                       |\n",
    "|HW\t|High winds                                |\n",
    "|L\t|Lightning, no thunder\tDW\tDew present    |"
   ]
  },
  {
   "cell_type": "code",
   "execution_count": null,
   "id": "d2496024-db05-4c6b-9655-63f2b7cb2d7d",
   "metadata": {
    "tags": []
   },
   "outputs": [],
   "source": [
    "weather = Table.read_table('data/sb_weather2.csv')\n",
    "weather"
   ]
  },
  {
   "cell_type": "code",
   "execution_count": null,
   "id": "0751aba8-d692-48d3-9ec3-23e5f3f47706",
   "metadata": {
    "tags": []
   },
   "outputs": [],
   "source": [
    "(weather\n",
    "    .group('Wx')\n",
    "    .barh('Wx', 'count')\n",
    ")"
   ]
  },
  {
   "cell_type": "code",
   "execution_count": null,
   "id": "81be0aad-9ff7-4c6e-bf1f-fbccf72d8e1f",
   "metadata": {
    "tags": []
   },
   "outputs": [],
   "source": [
    "weather.hist('Air max')"
   ]
  },
  {
   "cell_type": "code",
   "execution_count": null,
   "id": "77e089b4-1367-404a-a314-f956ee934322",
   "metadata": {
    "tags": []
   },
   "outputs": [],
   "source": [
    "weather.scatter('Air max', 'min')"
   ]
  },
  {
   "cell_type": "markdown",
   "id": "3f521280-be54-4629-9b04-151f674ac06e",
   "metadata": {
    "tags": []
   },
   "source": [
    "# Convert to °F\n",
    "$F = (C × 9/5) + 32$\n"
   ]
  },
  {
   "cell_type": "code",
   "execution_count": null,
   "id": "63d965dd-a27e-49d2-8cbe-d777faa63877",
   "metadata": {},
   "outputs": [],
   "source": []
  }
 ],
 "metadata": {
  "kernelspec": {
   "display_name": "Python 3 (ipykernel)",
   "language": "python",
   "name": "python3"
  },
  "language_info": {
   "codemirror_mode": {
    "name": "ipython",
    "version": 3
   },
   "file_extension": ".py",
   "mimetype": "text/x-python",
   "name": "python",
   "nbconvert_exporter": "python",
   "pygments_lexer": "ipython3",
   "version": "3.11.5"
  }
 },
 "nbformat": 4,
 "nbformat_minor": 5
}
