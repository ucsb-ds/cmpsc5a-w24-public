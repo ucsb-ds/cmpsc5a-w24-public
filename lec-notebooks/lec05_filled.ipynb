{
 "cells": [
  {
   "cell_type": "code",
   "execution_count": 1,
   "metadata": {
    "tags": []
   },
   "outputs": [],
   "source": [
    "from datascience import *\n",
    "import numpy as np\n",
    "\n",
    "%matplotlib inline\n",
    "import matplotlib.pyplot as plots\n",
    "plots.style.use('fivethirtyeight')"
   ]
  },
  {
   "cell_type": "markdown",
   "metadata": {},
   "source": [
    "# Lecture 05: Census"
   ]
  },
  {
   "cell_type": "markdown",
   "metadata": {},
   "source": [
    "## Table Review: Welcome Survey\n",
    "\n",
    "Complete this [Class Data Survey](https://forms.gle/Bt7rk5aS16XGyDgr6). Individuals will not be identified. You may leave any answers blank. We'll use this Class Data to use the rest of the quarter. Thank you in advance!"
   ]
  },
  {
   "cell_type": "code",
   "execution_count": 169,
   "metadata": {
    "tags": []
   },
   "outputs": [],
   "source": [
    "import pandas\n",
    "survey_f23 = pandas.read_csv('data/welcome_survey_fa2023.csv')\n",
    "survey_f23 = survey_f23.rename(columns={'What year are you in?': 'Year',\n",
    "                                         'How would you rate yourself on a scale of 10 from 1 (introvert) to 10 (extrovert)': 'Extraversion',\n",
    "                                         'How many texts do you send per day?': 'Number of texts',\n",
    "                                         'Are you left-handed, right-handed or both?': 'Handedness',\n",
    "                                         'How many hours of sleep do you get?': 'Hours of sleep',\n",
    "                                         'What position do you sleep in?': 'Sleep position',\n",
    "                                         'What pets do you have? If more than one, separate with commas.': 'Pets',\n",
    "                                         'How many siblings do you have?': 'Number of siblings',\n",
    "                                         'Make up a very random 4-digit number': 'Random number',\n",
    "                                         'Do you have a tattoo?': 'Tattoos',\n",
    "                                         'How do you get to work or school?': 'Commute by'})\n",
    "survey_f23 = survey_f23.drop('Timestamp', axis=1)        \n",
    "survey_f23['Number of texts'] = pandas.to_numeric(survey_f23['Number of texts'], errors='coerce', downcast='integer')\n",
    "survey_f23['Hours of sleep'] = pandas.to_numeric(survey_f23['Hours of sleep'], errors='coerce', downcast='integer')\n",
    "survey_f23 = survey_f23.dropna()\n",
    "survey_f23 = Table().from_df(survey_f23)\n",
    "survey_f23.to_csv('data/welcome_survey_fa2023_cleaned.csv')"
   ]
  },
  {
   "cell_type": "code",
   "execution_count": 112,
   "metadata": {
    "tags": []
   },
   "outputs": [
    {
     "data": {
      "text/html": [
       "<table border=\"1\" class=\"dataframe\">\n",
       "    <thead>\n",
       "        <tr>\n",
       "            <th>Year</th> <th>Extraversion</th> <th>Number of textees</th> <th>Hours of sleep</th> <th>Handedness</th> <th>Pant leg</th> <th>Sleep position</th> <th>Pets</th> <th>Piercings</th>\n",
       "        </tr>\n",
       "    </thead>\n",
       "    <tbody>\n",
       "        <tr>\n",
       "            <td>Second Year</td> <td>2           </td> <td>5                </td> <td>9             </td> <td>Right-handed</td> <td>Right leg in first</td> <td>On your right side</td> <td>Cat, Dog, Fish, Snake, Lizard</td> <td>-3       </td>\n",
       "        </tr>\n",
       "        <tr>\n",
       "            <td>First Year </td> <td>2           </td> <td>3                </td> <td>8             </td> <td>Right-handed</td> <td>I don't know      </td> <td>On your back      </td> <td>nan                          </td> <td>-1       </td>\n",
       "        </tr>\n",
       "        <tr>\n",
       "            <td>First Year </td> <td>5           </td> <td>5                </td> <td>8             </td> <td>Right-handed</td> <td>Right leg in first</td> <td>On your left side </td> <td>Bearded dragon               </td> <td>0        </td>\n",
       "        </tr>\n",
       "        <tr>\n",
       "            <td>Third Year </td> <td>8           </td> <td>4                </td> <td>5             </td> <td>Right-handed</td> <td>I don't know      </td> <td>On your back      </td> <td>Bird                         </td> <td>0        </td>\n",
       "        </tr>\n",
       "        <tr>\n",
       "            <td>First Year </td> <td>3           </td> <td>15               </td> <td>6             </td> <td>Left-handed </td> <td>Right leg in first</td> <td>On your back      </td> <td>Bird                         </td> <td>0        </td>\n",
       "        </tr>\n",
       "        <tr>\n",
       "            <td>Second Year</td> <td>3           </td> <td>1                </td> <td>10            </td> <td>Right-handed</td> <td>Right leg in first</td> <td>On your back      </td> <td>Bird                         </td> <td>0        </td>\n",
       "        </tr>\n",
       "        <tr>\n",
       "            <td>First Year </td> <td>8           </td> <td>7                </td> <td>7             </td> <td>Left-handed </td> <td>Right leg in first</td> <td>On your left side </td> <td>Bird                         </td> <td>0        </td>\n",
       "        </tr>\n",
       "        <tr>\n",
       "            <td>First Year </td> <td>6           </td> <td>3                </td> <td>7             </td> <td>Right-handed</td> <td>I don't know      </td> <td>On your right side</td> <td>Bird                         </td> <td>0        </td>\n",
       "        </tr>\n",
       "        <tr>\n",
       "            <td>Second Year</td> <td>8           </td> <td>5                </td> <td>7             </td> <td>Right-handed</td> <td>Left leg in first </td> <td>On your right side</td> <td>Bird                         </td> <td>0        </td>\n",
       "        </tr>\n",
       "        <tr>\n",
       "            <td>First Year </td> <td>3           </td> <td>2                </td> <td>7             </td> <td>Left-handed </td> <td>Right leg in first</td> <td>On your right side</td> <td>Bird                         </td> <td>0        </td>\n",
       "        </tr>\n",
       "    </tbody>\n",
       "</table>\n",
       "<p>... (1491 rows omitted)</p>"
      ],
      "text/plain": [
       "Year        | Extraversion | Number of textees | Hours of sleep | Handedness   | Pant leg           | Sleep position     | Pets                          | Piercings\n",
       "Second Year | 2            | 5                 | 9              | Right-handed | Right leg in first | On your right side | Cat, Dog, Fish, Snake, Lizard | -3\n",
       "First Year  | 2            | 3                 | 8              | Right-handed | I don't know       | On your back       | nan                           | -1\n",
       "First Year  | 5            | 5                 | 8              | Right-handed | Right leg in first | On your left side  | Bearded dragon                | 0\n",
       "Third Year  | 8            | 4                 | 5              | Right-handed | I don't know       | On your back       | Bird                          | 0\n",
       "First Year  | 3            | 15                | 6              | Left-handed  | Right leg in first | On your back       | Bird                          | 0\n",
       "Second Year | 3            | 1                 | 10             | Right-handed | Right leg in first | On your back       | Bird                          | 0\n",
       "First Year  | 8            | 7                 | 7              | Left-handed  | Right leg in first | On your left side  | Bird                          | 0\n",
       "First Year  | 6            | 3                 | 7              | Right-handed | I don't know       | On your right side | Bird                          | 0\n",
       "Second Year | 8            | 5                 | 7              | Right-handed | Left leg in first  | On your right side | Bird                          | 0\n",
       "First Year  | 3            | 2                 | 7              | Left-handed  | Right leg in first | On your right side | Bird                          | 0\n",
       "... (1491 rows omitted)"
      ]
     },
     "execution_count": 112,
     "metadata": {},
     "output_type": "execute_result"
    }
   ],
   "source": [
    "survey = Table.read_table('data/welcome_survey_sp23.csv')\n",
    "survey"
   ]
  },
  {
   "cell_type": "code",
   "execution_count": 105,
   "metadata": {
    "tags": []
   },
   "outputs": [],
   "source": [
    "survey_f23 = survey_f23.select('Year', 'Extraversion', 'Hours of sleep', 'Handedness', 'Sleep position', 'Pets')\n",
    "survey = survey.select('Year', 'Extraversion', 'Hours of sleep', 'Handedness', 'Sleep position', 'Pets')\n",
    "survey = survey.append(survey_f23)"
   ]
  },
  {
   "cell_type": "code",
   "execution_count": 106,
   "metadata": {
    "tags": []
   },
   "outputs": [
    {
     "data": {
      "text/plain": [
       "array([ 9.,  8.,  8., ...,  7.,  5.,  7.])"
      ]
     },
     "execution_count": 106,
     "metadata": {},
     "output_type": "execute_result"
    }
   ],
   "source": [
    "survey.column('Hours of sleep')"
   ]
  },
  {
   "cell_type": "markdown",
   "metadata": {},
   "source": [
    "### Find average hours of sleep for side sleepers (hint: use [where-predicates](http://www.data8.org/datascience/reference-nb/datascience-reference.html#Table.where-Predicates))"
   ]
  },
  {
   "cell_type": "code",
   "execution_count": 113,
   "metadata": {
    "tags": []
   },
   "outputs": [
    {
     "data": {
      "text/plain": [
       "7.0674974039460023"
      ]
     },
     "execution_count": 113,
     "metadata": {},
     "output_type": "execute_result"
    }
   ],
   "source": [
    "np.mean(survey.where('Sleep position', are.containing('side')).column('Hours of sleep'))"
   ]
  },
  {
   "cell_type": "markdown",
   "metadata": {},
   "source": [
    "### Average hours of sleep for back sleepers"
   ]
  },
  {
   "cell_type": "code",
   "execution_count": 114,
   "metadata": {
    "tags": []
   },
   "outputs": [
    {
     "data": {
      "text/plain": [
       "7.1225895316804406"
      ]
     },
     "execution_count": 114,
     "metadata": {},
     "output_type": "execute_result"
    }
   ],
   "source": [
    "np.mean(survey.where('Sleep position', are.containing('back')).column('Hours of sleep'))"
   ]
  },
  {
   "cell_type": "markdown",
   "metadata": {
    "tags": []
   },
   "source": [
    "### Share of students sleeping at least 8 hours"
   ]
  },
  {
   "cell_type": "code",
   "execution_count": 109,
   "metadata": {
    "tags": []
   },
   "outputs": [
    {
     "data": {
      "text/plain": [
       "0.344311377245509"
      ]
     },
     "execution_count": 109,
     "metadata": {},
     "output_type": "execute_result"
    }
   ],
   "source": [
    "total_number_of_students = survey.num_rows\n",
    "number_of_long_sleepers = survey.where('Hours of sleep', are.above_or_equal_to(8)).num_rows\n",
    "\n",
    "number_of_long_sleepers/total_number_of_students"
   ]
  },
  {
   "cell_type": "markdown",
   "metadata": {},
   "source": [
    "### Subset table with only sleep information"
   ]
  },
  {
   "cell_type": "code",
   "execution_count": 110,
   "metadata": {
    "tags": []
   },
   "outputs": [
    {
     "data": {
      "text/html": [
       "<table border=\"1\" class=\"dataframe\">\n",
       "    <thead>\n",
       "        <tr>\n",
       "            <th>Hours of sleep</th> <th>Sleep position</th>\n",
       "        </tr>\n",
       "    </thead>\n",
       "    <tbody>\n",
       "        <tr>\n",
       "            <td>9             </td> <td>On your right side</td>\n",
       "        </tr>\n",
       "        <tr>\n",
       "            <td>8             </td> <td>On your back      </td>\n",
       "        </tr>\n",
       "        <tr>\n",
       "            <td>8             </td> <td>On your left side </td>\n",
       "        </tr>\n",
       "        <tr>\n",
       "            <td>5             </td> <td>On your back      </td>\n",
       "        </tr>\n",
       "        <tr>\n",
       "            <td>6             </td> <td>On your back      </td>\n",
       "        </tr>\n",
       "        <tr>\n",
       "            <td>10            </td> <td>On your back      </td>\n",
       "        </tr>\n",
       "        <tr>\n",
       "            <td>7             </td> <td>On your left side </td>\n",
       "        </tr>\n",
       "        <tr>\n",
       "            <td>7             </td> <td>On your right side</td>\n",
       "        </tr>\n",
       "        <tr>\n",
       "            <td>7             </td> <td>On your right side</td>\n",
       "        </tr>\n",
       "        <tr>\n",
       "            <td>7             </td> <td>On your right side</td>\n",
       "        </tr>\n",
       "    </tbody>\n",
       "</table>\n",
       "<p>... (1660 rows omitted)</p>"
      ],
      "text/plain": [
       "Hours of sleep | Sleep position\n",
       "9              | On your right side\n",
       "8              | On your back\n",
       "8              | On your left side\n",
       "5              | On your back\n",
       "6              | On your back\n",
       "10             | On your back\n",
       "7              | On your left side\n",
       "7              | On your right side\n",
       "7              | On your right side\n",
       "7              | On your right side\n",
       "... (1660 rows omitted)"
      ]
     },
     "execution_count": 110,
     "metadata": {},
     "output_type": "execute_result"
    }
   ],
   "source": [
    "survey.select('Hours of sleep', 'Sleep position')"
   ]
  },
  {
   "cell_type": "markdown",
   "metadata": {},
   "source": [
    "## Discussion Question: NBA Salaries\n",
    "\n",
    "The table nba has columns PLAYER, POSITION, and SALARY\n",
    "\n",
    "**Tasks:**\n",
    "- Rename \"'15-'16 SALARY\" to \"SALARY\" using `relabeled()`\n",
    "- Subset the table to only contain the player name, the position and the salary"
   ]
  },
  {
   "cell_type": "code",
   "execution_count": 111,
   "metadata": {
    "tags": []
   },
   "outputs": [
    {
     "data": {
      "text/html": [
       "<table border=\"1\" class=\"dataframe\">\n",
       "    <thead>\n",
       "        <tr>\n",
       "            <th>PLAYER</th> <th>POSITION</th> <th>TEAM</th> <th>'15-'16 SALARY</th>\n",
       "        </tr>\n",
       "    </thead>\n",
       "    <tbody>\n",
       "        <tr>\n",
       "            <td>Paul Millsap    </td> <td>PF      </td> <td>Atlanta Hawks</td> <td>18.6717       </td>\n",
       "        </tr>\n",
       "        <tr>\n",
       "            <td>Al Horford      </td> <td>C       </td> <td>Atlanta Hawks</td> <td>12            </td>\n",
       "        </tr>\n",
       "        <tr>\n",
       "            <td>Tiago Splitter  </td> <td>C       </td> <td>Atlanta Hawks</td> <td>9.75625       </td>\n",
       "        </tr>\n",
       "        <tr>\n",
       "            <td>Jeff Teague     </td> <td>PG      </td> <td>Atlanta Hawks</td> <td>8             </td>\n",
       "        </tr>\n",
       "        <tr>\n",
       "            <td>Kyle Korver     </td> <td>SG      </td> <td>Atlanta Hawks</td> <td>5.74648       </td>\n",
       "        </tr>\n",
       "        <tr>\n",
       "            <td>Thabo Sefolosha </td> <td>SF      </td> <td>Atlanta Hawks</td> <td>4             </td>\n",
       "        </tr>\n",
       "        <tr>\n",
       "            <td>Mike Scott      </td> <td>PF      </td> <td>Atlanta Hawks</td> <td>3.33333       </td>\n",
       "        </tr>\n",
       "        <tr>\n",
       "            <td>Kent Bazemore   </td> <td>SF      </td> <td>Atlanta Hawks</td> <td>2             </td>\n",
       "        </tr>\n",
       "        <tr>\n",
       "            <td>Dennis Schroder </td> <td>PG      </td> <td>Atlanta Hawks</td> <td>1.7634        </td>\n",
       "        </tr>\n",
       "        <tr>\n",
       "            <td>Tim Hardaway Jr.</td> <td>SG      </td> <td>Atlanta Hawks</td> <td>1.30452       </td>\n",
       "        </tr>\n",
       "    </tbody>\n",
       "</table>\n",
       "<p>... (407 rows omitted)</p>"
      ],
      "text/plain": [
       "PLAYER           | POSITION | TEAM          | '15-'16 SALARY\n",
       "Paul Millsap     | PF       | Atlanta Hawks | 18.6717\n",
       "Al Horford       | C        | Atlanta Hawks | 12\n",
       "Tiago Splitter   | C        | Atlanta Hawks | 9.75625\n",
       "Jeff Teague      | PG       | Atlanta Hawks | 8\n",
       "Kyle Korver      | SG       | Atlanta Hawks | 5.74648\n",
       "Thabo Sefolosha  | SF       | Atlanta Hawks | 4\n",
       "Mike Scott       | PF       | Atlanta Hawks | 3.33333\n",
       "Kent Bazemore    | SF       | Atlanta Hawks | 2\n",
       "Dennis Schroder  | PG       | Atlanta Hawks | 1.7634\n",
       "Tim Hardaway Jr. | SG       | Atlanta Hawks | 1.30452\n",
       "... (407 rows omitted)"
      ]
     },
     "execution_count": 111,
     "metadata": {},
     "output_type": "execute_result"
    }
   ],
   "source": [
    "nba = Table.read_table('data/nba_salaries.csv')\n",
    "nba"
   ]
  },
  {
   "cell_type": "code",
   "execution_count": 28,
   "metadata": {},
   "outputs": [
    {
     "data": {
      "text/html": [
       "<table border=\"1\" class=\"dataframe\">\n",
       "    <thead>\n",
       "        <tr>\n",
       "            <th>PLAYER</th> <th>POSITION</th> <th>TEAM</th> <th>SALARY</th>\n",
       "        </tr>\n",
       "    </thead>\n",
       "    <tbody>\n",
       "        <tr>\n",
       "            <td>Paul Millsap    </td> <td>PF      </td> <td>Atlanta Hawks</td> <td>18.6717</td>\n",
       "        </tr>\n",
       "        <tr>\n",
       "            <td>Al Horford      </td> <td>C       </td> <td>Atlanta Hawks</td> <td>12     </td>\n",
       "        </tr>\n",
       "        <tr>\n",
       "            <td>Tiago Splitter  </td> <td>C       </td> <td>Atlanta Hawks</td> <td>9.75625</td>\n",
       "        </tr>\n",
       "        <tr>\n",
       "            <td>Jeff Teague     </td> <td>PG      </td> <td>Atlanta Hawks</td> <td>8      </td>\n",
       "        </tr>\n",
       "        <tr>\n",
       "            <td>Kyle Korver     </td> <td>SG      </td> <td>Atlanta Hawks</td> <td>5.74648</td>\n",
       "        </tr>\n",
       "        <tr>\n",
       "            <td>Thabo Sefolosha </td> <td>SF      </td> <td>Atlanta Hawks</td> <td>4      </td>\n",
       "        </tr>\n",
       "        <tr>\n",
       "            <td>Mike Scott      </td> <td>PF      </td> <td>Atlanta Hawks</td> <td>3.33333</td>\n",
       "        </tr>\n",
       "        <tr>\n",
       "            <td>Kent Bazemore   </td> <td>SF      </td> <td>Atlanta Hawks</td> <td>2      </td>\n",
       "        </tr>\n",
       "        <tr>\n",
       "            <td>Dennis Schroder </td> <td>PG      </td> <td>Atlanta Hawks</td> <td>1.7634 </td>\n",
       "        </tr>\n",
       "        <tr>\n",
       "            <td>Tim Hardaway Jr.</td> <td>SG      </td> <td>Atlanta Hawks</td> <td>1.30452</td>\n",
       "        </tr>\n",
       "    </tbody>\n",
       "</table>\n",
       "<p>... (407 rows omitted)</p>"
      ],
      "text/plain": [
       "PLAYER           | POSITION | TEAM          | SALARY\n",
       "Paul Millsap     | PF       | Atlanta Hawks | 18.6717\n",
       "Al Horford       | C        | Atlanta Hawks | 12\n",
       "Tiago Splitter   | C        | Atlanta Hawks | 9.75625\n",
       "Jeff Teague      | PG       | Atlanta Hawks | 8\n",
       "Kyle Korver      | SG       | Atlanta Hawks | 5.74648\n",
       "Thabo Sefolosha  | SF       | Atlanta Hawks | 4\n",
       "Mike Scott       | PF       | Atlanta Hawks | 3.33333\n",
       "Kent Bazemore    | SF       | Atlanta Hawks | 2\n",
       "Dennis Schroder  | PG       | Atlanta Hawks | 1.7634\n",
       "Tim Hardaway Jr. | SG       | Atlanta Hawks | 1.30452\n",
       "... (407 rows omitted)"
      ]
     },
     "execution_count": 28,
     "metadata": {},
     "output_type": "execute_result"
    }
   ],
   "source": [
    "nba = nba.relabeled(\"'15-'16 SALARY\", 'SALARY')"
   ]
  },
  {
   "cell_type": "markdown",
   "metadata": {
    "tags": []
   },
   "source": [
    "**Tasks:**\n",
    "- Create an array containing the **names** of all point guards (PG) who make more than 15 MUSD/year. Salaries are given in MUSD"
   ]
  },
  {
   "cell_type": "code",
   "execution_count": 37,
   "metadata": {
    "tags": []
   },
   "outputs": [
    {
     "data": {
      "text/plain": [
       "array(['Derrick Rose', 'Kyrie Irving', 'Chris Paul', 'Russell Westbrook',\n",
       "       'John Wall'],\n",
       "      dtype='<U24')"
      ]
     },
     "execution_count": 37,
     "metadata": {},
     "output_type": "execute_result"
    }
   ],
   "source": [
    "nba.where('POSITION', 'PG').where('SALARY', are.above(15)).column('PLAYER')"
   ]
  },
  {
   "cell_type": "markdown",
   "metadata": {
    "tags": []
   },
   "source": [
    "**Question**:\n",
    "\n",
    "What does the following return\n",
    "\n",
    "```python\n",
    "nba.drop('POSITION')\n",
    "nba.num_columns\n",
    "```"
   ]
  },
  {
   "cell_type": "code",
   "execution_count": 39,
   "metadata": {},
   "outputs": [
    {
     "data": {
      "text/html": [
       "<table border=\"1\" class=\"dataframe\">\n",
       "    <thead>\n",
       "        <tr>\n",
       "            <th>PLAYER</th> <th>TEAM</th> <th>SALARY</th>\n",
       "        </tr>\n",
       "    </thead>\n",
       "    <tbody>\n",
       "        <tr>\n",
       "            <td>Paul Millsap    </td> <td>Atlanta Hawks</td> <td>18.6717</td>\n",
       "        </tr>\n",
       "        <tr>\n",
       "            <td>Al Horford      </td> <td>Atlanta Hawks</td> <td>12     </td>\n",
       "        </tr>\n",
       "        <tr>\n",
       "            <td>Tiago Splitter  </td> <td>Atlanta Hawks</td> <td>9.75625</td>\n",
       "        </tr>\n",
       "        <tr>\n",
       "            <td>Jeff Teague     </td> <td>Atlanta Hawks</td> <td>8      </td>\n",
       "        </tr>\n",
       "        <tr>\n",
       "            <td>Kyle Korver     </td> <td>Atlanta Hawks</td> <td>5.74648</td>\n",
       "        </tr>\n",
       "        <tr>\n",
       "            <td>Thabo Sefolosha </td> <td>Atlanta Hawks</td> <td>4      </td>\n",
       "        </tr>\n",
       "        <tr>\n",
       "            <td>Mike Scott      </td> <td>Atlanta Hawks</td> <td>3.33333</td>\n",
       "        </tr>\n",
       "        <tr>\n",
       "            <td>Kent Bazemore   </td> <td>Atlanta Hawks</td> <td>2      </td>\n",
       "        </tr>\n",
       "        <tr>\n",
       "            <td>Dennis Schroder </td> <td>Atlanta Hawks</td> <td>1.7634 </td>\n",
       "        </tr>\n",
       "        <tr>\n",
       "            <td>Tim Hardaway Jr.</td> <td>Atlanta Hawks</td> <td>1.30452</td>\n",
       "        </tr>\n",
       "    </tbody>\n",
       "</table>\n",
       "<p>... (407 rows omitted)</p>"
      ],
      "text/plain": [
       "PLAYER           | TEAM          | SALARY\n",
       "Paul Millsap     | Atlanta Hawks | 18.6717\n",
       "Al Horford       | Atlanta Hawks | 12\n",
       "Tiago Splitter   | Atlanta Hawks | 9.75625\n",
       "Jeff Teague      | Atlanta Hawks | 8\n",
       "Kyle Korver      | Atlanta Hawks | 5.74648\n",
       "Thabo Sefolosha  | Atlanta Hawks | 4\n",
       "Mike Scott       | Atlanta Hawks | 3.33333\n",
       "Kent Bazemore    | Atlanta Hawks | 2\n",
       "Dennis Schroder  | Atlanta Hawks | 1.7634\n",
       "Tim Hardaway Jr. | Atlanta Hawks | 1.30452\n",
       "... (407 rows omitted)"
      ]
     },
     "execution_count": 39,
     "metadata": {},
     "output_type": "execute_result"
    }
   ],
   "source": [
    "nba.drop('POSITION')"
   ]
  },
  {
   "cell_type": "code",
   "execution_count": 41,
   "metadata": {},
   "outputs": [
    {
     "data": {
      "text/plain": [
       "4"
      ]
     },
     "execution_count": 41,
     "metadata": {},
     "output_type": "execute_result"
    }
   ],
   "source": [
    "nba.num_columns"
   ]
  },
  {
   "cell_type": "markdown",
   "metadata": {},
   "source": [
    "---\n",
    "Back to slides\n",
    "\n",
    "---"
   ]
  },
  {
   "cell_type": "markdown",
   "metadata": {},
   "source": [
    "## Census: Population Trends"
   ]
  },
  {
   "cell_type": "markdown",
   "metadata": {},
   "source": [
    "[A description of the table appears online.](https://www2.census.gov/programs-surveys/popest/technical-documentation/file-layouts/2010-2019/nc-est2019-agesex-res.pdf)\n",
    "\n",
    "The Census dataset contain estimates of the US population in each category of sex and age in the years 2010 through 2019. The Census is decennial: it takes place every 10 years. The most recent Census was held in 2020 and the one before that in 2010. The Census Bureau also estimates population changes each year. As explained in the Bureau’s description of its methodology, it “adds the estimated changes to the last decennial census to produce updated population estimates every year.”"
   ]
  },
  {
   "cell_type": "code",
   "execution_count": 117,
   "metadata": {
    "tags": []
   },
   "outputs": [
    {
     "data": {
      "text/html": [
       "<table border=\"1\" class=\"dataframe\">\n",
       "    <thead>\n",
       "        <tr>\n",
       "            <th>SEX</th> <th>AGE</th> <th>ESTIMATESBASE2020</th> <th>POPESTIMATE2020</th> <th>POPESTIMATE2021</th> <th>POPESTIMATE2022</th>\n",
       "        </tr>\n",
       "    </thead>\n",
       "    <tbody>\n",
       "        <tr>\n",
       "            <td>0   </td> <td>0   </td> <td>3690644          </td> <td>3669863        </td> <td>3570131        </td> <td>3683113        </td>\n",
       "        </tr>\n",
       "        <tr>\n",
       "            <td>1   </td> <td>0   </td> <td>1886273          </td> <td>1876349        </td> <td>1825237        </td> <td>1882867        </td>\n",
       "        </tr>\n",
       "        <tr>\n",
       "            <td>2   </td> <td>0   </td> <td>1804371          </td> <td>1793514        </td> <td>1744894        </td> <td>1800246        </td>\n",
       "        </tr>\n",
       "        <tr>\n",
       "            <td>0   </td> <td>1   </td> <td>3731823          </td> <td>3719267        </td> <td>3675382        </td> <td>3588817        </td>\n",
       "        </tr>\n",
       "        <tr>\n",
       "            <td>1   </td> <td>1   </td> <td>1906537          </td> <td>1899515        </td> <td>1879051        </td> <td>1834594        </td>\n",
       "        </tr>\n",
       "        <tr>\n",
       "            <td>2   </td> <td>1   </td> <td>1825286          </td> <td>1819752        </td> <td>1796331        </td> <td>1754223        </td>\n",
       "        </tr>\n",
       "        <tr>\n",
       "            <td>0   </td> <td>2   </td> <td>3826588          </td> <td>3807454        </td> <td>3725597        </td> <td>3693362        </td>\n",
       "        </tr>\n",
       "        <tr>\n",
       "            <td>1   </td> <td>2   </td> <td>1957418          </td> <td>1946596        </td> <td>1902665        </td> <td>1888149        </td>\n",
       "        </tr>\n",
       "        <tr>\n",
       "            <td>2   </td> <td>2   </td> <td>1869170          </td> <td>1860858        </td> <td>1822932        </td> <td>1805213        </td>\n",
       "        </tr>\n",
       "        <tr>\n",
       "            <td>0   </td> <td>3   </td> <td>3918009          </td> <td>3885476        </td> <td>3813656        </td> <td>3742836        </td>\n",
       "        </tr>\n",
       "    </tbody>\n",
       "</table>\n",
       "<p>... (296 rows omitted)</p>"
      ],
      "text/plain": [
       "SEX  | AGE  | ESTIMATESBASE2020 | POPESTIMATE2020 | POPESTIMATE2021 | POPESTIMATE2022\n",
       "0    | 0    | 3690644           | 3669863         | 3570131         | 3683113\n",
       "1    | 0    | 1886273           | 1876349         | 1825237         | 1882867\n",
       "2    | 0    | 1804371           | 1793514         | 1744894         | 1800246\n",
       "0    | 1    | 3731823           | 3719267         | 3675382         | 3588817\n",
       "1    | 1    | 1906537           | 1899515         | 1879051         | 1834594\n",
       "2    | 1    | 1825286           | 1819752         | 1796331         | 1754223\n",
       "0    | 2    | 3826588           | 3807454         | 3725597         | 3693362\n",
       "1    | 2    | 1957418           | 1946596         | 1902665         | 1888149\n",
       "2    | 2    | 1869170           | 1860858         | 1822932         | 1805213\n",
       "0    | 3    | 3918009           | 3885476         | 3813656         | 3742836\n",
       "... (296 rows omitted)"
      ]
     },
     "execution_count": 117,
     "metadata": {},
     "output_type": "execute_result"
    }
   ],
   "source": [
    "data_location = 'http://www2.census.gov/programs-surveys/popest/technical-documentation/file-layouts/2010-2019/nc-est2019-agesex-res.csv'\n",
    "data_location = 'https://www2.census.gov/programs-surveys/popest/datasets/2020-2022/national/asrh/nc-est2022-agesex-res.csv'\n",
    "data_location = 'data/nc-est2019-agesex-res.csv'\n",
    "data_location = 'data/nc-est2022-agesex-res.csv'\n",
    "\n",
    "census = Table.read_table(data_location)\n",
    "census.sort('AGE')"
   ]
  },
  {
   "cell_type": "markdown",
   "metadata": {},
   "source": [
    "### Subset the table\n",
    "for now, we are only interested in the population size by sex (`SEX`), age (`AGE`) in 2014 and 2019 (`POPESTIMATE2014`, and `POPESTIMATE2019`).\n",
    "\n",
    "**Tasks**:\n",
    "- `POPESTIMATE2014` and `POPESTIMATE2019` are cumbersome. Lets rename them to `2014` and `2019`\n",
    "- Create a new table containing only the columns we are interested in"
   ]
  },
  {
   "cell_type": "code",
   "execution_count": 57,
   "metadata": {},
   "outputs": [],
   "source": [
    "census = census.select('SEX', 'AGE', 'POPESTIMATE2014', 'POPESTIMATE2019')\n",
    "census = census.relabeled('POPESTIMATE2014', '2014').relabeled('POPESTIMATE2019', '2019')"
   ]
  },
  {
   "cell_type": "markdown",
   "metadata": {},
   "source": [
    "**Tasks:**\n",
    "- How many people above the age of 100 were there in the US in 2014 and 2019?\n",
    "- How about an age of above 99\n",
    "\n",
    "**Question:**\n",
    "- Why don't we see the number of people at age of 101+?\n"
   ]
  },
  {
   "cell_type": "code",
   "execution_count": 58,
   "metadata": {},
   "outputs": [
    {
     "data": {
      "text/html": [
       "<table border=\"1\" class=\"dataframe\">\n",
       "    <thead>\n",
       "        <tr>\n",
       "            <th>SEX</th> <th>AGE</th> <th>2014</th> <th>2019</th>\n",
       "        </tr>\n",
       "    </thead>\n",
       "    <tbody>\n",
       "        <tr>\n",
       "            <td>0   </td> <td>99  </td> <td>41277    </td> <td>57124    </td>\n",
       "        </tr>\n",
       "        <tr>\n",
       "            <td>0   </td> <td>100 </td> <td>70685    </td> <td>100322   </td>\n",
       "        </tr>\n",
       "        <tr>\n",
       "            <td>0   </td> <td>999 </td> <td>318301008</td> <td>328239523</td>\n",
       "        </tr>\n",
       "    </tbody>\n",
       "</table>"
      ],
      "text/plain": [
       "SEX  | AGE  | 2014      | 2019\n",
       "0    | 99   | 41277     | 57124\n",
       "0    | 100  | 70685     | 100322\n",
       "0    | 999  | 318301008 | 328239523"
      ]
     },
     "execution_count": 58,
     "metadata": {},
     "output_type": "execute_result"
    }
   ],
   "source": [
    "census.where('SEX', 0).where('AGE', are.above_or_equal_to(99))"
   ]
  },
  {
   "cell_type": "markdown",
   "metadata": {},
   "source": [
    "---\n",
    "Back to slides\n",
    "\n",
    "---"
   ]
  },
  {
   "cell_type": "markdown",
   "metadata": {
    "tags": []
   },
   "source": [
    "### Sex ratio\n",
    "The Census form asks respondents to provide the sex of each household member by checking one of two boxes labeled Male and Female. The SEX column contains numeric codes: 1 for male, 2 for female, and 0 for the total.\n",
    "\n",
    "**Task**:Find ratio of females to males in the US population in 2019\n",
    "- Remember that `999` contains all ages"
   ]
  },
  {
   "cell_type": "code",
   "execution_count": 59,
   "metadata": {},
   "outputs": [],
   "source": [
    "males = census.where('SEX', 1)\n",
    "females = census.where('SEX', 2)"
   ]
  },
  {
   "cell_type": "code",
   "execution_count": 66,
   "metadata": {},
   "outputs": [
    {
     "data": {
      "text/plain": [
       "array([ 0.50750195])"
      ]
     },
     "execution_count": 66,
     "metadata": {},
     "output_type": "execute_result"
    }
   ],
   "source": [
    "n_males = males.where('AGE', 999).column('2019')\n",
    "n_females = females.where('AGE', 999).column('2019')\n",
    "\n",
    "n_females/ (n_males+n_females)"
   ]
  },
  {
   "cell_type": "markdown",
   "metadata": {
    "tags": []
   },
   "source": [
    "**Task**\n",
    "- Now lets check the ratio for different age groups"
   ]
  },
  {
   "cell_type": "code",
   "execution_count": 68,
   "metadata": {},
   "outputs": [
    {
     "data": {
      "text/html": [
       "<table border=\"1\" class=\"dataframe\">\n",
       "    <thead>\n",
       "        <tr>\n",
       "            <th>SEX</th> <th>AGE</th> <th>2014</th> <th>2019</th>\n",
       "        </tr>\n",
       "    </thead>\n",
       "    <tbody>\n",
       "        <tr>\n",
       "            <td>2   </td> <td>0   </td> <td>1930276</td> <td>1847935</td>\n",
       "        </tr>\n",
       "        <tr>\n",
       "            <td>2   </td> <td>1   </td> <td>1930380</td> <td>1871014</td>\n",
       "        </tr>\n",
       "        <tr>\n",
       "            <td>2   </td> <td>2   </td> <td>1934959</td> <td>1916500</td>\n",
       "        </tr>\n",
       "        <tr>\n",
       "            <td>2   </td> <td>3   </td> <td>1956678</td> <td>1955655</td>\n",
       "        </tr>\n",
       "        <tr>\n",
       "            <td>2   </td> <td>4   </td> <td>1960508</td> <td>1976372</td>\n",
       "        </tr>\n",
       "        <tr>\n",
       "            <td>2   </td> <td>5   </td> <td>1961786</td> <td>1967081</td>\n",
       "        </tr>\n",
       "        <tr>\n",
       "            <td>2   </td> <td>6   </td> <td>2024017</td> <td>1964271</td>\n",
       "        </tr>\n",
       "        <tr>\n",
       "            <td>2   </td> <td>7   </td> <td>2031240</td> <td>1966584</td>\n",
       "        </tr>\n",
       "        <tr>\n",
       "            <td>2   </td> <td>8   </td> <td>2014018</td> <td>1986471</td>\n",
       "        </tr>\n",
       "        <tr>\n",
       "            <td>2   </td> <td>9   </td> <td>2009689</td> <td>1988726</td>\n",
       "        </tr>\n",
       "    </tbody>\n",
       "</table>\n",
       "<p>... (92 rows omitted)</p>"
      ],
      "text/plain": [
       "SEX  | AGE  | 2014    | 2019\n",
       "2    | 0    | 1930276 | 1847935\n",
       "2    | 1    | 1930380 | 1871014\n",
       "2    | 2    | 1934959 | 1916500\n",
       "2    | 3    | 1956678 | 1955655\n",
       "2    | 4    | 1960508 | 1976372\n",
       "2    | 5    | 1961786 | 1967081\n",
       "2    | 6    | 2024017 | 1964271\n",
       "2    | 7    | 2031240 | 1966584\n",
       "2    | 8    | 2014018 | 1986471\n",
       "2    | 9    | 2009689 | 1988726\n",
       "... (92 rows omitted)"
      ]
     },
     "execution_count": 68,
     "metadata": {},
     "output_type": "execute_result"
    }
   ],
   "source": [
    "females"
   ]
  },
  {
   "cell_type": "markdown",
   "metadata": {},
   "source": [
    "**Task:**\n",
    "- Create a new table with columns for age and ratios\n",
    "    - Create a table with only females\n",
    "    - Create a table with only males\n",
    "    - Get the age column from either\n",
    "- plot"
   ]
  },
  {
   "cell_type": "code",
   "execution_count": 71,
   "metadata": {
    "tags": []
   },
   "outputs": [],
   "source": [
    "ratios = females.column('2019') / (females.column('2019') + males.column('2019'))"
   ]
  },
  {
   "cell_type": "code",
   "execution_count": 73,
   "metadata": {},
   "outputs": [
    {
     "data": {
      "text/html": [
       "<table border=\"1\" class=\"dataframe\">\n",
       "    <thead>\n",
       "        <tr>\n",
       "            <th>SEX</th> <th>AGE</th> <th>2014</th> <th>2019</th>\n",
       "        </tr>\n",
       "    </thead>\n",
       "    <tbody>\n",
       "        <tr>\n",
       "            <td>2   </td> <td>0   </td> <td>1930276</td> <td>1847935</td>\n",
       "        </tr>\n",
       "        <tr>\n",
       "            <td>2   </td> <td>1   </td> <td>1930380</td> <td>1871014</td>\n",
       "        </tr>\n",
       "        <tr>\n",
       "            <td>2   </td> <td>2   </td> <td>1934959</td> <td>1916500</td>\n",
       "        </tr>\n",
       "        <tr>\n",
       "            <td>2   </td> <td>3   </td> <td>1956678</td> <td>1955655</td>\n",
       "        </tr>\n",
       "        <tr>\n",
       "            <td>2   </td> <td>4   </td> <td>1960508</td> <td>1976372</td>\n",
       "        </tr>\n",
       "        <tr>\n",
       "            <td>2   </td> <td>5   </td> <td>1961786</td> <td>1967081</td>\n",
       "        </tr>\n",
       "        <tr>\n",
       "            <td>2   </td> <td>6   </td> <td>2024017</td> <td>1964271</td>\n",
       "        </tr>\n",
       "        <tr>\n",
       "            <td>2   </td> <td>7   </td> <td>2031240</td> <td>1966584</td>\n",
       "        </tr>\n",
       "        <tr>\n",
       "            <td>2   </td> <td>8   </td> <td>2014018</td> <td>1986471</td>\n",
       "        </tr>\n",
       "        <tr>\n",
       "            <td>2   </td> <td>9   </td> <td>2009689</td> <td>1988726</td>\n",
       "        </tr>\n",
       "    </tbody>\n",
       "</table>\n",
       "<p>... (92 rows omitted)</p>"
      ],
      "text/plain": [
       "SEX  | AGE  | 2014    | 2019\n",
       "2    | 0    | 1930276 | 1847935\n",
       "2    | 1    | 1930380 | 1871014\n",
       "2    | 2    | 1934959 | 1916500\n",
       "2    | 3    | 1956678 | 1955655\n",
       "2    | 4    | 1960508 | 1976372\n",
       "2    | 5    | 1961786 | 1967081\n",
       "2    | 6    | 2024017 | 1964271\n",
       "2    | 7    | 2031240 | 1966584\n",
       "2    | 8    | 2014018 | 1986471\n",
       "2    | 9    | 2009689 | 1988726\n",
       "... (92 rows omitted)"
      ]
     },
     "execution_count": 73,
     "metadata": {},
     "output_type": "execute_result"
    }
   ],
   "source": [
    "females"
   ]
  },
  {
   "cell_type": "code",
   "execution_count": 78,
   "metadata": {},
   "outputs": [],
   "source": [
    "ratio_table = Table().with_columns('ratio', ratios, \n",
    "                                   'AGE', females.column('AGE'))\n",
    "ratio_table = ratio_table.where('AGE', are.below(200))"
   ]
  },
  {
   "cell_type": "code",
   "execution_count": 79,
   "metadata": {},
   "outputs": [
    {
     "data": {
      "image/png": "[encoded data removed]",
      "text/plain": [
       "<Figure size 600x600 with 1 Axes>"
      ]
     },
     "metadata": {},
     "output_type": "display_data"
    }
   ],
   "source": [
    "ratio_table.plot('AGE', 'ratio')"
   ]
  },
  {
   "cell_type": "markdown",
   "metadata": {
    "tags": []
   },
   "source": [
    "### Age change\n",
    "**Tasks**\n",
    "- Lets compare the change of population.\n",
    "- Calculate the absolute change\n",
    "- Calcluate the relative change"
   ]
  },
  {
   "cell_type": "code",
   "execution_count": 157,
   "metadata": {
    "tags": []
   },
   "outputs": [],
   "source": [
    "data_location = 'data/nc-est2019-agesex-res.csv'\n",
    "census = Table.read_table(data_location)"
   ]
  },
  {
   "cell_type": "code",
   "execution_count": 158,
   "metadata": {
    "tags": []
   },
   "outputs": [
    {
     "data": {
      "text/html": [
       "<table border=\"1\" class=\"dataframe\">\n",
       "    <thead>\n",
       "        <tr>\n",
       "            <th>AGE</th> <th>POPESTIMATE2014</th> <th>POPESTIMATE2019</th> <th>diff</th>\n",
       "        </tr>\n",
       "    </thead>\n",
       "    <tbody>\n",
       "        <tr>\n",
       "            <td>999 </td> <td>318301008      </td> <td>328239523      </td> <td>0.0312236</td>\n",
       "        </tr>\n",
       "    </tbody>\n",
       "</table>"
      ],
      "text/plain": [
       "AGE  | POPESTIMATE2014 | POPESTIMATE2019 | diff\n",
       "999  | 318301008       | 328239523       | 0.0312236"
      ]
     },
     "execution_count": 158,
     "metadata": {},
     "output_type": "execute_result"
    }
   ],
   "source": [
    "pop = census.where('AGE', 999).where('SEX', 0).select('AGE', 'POPESTIMATE2014','POPESTIMATE2019')\n",
    "pop['diff'] = (pop['POPESTIMATE2019']-pop['POPESTIMATE2014'])/pop['POPESTIMATE2014']\n",
    "pop"
   ]
  },
  {
   "cell_type": "markdown",
   "metadata": {
    "tags": []
   },
   "source": [
    "**Tasks**\n",
    "- Create a new table with the ages and the age changes\n",
    "- Don't include the *all age row**\n",
    "- Plot the population change vs the age"
   ]
  },
  {
   "cell_type": "code",
   "execution_count": 164,
   "metadata": {
    "tags": []
   },
   "outputs": [
    {
     "data": {
      "image/png": "[encoded data removed]",
      "text/plain": [
       "<Figure size 600x600 with 1 Axes>"
      ]
     },
     "metadata": {},
     "output_type": "display_data"
    }
   ],
   "source": [
    "pop = census.where('AGE', are.below(999)).where('SEX', 0).select('AGE', 'POPESTIMATE2014','POPESTIMATE2019')\n",
    "pop['diff'] = (pop['POPESTIMATE2019']-pop['POPESTIMATE2014'])/pop['POPESTIMATE2014']\n",
    "pop.plot('AGE', 'diff')"
   ]
  },
  {
   "cell_type": "markdown",
   "metadata": {},
   "source": [
    "Take a look at the top few rows. While the percent change is about 3% for the overall population, it jumps to well over 20% for the people in their late sixties and early seventies. This stunning change contributes to what is known as the greying of America.\n",
    "\n",
    "What could explain this large increase? \n",
    "\n",
    "<details><summary>Answer</summary>\n",
    "We can explore this question by examining the years in which the relevant groups were born.\n",
    "\n",
    "Those who were in the age group 69 to 72 in 2014 were born in the years 1942 to 1945. The attack on Pearl Harbor was in late 1941, and by 1942 U.S. forces were heavily engaged in a massive war that ended in 1945.\n",
    "\n",
    "Those who were 69 to 72 years old in 2019 were born in the years 1947 to 1950, at the height of the post-WWII baby boom in the United States.\n",
    "\n",
    "The post-war jump in births is a major reason for the large changes that we have observed.\n",
    "</details>"
   ]
  },
  {
   "cell_type": "markdown",
   "metadata": {},
   "source": []
  }
 ],
 "metadata": {
  "anaconda-cloud": {},
  "kernelspec": {
   "display_name": "Python 3 (ipykernel)",
   "language": "python",
   "name": "python3"
  },
  "language_info": {
   "codemirror_mode": {
    "name": "ipython",
    "version": 3
   },
   "file_extension": ".py",
   "mimetype": "text/x-python",
   "name": "python",
   "nbconvert_exporter": "python",
   "pygments_lexer": "ipython3",
   "version": "3.10.12"
  },
  "toc": {
   "base_numbering": 1,
   "nav_menu": {},
   "number_sections": false,
   "sideBar": true,
   "skip_h1_title": false,
   "title_cell": "Table of Contents",
   "title_sidebar": "Contents",
   "toc_cell": false,
   "toc_position": {},
   "toc_section_display": true,
   "toc_window_display": false
  }
 },
 "nbformat": 4,
 "nbformat_minor": 4
}
