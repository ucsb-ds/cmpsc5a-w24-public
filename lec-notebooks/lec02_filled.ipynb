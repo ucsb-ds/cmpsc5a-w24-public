{
 "cells": [
  {
   "cell_type": "code",
   "execution_count": null,
   "metadata": {},
   "outputs": [],
   "source": [
    "from datascience import *\n",
    "import numpy as np\n",
    "\n",
    "%matplotlib inline\n",
    "import matplotlib.pyplot as plots\n",
    "from datetime import date\n",
    "plots.style.use('fivethirtyeight')"
   ]
  },
  {
   "cell_type": "code",
   "execution_count": 4,
   "metadata": {},
   "outputs": [],
   "source": [
    "from datascience import *"
   ]
  },
  {
   "cell_type": "markdown",
   "metadata": {},
   "source": [
    "# Words of Caution\n",
    "- Remember to run the cell above. It's for setting up the environment so you can have access to what's needed for this lecture. For now, don't worry about what it means: we'll learn more about what's inside of it in the next few lectures.\n",
    "- Data science is not just about code, so please don't go over this notebook by itself. Have the relevant textbook sections or lecture video at hand so that you can go over the discussion along with the code. Thank you! "
   ]
  },
  {
   "cell_type": "markdown",
   "metadata": {
    "tags": []
   },
   "source": [
    "# Markdown\n",
    "1. write bold and italic\n",
    "1. create a list\n",
    "    1. bullet\n",
    "    1. numbered\n",
    "1. create a table\n",
    "1. write a formula\n",
    "1. write code\n",
    "1. add a link\n",
    "1. add an image"
   ]
  },
  {
   "cell_type": "markdown",
   "metadata": {},
   "source": [
    "**bold** *italic*\n",
    "\n",
    "- a\n",
    "- b\n",
    "- c\n",
    "\n",
    "1. num1\n",
    "2. num2\n",
    "3. num3\n",
    "\n",
    "| c1 | c2 |\n",
    "| -- | -- |\n",
    "| a  | b  | \n",
    "\n",
    "$ E = m * c^2 $\n",
    "\n",
    "```python\n",
    "a = 1\n",
    "b = 2\n",
    "```\n",
    "\n",
    "[Link](https://ucsb.instructure.com/courses/15364)\n",
    "\n",
    "![](https://images.unsplash.com/photo-1608848461950-0fe51dfc41cb?ixlib=rb-4.0.3&ixid=M3wxMjA3fDB8MHxwaG90by1wYWdlfHx8fGVufDB8fHx8fA%3D%3D&auto=format&fit=crop&w=1974&q=80)\n",
    "\n",
    "![](https://thumbor.forbes.com/thumbor/fit-in/900x510/https://www.forbes.com/advisor/wp-content/uploads/2023/07/top-20-small-dog-breeds.jpeg.jpg)"
   ]
  },
  {
   "cell_type": "markdown",
   "metadata": {},
   "source": [
    "# Intro to Python\n",
    "\n",
    "let's do some basic math operations on numbers: \n",
    "- add\n",
    "- divide\n",
    "- multiply\n",
    "- raise\n",
    "- evaluate inequalities\n",
    "\n",
    "Let's do some operations on text (aka: string)\n",
    "- add\n",
    "- multiply\n",
    "\n",
    "Optional: Let's do some operations on dates"
   ]
  },
  {
   "cell_type": "code",
   "execution_count": 11,
   "metadata": {},
   "outputs": [
    {
     "data": {
      "text/plain": [
       "1.0"
      ]
     },
     "execution_count": 11,
     "metadata": {},
     "output_type": "execute_result"
    }
   ],
   "source": [
    "4 / 8 *2"
   ]
  },
  {
   "cell_type": "code",
   "execution_count": 12,
   "metadata": {},
   "outputs": [
    {
     "data": {
      "text/plain": [
       "True"
      ]
     },
     "execution_count": 12,
     "metadata": {},
     "output_type": "execute_result"
    }
   ],
   "source": [
    "9 > 8"
   ]
  },
  {
   "cell_type": "code",
   "execution_count": 13,
   "metadata": {},
   "outputs": [
    {
     "data": {
      "text/plain": [
       "'this is text'"
      ]
     },
     "execution_count": 13,
     "metadata": {},
     "output_type": "execute_result"
    }
   ],
   "source": [
    "'this is text'"
   ]
  },
  {
   "cell_type": "code",
   "execution_count": 18,
   "metadata": {},
   "outputs": [
    {
     "data": {
      "text/plain": [
       "\"this is also 'text'\""
      ]
     },
     "execution_count": 18,
     "metadata": {},
     "output_type": "execute_result"
    }
   ],
   "source": [
    "\"this is also 'text'\""
   ]
  },
  {
   "cell_type": "code",
   "execution_count": 21,
   "metadata": {},
   "outputs": [
    {
     "data": {
      "text/plain": [
       "'this is text as well'"
      ]
     },
     "execution_count": 21,
     "metadata": {},
     "output_type": "execute_result"
    }
   ],
   "source": [
    "'this' + ' is text' + ' as well'"
   ]
  },
  {
   "cell_type": "code",
   "execution_count": 22,
   "metadata": {},
   "outputs": [
    {
     "data": {
      "text/plain": [
       "'hahahahaha'"
      ]
     },
     "execution_count": 22,
     "metadata": {},
     "output_type": "execute_result"
    }
   ],
   "source": [
    "'ha' * 5"
   ]
  },
  {
   "cell_type": "code",
   "execution_count": 23,
   "metadata": {},
   "outputs": [
    {
     "ename": "TypeError",
     "evalue": "can only concatenate str (not \"int\") to str",
     "output_type": "error",
     "traceback": [
      "\u001b[0;31m---------------------------------------------------------------------------\u001b[0m",
      "\u001b[0;31mTypeError\u001b[0m                                 Traceback (most recent call last)",
      "Cell \u001b[0;32mIn[23], line 1\u001b[0m\n\u001b[0;32m----> 1\u001b[0m \u001b[38;5;124;43m'\u001b[39;49m\u001b[38;5;124;43ma\u001b[39;49m\u001b[38;5;124;43m'\u001b[39;49m\u001b[43m \u001b[49m\u001b[38;5;241;43m+\u001b[39;49m\u001b[43m \u001b[49m\u001b[38;5;241;43m4\u001b[39;49m\n",
      "\u001b[0;31mTypeError\u001b[0m: can only concatenate str (not \"int\") to str"
     ]
    }
   ],
   "source": [
    "'a' + 4"
   ]
  },
  {
   "cell_type": "code",
   "execution_count": null,
   "metadata": {},
   "outputs": [],
   "source": [
    "1/2"
   ]
  },
  {
   "cell_type": "markdown",
   "metadata": {
    "tags": []
   },
   "source": [
    "# Names (aka: variables)\n",
    "- let's assign some values to variables/names\n",
    "- let's use the variables\n",
    "- let's overwrite variables"
   ]
  },
  {
   "cell_type": "code",
   "execution_count": 28,
   "metadata": {},
   "outputs": [
    {
     "data": {
      "text/plain": [
       "40"
      ]
     },
     "execution_count": 28,
     "metadata": {},
     "output_type": "execute_result"
    }
   ],
   "source": [
    "speed = 20\n",
    "time = 2\n",
    "\n",
    "distance = speed * time\n",
    "distance"
   ]
  },
  {
   "cell_type": "code",
   "execution_count": 29,
   "metadata": {},
   "outputs": [],
   "source": [
    "distance = 1"
   ]
  },
  {
   "cell_type": "code",
   "execution_count": 32,
   "metadata": {},
   "outputs": [
    {
     "data": {
      "text/plain": [
       "True"
      ]
     },
     "execution_count": 32,
     "metadata": {},
     "output_type": "execute_result"
    }
   ],
   "source": [
    "distance = True\n",
    "distance"
   ]
  },
  {
   "cell_type": "markdown",
   "metadata": {},
   "source": [
    "## Why Names?\n",
    "- Calculate the annual salary for a person working full-time under California minimum wage of 15 USD/hour. \n",
    "- on 2023-01-01, the minimum wage was raised to 15.50 USD/hour. Recalculate the minimum wage."
   ]
  },
  {
   "cell_type": "code",
   "execution_count": 33,
   "metadata": {},
   "outputs": [],
   "source": [
    "hours_per_week = 40\n",
    "weeks_per_year = 52\n",
    "\n",
    "salary = 15.0 # USD/h"
   ]
  },
  {
   "cell_type": "code",
   "execution_count": 34,
   "metadata": {},
   "outputs": [],
   "source": [
    "# now we compute the hours per year\n",
    "hours_per_year = hours_per_week * weeks_per_year"
   ]
  },
  {
   "cell_type": "code",
   "execution_count": null,
   "metadata": {},
   "outputs": [],
   "source": [
    "weekly_wages = hours_per_week * salary\n",
    "weekly_wages"
   ]
  },
  {
   "cell_type": "code",
   "execution_count": null,
   "metadata": {},
   "outputs": [],
   "source": [
    "yearly_wages = hours_per_year * salary\n",
    "yearly_wages"
   ]
  },
  {
   "cell_type": "markdown",
   "metadata": {
    "tags": []
   },
   "source": [
    "# Comments"
   ]
  },
  {
   "cell_type": "code",
   "execution_count": null,
   "metadata": {},
   "outputs": [],
   "source": []
  },
  {
   "cell_type": "markdown",
   "metadata": {},
   "source": [
    "# Functions\n",
    "- let's use some [built-in functions](https://docs.python.org/3/library/functions.html). E.g:\n",
    "    - absolute value\n",
    "    - the lower of two values\n",
    "    - round    \n",
    "- let's use keywords for arguments\n",
    "- let's define our own function\n",
    "- lets use the `help()` function to learn about the usage of functions"
   ]
  },
  {
   "cell_type": "code",
   "execution_count": 36,
   "metadata": {},
   "outputs": [
    {
     "data": {
      "text/plain": [
       "4"
      ]
     },
     "execution_count": 36,
     "metadata": {},
     "output_type": "execute_result"
    }
   ],
   "source": [
    "abs(-4)"
   ]
  },
  {
   "cell_type": "code",
   "execution_count": 37,
   "metadata": {},
   "outputs": [
    {
     "data": {
      "text/plain": [
       "7"
      ]
     },
     "execution_count": 37,
     "metadata": {},
     "output_type": "execute_result"
    }
   ],
   "source": [
    "min(7, 28)"
   ]
  },
  {
   "cell_type": "code",
   "execution_count": 57,
   "metadata": {},
   "outputs": [
    {
     "data": {
      "text/plain": [
       "41.75"
      ]
     },
     "execution_count": 57,
     "metadata": {},
     "output_type": "execute_result"
    }
   ],
   "source": [
    "round(ndigits=2, number=41.7543)"
   ]
  },
  {
   "cell_type": "markdown",
   "metadata": {},
   "source": [
    "---\n",
    "slides\n",
    "\n",
    "---\n",
    "\n",
    "# Tables A)\n",
    "[Documentation](http://www.data8.org/datascience/reference-nb/datascience-reference.html#Table-Functions-and-Methods)\n",
    "\n",
    "1. read a CSV from `data/cones.csv` into a table using `Table.read_table()`\n",
    "1. show the first n_rows using `show()`\n",
    "1. select a single column from the table using `select()`\n",
    "1. select multiple columns from the table using `select()`\n",
    "1. remove a column from the table using `drop()`\n",
    "1. subset the table to only chocolate cones using `where()` \n",
    "1. sort the cones by price using `sort()`\n",
    "    1. most expensive first\n",
    "    1. cheapest first\n",
    "1. add a new column containing your rating using `with_column()`\n",
    "    \n",
    "Remember that you can use the `help()` function or `?` to learn about each function"
   ]
  },
  {
   "cell_type": "code",
   "execution_count": 81,
   "metadata": {},
   "outputs": [
    {
     "data": {
      "text/html": [
       "<table border=\"1\" class=\"dataframe\">\n",
       "    <thead>\n",
       "        <tr>\n",
       "            <th>Flavor</th> <th>Color</th> <th>Price</th> <th>Rating</th>\n",
       "        </tr>\n",
       "    </thead>\n",
       "    <tbody>\n",
       "        <tr>\n",
       "            <td>chocolate</td> <td>light brown</td> <td>4.75 </td> <td>4     </td>\n",
       "        </tr>\n",
       "    </tbody>\n",
       "</table>"
      ],
      "text/plain": [
       "Flavor    | Color       | Price | Rating\n",
       "chocolate | light brown | 4.75  | 4"
      ]
     },
     "execution_count": 81,
     "metadata": {},
     "output_type": "execute_result"
    }
   ],
   "source": [
    "table.where('Flavor', 'chocolate').where('Color', 'light brown')"
   ]
  },
  {
   "cell_type": "code",
   "execution_count": 85,
   "metadata": {},
   "outputs": [
    {
     "data": {
      "text/html": [
       "<table border=\"1\" class=\"dataframe\">\n",
       "    <thead>\n",
       "        <tr>\n",
       "            <th>Flavor</th> <th>Color</th> <th>Price</th> <th>Rating</th>\n",
       "        </tr>\n",
       "    </thead>\n",
       "    <tbody>\n",
       "        <tr>\n",
       "            <td>chocolate </td> <td>dark brown </td> <td>5.25 </td> <td>3     </td>\n",
       "        </tr>\n",
       "        <tr>\n",
       "            <td>strawberry</td> <td>pink       </td> <td>5.25 </td> <td>2     </td>\n",
       "        </tr>\n",
       "        <tr>\n",
       "            <td>chocolate </td> <td>dark brown </td> <td>5.25 </td> <td>5     </td>\n",
       "        </tr>\n",
       "        <tr>\n",
       "            <td>chocolate </td> <td>light brown</td> <td>4.75 </td> <td>4     </td>\n",
       "        </tr>\n",
       "        <tr>\n",
       "            <td>bubblegum </td> <td>pink       </td> <td>4.75 </td> <td>1     </td>\n",
       "        </tr>\n",
       "        <tr>\n",
       "            <td>strawberry</td> <td>pink       </td> <td>3.55 </td> <td>1     </td>\n",
       "        </tr>\n",
       "    </tbody>\n",
       "</table>"
      ],
      "text/plain": [
       "Flavor     | Color       | Price | Rating\n",
       "chocolate  | dark brown  | 5.25  | 3\n",
       "strawberry | pink        | 5.25  | 2\n",
       "chocolate  | dark brown  | 5.25  | 5\n",
       "chocolate  | light brown | 4.75  | 4\n",
       "bubblegum  | pink        | 4.75  | 1\n",
       "strawberry | pink        | 3.55  | 1"
      ]
     },
     "execution_count": 85,
     "metadata": {},
     "output_type": "execute_result"
    }
   ],
   "source": [
    "table.sort('Price', descending=True)"
   ]
  },
  {
   "cell_type": "code",
   "execution_count": 87,
   "metadata": {},
   "outputs": [
    {
     "data": {
      "text/plain": [
       "\u001b[0;31mSignature:\u001b[0m \u001b[0mtable\u001b[0m\u001b[0;34m.\u001b[0m\u001b[0msort\u001b[0m\u001b[0;34m(\u001b[0m\u001b[0mcolumn_or_label\u001b[0m\u001b[0;34m,\u001b[0m \u001b[0mdescending\u001b[0m\u001b[0;34m=\u001b[0m\u001b[0;32mFalse\u001b[0m\u001b[0;34m,\u001b[0m \u001b[0mdistinct\u001b[0m\u001b[0;34m=\u001b[0m\u001b[0;32mFalse\u001b[0m\u001b[0;34m)\u001b[0m\u001b[0;34m\u001b[0m\u001b[0;34m\u001b[0m\u001b[0m\n",
       "\u001b[0;31mDocstring:\u001b[0m\n",
       "Return a Table of rows sorted according to the values in a column.\n",
       "\n",
       "Args:\n",
       "    ``column_or_label``: the column whose values are used for sorting.\n",
       "\n",
       "    ``descending``: if True, sorting will be in descending, rather than\n",
       "        ascending order.\n",
       "\n",
       "    ``distinct``: if True, repeated values in ``column_or_label`` will\n",
       "        be omitted.\n",
       "\n",
       "Returns:\n",
       "    An instance of ``Table`` containing rows sorted based on the values\n",
       "    in ``column_or_label``.\n",
       "\n",
       ">>> marbles = Table().with_columns(\n",
       "...    \"Color\", make_array(\"Red\", \"Green\", \"Blue\", \"Red\", \"Green\", \"Green\"),\n",
       "...    \"Shape\", make_array(\"Round\", \"Rectangular\", \"Rectangular\", \"Round\", \"Rectangular\", \"Round\"),\n",
       "...    \"Amount\", make_array(4, 6, 12, 7, 9, 2),\n",
       "...    \"Price\", make_array(1.30, 1.30, 2.00, 1.75, 1.40, 1.00))\n",
       ">>> marbles\n",
       "Color | Shape       | Amount | Price\n",
       "Red   | Round       | 4      | 1.3\n",
       "Green | Rectangular | 6      | 1.3\n",
       "Blue  | Rectangular | 12     | 2\n",
       "Red   | Round       | 7      | 1.75\n",
       "Green | Rectangular | 9      | 1.4\n",
       "Green | Round       | 2      | 1\n",
       ">>> marbles.sort(\"Amount\")\n",
       "Color | Shape       | Amount | Price\n",
       "Green | Round       | 2      | 1\n",
       "Red   | Round       | 4      | 1.3\n",
       "Green | Rectangular | 6      | 1.3\n",
       "Red   | Round       | 7      | 1.75\n",
       "Green | Rectangular | 9      | 1.4\n",
       "Blue  | Rectangular | 12     | 2\n",
       ">>> marbles.sort(\"Amount\", descending = True)\n",
       "Color | Shape       | Amount | Price\n",
       "Blue  | Rectangular | 12     | 2\n",
       "Green | Rectangular | 9      | 1.4\n",
       "Red   | Round       | 7      | 1.75\n",
       "Green | Rectangular | 6      | 1.3\n",
       "Red   | Round       | 4      | 1.3\n",
       "Green | Round       | 2      | 1\n",
       ">>> marbles.sort(3) # the Price column\n",
       "Color | Shape       | Amount | Price\n",
       "Green | Round       | 2      | 1\n",
       "Red   | Round       | 4      | 1.3\n",
       "Green | Rectangular | 6      | 1.3\n",
       "Green | Rectangular | 9      | 1.4\n",
       "Red   | Round       | 7      | 1.75\n",
       "Blue  | Rectangular | 12     | 2\n",
       ">>> marbles.sort(3, distinct = True)\n",
       "Color | Shape       | Amount | Price\n",
       "Green | Round       | 2      | 1\n",
       "Red   | Round       | 4      | 1.3\n",
       "Green | Rectangular | 9      | 1.4\n",
       "Red   | Round       | 7      | 1.75\n",
       "Blue  | Rectangular | 12     | 2\n",
       "\u001b[0;31mFile:\u001b[0m      ~/.local/lib/python3.11/site-packages/datascience/tables.py\n",
       "\u001b[0;31mType:\u001b[0m      method"
      ]
     },
     "metadata": {},
     "output_type": "display_data"
    }
   ],
   "source": [
    "table.sort?"
   ]
  },
  {
   "cell_type": "code",
   "execution_count": 78,
   "metadata": {},
   "outputs": [
    {
     "data": {
      "text/html": [
       "<table border=\"1\" class=\"dataframe\">\n",
       "    <thead>\n",
       "        <tr>\n",
       "            <th>Flavor</th> <th>Price</th> <th>Rating</th>\n",
       "        </tr>\n",
       "    </thead>\n",
       "    <tbody>\n",
       "        <tr>\n",
       "            <td>strawberry</td> <td>3.55 </td> <td>1     </td>\n",
       "        </tr>\n",
       "        <tr>\n",
       "            <td>chocolate </td> <td>4.75 </td> <td>4     </td>\n",
       "        </tr>\n",
       "        <tr>\n",
       "            <td>chocolate </td> <td>5.25 </td> <td>3     </td>\n",
       "        </tr>\n",
       "        <tr>\n",
       "            <td>strawberry</td> <td>5.25 </td> <td>2     </td>\n",
       "        </tr>\n",
       "        <tr>\n",
       "            <td>chocolate </td> <td>5.25 </td> <td>5     </td>\n",
       "        </tr>\n",
       "        <tr>\n",
       "            <td>bubblegum </td> <td>4.75 </td> <td>1     </td>\n",
       "        </tr>\n",
       "    </tbody>\n",
       "</table>"
      ],
      "text/plain": [
       "Flavor     | Price | Rating\n",
       "strawberry | 3.55  | 1\n",
       "chocolate  | 4.75  | 4\n",
       "chocolate  | 5.25  | 3\n",
       "strawberry | 5.25  | 2\n",
       "chocolate  | 5.25  | 5\n",
       "bubblegum  | 4.75  | 1"
      ]
     },
     "execution_count": 78,
     "metadata": {},
     "output_type": "execute_result"
    }
   ],
   "source": [
    "t = table.drop('Color')"
   ]
  },
  {
   "cell_type": "code",
   "execution_count": 79,
   "metadata": {},
   "outputs": [
    {
     "data": {
      "text/html": [
       "<table border=\"1\" class=\"dataframe\">\n",
       "    <thead>\n",
       "        <tr>\n",
       "            <th>Flavor</th> <th>Color</th> <th>Price</th> <th>Rating</th>\n",
       "        </tr>\n",
       "    </thead>\n",
       "    <tbody>\n",
       "        <tr>\n",
       "            <td>strawberry</td> <td>pink       </td> <td>3.55 </td> <td>1     </td>\n",
       "        </tr>\n",
       "        <tr>\n",
       "            <td>chocolate </td> <td>light brown</td> <td>4.75 </td> <td>4     </td>\n",
       "        </tr>\n",
       "        <tr>\n",
       "            <td>chocolate </td> <td>dark brown </td> <td>5.25 </td> <td>3     </td>\n",
       "        </tr>\n",
       "        <tr>\n",
       "            <td>strawberry</td> <td>pink       </td> <td>5.25 </td> <td>2     </td>\n",
       "        </tr>\n",
       "        <tr>\n",
       "            <td>chocolate </td> <td>dark brown </td> <td>5.25 </td> <td>5     </td>\n",
       "        </tr>\n",
       "        <tr>\n",
       "            <td>bubblegum </td> <td>pink       </td> <td>4.75 </td> <td>1     </td>\n",
       "        </tr>\n",
       "    </tbody>\n",
       "</table>"
      ],
      "text/plain": [
       "Flavor     | Color       | Price | Rating\n",
       "strawberry | pink        | 3.55  | 1\n",
       "chocolate  | light brown | 4.75  | 4\n",
       "chocolate  | dark brown  | 5.25  | 3\n",
       "strawberry | pink        | 5.25  | 2\n",
       "chocolate  | dark brown  | 5.25  | 5\n",
       "bubblegum  | pink        | 4.75  | 1"
      ]
     },
     "execution_count": 79,
     "metadata": {},
     "output_type": "execute_result"
    }
   ],
   "source": [
    "table"
   ]
  },
  {
   "cell_type": "code",
   "execution_count": 76,
   "metadata": {},
   "outputs": [
    {
     "data": {
      "text/html": [
       "<table border=\"1\" class=\"dataframe\">\n",
       "    <thead>\n",
       "        <tr>\n",
       "            <th>Flavor</th> <th>Rating</th>\n",
       "        </tr>\n",
       "    </thead>\n",
       "    <tbody>\n",
       "        <tr>\n",
       "            <td>strawberry</td> <td>1     </td>\n",
       "        </tr>\n",
       "        <tr>\n",
       "            <td>chocolate </td> <td>4     </td>\n",
       "        </tr>\n",
       "        <tr>\n",
       "            <td>chocolate </td> <td>3     </td>\n",
       "        </tr>\n",
       "        <tr>\n",
       "            <td>strawberry</td> <td>2     </td>\n",
       "        </tr>\n",
       "        <tr>\n",
       "            <td>chocolate </td> <td>5     </td>\n",
       "        </tr>\n",
       "        <tr>\n",
       "            <td>bubblegum </td> <td>1     </td>\n",
       "        </tr>\n",
       "    </tbody>\n",
       "</table>"
      ],
      "text/plain": [
       "Flavor     | Rating\n",
       "strawberry | 1\n",
       "chocolate  | 4\n",
       "chocolate  | 3\n",
       "strawberry | 2\n",
       "chocolate  | 5\n",
       "bubblegum  | 1"
      ]
     },
     "execution_count": 76,
     "metadata": {},
     "output_type": "execute_result"
    }
   ],
   "source": [
    "table = Table().read_table('data/cones.csv')\n",
    "table.select('Flavor', 'Rating')"
   ]
  },
  {
   "cell_type": "markdown",
   "metadata": {
    "tags": []
   },
   "source": [
    "# Tables B)\n",
    "1. read the CSV `data/skyscrapers.csv`\n",
    "1. show the number of skyscrapers in the dataset using the *attribute* `num_rows`\n",
    "1. sort the table by completion year. What can we learn?\n",
    "1. subset the data to skyscrapers in 'Los Angeles'\n",
    "    1. subset to skyscrapers in `Los Angeles` that were built in the year 1971\n",
    "1. get data on the 'Empire State Building' in 'New York City'\n",
    "1. rename the column 'completed' column using `relabel()`\n",
    "1. get all skyscrapers in `New York City` and sort them by when they have been built"
   ]
  },
  {
   "cell_type": "code",
   "execution_count": 9,
   "metadata": {},
   "outputs": [
    {
     "data": {
      "text/plain": [
       "200"
      ]
     },
     "execution_count": 9,
     "metadata": {},
     "output_type": "execute_result"
    }
   ],
   "source": [
    "skyscrapers = Table().read_table('data/skyscrapers.csv')\n",
    "skyscrapers.num_rows"
   ]
  },
  {
   "cell_type": "code",
   "execution_count": 19,
   "metadata": {},
   "outputs": [
    {
     "data": {
      "text/html": [
       "<table border=\"1\" class=\"dataframe\">\n",
       "    <thead>\n",
       "        <tr>\n",
       "            <th>name</th> <th>material</th> <th>city</th> <th>height</th> <th>completed</th>\n",
       "        </tr>\n",
       "    </thead>\n",
       "    <tbody>\n",
       "        <tr>\n",
       "            <td>City National Tower</td> <td>steel   </td> <td>Los Angeles</td> <td>213.06</td> <td>1971     </td>\n",
       "        </tr>\n",
       "        <tr>\n",
       "            <td>Paul Hastings Tower</td> <td>steel   </td> <td>Los Angeles</td> <td>213.06</td> <td>1971     </td>\n",
       "        </tr>\n",
       "    </tbody>\n",
       "</table>"
      ],
      "text/plain": [
       "name                | material | city        | height | completed\n",
       "City National Tower | steel    | Los Angeles | 213.06 | 1971\n",
       "Paul Hastings Tower | steel    | Los Angeles | 213.06 | 1971"
      ]
     },
     "execution_count": 19,
     "metadata": {},
     "output_type": "execute_result"
    }
   ],
   "source": [
    "skyscrapers.where('city', 'Los Angeles').where('completed', 1971)"
   ]
  },
  {
   "cell_type": "code",
   "execution_count": 16,
   "metadata": {},
   "outputs": [
    {
     "data": {
      "text/html": [
       "<table border=\"1\" class=\"dataframe\">\n",
       "    <thead>\n",
       "        <tr>\n",
       "            <th>name</th> <th>material</th> <th>city</th> <th>height</th> <th>completed</th>\n",
       "        </tr>\n",
       "    </thead>\n",
       "    <tbody>\n",
       "        <tr>\n",
       "            <td>Metropolitan Life Tower                         </td> <td>steel         </td> <td>New York City    </td> <td>213.36</td> <td>1909     </td>\n",
       "        </tr>\n",
       "        <tr>\n",
       "            <td>Woolworth Building                              </td> <td>steel         </td> <td>New York City    </td> <td>241.4 </td> <td>1913     </td>\n",
       "        </tr>\n",
       "        <tr>\n",
       "            <td>Terminal Tower                                  </td> <td>steel         </td> <td>Cleveland        </td> <td>215.8 </td> <td>1928     </td>\n",
       "        </tr>\n",
       "        <tr>\n",
       "            <td>Chanin Building                                 </td> <td>steel         </td> <td>New York City    </td> <td>197.8 </td> <td>1929     </td>\n",
       "        </tr>\n",
       "        <tr>\n",
       "            <td>Mercantile Building                             </td> <td>steel         </td> <td>New York City    </td> <td>192.6 </td> <td>1929     </td>\n",
       "        </tr>\n",
       "        <tr>\n",
       "            <td>Chrysler Building                               </td> <td>steel         </td> <td>New York City    </td> <td>318.9 </td> <td>1930     </td>\n",
       "        </tr>\n",
       "        <tr>\n",
       "            <td>The Trump Building                              </td> <td>steel         </td> <td>New York City    </td> <td>282.55</td> <td>1930     </td>\n",
       "        </tr>\n",
       "        <tr>\n",
       "            <td>One Grand Central Place                         </td> <td>steel         </td> <td>New York City    </td> <td>205.13</td> <td>1930     </td>\n",
       "        </tr>\n",
       "        <tr>\n",
       "            <td>Empire State Building                           </td> <td>steel         </td> <td>New York City    </td> <td>381   </td> <td>1931     </td>\n",
       "        </tr>\n",
       "        <tr>\n",
       "            <td>Twenty Exchange                                 </td> <td>steel         </td> <td>New York City    </td> <td>225.86</td> <td>1931     </td>\n",
       "        </tr>\n",
       "        <tr>\n",
       "            <td>500 Fifth Avenue                                </td> <td>steel         </td> <td>New York City    </td> <td>212.45</td> <td>1931     </td>\n",
       "        </tr>\n",
       "        <tr>\n",
       "            <td>570 Lexington Avenue                            </td> <td>steel         </td> <td>New York City    </td> <td>196   </td> <td>1931     </td>\n",
       "        </tr>\n",
       "        <tr>\n",
       "            <td>70 Pine                                         </td> <td>steel         </td> <td>New York City    </td> <td>290.17</td> <td>1932     </td>\n",
       "        </tr>\n",
       "        <tr>\n",
       "            <td>One Wall Street                                 </td> <td>steel         </td> <td>New York City    </td> <td>199.34</td> <td>1932     </td>\n",
       "        </tr>\n",
       "        <tr>\n",
       "            <td>Comcast Building                                </td> <td>steel         </td> <td>New York City    </td> <td>259.08</td> <td>1933     </td>\n",
       "        </tr>\n",
       "        <tr>\n",
       "            <td>JPMorgan Chase Tower                            </td> <td>steel         </td> <td>New York City    </td> <td>215.5 </td> <td>1960     </td>\n",
       "        </tr>\n",
       "        <tr>\n",
       "            <td>28 Liberty                                      </td> <td>steel         </td> <td>New York City    </td> <td>247.81</td> <td>1961     </td>\n",
       "        </tr>\n",
       "        <tr>\n",
       "            <td>WITI TV Tower                                   </td> <td>steel         </td> <td>Shorewood        </td> <td>329   </td> <td>1962     </td>\n",
       "        </tr>\n",
       "        <tr>\n",
       "            <td>MetLife Building                                </td> <td>steel         </td> <td>New York City    </td> <td>246.28</td> <td>1963     </td>\n",
       "        </tr>\n",
       "        <tr>\n",
       "            <td>277 Park Avenue                                 </td> <td>steel         </td> <td>New York City    </td> <td>209.4 </td> <td>1963     </td>\n",
       "        </tr>\n",
       "        <tr>\n",
       "            <td>Prudential Tower                                </td> <td>steel         </td> <td>Boston           </td> <td>228.6 </td> <td>1964     </td>\n",
       "        </tr>\n",
       "        <tr>\n",
       "            <td>Richard J. Daley Center                         </td> <td>steel         </td> <td>Chicago          </td> <td>197.51</td> <td>1965     </td>\n",
       "        </tr>\n",
       "        <tr>\n",
       "            <td>HSBC Bank Building                              </td> <td>steel         </td> <td>New York City    </td> <td>209.71</td> <td>1967     </td>\n",
       "        </tr>\n",
       "        <tr>\n",
       "            <td>245 Park Avenue                                 </td> <td>steel         </td> <td>New York City    </td> <td>197.51</td> <td>1967     </td>\n",
       "        </tr>\n",
       "        <tr>\n",
       "            <td>General Motors Building                         </td> <td>steel         </td> <td>New York City    </td> <td>214.89</td> <td>1968     </td>\n",
       "        </tr>\n",
       "        <tr>\n",
       "            <td>Lake Point Tower                                </td> <td>concrete      </td> <td>Chicago          </td> <td>196.45</td> <td>1968     </td>\n",
       "        </tr>\n",
       "        <tr>\n",
       "            <td>John Hancock Center                             </td> <td>steel         </td> <td>Chicago          </td> <td>343.69</td> <td>1969     </td>\n",
       "        </tr>\n",
       "        <tr>\n",
       "            <td>Chase Tower                                     </td> <td>steel         </td> <td>Chicago          </td> <td>259.08</td> <td>1969     </td>\n",
       "        </tr>\n",
       "        <tr>\n",
       "            <td>555 California Street                           </td> <td>steel         </td> <td>San Francisco    </td> <td>237.44</td> <td>1969     </td>\n",
       "        </tr>\n",
       "        <tr>\n",
       "            <td>1 New York Plaza                                </td> <td>steel         </td> <td>New York City    </td> <td>195.07</td> <td>1969     </td>\n",
       "        </tr>\n",
       "        <tr>\n",
       "            <td>345 Park Avenue                                 </td> <td>steel         </td> <td>New York City    </td> <td>193.25</td> <td>1969     </td>\n",
       "        </tr>\n",
       "        <tr>\n",
       "            <td>U.S. Steel Tower                                </td> <td>steel         </td> <td>Pittsburgh       </td> <td>256.34</td> <td>1970     </td>\n",
       "        </tr>\n",
       "        <tr>\n",
       "            <td>One Shell Plaza                                 </td> <td>concrete      </td> <td>Houston          </td> <td>217.63</td> <td>1970     </td>\n",
       "        </tr>\n",
       "        <tr>\n",
       "            <td>Paramount Plaza                                 </td> <td>steel         </td> <td>New York City    </td> <td>204.22</td> <td>1970     </td>\n",
       "        </tr>\n",
       "        <tr>\n",
       "            <td>City National Tower                             </td> <td>steel         </td> <td>Los Angeles      </td> <td>213.06</td> <td>1971     </td>\n",
       "        </tr>\n",
       "        <tr>\n",
       "            <td>Paul Hastings Tower                             </td> <td>steel         </td> <td>Los Angeles      </td> <td>213.06</td> <td>1971     </td>\n",
       "        </tr>\n",
       "        <tr>\n",
       "            <td>Transamerica Pyramid                            </td> <td>composite     </td> <td>San Francisco    </td> <td>260   </td> <td>1972     </td>\n",
       "        </tr>\n",
       "        <tr>\n",
       "            <td>One Penn Plaza                                  </td> <td>steel         </td> <td>New York City    </td> <td>228.6 </td> <td>1972     </td>\n",
       "        </tr>\n",
       "        <tr>\n",
       "            <td>1251 Avenue of the Americas                     </td> <td>steel         </td> <td>New York City    </td> <td>228.6 </td> <td>1972     </td>\n",
       "        </tr>\n",
       "        <tr>\n",
       "            <td>One Astor Plaza                                 </td> <td>composite     </td> <td>New York City    </td> <td>227.08</td> <td>1972     </td>\n",
       "        </tr>\n",
       "        <tr>\n",
       "            <td>One Liberty Plaza                               </td> <td>steel         </td> <td>New York City    </td> <td>226.47</td> <td>1972     </td>\n",
       "        </tr>\n",
       "        <tr>\n",
       "            <td>One Shell Square                                </td> <td>composite     </td> <td>New Orleans      </td> <td>212.45</td> <td>1972     </td>\n",
       "        </tr>\n",
       "        <tr>\n",
       "            <td>AMA Plaza                                       </td> <td>composite     </td> <td>Chicago          </td> <td>211.84</td> <td>1972     </td>\n",
       "        </tr>\n",
       "        <tr>\n",
       "            <td>55 Water Street                                 </td> <td>steel         </td> <td>New York City    </td> <td>209.4 </td> <td>1972     </td>\n",
       "        </tr>\n",
       "        <tr>\n",
       "            <td>McGraw-Hill Building                            </td> <td>steel         </td> <td>New York City    </td> <td>205.44</td> <td>1972     </td>\n",
       "        </tr>\n",
       "        <tr>\n",
       "            <td>Aon Center                                      </td> <td>steel         </td> <td>Chicago          </td> <td>346.26</td> <td>1973     </td>\n",
       "        </tr>\n",
       "        <tr>\n",
       "            <td>IDS Tower                                       </td> <td>composite     </td> <td>Minneapolis      </td> <td>241.38</td> <td>1973     </td>\n",
       "        </tr>\n",
       "        <tr>\n",
       "            <td>Willis Tower                                    </td> <td>steel         </td> <td>Chicago          </td> <td>442.14</td> <td>1974     </td>\n",
       "        </tr>\n",
       "        <tr>\n",
       "            <td>Aon Center                                      </td> <td>steel         </td> <td>Los Angeles      </td> <td>261.52</td> <td>1974     </td>\n",
       "        </tr>\n",
       "        <tr>\n",
       "            <td>Solow Building                                  </td> <td>steel         </td> <td>New York City    </td> <td>210   </td> <td>1974     </td>\n",
       "        </tr>\n",
       "        <tr>\n",
       "            <td>Bank of America Plaza                           </td> <td>steel         </td> <td>Los Angeles      </td> <td>224.03</td> <td>1975     </td>\n",
       "        </tr>\n",
       "        <tr>\n",
       "            <td>BOK Tower                                       </td> <td>steel         </td> <td>Tulsa            </td> <td>203.3 </td> <td>1975     </td>\n",
       "        </tr>\n",
       "        <tr>\n",
       "            <td>Water Tower Place                               </td> <td>concrete      </td> <td>Chicago          </td> <td>261.88</td> <td>1976     </td>\n",
       "        </tr>\n",
       "        <tr>\n",
       "            <td>200 Clarendon                                   </td> <td>steel         </td> <td>Boston           </td> <td>240.79</td> <td>1976     </td>\n",
       "        </tr>\n",
       "        <tr>\n",
       "            <td>Westin Peachtree Plaza                          </td> <td>concrete      </td> <td>Atlanta          </td> <td>220.37</td> <td>1976     </td>\n",
       "        </tr>\n",
       "        <tr>\n",
       "            <td>Citigroup Center                                </td> <td>steel         </td> <td>New York City    </td> <td>278.9 </td> <td>1977     </td>\n",
       "        </tr>\n",
       "        <tr>\n",
       "            <td>Detroit Marriott at the Renaissance Center      </td> <td>concrete      </td> <td>Detroit          </td> <td>221.49</td> <td>1977     </td>\n",
       "        </tr>\n",
       "        <tr>\n",
       "            <td>LyondellBassell Tower                           </td> <td>composite     </td> <td>Houston          </td> <td>206.8 </td> <td>1978     </td>\n",
       "        </tr>\n",
       "        <tr>\n",
       "            <td>Enterprise Plaza                                </td> <td>composite     </td> <td>Houston          </td> <td>230.4 </td> <td>1980     </td>\n",
       "        </tr>\n",
       "        <tr>\n",
       "            <td>Three Allen Center                              </td> <td>steel         </td> <td>Houston          </td> <td>208.79</td> <td>1980     </td>\n",
       "        </tr>\n",
       "        <tr>\n",
       "            <td>AT&T Building                                   </td> <td>concrete      </td> <td>Atlanta          </td> <td>206.35</td> <td>1980     </td>\n",
       "        </tr>\n",
       "        <tr>\n",
       "            <td>Three First National Plaza                      </td> <td>composite     </td> <td>Chicago          </td> <td>233.65</td> <td>1981     </td>\n",
       "        </tr>\n",
       "        <tr>\n",
       "            <td>JPMorgan Chase Tower                            </td> <td>composite     </td> <td>Houston          </td> <td>305.41</td> <td>1982     </td>\n",
       "        </tr>\n",
       "        <tr>\n",
       "            <td>Williams Tower                                  </td> <td>steel         </td> <td>Houston          </td> <td>274.63</td> <td>1982     </td>\n",
       "        </tr>\n",
       "        <tr>\n",
       "            <td>Fulbright Tower                                 </td> <td>composite     </td> <td>Houston          </td> <td>221   </td> <td>1982     </td>\n",
       "        </tr>\n",
       "        <tr>\n",
       "            <td>1801 California Plaza                           </td> <td>steel         </td> <td>Denver           </td> <td>216.11</td> <td>1982     </td>\n",
       "        </tr>\n",
       "        <tr>\n",
       "            <td>Trump Tower                                     </td> <td>concrete      </td> <td>New York City    </td> <td>202.39</td> <td>1982     </td>\n",
       "        </tr>\n",
       "        <tr>\n",
       "            <td>Wells Fargo Plaza                               </td> <td>steel         </td> <td>Houston          </td> <td>302.37</td> <td>1983     </td>\n",
       "        </tr>\n",
       "        <tr>\n",
       "            <td>Bank of America Center                          </td> <td>steel         </td> <td>Houston          </td> <td>237.75</td> <td>1983     </td>\n",
       "        </tr>\n",
       "        <tr>\n",
       "            <td>Southeast Financial Center                      </td> <td>composite     </td> <td>Miami            </td> <td>232.8 </td> <td>1983     </td>\n",
       "        </tr>\n",
       "        <tr>\n",
       "            <td>One Mellon Center                               </td> <td>steel         </td> <td>Pittsburgh       </td> <td>221   </td> <td>1983     </td>\n",
       "        </tr>\n",
       "        <tr>\n",
       "            <td>Wells Fargo Tower                               </td> <td>steel         </td> <td>Los Angeles      </td> <td>220.37</td> <td>1983     </td>\n",
       "        </tr>\n",
       "        <tr>\n",
       "            <td>Wells Fargo Center                              </td> <td>composite     </td> <td>Denver           </td> <td>212.75</td> <td>1983     </td>\n",
       "        </tr>\n",
       "        <tr>\n",
       "            <td>1400 Smith Street                               </td> <td>steel         </td> <td>Houston          </td> <td>210.52</td> <td>1983     </td>\n",
       "        </tr>\n",
       "        <tr>\n",
       "            <td>One Magnificent Mile                            </td> <td>concrete      </td> <td>Chicago          </td> <td>205.13</td> <td>1983     </td>\n",
       "        </tr>\n",
       "        <tr>\n",
       "            <td>33 South 6th Street                             </td> <td>concrete      </td> <td>Minneapolis      </td> <td>203.58</td> <td>1983     </td>\n",
       "        </tr>\n",
       "        <tr>\n",
       "            <td>550 Madison Avenue                              </td> <td>steel         </td> <td>New York City    </td> <td>197.32</td> <td>1983     </td>\n",
       "        </tr>\n",
       "        <tr>\n",
       "            <td>Columbia Center                                 </td> <td>composite     </td> <td>Seattle          </td> <td>284.38</td> <td>1984     </td>\n",
       "        </tr>\n",
       "        <tr>\n",
       "            <td>1600 Smith Street                               </td> <td>steel         </td> <td>Houston          </td> <td>223.12</td> <td>1984     </td>\n",
       "        </tr>\n",
       "        <tr>\n",
       "            <td>Republic Plaza                                  </td> <td>steel         </td> <td>Denver           </td> <td>217.63</td> <td>1984     </td>\n",
       "        </tr>\n",
       "        <tr>\n",
       "            <td>One PPG Place                                   </td> <td>steel         </td> <td>Pittsburgh       </td> <td>193.55</td> <td>1984     </td>\n",
       "        </tr>\n",
       "        <tr>\n",
       "            <td>Bank of America Plaza                           </td> <td>composite     </td> <td>Dallas           </td> <td>280.72</td> <td>1985     </td>\n",
       "        </tr>\n",
       "        <tr>\n",
       "            <td>AXA Center                                      </td> <td>steel         </td> <td>New York City    </td> <td>229.21</td> <td>1985     </td>\n",
       "        </tr>\n",
       "        <tr>\n",
       "            <td>Metropolitan Tower                              </td> <td>concrete      </td> <td>New York City    </td> <td>218.24</td> <td>1985     </td>\n",
       "        </tr>\n",
       "        <tr>\n",
       "            <td>200 Public Square                               </td> <td>steel         </td> <td>Cleveland        </td> <td>200.56</td> <td>1985     </td>\n",
       "        </tr>\n",
       "        <tr>\n",
       "            <td>Renaissance Tower                               </td> <td>steel         </td> <td>Dallas           </td> <td>270.06</td> <td>1986     </td>\n",
       "        </tr>\n",
       "        <tr>\n",
       "            <td>Three World Financial Center                    </td> <td>steel         </td> <td>New York City    </td> <td>225.2 </td> <td>1986     </td>\n",
       "        </tr>\n",
       "        <tr>\n",
       "            <td>Olympia Centre                                  </td> <td>concrete      </td> <td>Chicago          </td> <td>222.9 </td> <td>1986     </td>\n",
       "        </tr>\n",
       "        <tr>\n",
       "            <td>Fountain Place                                  </td> <td>steel         </td> <td>Dallas           </td> <td>219.46</td> <td>1986     </td>\n",
       "        </tr>\n",
       "        <tr>\n",
       "            <td>345 California Center                           </td> <td>steel         </td> <td>San Francisco    </td> <td>211.84</td> <td>1986     </td>\n",
       "        </tr>\n",
       "        <tr>\n",
       "            <td>599 Lexington Avenue                            </td> <td>steel         </td> <td>New York City    </td> <td>199.04</td> <td>1986     </td>\n",
       "        </tr>\n",
       "        <tr>\n",
       "            <td>Two World Financial Center                      </td> <td>steel         </td> <td>New York City    </td> <td>196.6 </td> <td>1986     </td>\n",
       "        </tr>\n",
       "        <tr>\n",
       "            <td>One Liberty Place                               </td> <td>steel         </td> <td>Philadelphia     </td> <td>288.04</td> <td>1987     </td>\n",
       "        </tr>\n",
       "        <tr>\n",
       "            <td>One Atlantic Center                             </td> <td>composite     </td> <td>Atlanta          </td> <td>249.94</td> <td>1987     </td>\n",
       "        </tr>\n",
       "        <tr>\n",
       "            <td>CitySpire                                       </td> <td>concrete      </td> <td>New York City    </td> <td>248.11</td> <td>1987     </td>\n",
       "        </tr>\n",
       "        <tr>\n",
       "            <td>Comerica Bank Tower                             </td> <td>composite     </td> <td>Dallas           </td> <td>239.88</td> <td>1987     </td>\n",
       "        </tr>\n",
       "        <tr>\n",
       "            <td>Heritage Plaza                                  </td> <td>steel         </td> <td>Houston          </td> <td>232.26</td> <td>1987     </td>\n",
       "        </tr>\n",
       "        <tr>\n",
       "            <td>Wells Fargo Center                              </td> <td>composite     </td> <td>Minneapolis      </td> <td>236.32</td> <td>1988     </td>\n",
       "        </tr>\n",
       "        <tr>\n",
       "            <td>1201 Third Avenue Tower                         </td> <td>steel         </td> <td>Seattle          </td> <td>235.31</td> <td>1988     </td>\n",
       "        </tr>\n",
       "        <tr>\n",
       "            <td>The Franklin - North Tower                      </td> <td>composite     </td> <td>Chicago          </td> <td>306.94</td> <td>1989     </td>\n",
       "        </tr>\n",
       "        <tr>\n",
       "            <td>900 North Michigan Avenue                       </td> <td>concrete/steel</td> <td>Chicago          </td> <td>265   </td> <td>1989     </td>\n",
       "        </tr>\n",
       "        <tr>\n",
       "            <td>1 Worldwide Plaza                               </td> <td>steel         </td> <td>New York City    </td> <td>237.14</td> <td>1989     </td>\n",
       "        </tr>\n",
       "        <tr>\n",
       "            <td>60 Wall Street                                  </td> <td>steel         </td> <td>New York City    </td> <td>227.08</td> <td>1989     </td>\n",
       "        </tr>\n",
       "        <tr>\n",
       "            <td>Two Union Square                                </td> <td>composite     </td> <td>Seattle          </td> <td>225.56</td> <td>1989     </td>\n",
       "        </tr>\n",
       "        <tr>\n",
       "            <td>Figueroa at Wilshire                            </td> <td>steel         </td> <td>Los Angeles      </td> <td>218.54</td> <td>1989     </td>\n",
       "        </tr>\n",
       "        <tr>\n",
       "            <td>Leo Burnett Building                            </td> <td>composite     </td> <td>Chicago          </td> <td>193.55</td> <td>1989     </td>\n",
       "        </tr>\n",
       "        <tr>\n",
       "            <td>U.S. Bank Tower                                 </td> <td>steel         </td> <td>Los Angeles      </td> <td>310.29</td> <td>1990     </td>\n",
       "        </tr>\n",
       "        <tr>\n",
       "            <td>Two Prudential Plaza                            </td> <td>concrete      </td> <td>Chicago          </td> <td>303.28</td> <td>1990     </td>\n",
       "        </tr>\n",
       "        <tr>\n",
       "            <td>311 South Wacker Drive                          </td> <td>concrete      </td> <td>Chicago          </td> <td>292.92</td> <td>1990     </td>\n",
       "        </tr>\n",
       "        <tr>\n",
       "            <td>Two Liberty Place                               </td> <td>steel         </td> <td>Philadelphia     </td> <td>258.47</td> <td>1990     </td>\n",
       "        </tr>\n",
       "        <tr>\n",
       "            <td>Mellon Bank Center                              </td> <td>composite     </td> <td>Philadelphia     </td> <td>241.41</td> <td>1990     </td>\n",
       "        </tr>\n",
       "        <tr>\n",
       "            <td>Seattle Municipal Tower                         </td> <td>steel         </td> <td>Seattle          </td> <td>220.07</td> <td>1990     </td>\n",
       "        </tr>\n",
       "        <tr>\n",
       "            <td>Chase Tower                                     </td> <td>steel         </td> <td>Indianapolis     </td> <td>213.67</td> <td>1990     </td>\n",
       "        </tr>\n",
       "        <tr>\n",
       "            <td>181 West Madison                                </td> <td>composite     </td> <td>Chicago          </td> <td>207.27</td> <td>1990     </td>\n",
       "        </tr>\n",
       "        <tr>\n",
       "            <td>Citigroup Building                              </td> <td>steel         </td> <td>New York City    </td> <td>205.13</td> <td>1990     </td>\n",
       "        </tr>\n",
       "        <tr>\n",
       "            <td>712 5th Avenue                                  </td> <td>steel         </td> <td>New York City    </td> <td>198.12</td> <td>1990     </td>\n",
       "        </tr>\n",
       "        <tr>\n",
       "            <td>Key Tower                                       </td> <td>composite     </td> <td>Cleveland        </td> <td>288.65</td> <td>1991     </td>\n",
       "        </tr>\n",
       "        <tr>\n",
       "            <td>Carnegie Hall Tower                             </td> <td>concrete      </td> <td>New York City    </td> <td>230.74</td> <td>1991     </td>\n",
       "        </tr>\n",
       "        <tr>\n",
       "            <td>Gas Company Tower                               </td> <td>steel         </td> <td>Los Angeles      </td> <td>228.3 </td> <td>1991     </td>\n",
       "        </tr>\n",
       "        <tr>\n",
       "            <td>Three Logan                                     </td> <td>steel         </td> <td>Philadelphia     </td> <td>225.25</td> <td>1991     </td>\n",
       "        </tr>\n",
       "        <tr>\n",
       "            <td>777 Tower                                       </td> <td>steel         </td> <td>Los Angeles      </td> <td>221   </td> <td>1991     </td>\n",
       "        </tr>\n",
       "        <tr>\n",
       "            <td>Bank of America Plaza                           </td> <td>composite     </td> <td>Atlanta          </td> <td>311.8 </td> <td>1992     </td>\n",
       "        </tr>\n",
       "        <tr>\n",
       "            <td>Bank of America Corporate Center                </td> <td>concrete      </td> <td>Charlotte        </td> <td>265.48</td> <td>1992     </td>\n",
       "        </tr>\n",
       "        <tr>\n",
       "            <td>SunTrust Plaza                                  </td> <td>concrete      </td> <td>Atlanta          </td> <td>264.25</td> <td>1992     </td>\n",
       "        </tr>\n",
       "        <tr>\n",
       "            <td>Capella Tower                                   </td> <td>composite     </td> <td>Minneapolis      </td> <td>236.53</td> <td>1992     </td>\n",
       "        </tr>\n",
       "        <tr>\n",
       "            <td>191 Peachtree Tower                             </td> <td>composite     </td> <td>Atlanta          </td> <td>234.7 </td> <td>1992     </td>\n",
       "        </tr>\n",
       "        <tr>\n",
       "            <td>Chicago Title & Trust Center                    </td> <td>composite     </td> <td>Chicago          </td> <td>230.48</td> <td>1992     </td>\n",
       "        </tr>\n",
       "        <tr>\n",
       "            <td>Two California Plaza                            </td> <td>steel         </td> <td>Los Angeles      </td> <td>228.6 </td> <td>1992     </td>\n",
       "        </tr>\n",
       "        <tr>\n",
       "            <td>Americas Tower                                  </td> <td>steel         </td> <td>New York City    </td> <td>210.92</td> <td>1992     </td>\n",
       "        </tr>\n",
       "        <tr>\n",
       "            <td>United Building                                 </td> <td>composite     </td> <td>Chicago          </td> <td>203.61</td> <td>1992     </td>\n",
       "        </tr>\n",
       "        <tr>\n",
       "            <td>Four Seasons Hotel                              </td> <td>concrete      </td> <td>New York City    </td> <td>207.88</td> <td>1993     </td>\n",
       "        </tr>\n",
       "        <tr>\n",
       "            <td>Stratosphere Tower                              </td> <td>concrete      </td> <td>Las Vegas        </td> <td>350.22</td> <td>1996     </td>\n",
       "        </tr>\n",
       "        <tr>\n",
       "            <td>Centerpoint Energy Plaza                        </td> <td>steel         </td> <td>Houston          </td> <td>225.86</td> <td>1996     </td>\n",
       "        </tr>\n",
       "        <tr>\n",
       "            <td>4 Times Square                                  </td> <td>steel         </td> <td>New York City    </td> <td>246.54</td> <td>1999     </td>\n",
       "        </tr>\n",
       "        <tr>\n",
       "            <td>Park Tower                                      </td> <td>concrete      </td> <td>Chicago          </td> <td>257.35</td> <td>2000     </td>\n",
       "        </tr>\n",
       "        <tr>\n",
       "            <td>Trump World Tower                               </td> <td>concrete      </td> <td>New York City    </td> <td>262.44</td> <td>2001     </td>\n",
       "        </tr>\n",
       "        <tr>\n",
       "            <td>383 Madison Avenue                              </td> <td>steel         </td> <td>New York City    </td> <td>230.25</td> <td>2001     </td>\n",
       "        </tr>\n",
       "        <tr>\n",
       "            <td>UBS Tower                                       </td> <td>composite     </td> <td>Chicago          </td> <td>198.58</td> <td>2001     </td>\n",
       "        </tr>\n",
       "        <tr>\n",
       "            <td>River East Center                               </td> <td>concrete      </td> <td>Chicago          </td> <td>196.29</td> <td>2001     </td>\n",
       "        </tr>\n",
       "        <tr>\n",
       "            <td>Hearst Tower                                    </td> <td>steel/concrete</td> <td>Charlotte        </td> <td>200.81</td> <td>2002     </td>\n",
       "        </tr>\n",
       "        <tr>\n",
       "            <td>One First National Center                       </td> <td>composite     </td> <td>Omaha            </td> <td>193.25</td> <td>2002     </td>\n",
       "        </tr>\n",
       "        <tr>\n",
       "            <td>Four Seasons Hotel & Tower                      </td> <td>concrete      </td> <td>Miami            </td> <td>240.41</td> <td>2003     </td>\n",
       "        </tr>\n",
       "        <tr>\n",
       "            <td>Random House Tower                              </td> <td>steel         </td> <td>New York City    </td> <td>208.49</td> <td>2003     </td>\n",
       "        </tr>\n",
       "        <tr>\n",
       "            <td>Grand Plaza Apartments                          </td> <td>concrete      </td> <td>Chicago          </td> <td>195.38</td> <td>2003     </td>\n",
       "        </tr>\n",
       "        <tr>\n",
       "            <td>Bloomberg Tower                                 </td> <td>concrete/steel</td> <td>New York City    </td> <td>245.62</td> <td>2004     </td>\n",
       "        </tr>\n",
       "        <tr>\n",
       "            <td>30 Hudson Street                                </td> <td>steel         </td> <td>Jersey City      </td> <td>238.05</td> <td>2004     </td>\n",
       "        </tr>\n",
       "        <tr>\n",
       "            <td>Time Warner Center North Tower                  </td> <td>concrete/steel</td> <td>New York City    </td> <td>228.32</td> <td>2004     </td>\n",
       "        </tr>\n",
       "        <tr>\n",
       "            <td>Time Warner Center South Tower                  </td> <td>concrete/steel</td> <td>New York City    </td> <td>228.32</td> <td>2004     </td>\n",
       "        </tr>\n",
       "        <tr>\n",
       "            <td>Times Square Tower                              </td> <td>steel         </td> <td>New York City    </td> <td>221.29</td> <td>2004     </td>\n",
       "        </tr>\n",
       "        <tr>\n",
       "            <td>55 East Erie                                    </td> <td>concrete      </td> <td>Chicago          </td> <td>197.15</td> <td>2004     </td>\n",
       "        </tr>\n",
       "        <tr>\n",
       "            <td>111 South Wacker                                </td> <td>composite     </td> <td>Chicago          </td> <td>207.64</td> <td>2005     </td>\n",
       "        </tr>\n",
       "        <tr>\n",
       "            <td>Hyatt Center                                    </td> <td>composite     </td> <td>Chicago          </td> <td>207.1 </td> <td>2005     </td>\n",
       "        </tr>\n",
       "        <tr>\n",
       "            <td>The Heritage at Millennium Park                 </td> <td>concrete      </td> <td>Chicago          </td> <td>192.38</td> <td>2005     </td>\n",
       "        </tr>\n",
       "        <tr>\n",
       "            <td>7 World Trade Center                            </td> <td>steel/concrete</td> <td>New York City    </td> <td>226.5 </td> <td>2006     </td>\n",
       "        </tr>\n",
       "        <tr>\n",
       "            <td>1180 Peachtree                                  </td> <td>concrete      </td> <td>Atlanta          </td> <td>200.16</td> <td>2006     </td>\n",
       "        </tr>\n",
       "        <tr>\n",
       "            <td>New York Times Tower                            </td> <td>steel         </td> <td>New York City    </td> <td>318.77</td> <td>2007     </td>\n",
       "        </tr>\n",
       "        <tr>\n",
       "            <td>RSA Battle House Tower                          </td> <td>steel/concrete</td> <td>Mobile           </td> <td>227.08</td> <td>2007     </td>\n",
       "        </tr>\n",
       "        <tr>\n",
       "            <td>Barclay Tower                                   </td> <td>concrete      </td> <td>New York City    </td> <td>205.06</td> <td>2007     </td>\n",
       "        </tr>\n",
       "        <tr>\n",
       "            <td>340 on the Park                                 </td> <td>concrete      </td> <td>Chicago          </td> <td>204.9 </td> <td>2007     </td>\n",
       "        </tr>\n",
       "        <tr>\n",
       "            <td>1095 Avenue of the Americas                     </td> <td>steel         </td> <td>New York City    </td> <td>196.44</td> <td>2007     </td>\n",
       "        </tr>\n",
       "        <tr>\n",
       "            <td>The Palazzo                                     </td> <td>composite     </td> <td>Las Vegas        </td> <td>195.68</td> <td>2007     </td>\n",
       "        </tr>\n",
       "        <tr>\n",
       "            <td>Comcast Center                                  </td> <td>composite     </td> <td>Philadelphia     </td> <td>296.73</td> <td>2008     </td>\n",
       "        </tr>\n",
       "        <tr>\n",
       "            <td>Sovereign                                       </td> <td>concrete      </td> <td>Atlanta          </td> <td>202.69</td> <td>2008     </td>\n",
       "        </tr>\n",
       "        <tr>\n",
       "            <td>900 Biscayne Bay                                </td> <td>concrete      </td> <td>Miami            </td> <td>198   </td> <td>2008     </td>\n",
       "        </tr>\n",
       "        <tr>\n",
       "            <td>Encore                                          </td> <td>concrete      </td> <td>Las Vegas        </td> <td>192.33</td> <td>2008     </td>\n",
       "        </tr>\n",
       "        <tr>\n",
       "            <td>Trump International Hotel & Tower               </td> <td>concrete      </td> <td>Chicago          </td> <td>423.22</td> <td>2009     </td>\n",
       "        </tr>\n",
       "        <tr>\n",
       "            <td>Bank of America Tower                           </td> <td>composite     </td> <td>New York City    </td> <td>365.8 </td> <td>2009     </td>\n",
       "        </tr>\n",
       "        <tr>\n",
       "            <td>Aqua                                            </td> <td>concrete      </td> <td>Chicago          </td> <td>261.75</td> <td>2009     </td>\n",
       "        </tr>\n",
       "        <tr>\n",
       "            <td>300 North LaSalle                               </td> <td>composite     </td> <td>Chicago          </td> <td>239.12</td> <td>2009     </td>\n",
       "        </tr>\n",
       "        <tr>\n",
       "            <td>One Museum Park                                 </td> <td>concrete      </td> <td>Chicago          </td> <td>221.34</td> <td>2009     </td>\n",
       "        </tr>\n",
       "        <tr>\n",
       "            <td>Waldorf Astoria Chicago                         </td> <td>concrete      </td> <td>Chicago          </td> <td>209   </td> <td>2009     </td>\n",
       "        </tr>\n",
       "        <tr>\n",
       "            <td>Marquis                                         </td> <td>concrete      </td> <td>Miami            </td> <td>207   </td> <td>2009     </td>\n",
       "        </tr>\n",
       "        <tr>\n",
       "            <td>Silver Towers East                              </td> <td>concrete      </td> <td>New York City    </td> <td>199.17</td> <td>2009     </td>\n",
       "        </tr>\n",
       "        <tr>\n",
       "            <td>Silver Towers West                              </td> <td>concrete      </td> <td>New York City    </td> <td>199.17</td> <td>2009     </td>\n",
       "        </tr>\n",
       "        <tr>\n",
       "            <td>Millennium Tower                                </td> <td>concrete      </td> <td>San Francisco    </td> <td>196.6 </td> <td>2009     </td>\n",
       "        </tr>\n",
       "        <tr>\n",
       "            <td>155 North Wacker                                </td> <td>composite     </td> <td>Chicago          </td> <td>194.57</td> <td>2009     </td>\n",
       "        </tr>\n",
       "        <tr>\n",
       "            <td>Mint at Riverfront                              </td> <td>concrete      </td> <td>Miami            </td> <td>192.28</td> <td>2009     </td>\n",
       "        </tr>\n",
       "        <tr>\n",
       "            <td>The Legacy at Millennium Park                   </td> <td>concrete      </td> <td>Chicago          </td> <td>249.33</td> <td>2010     </td>\n",
       "        </tr>\n",
       "        <tr>\n",
       "            <td>Duke Energy Center                              </td> <td>concrete/steel</td> <td>Charlotte        </td> <td>239.7 </td> <td>2010     </td>\n",
       "        </tr>\n",
       "        <tr>\n",
       "            <td>Goldman Sachs Headquarters                      </td> <td>steel         </td> <td>New York City    </td> <td>228.3 </td> <td>2010     </td>\n",
       "        </tr>\n",
       "        <tr>\n",
       "            <td>Blue Cross-Blue Shield Tower                    </td> <td>composite     </td> <td>Chicago          </td> <td>226.72</td> <td>2010     </td>\n",
       "        </tr>\n",
       "        <tr>\n",
       "            <td>The Austonian                                   </td> <td>concrete      </td> <td>Austin           </td> <td>208.15</td> <td>2010     </td>\n",
       "        </tr>\n",
       "        <tr>\n",
       "            <td>Ritz-Carlton/Marriott Marquis Los Angeles       </td> <td>steel         </td> <td>Los Angeles      </td> <td>203.28</td> <td>2010     </td>\n",
       "        </tr>\n",
       "        <tr>\n",
       "            <td>Wells Fargo Tower                               </td> <td>steel/concrete</td> <td>Miami            </td> <td>199.5 </td> <td>2010     </td>\n",
       "        </tr>\n",
       "        <tr>\n",
       "            <td>Four Seasons Hotel & Private Residences         </td> <td>concrete      </td> <td>Denver           </td> <td>194.75</td> <td>2010     </td>\n",
       "        </tr>\n",
       "        <tr>\n",
       "            <td>Langham Place                                   </td> <td>concrete      </td> <td>New York City    </td> <td>192.58</td> <td>2010     </td>\n",
       "        </tr>\n",
       "        <tr>\n",
       "            <td>W New York Downtown Hotel & Residences          </td> <td>concrete      </td> <td>New York City    </td> <td>192.11</td> <td>2010     </td>\n",
       "        </tr>\n",
       "        <tr>\n",
       "            <td>Eight Spruce Street                             </td> <td>concrete      </td> <td>New York City    </td> <td>265.18</td> <td>2011     </td>\n",
       "        </tr>\n",
       "        <tr>\n",
       "            <td>Great American Tower at Queen City Square       </td> <td>composite     </td> <td>Cincinnati       </td> <td>202.69</td> <td>2011     </td>\n",
       "        </tr>\n",
       "        <tr>\n",
       "            <td>1 MiMA Tower                                    </td> <td>concrete      </td> <td>New York City    </td> <td>194.55</td> <td>2011     </td>\n",
       "        </tr>\n",
       "        <tr>\n",
       "            <td>BG Group Place                                  </td> <td>concrete      </td> <td>Houston          </td> <td>192.74</td> <td>2011     </td>\n",
       "        </tr>\n",
       "        <tr>\n",
       "            <td>Devon Energy Center                             </td> <td>concrete      </td> <td>Oklahoma City    </td> <td>257.23</td> <td>2012     </td>\n",
       "        </tr>\n",
       "        <tr>\n",
       "            <td>Revel Resort and Casino                         </td> <td>concrete      </td> <td>Atlantic City    </td> <td>218.92</td> <td>2012     </td>\n",
       "        </tr>\n",
       "        <tr>\n",
       "            <td>Courtyard & Residence Inn Manhattan/Central Park</td> <td>concrete      </td> <td>New York City    </td> <td>229.62</td> <td>2013     </td>\n",
       "        </tr>\n",
       "        <tr>\n",
       "            <td>One World Trade Center                          </td> <td>composite     </td> <td>New York City    </td> <td>541.3 </td> <td>2014     </td>\n",
       "        </tr>\n",
       "        <tr>\n",
       "            <td>One57                                           </td> <td>steel/concrete</td> <td>New York City    </td> <td>306.07</td> <td>2014     </td>\n",
       "        </tr>\n",
       "        <tr>\n",
       "            <td>4 World Trade Center                            </td> <td>composite     </td> <td>New York City    </td> <td>297.73</td> <td>2014     </td>\n",
       "        </tr>\n",
       "        <tr>\n",
       "            <td>432 Park Avenue                                 </td> <td>concrete      </td> <td>New York City    </td> <td>425.5 </td> <td>2015     </td>\n",
       "        </tr>\n",
       "        <tr>\n",
       "            <td>Sky                                             </td> <td>concrete      </td> <td>New York City    </td> <td>206   </td> <td>2015     </td>\n",
       "        </tr>\n",
       "        <tr>\n",
       "            <td>Mansions at Acqualina                           </td> <td>concrete      </td> <td>Sunny Isles Beach</td> <td>196   </td> <td>2015     </td>\n",
       "        </tr>\n",
       "    </tbody>\n",
       "</table>"
      ],
      "text/plain": [
       "<IPython.core.display.HTML object>"
      ]
     },
     "metadata": {},
     "output_type": "display_data"
    }
   ],
   "source": [
    "skyscrapers.sort('completed', False).show()"
   ]
  },
  {
   "cell_type": "markdown",
   "metadata": {
    "tags": []
   },
   "source": [
    "# Visualizations\n",
    "1. read the csv `data/movies_by_year.csv`\n",
    "1. Plot the number of movies vs the total gross using `scatter()`\n",
    "    - add a trendline\n",
    "1. Plot the number of movies over time using `plot()`"
   ]
  },
  {
   "cell_type": "code",
   "execution_count": null,
   "metadata": {},
   "outputs": [],
   "source": []
  }
 ],
 "metadata": {
  "anaconda-cloud": {},
  "kernelspec": {
   "display_name": "Python 3 (ipykernel)",
   "language": "python",
   "name": "python3"
  },
  "language_info": {
   "codemirror_mode": {
    "name": "ipython",
    "version": 3
   },
   "file_extension": ".py",
   "mimetype": "text/x-python",
   "name": "python",
   "nbconvert_exporter": "python",
   "pygments_lexer": "ipython3",
   "version": "3.11.5"
  },
  "toc": {
   "base_numbering": 1,
   "nav_menu": {},
   "number_sections": true,
   "sideBar": true,
   "skip_h1_title": false,
   "title_cell": "Table of Contents",
   "title_sidebar": "Contents",
   "toc_cell": false,
   "toc_position": {},
   "toc_section_display": true,
   "toc_window_display": false
  }
 },
 "nbformat": 4,
 "nbformat_minor": 4
}
