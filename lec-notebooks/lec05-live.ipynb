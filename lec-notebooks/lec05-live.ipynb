{
 "cells": [
  {
   "cell_type": "code",
   "execution_count": 7,
   "metadata": {
    "tags": []
   },
   "outputs": [],
   "source": [
    "from datascience import *\n",
    "import numpy as np\n",
    "\n",
    "%matplotlib inline\n",
    "import matplotlib.pyplot as plots\n",
    "plots.style.use('fivethirtyeight')"
   ]
  },
  {
   "cell_type": "markdown",
   "metadata": {},
   "source": [
    "# Lecture 05: Census"
   ]
  },
  {
   "cell_type": "markdown",
   "metadata": {},
   "source": [
    "## Table Review: Welcome Survey"
   ]
  },
  {
   "cell_type": "code",
   "execution_count": 8,
   "metadata": {
    "tags": []
   },
   "outputs": [
    {
     "data": {
      "text/html": [
       "<table border=\"1\" class=\"dataframe\">\n",
       "    <thead>\n",
       "        <tr>\n",
       "            <th>Timestamp</th> <th>What year are you in?</th> <th>How would you rate yourself on a scale of 10 from 1 (introvert) to 10 (extrovert)</th> <th>How many texts do you send per day?</th> <th>Are you left-handed, right-handed or both?</th> <th>What position do you sleep in?</th> <th>How many hours of sleep do you get?</th> <th>How many siblings do you have?</th> <th>What pets do you have? If more than one, separate with commas.</th> <th>Make up a very random 4-digit number</th> <th>Do you have a tattoo?</th> <th>How do you get to work or school?</th>\n",
       "        </tr>\n",
       "    </thead>\n",
       "    <tbody>\n",
       "        <tr>\n",
       "            <td>1/16/2024 15:14:27</td> <td>First                </td> <td>4                                                                                </td> <td>20                                 </td> <td>Right                                     </td> <td>Stomach                       </td> <td>7-8                                </td> <td>1                             </td> <td>0                                                             </td> <td>2376                                </td> <td>No                   </td> <td>walk                             </td>\n",
       "        </tr>\n",
       "        <tr>\n",
       "            <td>1/16/2024 15:14:40</td> <td>Second               </td> <td>3                                                                                </td> <td>5                                  </td> <td>Right                                     </td> <td>Back                          </td> <td>6                                  </td> <td>1                             </td> <td>cat                                                           </td> <td>4635                                </td> <td>No                   </td> <td>walk                             </td>\n",
       "        </tr>\n",
       "        <tr>\n",
       "            <td>1/16/2024 15:15:23</td> <td>Third                </td> <td>4                                                                                </td> <td>15-30, depends                     </td> <td>Right                                     </td> <td>Back                          </td> <td>5-7                                </td> <td>3                             </td> <td>nan                                                           </td> <td>3790                                </td> <td>No                   </td> <td>Bike                             </td>\n",
       "        </tr>\n",
       "        <tr>\n",
       "            <td>1/16/2024 15:17:50</td> <td>Third                </td> <td>5                                                                                </td> <td>0                                  </td> <td>Right                                     </td> <td>Back                          </td> <td>6h                                 </td> <td>no                            </td> <td>no                                                            </td> <td>6117                                </td> <td>No                   </td> <td>Bus                              </td>\n",
       "        </tr>\n",
       "        <tr>\n",
       "            <td>1/16/2024 15:17:51</td> <td>First                </td> <td>2                                                                                </td> <td>Depends on the day, between 5-30.  </td> <td>Right                                     </td> <td>Stomach                       </td> <td>On average, 5.                     </td> <td>3                             </td> <td>0                                                             </td> <td>6782                                </td> <td>Yes                  </td> <td>walk                             </td>\n",
       "        </tr>\n",
       "        <tr>\n",
       "            <td>1/16/2024 15:19:07</td> <td>First                </td> <td>2                                                                                </td> <td>5-30                               </td> <td>Right                                     </td> <td>Stomach                       </td> <td>5                                  </td> <td>3                             </td> <td>0                                                             </td> <td>6782                                </td> <td>Yes                  </td> <td>walk                             </td>\n",
       "        </tr>\n",
       "        <tr>\n",
       "            <td>1/16/2024 15:22:39</td> <td>First                </td> <td>5                                                                                </td> <td>nan                                </td> <td>Right                                     </td> <td>Left side                     </td> <td>6-7 :(                             </td> <td>2 :D                          </td> <td>I have two cats                                               </td> <td>5939                                </td> <td>Yes                  </td> <td>Bike                             </td>\n",
       "        </tr>\n",
       "        <tr>\n",
       "            <td>1/16/2024 15:23:32</td> <td>First                </td> <td>2                                                                                </td> <td>70                                 </td> <td>Right                                     </td> <td>Right side                    </td> <td>5                                  </td> <td>2                             </td> <td>nan                                                           </td> <td>3276                                </td> <td>No                   </td> <td>Bus                              </td>\n",
       "        </tr>\n",
       "        <tr>\n",
       "            <td>1/16/2024 15:25:20</td> <td>Third                </td> <td>6                                                                                </td> <td>20                                 </td> <td>Right                                     </td> <td>Right side                    </td> <td>6-7                                </td> <td>1                             </td> <td>1                                                             </td> <td>2323                                </td> <td>Yes                  </td> <td>Bike                             </td>\n",
       "        </tr>\n",
       "        <tr>\n",
       "            <td>1/16/2024 15:25:39</td> <td>First                </td> <td>5                                                                                </td> <td>nan                                </td> <td>Right                                     </td> <td>Left side                     </td> <td>6-7 :(                             </td> <td>Two                           </td> <td>Two cats! :D                                                  </td> <td>3216                                </td> <td>Yes                  </td> <td>Bike                             </td>\n",
       "        </tr>\n",
       "    </tbody>\n",
       "</table>\n",
       "<p>... (134 rows omitted)</p>"
      ],
      "text/plain": [
       "Timestamp          | What year are you in? | How would you rate yourself on a scale of 10 from 1 (introvert) to 10 (extrovert) | How many texts do you send per day? | Are you left-handed, right-handed or both? | What position do you sleep in? | How many hours of sleep do you get? | How many siblings do you have? | What pets do you have? If more than one, separate with commas. | Make up a very random 4-digit number | Do you have a tattoo? | How do you get to work or school?\n",
       "1/16/2024 15:14:27 | First                 | 4                                                                                 | 20                                  | Right                                      | Stomach                        | 7-8                                 | 1                              | 0                                                              | 2376                                 | No                    | walk\n",
       "1/16/2024 15:14:40 | Second                | 3                                                                                 | 5                                   | Right                                      | Back                           | 6                                   | 1                              | cat                                                            | 4635                                 | No                    | walk\n",
       "1/16/2024 15:15:23 | Third                 | 4                                                                                 | 15-30, depends                      | Right                                      | Back                           | 5-7                                 | 3                              | nan                                                            | 3790                                 | No                    | Bike\n",
       "1/16/2024 15:17:50 | Third                 | 5                                                                                 | 0                                   | Right                                      | Back                           | 6h                                  | no                             | no                                                             | 6117                                 | No                    | Bus\n",
       "1/16/2024 15:17:51 | First                 | 2                                                                                 | Depends on the day, between 5-30.   | Right                                      | Stomach                        | On average, 5.                      | 3                              | 0                                                              | 6782                                 | Yes                   | walk\n",
       "1/16/2024 15:19:07 | First                 | 2                                                                                 | 5-30                                | Right                                      | Stomach                        | 5                                   | 3                              | 0                                                              | 6782                                 | Yes                   | walk\n",
       "1/16/2024 15:22:39 | First                 | 5                                                                                 | nan                                 | Right                                      | Left side                      | 6-7 :(                              | 2 :D                           | I have two cats                                                | 5939                                 | Yes                   | Bike\n",
       "1/16/2024 15:23:32 | First                 | 2                                                                                 | 70                                  | Right                                      | Right side                     | 5                                   | 2                              | nan                                                            | 3276                                 | No                    | Bus\n",
       "1/16/2024 15:25:20 | Third                 | 6                                                                                 | 20                                  | Right                                      | Right side                     | 6-7                                 | 1                              | 1                                                              | 2323                                 | Yes                   | Bike\n",
       "1/16/2024 15:25:39 | First                 | 5                                                                                 | nan                                 | Right                                      | Left side                      | 6-7 :(                              | Two                            | Two cats! :D                                                   | 3216                                 | Yes                   | Bike\n",
       "... (134 rows omitted)"
      ]
     },
     "execution_count": 8,
     "metadata": {},
     "output_type": "execute_result"
    }
   ],
   "source": [
    "survey = Table.read_table('data/classdatasurvey_w24.csv')\n",
    "survey\n",
    "survey.where('What position do you sleep in?', are.contained('Back'))"
   ]
  },
  {
   "cell_type": "code",
   "execution_count": 18,
   "metadata": {},
   "outputs": [
    {
     "data": {
      "text/plain": [
       "\u001b[0;31mSignature:\u001b[0m \u001b[0mTable\u001b[0m\u001b[0;34m.\u001b[0m\u001b[0mdrop\u001b[0m\u001b[0;34m(\u001b[0m\u001b[0mself\u001b[0m\u001b[0;34m,\u001b[0m \u001b[0;34m*\u001b[0m\u001b[0mcolumn_or_columns\u001b[0m\u001b[0;34m)\u001b[0m\u001b[0;34m\u001b[0m\u001b[0;34m\u001b[0m\u001b[0m\n",
       "\u001b[0;31mDocstring:\u001b[0m\n",
       "Return a Table with only columns other than selected label or\n",
       "labels.\n",
       "\n",
       "Args:\n",
       "    ``column_or_columns`` (string or list of strings): The header\n",
       "    names or indices of the columns to be dropped.\n",
       "\n",
       "    ``column_or_columns`` must be an existing header name, or a\n",
       "    valid column index.\n",
       "\n",
       "Returns:\n",
       "    An instance of ``Table`` with given columns removed.\n",
       "\n",
       ">>> t = Table().with_columns(\n",
       "...     'burgers',  make_array('cheeseburger', 'hamburger', 'veggie burger'),\n",
       "...     'prices',   make_array(6, 5, 5),\n",
       "...     'calories', make_array(743, 651, 582))\n",
       ">>> t\n",
       "burgers       | prices | calories\n",
       "cheeseburger  | 6      | 743\n",
       "hamburger     | 5      | 651\n",
       "veggie burger | 5      | 582\n",
       ">>> t.drop('prices')\n",
       "burgers       | calories\n",
       "cheeseburger  | 743\n",
       "hamburger     | 651\n",
       "veggie burger | 582\n",
       ">>> t.drop(['burgers', 'calories'])\n",
       "prices\n",
       "6\n",
       "5\n",
       "5\n",
       ">>> t.drop('burgers', 'calories')\n",
       "prices\n",
       "6\n",
       "5\n",
       "5\n",
       ">>> t.drop([0, 2])\n",
       "prices\n",
       "6\n",
       "5\n",
       "5\n",
       ">>> t.drop(0, 2)\n",
       "prices\n",
       "6\n",
       "5\n",
       "5\n",
       ">>> t.drop(1)\n",
       "burgers       | calories\n",
       "cheeseburger  | 743\n",
       "hamburger     | 651\n",
       "veggie burger | 582\n",
       "\u001b[0;31mFile:\u001b[0m      ~/.local/lib/python3.11/site-packages/datascience/tables.py\n",
       "\u001b[0;31mType:\u001b[0m      function"
      ]
     },
     "metadata": {},
     "output_type": "display_data"
    }
   ],
   "source": [
    "Table.drop?"
   ]
  },
  {
   "cell_type": "code",
   "execution_count": 25,
   "metadata": {},
   "outputs": [],
   "source": [
    "import pandas\n",
    "survey_w24 = pandas.read_csv('data/classdatasurvey_w24.csv')\n",
    "survey_w24 = survey_w24.rename( columns = { \"What year are you in?\": \"Year\",\n",
    "                                        \"How would you rate yourself on a scale of 10 from 1 (introvert) to 10 (extrovert)\":\"Extraversion\",\n",
    "                                        \"How many texts do you send per day?\": \"Number of texts\",\n",
    "                                        \"Are you left-handed, right-handed or both?\":\"Handedness\",\n",
    "                                        \"What position do you sleep in?\" : \"Sleep position\",\n",
    "                                        \"How many hours of sleep do you get?\" : \"Hours of Sleep\",\n",
    "                                        \"How many siblings do you have?\" : \"Siblings\",\n",
    "                                        \"What pets do you have? If more than one, separate with commas.\": \"Pets\",\n",
    "                                        \"Make up a very random 4-digit number\" : \"Random Number\" ,\n",
    "                                        \"Do you have a tattoo?\" : \"Tattoo\",\n",
    "                                        \"How do you get to work or school?\" : \"Commute\"})\n",
    "survey_w24 = survey_w24.drop('Timestamp', axis = 1)\n",
    "\n",
    "survey_w24['Number of texts'] = pandas.to_numeric(survey_w24['Number of texts'], errors = 'coerce', downcast = 'integer')\n",
    "survey_w24['Hours of Sleep'] = pandas.to_numeric(survey_w24['Hours of Sleep'], errors = 'coerce', downcast = 'integer')\n",
    "survey_w24 = survey_w24.dropna() # dropped rows with NaN values\n",
    "type(survey_w24) # pandas dataframe\n",
    "survey_w24 = Table().from_df(survey_w24) # converting data frame to datascience table\n",
    "type(survey_w24) # datascience Table\n",
    "survey_w24.to_csv('data/welcome_survey_w24_cleaned.csv') # wrote new table to a CSV file, stored it in the data folder\n",
    "                                        "
   ]
  },
  {
   "cell_type": "code",
   "execution_count": 29,
   "metadata": {},
   "outputs": [
    {
     "data": {
      "text/plain": [
       "51"
      ]
     },
     "execution_count": 29,
     "metadata": {},
     "output_type": "execute_result"
    }
   ],
   "source": [
    "survey = Table.read_table('data/welcome_survey_w24_cleaned.csv') # reading in the new csv file, into a datascience Table\n",
    "survey_w24 = survey.select('Year', 'Extraversion', 'Hours of Sleep', 'Handedness', 'Sleep position', 'Pets')\n",
    "len(survey_w24.column('Hours of Sleep')) # had to delete a bunch of NaN values, so now we have 51 unique entries in survey_w24\n"
   ]
  },
  {
   "cell_type": "code",
   "execution_count": null,
   "metadata": {},
   "outputs": [],
   "source": []
  },
  {
   "cell_type": "markdown",
   "metadata": {},
   "source": [
    "### Find average hours of sleep for side sleepers (hint: use [where-predicates](http://www.data8.org/datascience/reference-nb/datascience-reference.html#Table.where-Predicates))"
   ]
  },
  {
   "cell_type": "code",
   "execution_count": 30,
   "metadata": {
    "tags": []
   },
   "outputs": [
    {
     "data": {
      "text/plain": [
       "7.5490196078431371"
      ]
     },
     "execution_count": 30,
     "metadata": {},
     "output_type": "execute_result"
    }
   ],
   "source": [
    "np.mean(survey_w24.column('Hours of Sleep')) # average hours of sleep for all sleep positions"
   ]
  },
  {
   "cell_type": "code",
   "execution_count": 32,
   "metadata": {},
   "outputs": [
    {
     "data": {
      "text/plain": [
       "7.2972972972972974"
      ]
     },
     "execution_count": 32,
     "metadata": {},
     "output_type": "execute_result"
    }
   ],
   "source": [
    "# look for side sleepers\n",
    "side_sleepers = survey_w24.where('Sleep position', are.containing('side'))\n",
    "side_sleepers\n",
    "# then find average\n",
    "np.mean(side_sleepers.column('Hours of Sleep'))\n"
   ]
  },
  {
   "cell_type": "markdown",
   "metadata": {},
   "source": [
    "### Average hours of sleep for back sleepers"
   ]
  },
  {
   "cell_type": "code",
   "execution_count": 33,
   "metadata": {
    "tags": []
   },
   "outputs": [
    {
     "data": {
      "text/plain": [
       "7.625"
      ]
     },
     "execution_count": 33,
     "metadata": {},
     "output_type": "execute_result"
    }
   ],
   "source": [
    "# look for back sleepers\n",
    "back_sleepers = survey_w24.where('Sleep position', are.containing('Back'))\n",
    "back_sleepers\n",
    "# then find average\n",
    "np.mean(back_sleepers.column('Hours of Sleep'))\n"
   ]
  },
  {
   "cell_type": "markdown",
   "metadata": {
    "tags": []
   },
   "source": [
    "### Share of students sleeping at least 8 hours"
   ]
  },
  {
   "cell_type": "code",
   "execution_count": 38,
   "metadata": {},
   "outputs": [
    {
     "data": {
      "text/plain": [
       "0.45098039215686275"
      ]
     },
     "execution_count": 38,
     "metadata": {},
     "output_type": "execute_result"
    }
   ],
   "source": [
    "sleeps_a_lot = survey_w24.where('Hours of Sleep', are.above_or_equal_to(8))\n",
    "# to calculate proportion, i want to find number of students who sleep a lot, divided by total number of students in my table\n",
    "number_students_sleep_a_lot = sleeps_a_lot.num_rows\n",
    "total_number_students = survey_w24.num_rows\n",
    "total_number_students\n",
    "proportion_students_sleep_a_lot = number_students_sleep_a_lot / total_number_students\n",
    "proportion_students_sleep_a_lot"
   ]
  },
  {
   "cell_type": "markdown",
   "metadata": {},
   "source": [
    "### Subset table with only sleep information"
   ]
  },
  {
   "cell_type": "code",
   "execution_count": 41,
   "metadata": {},
   "outputs": [
    {
     "data": {
      "text/html": [
       "<table border=\"1\" class=\"dataframe\">\n",
       "    <thead>\n",
       "        <tr>\n",
       "            <th>Hours of Sleep</th> <th>Sleep position</th>\n",
       "        </tr>\n",
       "    </thead>\n",
       "    <tbody>\n",
       "        <tr>\n",
       "            <td>6             </td> <td>Back          </td>\n",
       "        </tr>\n",
       "        <tr>\n",
       "            <td>8             </td> <td>Left side     </td>\n",
       "        </tr>\n",
       "        <tr>\n",
       "            <td>8             </td> <td>Back          </td>\n",
       "        </tr>\n",
       "        <tr>\n",
       "            <td>6             </td> <td>Left side     </td>\n",
       "        </tr>\n",
       "        <tr>\n",
       "            <td>8             </td> <td>Back          </td>\n",
       "        </tr>\n",
       "        <tr>\n",
       "            <td>8             </td> <td>Stomach       </td>\n",
       "        </tr>\n",
       "        <tr>\n",
       "            <td>7             </td> <td>Right side    </td>\n",
       "        </tr>\n",
       "        <tr>\n",
       "            <td>10            </td> <td>Right side    </td>\n",
       "        </tr>\n",
       "        <tr>\n",
       "            <td>8             </td> <td>Right side    </td>\n",
       "        </tr>\n",
       "        <tr>\n",
       "            <td>9             </td> <td>Back          </td>\n",
       "        </tr>\n",
       "    </tbody>\n",
       "</table>\n",
       "<p>... (41 rows omitted)</p>"
      ],
      "text/plain": [
       "Hours of Sleep | Sleep position\n",
       "6              | Back\n",
       "8              | Left side\n",
       "8              | Back\n",
       "6              | Left side\n",
       "8              | Back\n",
       "8              | Stomach\n",
       "7              | Right side\n",
       "10             | Right side\n",
       "8              | Right side\n",
       "9              | Back\n",
       "... (41 rows omitted)"
      ]
     },
     "execution_count": 41,
     "metadata": {},
     "output_type": "execute_result"
    }
   ],
   "source": [
    "Sleep_data = survey_w24.select('Hours of Sleep', 'Sleep position') # displays the columns you selected\n",
    "# if you want to create a new table with just these two columns, we need to assign its value to a new table name\n",
    "\n",
    "Sleep_data"
   ]
  },
  {
   "cell_type": "markdown",
   "metadata": {},
   "source": [
    "## Discussion Question: NBA Salaries\n",
    "\n",
    "The table nba has columns PLAYER, POSITION, and SALARY\n",
    "\n",
    "**Tasks:**\n",
    "- Rename \"'15-'16 SALARY\" to \"SALARY\" using `relabeled()`\n",
    "- Subset the table to only contain the player name, the position and the salary"
   ]
  },
  {
   "cell_type": "code",
   "execution_count": null,
   "metadata": {
    "tags": []
   },
   "outputs": [],
   "source": [
    "nba = Table.read_table('data/nba_salaries.csv')"
   ]
  },
  {
   "cell_type": "markdown",
   "metadata": {
    "tags": []
   },
   "source": [
    "**Tasks:**\n",
    "- Create an array containing the **names** of all point guards (PG) who make more than 15 MUSD/year. Salaries are given in MUSD"
   ]
  },
  {
   "cell_type": "code",
   "execution_count": null,
   "metadata": {
    "tags": []
   },
   "outputs": [],
   "source": []
  },
  {
   "cell_type": "markdown",
   "metadata": {
    "tags": []
   },
   "source": [
    "**Question**:\n",
    "\n",
    "What does the following return\n",
    "\n",
    "```python\n",
    "nba.drop('POSITION')\n",
    "nba.num_columns\n",
    "```"
   ]
  },
  {
   "cell_type": "code",
   "execution_count": null,
   "metadata": {},
   "outputs": [],
   "source": []
  },
  {
   "cell_type": "markdown",
   "metadata": {},
   "source": [
    "---\n",
    "Back to slides\n",
    "\n",
    "---"
   ]
  },
  {
   "cell_type": "markdown",
   "metadata": {},
   "source": [
    "## Census: Population Trends"
   ]
  },
  {
   "cell_type": "markdown",
   "metadata": {},
   "source": [
    "[A description of the table appears online.](https://www2.census.gov/programs-surveys/popest/technical-documentation/file-layouts/2010-2019/nc-est2019-agesex-res.pdf)\n",
    "\n",
    "The Census dataset contain estimates of the US population in each category of sex and age in the years 2020 through 2022. The Census is decennial: it takes place every 10 years. The most recent Census was held in 2020 and the one before that in 2010. The Census Bureau also estimates population changes each year. As explained in the Bureau’s description of its methodology, it “adds the estimated changes to the last decennial census to produce updated population estimates every year.”"
   ]
  },
  {
   "cell_type": "code",
   "execution_count": 42,
   "metadata": {
    "tags": []
   },
   "outputs": [
    {
     "data": {
      "text/html": [
       "<table border=\"1\" class=\"dataframe\">\n",
       "    <thead>\n",
       "        <tr>\n",
       "            <th>SEX</th> <th>AGE</th> <th>ESTIMATESBASE2020</th> <th>POPESTIMATE2020</th> <th>POPESTIMATE2021</th> <th>POPESTIMATE2022</th>\n",
       "        </tr>\n",
       "    </thead>\n",
       "    <tbody>\n",
       "        <tr>\n",
       "            <td>0   </td> <td>0   </td> <td>3690644          </td> <td>3669863        </td> <td>3570131        </td> <td>3683113        </td>\n",
       "        </tr>\n",
       "        <tr>\n",
       "            <td>1   </td> <td>0   </td> <td>1886273          </td> <td>1876349        </td> <td>1825237        </td> <td>1882867        </td>\n",
       "        </tr>\n",
       "        <tr>\n",
       "            <td>2   </td> <td>0   </td> <td>1804371          </td> <td>1793514        </td> <td>1744894        </td> <td>1800246        </td>\n",
       "        </tr>\n",
       "        <tr>\n",
       "            <td>0   </td> <td>1   </td> <td>3731823          </td> <td>3719267        </td> <td>3675382        </td> <td>3588817        </td>\n",
       "        </tr>\n",
       "        <tr>\n",
       "            <td>1   </td> <td>1   </td> <td>1906537          </td> <td>1899515        </td> <td>1879051        </td> <td>1834594        </td>\n",
       "        </tr>\n",
       "        <tr>\n",
       "            <td>2   </td> <td>1   </td> <td>1825286          </td> <td>1819752        </td> <td>1796331        </td> <td>1754223        </td>\n",
       "        </tr>\n",
       "        <tr>\n",
       "            <td>0   </td> <td>2   </td> <td>3826588          </td> <td>3807454        </td> <td>3725597        </td> <td>3693362        </td>\n",
       "        </tr>\n",
       "        <tr>\n",
       "            <td>1   </td> <td>2   </td> <td>1957418          </td> <td>1946596        </td> <td>1902665        </td> <td>1888149        </td>\n",
       "        </tr>\n",
       "        <tr>\n",
       "            <td>2   </td> <td>2   </td> <td>1869170          </td> <td>1860858        </td> <td>1822932        </td> <td>1805213        </td>\n",
       "        </tr>\n",
       "        <tr>\n",
       "            <td>0   </td> <td>3   </td> <td>3918009          </td> <td>3885476        </td> <td>3813656        </td> <td>3742836        </td>\n",
       "        </tr>\n",
       "    </tbody>\n",
       "</table>\n",
       "<p>... (296 rows omitted)</p>"
      ],
      "text/plain": [
       "SEX  | AGE  | ESTIMATESBASE2020 | POPESTIMATE2020 | POPESTIMATE2021 | POPESTIMATE2022\n",
       "0    | 0    | 3690644           | 3669863         | 3570131         | 3683113\n",
       "1    | 0    | 1886273           | 1876349         | 1825237         | 1882867\n",
       "2    | 0    | 1804371           | 1793514         | 1744894         | 1800246\n",
       "0    | 1    | 3731823           | 3719267         | 3675382         | 3588817\n",
       "1    | 1    | 1906537           | 1899515         | 1879051         | 1834594\n",
       "2    | 1    | 1825286           | 1819752         | 1796331         | 1754223\n",
       "0    | 2    | 3826588           | 3807454         | 3725597         | 3693362\n",
       "1    | 2    | 1957418           | 1946596         | 1902665         | 1888149\n",
       "2    | 2    | 1869170           | 1860858         | 1822932         | 1805213\n",
       "0    | 3    | 3918009           | 3885476         | 3813656         | 3742836\n",
       "... (296 rows omitted)"
      ]
     },
     "execution_count": 42,
     "metadata": {},
     "output_type": "execute_result"
    }
   ],
   "source": [
    "data_location = 'http://www2.census.gov/programs-surveys/popest/technical-documentation/file-layouts/2010-2019/nc-est2019-agesex-res.csv'\n",
    "data_location = 'https://www2.census.gov/programs-surveys/popest/datasets/2020-2022/national/asrh/nc-est2022-agesex-res.csv'\n",
    "data_location = 'data/nc-est2019-agesex-res.csv'\n",
    "data_location = 'data/nc-est2022-agesex-res.csv'\n",
    "\n",
    "census = Table.read_table(data_location)\n",
    "census.sort('AGE')"
   ]
  },
  {
   "cell_type": "markdown",
   "metadata": {},
   "source": [
    "### Subset the table\n",
    "for now, we are only interested in the population size by sex (`SEX`), age (`AGE`) in 2020 and 2022 (`POPESTIMATE2020`, and `POPESTIMATE2022|`).\n",
    "\n",
    "**Tasks**:\n",
    "- `POPESTIMATE2020` and `POPESTIMATE2022` are cumbersome. Lets rename them to `2020` and `2022`\n",
    "- Create a new table containing only the columns we are interested in"
   ]
  },
  {
   "cell_type": "code",
   "execution_count": 45,
   "metadata": {},
   "outputs": [
    {
     "data": {
      "text/html": [
       "<table border=\"1\" class=\"dataframe\">\n",
       "    <thead>\n",
       "        <tr>\n",
       "            <th>SEX</th> <th>AGE</th> <th>2020</th> <th>2022</th>\n",
       "        </tr>\n",
       "    </thead>\n",
       "    <tbody>\n",
       "        <tr>\n",
       "            <td>0   </td> <td>0   </td> <td>3669863</td> <td>3683113</td>\n",
       "        </tr>\n",
       "        <tr>\n",
       "            <td>0   </td> <td>1   </td> <td>3719267</td> <td>3588817</td>\n",
       "        </tr>\n",
       "        <tr>\n",
       "            <td>0   </td> <td>2   </td> <td>3807454</td> <td>3693362</td>\n",
       "        </tr>\n",
       "        <tr>\n",
       "            <td>0   </td> <td>3   </td> <td>3885476</td> <td>3742836</td>\n",
       "        </tr>\n",
       "        <tr>\n",
       "            <td>0   </td> <td>4   </td> <td>3987970</td> <td>3830225</td>\n",
       "        </tr>\n",
       "        <tr>\n",
       "            <td>0   </td> <td>5   </td> <td>4023811</td> <td>3907298</td>\n",
       "        </tr>\n",
       "        <tr>\n",
       "            <td>0   </td> <td>6   </td> <td>4012049</td> <td>4008898</td>\n",
       "        </tr>\n",
       "        <tr>\n",
       "            <td>0   </td> <td>7   </td> <td>3999001</td> <td>4043729</td>\n",
       "        </tr>\n",
       "        <tr>\n",
       "            <td>0   </td> <td>8   </td> <td>4006214</td> <td>4031341</td>\n",
       "        </tr>\n",
       "        <tr>\n",
       "            <td>0   </td> <td>9   </td> <td>4050595</td> <td>4017929</td>\n",
       "        </tr>\n",
       "    </tbody>\n",
       "</table>\n",
       "<p>... (296 rows omitted)</p>"
      ],
      "text/plain": [
       "SEX  | AGE  | 2020    | 2022\n",
       "0    | 0    | 3669863 | 3683113\n",
       "0    | 1    | 3719267 | 3588817\n",
       "0    | 2    | 3807454 | 3693362\n",
       "0    | 3    | 3885476 | 3742836\n",
       "0    | 4    | 3987970 | 3830225\n",
       "0    | 5    | 4023811 | 3907298\n",
       "0    | 6    | 4012049 | 4008898\n",
       "0    | 7    | 3999001 | 4043729\n",
       "0    | 8    | 4006214 | 4031341\n",
       "0    | 9    | 4050595 | 4017929\n",
       "... (296 rows omitted)"
      ]
     },
     "execution_count": 45,
     "metadata": {},
     "output_type": "execute_result"
    }
   ],
   "source": [
    "census_2020_2022 = census.select('SEX','AGE','POPESTIMATE2020', 'POPESTIMATE2022')\n",
    "census_2020_2022 = census_2020_2022.relabeled('POPESTIMATE2020', '2020').relabeled( 'POPESTIMATE2022', '2022')\n",
    "# the line up above, relabeling one column at a time\n",
    "# we relabel twice\n",
    "census_2020_2022"
   ]
  },
  {
   "cell_type": "markdown",
   "metadata": {},
   "source": [
    "**Tasks:**\n",
    "- How many people above the age of 100 were there in the US in 2020 and 2022?\n",
    "- How about an age of above 99\n",
    "\n",
    "**Question:**\n",
    "- Why don't we see the number of people at age of 101+?\n"
   ]
  },
  {
   "cell_type": "code",
   "execution_count": 47,
   "metadata": {},
   "outputs": [
    {
     "data": {
      "text/html": [
       "<table border=\"1\" class=\"dataframe\">\n",
       "    <thead>\n",
       "        <tr>\n",
       "            <th>SEX</th> <th>AGE</th> <th>2020</th> <th>2022</th>\n",
       "        </tr>\n",
       "    </thead>\n",
       "    <tbody>\n",
       "        <tr>\n",
       "            <td>0   </td> <td>999 </td> <td>331511512</td> <td>333287557</td>\n",
       "        </tr>\n",
       "        <tr>\n",
       "            <td>1   </td> <td>999 </td> <td>164525109</td> <td>165283553</td>\n",
       "        </tr>\n",
       "        <tr>\n",
       "            <td>2   </td> <td>999 </td> <td>166986403</td> <td>168004004</td>\n",
       "        </tr>\n",
       "        <tr>\n",
       "            <td>0   </td> <td>100 </td> <td>81905    </td> <td>88988    </td>\n",
       "        </tr>\n",
       "        <tr>\n",
       "            <td>1   </td> <td>100 </td> <td>14861    </td> <td>17085    </td>\n",
       "        </tr>\n",
       "        <tr>\n",
       "            <td>2   </td> <td>100 </td> <td>67044    </td> <td>71903    </td>\n",
       "        </tr>\n",
       "        <tr>\n",
       "            <td>0   </td> <td>99  </td> <td>51403    </td> <td>53870    </td>\n",
       "        </tr>\n",
       "        <tr>\n",
       "            <td>1   </td> <td>99  </td> <td>11230    </td> <td>12345    </td>\n",
       "        </tr>\n",
       "        <tr>\n",
       "            <td>2   </td> <td>99  </td> <td>40173    </td> <td>41525    </td>\n",
       "        </tr>\n",
       "        <tr>\n",
       "            <td>0   </td> <td>98  </td> <td>73442    </td> <td>78028    </td>\n",
       "        </tr>\n",
       "    </tbody>\n",
       "</table>\n",
       "<p>... (296 rows omitted)</p>"
      ],
      "text/plain": [
       "SEX  | AGE  | 2020      | 2022\n",
       "0    | 999  | 331511512 | 333287557\n",
       "1    | 999  | 164525109 | 165283553\n",
       "2    | 999  | 166986403 | 168004004\n",
       "0    | 100  | 81905     | 88988\n",
       "1    | 100  | 14861     | 17085\n",
       "2    | 100  | 67044     | 71903\n",
       "0    | 99   | 51403     | 53870\n",
       "1    | 99   | 11230     | 12345\n",
       "2    | 99   | 40173     | 41525\n",
       "0    | 98   | 73442     | 78028\n",
       "... (296 rows omitted)"
      ]
     },
     "execution_count": 47,
     "metadata": {},
     "output_type": "execute_result"
    }
   ],
   "source": [
    "census_2020_2022.sort('AGE', descending = True)"
   ]
  },
  {
   "cell_type": "markdown",
   "metadata": {},
   "source": [
    "---\n",
    "Back to slides\n",
    "\n",
    "---"
   ]
  },
  {
   "cell_type": "markdown",
   "metadata": {
    "tags": []
   },
   "source": [
    "### Sex ratio\n",
    "The Census form asks respondents to provide the sex of each household member by checking one of two boxes labeled Male and Female. The SEX column contains numeric codes: 1 for male, 2 for female, and 0 for the total.\n",
    "\n",
    "**Task**:Find ratio of females to males in the US population in 2022\n",
    "- Remember that `999` contains all ages"
   ]
  },
  {
   "cell_type": "code",
   "execution_count": null,
   "metadata": {},
   "outputs": [],
   "source": [
    "# try on your own\n",
    "# ration 50/50 = 1 /1\n",
    "# 50:50 or 1:1\n",
    "\n",
    "# proportion 50/100"
   ]
  },
  {
   "cell_type": "markdown",
   "metadata": {
    "tags": []
   },
   "source": [
    "**Task**\n",
    "- Now lets check the ratio for different age groups"
   ]
  },
  {
   "cell_type": "code",
   "execution_count": null,
   "metadata": {},
   "outputs": [],
   "source": []
  },
  {
   "cell_type": "markdown",
   "metadata": {},
   "source": [
    "**Task:**\n",
    "- Create a new table with columns for age and ratios\n",
    "    - Create a table with only females\n",
    "    - Create a table with only males\n",
    "    - Get the age column from either\n",
    "- plot"
   ]
  },
  {
   "cell_type": "code",
   "execution_count": null,
   "metadata": {
    "tags": []
   },
   "outputs": [],
   "source": []
  },
  {
   "cell_type": "markdown",
   "metadata": {
    "tags": []
   },
   "source": [
    "### Age change\n",
    "**Tasks**\n",
    "- let's load the 2019 census data\n",
    "- Lets compare the change of population per age group.\n",
    "- Calculate the absolute change\n",
    "- Calcluate the relative change"
   ]
  },
  {
   "cell_type": "code",
   "execution_count": null,
   "metadata": {
    "tags": []
   },
   "outputs": [],
   "source": [
    "data_location = 'data/nc-est2019-agesex-res.csv'\n",
    "\n",
    "census = Table.read_table(data_location)\n",
    "census.sort('AGE')"
   ]
  },
  {
   "cell_type": "markdown",
   "metadata": {
    "tags": []
   },
   "source": [
    "**Tasks**\n",
    "- Create a new table with the ages and the age changes\n",
    "- Don't include the *all age row**\n",
    "- Plot the population change vs the age"
   ]
  },
  {
   "cell_type": "code",
   "execution_count": null,
   "metadata": {},
   "outputs": [],
   "source": []
  },
  {
   "cell_type": "markdown",
   "metadata": {},
   "source": [
    "Take a look at the top few rows. While the percent change is about 3% for the overall population, it jumps to well over 20% for the people in their late sixties and early seventies. This stunning change contributes to what is known as the greying of America.\n",
    "\n",
    "What could explain this large increase? \n",
    "\n",
    "<details><summary>Answer</summary>\n",
    "We can explore this question by examining the years in which the relevant groups were born.\n",
    "\n",
    "Those who were in the age group 69 to 72 in 2014 were born in the years 1942 to 1945. The attack on Pearl Harbor was in late 1941, and by 1942 U.S. forces were heavily engaged in a massive war that ended in 1945.\n",
    "\n",
    "Those who were 69 to 72 years old in 2019 were born in the years 1947 to 1950, at the height of the post-WWII baby boom in the United States.\n",
    "\n",
    "The post-war jump in births is a major reason for the large changes that we have observed.\n",
    "</details>"
   ]
  },
  {
   "cell_type": "markdown",
   "metadata": {},
   "source": []
  }
 ],
 "metadata": {
  "anaconda-cloud": {},
  "kernelspec": {
   "display_name": "Python 3 (ipykernel)",
   "language": "python",
   "name": "python3"
  },
  "language_info": {
   "codemirror_mode": {
    "name": "ipython",
    "version": 3
   },
   "file_extension": ".py",
   "mimetype": "text/x-python",
   "name": "python",
   "nbconvert_exporter": "python",
   "pygments_lexer": "ipython3",
   "version": "3.11.5"
  },
  "toc": {
   "base_numbering": 1,
   "nav_menu": {},
   "number_sections": false,
   "sideBar": true,
   "skip_h1_title": false,
   "title_cell": "Table of Contents",
   "title_sidebar": "Contents",
   "toc_cell": false,
   "toc_position": {},
   "toc_section_display": true,
   "toc_window_display": false
  }
 },
 "nbformat": 4,
 "nbformat_minor": 4
}
