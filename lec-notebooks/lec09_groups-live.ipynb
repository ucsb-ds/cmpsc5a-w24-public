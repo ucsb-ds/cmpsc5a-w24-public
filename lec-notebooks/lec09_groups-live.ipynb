{
 "cells": [
  {
   "cell_type": "code",
   "execution_count": 1,
   "metadata": {
    "tags": []
   },
   "outputs": [],
   "source": [
    "from datascience import *\n",
    "import numpy as np\n",
    "\n",
    "%matplotlib inline\n",
    "import matplotlib.pyplot as plots\n",
    "plots.style.use('fivethirtyeight')"
   ]
  },
  {
   "cell_type": "markdown",
   "metadata": {},
   "source": [
    "# Lecture 09 \n",
    "\n",
    "In today's lecture, we will:\n",
    "1. review functions and applying functions to tables by building a simple but sophisticated prediction function. \n",
    "2. we will introduce the group operation.\n"
   ]
  },
  {
   "cell_type": "markdown",
   "metadata": {},
   "source": [
    "## Prediction\n",
    "\n",
    "Can we predict how tall a child will grow based on the height of their parents?\n",
    "\n",
    "To do this we will use the famous [Galton's height dataset](https://galton.org/essays/1880-1889/galton-1886-jaigi-regression-stature.pdf) that was collected to demonstrate the connection between parent's heights and the height of their children. "
   ]
  },
  {
   "cell_type": "code",
   "execution_count": 2,
   "metadata": {
    "tags": []
   },
   "outputs": [
    {
     "data": {
      "text/html": [
       "<table border=\"1\" class=\"dataframe\">\n",
       "    <thead>\n",
       "        <tr>\n",
       "            <th>family</th> <th>count</th>\n",
       "        </tr>\n",
       "    </thead>\n",
       "    <tbody>\n",
       "        <tr>\n",
       "            <td>99    </td> <td>8    </td>\n",
       "        </tr>\n",
       "        <tr>\n",
       "            <td>98    </td> <td>1    </td>\n",
       "        </tr>\n",
       "        <tr>\n",
       "            <td>97    </td> <td>10   </td>\n",
       "        </tr>\n",
       "        <tr>\n",
       "            <td>96    </td> <td>5    </td>\n",
       "        </tr>\n",
       "        <tr>\n",
       "            <td>95    </td> <td>3    </td>\n",
       "        </tr>\n",
       "        <tr>\n",
       "            <td>94    </td> <td>2    </td>\n",
       "        </tr>\n",
       "        <tr>\n",
       "            <td>93    </td> <td>4    </td>\n",
       "        </tr>\n",
       "        <tr>\n",
       "            <td>92    </td> <td>2    </td>\n",
       "        </tr>\n",
       "        <tr>\n",
       "            <td>91    </td> <td>3    </td>\n",
       "        </tr>\n",
       "        <tr>\n",
       "            <td>90    </td> <td>7    </td>\n",
       "        </tr>\n",
       "        <tr>\n",
       "            <td>9     </td> <td>1    </td>\n",
       "        </tr>\n",
       "        <tr>\n",
       "            <td>89    </td> <td>8    </td>\n",
       "        </tr>\n",
       "        <tr>\n",
       "            <td>88    </td> <td>4    </td>\n",
       "        </tr>\n",
       "        <tr>\n",
       "            <td>87    </td> <td>4    </td>\n",
       "        </tr>\n",
       "        <tr>\n",
       "            <td>86    </td> <td>4    </td>\n",
       "        </tr>\n",
       "        <tr>\n",
       "            <td>85    </td> <td>5    </td>\n",
       "        </tr>\n",
       "        <tr>\n",
       "            <td>84    </td> <td>4    </td>\n",
       "        </tr>\n",
       "        <tr>\n",
       "            <td>83    </td> <td>8    </td>\n",
       "        </tr>\n",
       "        <tr>\n",
       "            <td>82    </td> <td>9    </td>\n",
       "        </tr>\n",
       "        <tr>\n",
       "            <td>81    </td> <td>4    </td>\n",
       "        </tr>\n",
       "        <tr>\n",
       "            <td>80    </td> <td>1    </td>\n",
       "        </tr>\n",
       "        <tr>\n",
       "            <td>8     </td> <td>3    </td>\n",
       "        </tr>\n",
       "        <tr>\n",
       "            <td>79    </td> <td>8    </td>\n",
       "        </tr>\n",
       "        <tr>\n",
       "            <td>78    </td> <td>5    </td>\n",
       "        </tr>\n",
       "        <tr>\n",
       "            <td>77    </td> <td>4    </td>\n",
       "        </tr>\n",
       "        <tr>\n",
       "            <td>76    </td> <td>7    </td>\n",
       "        </tr>\n",
       "        <tr>\n",
       "            <td>75    </td> <td>7    </td>\n",
       "        </tr>\n",
       "        <tr>\n",
       "            <td>74    </td> <td>2    </td>\n",
       "        </tr>\n",
       "        <tr>\n",
       "            <td>73    </td> <td>3    </td>\n",
       "        </tr>\n",
       "        <tr>\n",
       "            <td>72    </td> <td>7    </td>\n",
       "        </tr>\n",
       "        <tr>\n",
       "            <td>71    </td> <td>6    </td>\n",
       "        </tr>\n",
       "        <tr>\n",
       "            <td>70    </td> <td>5    </td>\n",
       "        </tr>\n",
       "        <tr>\n",
       "            <td>7     </td> <td>6    </td>\n",
       "        </tr>\n",
       "        <tr>\n",
       "            <td>69    </td> <td>8    </td>\n",
       "        </tr>\n",
       "        <tr>\n",
       "            <td>68    </td> <td>5    </td>\n",
       "        </tr>\n",
       "        <tr>\n",
       "            <td>67    </td> <td>4    </td>\n",
       "        </tr>\n",
       "        <tr>\n",
       "            <td>66    </td> <td>11   </td>\n",
       "        </tr>\n",
       "        <tr>\n",
       "            <td>65    </td> <td>1    </td>\n",
       "        </tr>\n",
       "        <tr>\n",
       "            <td>64    </td> <td>5    </td>\n",
       "        </tr>\n",
       "        <tr>\n",
       "            <td>63    </td> <td>1    </td>\n",
       "        </tr>\n",
       "        <tr>\n",
       "            <td>62    </td> <td>6    </td>\n",
       "        </tr>\n",
       "        <tr>\n",
       "            <td>61    </td> <td>4    </td>\n",
       "        </tr>\n",
       "        <tr>\n",
       "            <td>60    </td> <td>2    </td>\n",
       "        </tr>\n",
       "        <tr>\n",
       "            <td>6     </td> <td>1    </td>\n",
       "        </tr>\n",
       "        <tr>\n",
       "            <td>59    </td> <td>1    </td>\n",
       "        </tr>\n",
       "        <tr>\n",
       "            <td>58    </td> <td>7    </td>\n",
       "        </tr>\n",
       "        <tr>\n",
       "            <td>57    </td> <td>5    </td>\n",
       "        </tr>\n",
       "        <tr>\n",
       "            <td>56    </td> <td>5    </td>\n",
       "        </tr>\n",
       "        <tr>\n",
       "            <td>55    </td> <td>5    </td>\n",
       "        </tr>\n",
       "        <tr>\n",
       "            <td>54    </td> <td>4    </td>\n",
       "        </tr>\n",
       "        <tr>\n",
       "            <td>53    </td> <td>9    </td>\n",
       "        </tr>\n",
       "        <tr>\n",
       "            <td>52    </td> <td>5    </td>\n",
       "        </tr>\n",
       "        <tr>\n",
       "            <td>51    </td> <td>2    </td>\n",
       "        </tr>\n",
       "        <tr>\n",
       "            <td>50    </td> <td>2    </td>\n",
       "        </tr>\n",
       "        <tr>\n",
       "            <td>5     </td> <td>6    </td>\n",
       "        </tr>\n",
       "        <tr>\n",
       "            <td>49    </td> <td>7    </td>\n",
       "        </tr>\n",
       "        <tr>\n",
       "            <td>48    </td> <td>3    </td>\n",
       "        </tr>\n",
       "        <tr>\n",
       "            <td>47    </td> <td>4    </td>\n",
       "        </tr>\n",
       "        <tr>\n",
       "            <td>46    </td> <td>8    </td>\n",
       "        </tr>\n",
       "        <tr>\n",
       "            <td>45    </td> <td>3    </td>\n",
       "        </tr>\n",
       "        <tr>\n",
       "            <td>44    </td> <td>2    </td>\n",
       "        </tr>\n",
       "        <tr>\n",
       "            <td>43    </td> <td>2    </td>\n",
       "        </tr>\n",
       "        <tr>\n",
       "            <td>42    </td> <td>6    </td>\n",
       "        </tr>\n",
       "        <tr>\n",
       "            <td>41    </td> <td>1    </td>\n",
       "        </tr>\n",
       "        <tr>\n",
       "            <td>40    </td> <td>5    </td>\n",
       "        </tr>\n",
       "        <tr>\n",
       "            <td>4     </td> <td>5    </td>\n",
       "        </tr>\n",
       "        <tr>\n",
       "            <td>39    </td> <td>2    </td>\n",
       "        </tr>\n",
       "        <tr>\n",
       "            <td>38    </td> <td>6    </td>\n",
       "        </tr>\n",
       "        <tr>\n",
       "            <td>37    </td> <td>4    </td>\n",
       "        </tr>\n",
       "        <tr>\n",
       "            <td>36    </td> <td>4    </td>\n",
       "        </tr>\n",
       "        <tr>\n",
       "            <td>35    </td> <td>5    </td>\n",
       "        </tr>\n",
       "        <tr>\n",
       "            <td>34    </td> <td>1    </td>\n",
       "        </tr>\n",
       "        <tr>\n",
       "            <td>33    </td> <td>5    </td>\n",
       "        </tr>\n",
       "        <tr>\n",
       "            <td>32    </td> <td>5    </td>\n",
       "        </tr>\n",
       "        <tr>\n",
       "            <td>31    </td> <td>6    </td>\n",
       "        </tr>\n",
       "        <tr>\n",
       "            <td>30    </td> <td>1    </td>\n",
       "        </tr>\n",
       "        <tr>\n",
       "            <td>3     </td> <td>2    </td>\n",
       "        </tr>\n",
       "        <tr>\n",
       "            <td>29    </td> <td>3    </td>\n",
       "        </tr>\n",
       "        <tr>\n",
       "            <td>28    </td> <td>6    </td>\n",
       "        </tr>\n",
       "        <tr>\n",
       "            <td>27    </td> <td>3    </td>\n",
       "        </tr>\n",
       "        <tr>\n",
       "            <td>26    </td> <td>5    </td>\n",
       "        </tr>\n",
       "        <tr>\n",
       "            <td>25    </td> <td>2    </td>\n",
       "        </tr>\n",
       "        <tr>\n",
       "            <td>24    </td> <td>1    </td>\n",
       "        </tr>\n",
       "        <tr>\n",
       "            <td>23    </td> <td>7    </td>\n",
       "        </tr>\n",
       "        <tr>\n",
       "            <td>22    </td> <td>3    </td>\n",
       "        </tr>\n",
       "        <tr>\n",
       "            <td>21    </td> <td>3    </td>\n",
       "        </tr>\n",
       "        <tr>\n",
       "            <td>204   </td> <td>2    </td>\n",
       "        </tr>\n",
       "        <tr>\n",
       "            <td>203   </td> <td>3    </td>\n",
       "        </tr>\n",
       "        <tr>\n",
       "            <td>202   </td> <td>2    </td>\n",
       "        </tr>\n",
       "        <tr>\n",
       "            <td>201   </td> <td>2    </td>\n",
       "        </tr>\n",
       "        <tr>\n",
       "            <td>200   </td> <td>1    </td>\n",
       "        </tr>\n",
       "        <tr>\n",
       "            <td>20    </td> <td>8    </td>\n",
       "        </tr>\n",
       "        <tr>\n",
       "            <td>2     </td> <td>4    </td>\n",
       "        </tr>\n",
       "        <tr>\n",
       "            <td>199   </td> <td>7    </td>\n",
       "        </tr>\n",
       "        <tr>\n",
       "            <td>198   </td> <td>7    </td>\n",
       "        </tr>\n",
       "        <tr>\n",
       "            <td>197   </td> <td>5    </td>\n",
       "        </tr>\n",
       "        <tr>\n",
       "            <td>196   </td> <td>4    </td>\n",
       "        </tr>\n",
       "        <tr>\n",
       "            <td>195   </td> <td>3    </td>\n",
       "        </tr>\n",
       "        <tr>\n",
       "            <td>194   </td> <td>2    </td>\n",
       "        </tr>\n",
       "        <tr>\n",
       "            <td>193   </td> <td>6    </td>\n",
       "        </tr>\n",
       "        <tr>\n",
       "            <td>192   </td> <td>6    </td>\n",
       "        </tr>\n",
       "        <tr>\n",
       "            <td>191   </td> <td>2    </td>\n",
       "        </tr>\n",
       "        <tr>\n",
       "            <td>190   </td> <td>9    </td>\n",
       "        </tr>\n",
       "        <tr>\n",
       "            <td>19    </td> <td>1    </td>\n",
       "        </tr>\n",
       "        <tr>\n",
       "            <td>189   </td> <td>5    </td>\n",
       "        </tr>\n",
       "        <tr>\n",
       "            <td>188   </td> <td>4    </td>\n",
       "        </tr>\n",
       "        <tr>\n",
       "            <td>187   </td> <td>1    </td>\n",
       "        </tr>\n",
       "        <tr>\n",
       "            <td>186   </td> <td>4    </td>\n",
       "        </tr>\n",
       "        <tr>\n",
       "            <td>185   </td> <td>15   </td>\n",
       "        </tr>\n",
       "        <tr>\n",
       "            <td>184   </td> <td>1    </td>\n",
       "        </tr>\n",
       "        <tr>\n",
       "            <td>183   </td> <td>4    </td>\n",
       "        </tr>\n",
       "        <tr>\n",
       "            <td>182   </td> <td>1    </td>\n",
       "        </tr>\n",
       "        <tr>\n",
       "            <td>181   </td> <td>7    </td>\n",
       "        </tr>\n",
       "        <tr>\n",
       "            <td>180   </td> <td>6    </td>\n",
       "        </tr>\n",
       "        <tr>\n",
       "            <td>18    </td> <td>3    </td>\n",
       "        </tr>\n",
       "        <tr>\n",
       "            <td>179   </td> <td>2    </td>\n",
       "        </tr>\n",
       "        <tr>\n",
       "            <td>178   </td> <td>1    </td>\n",
       "        </tr>\n",
       "        <tr>\n",
       "            <td>177   </td> <td>5    </td>\n",
       "        </tr>\n",
       "        <tr>\n",
       "            <td>176   </td> <td>8    </td>\n",
       "        </tr>\n",
       "        <tr>\n",
       "            <td>175   </td> <td>6    </td>\n",
       "        </tr>\n",
       "        <tr>\n",
       "            <td>174   </td> <td>5    </td>\n",
       "        </tr>\n",
       "        <tr>\n",
       "            <td>173   </td> <td>9    </td>\n",
       "        </tr>\n",
       "        <tr>\n",
       "            <td>172   </td> <td>8    </td>\n",
       "        </tr>\n",
       "        <tr>\n",
       "            <td>171   </td> <td>1    </td>\n",
       "        </tr>\n",
       "        <tr>\n",
       "            <td>170   </td> <td>5    </td>\n",
       "        </tr>\n",
       "        <tr>\n",
       "            <td>17    </td> <td>6    </td>\n",
       "        </tr>\n",
       "        <tr>\n",
       "            <td>169   </td> <td>3    </td>\n",
       "        </tr>\n",
       "        <tr>\n",
       "            <td>168   </td> <td>8    </td>\n",
       "        </tr>\n",
       "        <tr>\n",
       "            <td>167   </td> <td>4    </td>\n",
       "        </tr>\n",
       "        <tr>\n",
       "            <td>166   </td> <td>11   </td>\n",
       "        </tr>\n",
       "        <tr>\n",
       "            <td>165   </td> <td>3    </td>\n",
       "        </tr>\n",
       "        <tr>\n",
       "            <td>164   </td> <td>4    </td>\n",
       "        </tr>\n",
       "        <tr>\n",
       "            <td>163   </td> <td>5    </td>\n",
       "        </tr>\n",
       "        <tr>\n",
       "            <td>162   </td> <td>6    </td>\n",
       "        </tr>\n",
       "        <tr>\n",
       "            <td>161   </td> <td>8    </td>\n",
       "        </tr>\n",
       "        <tr>\n",
       "            <td>160   </td> <td>1    </td>\n",
       "        </tr>\n",
       "        <tr>\n",
       "            <td>16    </td> <td>9    </td>\n",
       "        </tr>\n",
       "        <tr>\n",
       "            <td>159   </td> <td>5    </td>\n",
       "        </tr>\n",
       "        <tr>\n",
       "            <td>158   </td> <td>10   </td>\n",
       "        </tr>\n",
       "        <tr>\n",
       "            <td>157   </td> <td>1    </td>\n",
       "        </tr>\n",
       "        <tr>\n",
       "            <td>156   </td> <td>4    </td>\n",
       "        </tr>\n",
       "        <tr>\n",
       "            <td>155   </td> <td>7    </td>\n",
       "        </tr>\n",
       "        <tr>\n",
       "            <td>154   </td> <td>1    </td>\n",
       "        </tr>\n",
       "        <tr>\n",
       "            <td>153   </td> <td>5    </td>\n",
       "        </tr>\n",
       "        <tr>\n",
       "            <td>152   </td> <td>1    </td>\n",
       "        </tr>\n",
       "        <tr>\n",
       "            <td>151   </td> <td>2    </td>\n",
       "        </tr>\n",
       "        <tr>\n",
       "            <td>150   </td> <td>1    </td>\n",
       "        </tr>\n",
       "        <tr>\n",
       "            <td>15    </td> <td>3    </td>\n",
       "        </tr>\n",
       "        <tr>\n",
       "            <td>149   </td> <td>5    </td>\n",
       "        </tr>\n",
       "        <tr>\n",
       "            <td>148   </td> <td>1    </td>\n",
       "        </tr>\n",
       "        <tr>\n",
       "            <td>147   </td> <td>1    </td>\n",
       "        </tr>\n",
       "        <tr>\n",
       "            <td>146   </td> <td>6    </td>\n",
       "        </tr>\n",
       "        <tr>\n",
       "            <td>145   </td> <td>8    </td>\n",
       "        </tr>\n",
       "        <tr>\n",
       "            <td>144   </td> <td>4    </td>\n",
       "        </tr>\n",
       "        <tr>\n",
       "            <td>143   </td> <td>1    </td>\n",
       "        </tr>\n",
       "        <tr>\n",
       "            <td>142   </td> <td>4    </td>\n",
       "        </tr>\n",
       "        <tr>\n",
       "            <td>141   </td> <td>8    </td>\n",
       "        </tr>\n",
       "        <tr>\n",
       "            <td>140   </td> <td>10   </td>\n",
       "        </tr>\n",
       "        <tr>\n",
       "            <td>14    </td> <td>2    </td>\n",
       "        </tr>\n",
       "        <tr>\n",
       "            <td>139   </td> <td>1    </td>\n",
       "        </tr>\n",
       "        <tr>\n",
       "            <td>138   </td> <td>5    </td>\n",
       "        </tr>\n",
       "        <tr>\n",
       "            <td>137   </td> <td>4    </td>\n",
       "        </tr>\n",
       "        <tr>\n",
       "            <td>136A  </td> <td>8    </td>\n",
       "        </tr>\n",
       "        <tr>\n",
       "            <td>136   </td> <td>10   </td>\n",
       "        </tr>\n",
       "        <tr>\n",
       "            <td>135   </td> <td>8    </td>\n",
       "        </tr>\n",
       "        <tr>\n",
       "            <td>134   </td> <td>4    </td>\n",
       "        </tr>\n",
       "        <tr>\n",
       "            <td>133   </td> <td>7    </td>\n",
       "        </tr>\n",
       "        <tr>\n",
       "            <td>132   </td> <td>2    </td>\n",
       "        </tr>\n",
       "        <tr>\n",
       "            <td>131   </td> <td>2    </td>\n",
       "        </tr>\n",
       "        <tr>\n",
       "            <td>130   </td> <td>11   </td>\n",
       "        </tr>\n",
       "        <tr>\n",
       "            <td>13    </td> <td>2    </td>\n",
       "        </tr>\n",
       "        <tr>\n",
       "            <td>129   </td> <td>3    </td>\n",
       "        </tr>\n",
       "        <tr>\n",
       "            <td>128   </td> <td>2    </td>\n",
       "        </tr>\n",
       "        <tr>\n",
       "            <td>127   </td> <td>1    </td>\n",
       "        </tr>\n",
       "        <tr>\n",
       "            <td>126   </td> <td>4    </td>\n",
       "        </tr>\n",
       "        <tr>\n",
       "            <td>125   </td> <td>3    </td>\n",
       "        </tr>\n",
       "        <tr>\n",
       "            <td>124   </td> <td>9    </td>\n",
       "        </tr>\n",
       "        <tr>\n",
       "            <td>123   </td> <td>5    </td>\n",
       "        </tr>\n",
       "        <tr>\n",
       "            <td>122   </td> <td>4    </td>\n",
       "        </tr>\n",
       "        <tr>\n",
       "            <td>121   </td> <td>8    </td>\n",
       "        </tr>\n",
       "        <tr>\n",
       "            <td>120   </td> <td>11   </td>\n",
       "        </tr>\n",
       "        <tr>\n",
       "            <td>12    </td> <td>1    </td>\n",
       "        </tr>\n",
       "        <tr>\n",
       "            <td>119   </td> <td>5    </td>\n",
       "        </tr>\n",
       "        <tr>\n",
       "            <td>118   </td> <td>3    </td>\n",
       "        </tr>\n",
       "        <tr>\n",
       "            <td>117   </td> <td>1    </td>\n",
       "        </tr>\n",
       "        <tr>\n",
       "            <td>116   </td> <td>3    </td>\n",
       "        </tr>\n",
       "        <tr>\n",
       "            <td>115   </td> <td>7    </td>\n",
       "        </tr>\n",
       "        <tr>\n",
       "            <td>114   </td> <td>6    </td>\n",
       "        </tr>\n",
       "        <tr>\n",
       "            <td>113   </td> <td>1    </td>\n",
       "        </tr>\n",
       "        <tr>\n",
       "            <td>112   </td> <td>3    </td>\n",
       "        </tr>\n",
       "        <tr>\n",
       "            <td>111   </td> <td>1    </td>\n",
       "        </tr>\n",
       "        <tr>\n",
       "            <td>110   </td> <td>4    </td>\n",
       "        </tr>\n",
       "        <tr>\n",
       "            <td>11    </td> <td>8    </td>\n",
       "        </tr>\n",
       "        <tr>\n",
       "            <td>109   </td> <td>7    </td>\n",
       "        </tr>\n",
       "        <tr>\n",
       "            <td>108   </td> <td>7    </td>\n",
       "        </tr>\n",
       "        <tr>\n",
       "            <td>107   </td> <td>9    </td>\n",
       "        </tr>\n",
       "        <tr>\n",
       "            <td>106   </td> <td>7    </td>\n",
       "        </tr>\n",
       "        <tr>\n",
       "            <td>105   </td> <td>6    </td>\n",
       "        </tr>\n",
       "        <tr>\n",
       "            <td>104   </td> <td>4    </td>\n",
       "        </tr>\n",
       "        <tr>\n",
       "            <td>103   </td> <td>7    </td>\n",
       "        </tr>\n",
       "        <tr>\n",
       "            <td>102   </td> <td>6    </td>\n",
       "        </tr>\n",
       "        <tr>\n",
       "            <td>101   </td> <td>4    </td>\n",
       "        </tr>\n",
       "        <tr>\n",
       "            <td>100   </td> <td>3    </td>\n",
       "        </tr>\n",
       "        <tr>\n",
       "            <td>10    </td> <td>1    </td>\n",
       "        </tr>\n",
       "        <tr>\n",
       "            <td>1     </td> <td>4    </td>\n",
       "        </tr>\n",
       "    </tbody>\n",
       "</table>"
      ],
      "text/plain": [
       "<IPython.core.display.HTML object>"
      ]
     },
     "metadata": {},
     "output_type": "display_data"
    },
    {
     "data": {
      "text/plain": [
       "array(['1', '1', '1', '1', '2', '2', '2', '2', '3', '3', '4', '4', '4',\n",
       "       '4', '4', '5', '5', '5', '5', '5', '5', '6', '7', '7', '7', '7',\n",
       "       '7', '7', '8', '8', '8', '9', '10', '11', '11', '11', '11', '11',\n",
       "       '11', '11', '11', '12', '13', '13', '14', '14', '15', '15', '15',\n",
       "       '16', '16', '16', '16', '16', '16', '16', '16', '16', '17', '17',\n",
       "       '17', '17', '17', '17', '18', '18', '18', '19', '20', '20', '20',\n",
       "       '20', '20', '20', '20', '20', '21', '21', '21', '22', '22', '22',\n",
       "       '23', '23', '23', '23', '23', '23', '23', '24', '25', '25', '26',\n",
       "       '26', '26', '26', '26', '27', '27', '27', '28', '28', '28', '28',\n",
       "       '28', '28', '29', '29', '29', '30', '31', '31', '31', '31', '31',\n",
       "       '31', '32', '32', '32', '32', '32', '33', '33', '33', '33', '33',\n",
       "       '34', '35', '35', '35', '35', '35', '36', '36', '36', '36', '37',\n",
       "       '37', '37', '37', '38', '38', '38', '38', '38', '38', '39', '39',\n",
       "       '40', '40', '40', '40', '40', '41', '42', '42', '42', '42', '42',\n",
       "       '42', '43', '43', '44', '44', '45', '45', '45', '46', '46', '46',\n",
       "       '46', '46', '46', '46', '46', '47', '47', '47', '47', '48', '48',\n",
       "       '48', '49', '49', '49', '49', '49', '49', '49', '50', '50', '51',\n",
       "       '51', '52', '52', '52', '52', '52', '53', '53', '53', '53', '53',\n",
       "       '53', '53', '53', '53', '54', '54', '54', '54', '55', '55', '55',\n",
       "       '55', '55', '56', '56', '56', '56', '56', '57', '57', '57', '57',\n",
       "       '57', '58', '58', '58', '58', '58', '58', '58', '59', '60', '60',\n",
       "       '61', '61', '61', '61', '62', '62', '62', '62', '62', '62', '63',\n",
       "       '64', '64', '64', '64', '64', '65', '66', '66', '66', '66', '66',\n",
       "       '66', '66', '66', '66', '66', '66', '67', '67', '67', '67', '68',\n",
       "       '68', '68', '68', '68', '69', '69', '69', '69', '69', '69', '69',\n",
       "       '69', '70', '70', '70', '70', '70', '71', '71', '71', '71', '71',\n",
       "       '71', '72', '72', '72', '72', '72', '72', '72', '73', '73', '73',\n",
       "       '74', '74', '75', '75', '75', '75', '75', '75', '75', '76', '76',\n",
       "       '76', '76', '76', '76', '76', '77', '77', '77', '77', '78', '78',\n",
       "       '78', '78', '78', '79', '79', '79', '79', '79', '79', '79', '79',\n",
       "       '80', '81', '81', '81', '81', '82', '82', '82', '82', '82', '82',\n",
       "       '82', '82', '82', '83', '83', '83', '83', '83', '83', '83', '83',\n",
       "       '84', '84', '84', '84', '85', '85', '85', '85', '85', '86', '86',\n",
       "       '86', '86', '87', '87', '87', '87', '88', '88', '88', '88', '89',\n",
       "       '89', '89', '89', '89', '89', '89', '89', '90', '90', '90', '90',\n",
       "       '90', '90', '90', '91', '91', '91', '92', '92', '93', '93', '93',\n",
       "       '93', '94', '94', '95', '95', '95', '96', '96', '96', '96', '96',\n",
       "       '97', '97', '97', '97', '97', '97', '97', '97', '97', '97', '98',\n",
       "       '99', '99', '99', '99', '99', '99', '99', '99', '100', '100', '100',\n",
       "       '101', '101', '101', '101', '102', '102', '102', '102', '102',\n",
       "       '102', '103', '103', '103', '103', '103', '103', '103', '104',\n",
       "       '104', '104', '104', '105', '105', '105', '105', '105', '105',\n",
       "       '106', '106', '106', '106', '106', '106', '106', '107', '107',\n",
       "       '107', '107', '107', '107', '107', '107', '107', '108', '108',\n",
       "       '108', '108', '108', '108', '108', '109', '109', '109', '109',\n",
       "       '109', '109', '109', '110', '110', '110', '110', '111', '112',\n",
       "       '112', '112', '113', '114', '114', '114', '114', '114', '114',\n",
       "       '115', '115', '115', '115', '115', '115', '115', '116', '116',\n",
       "       '116', '117', '118', '118', '118', '119', '119', '119', '119',\n",
       "       '119', '120', '120', '120', '120', '120', '120', '120', '120',\n",
       "       '120', '120', '120', '121', '121', '121', '121', '121', '121',\n",
       "       '121', '121', '122', '122', '122', '122', '123', '123', '123',\n",
       "       '123', '123', '124', '124', '124', '124', '124', '124', '124',\n",
       "       '124', '124', '125', '125', '125', '126', '126', '126', '126',\n",
       "       '127', '128', '128', '129', '129', '129', '130', '130', '130',\n",
       "       '130', '130', '130', '130', '130', '130', '130', '130', '131',\n",
       "       '131', '132', '132', '133', '133', '133', '133', '133', '133',\n",
       "       '133', '134', '134', '134', '134', '135', '135', '135', '135',\n",
       "       '135', '135', '135', '135', '136A', '136A', '136A', '136A', '136A',\n",
       "       '136A', '136A', '136A', '136', '136', '136', '136', '136', '136',\n",
       "       '136', '136', '136', '136', '137', '137', '137', '137', '138',\n",
       "       '138', '138', '138', '138', '139', '140', '140', '140', '140',\n",
       "       '140', '140', '140', '140', '140', '140', '141', '141', '141',\n",
       "       '141', '141', '141', '141', '141', '142', '142', '142', '142',\n",
       "       '143', '144', '144', '144', '144', '145', '145', '145', '145',\n",
       "       '145', '145', '145', '145', '146', '146', '146', '146', '146',\n",
       "       '146', '147', '148', '149', '149', '149', '149', '149', '150',\n",
       "       '151', '151', '152', '153', '153', '153', '153', '153', '154',\n",
       "       '155', '155', '155', '155', '155', '155', '155', '156', '156',\n",
       "       '156', '156', '157', '158', '158', '158', '158', '158', '158',\n",
       "       '158', '158', '158', '158', '159', '159', '159', '159', '159',\n",
       "       '160', '161', '161', '161', '161', '161', '161', '161', '161',\n",
       "       '162', '162', '162', '162', '162', '162', '163', '163', '163',\n",
       "       '163', '163', '164', '164', '164', '164', '165', '165', '165',\n",
       "       '166', '166', '166', '166', '166', '166', '166', '166', '166',\n",
       "       '166', '166', '167', '167', '167', '167', '168', '168', '168',\n",
       "       '168', '168', '168', '168', '168', '169', '169', '169', '170',\n",
       "       '170', '170', '170', '170', '171', '172', '172', '172', '172',\n",
       "       '172', '172', '172', '172', '173', '173', '173', '173', '173',\n",
       "       '173', '173', '173', '173', '174', '174', '174', '174', '174',\n",
       "       '175', '175', '175', '175', '175', '175', '176', '176', '176',\n",
       "       '176', '176', '176', '176', '176', '177', '177', '177', '177',\n",
       "       '177', '178', '179', '179', '180', '180', '180', '180', '180',\n",
       "       '180', '181', '181', '181', '181', '181', '181', '181', '182',\n",
       "       '183', '183', '183', '183', '184', '185', '185', '185', '185',\n",
       "       '185', '185', '185', '185', '185', '185', '185', '185', '185',\n",
       "       '185', '185', '186', '186', '186', '186', '187', '188', '188',\n",
       "       '188', '188', '189', '189', '189', '189', '189', '190', '190',\n",
       "       '190', '190', '190', '190', '190', '190', '190', '191', '191',\n",
       "       '192', '192', '192', '192', '192', '192', '193', '193', '193',\n",
       "       '193', '193', '193', '194', '194', '195', '195', '195', '196',\n",
       "       '196', '196', '196', '197', '197', '197', '197', '197', '198',\n",
       "       '198', '198', '198', '198', '198', '198', '199', '199', '199',\n",
       "       '199', '199', '199', '199', '200', '201', '201', '202', '202',\n",
       "       '203', '203', '203', '204', '204'],\n",
       "      dtype='<U4')"
      ]
     },
     "execution_count": 2,
     "metadata": {},
     "output_type": "execute_result"
    }
   ],
   "source": [
    "families = Table.read_table('data/family_heights.csv')\n",
    "families.group('family').sort('family', descending = True).show() \n",
    "# sort didn't work properly here --> data types matter!\n",
    "# values stored in family column, were stored as strings NOT floats/int\n",
    "# so sorting didn't work as we wanted it to\n",
    "families.column('family')"
   ]
  },
  {
   "cell_type": "code",
   "execution_count": 3,
   "metadata": {},
   "outputs": [
    {
     "data": {
      "text/plain": [
       "str"
      ]
     },
     "execution_count": 3,
     "metadata": {},
     "output_type": "execute_result"
    }
   ],
   "source": [
    "# future, we can go line by line and convert each entry in an array \n",
    "# and convert the string to a float/int\n",
    "# requires some knowledge of for loops/iteration\n",
    "type(families.column('family').item(0))"
   ]
  },
  {
   "cell_type": "code",
   "execution_count": 4,
   "metadata": {},
   "outputs": [
    {
     "data": {
      "text/html": [
       "<table border=\"1\" class=\"dataframe\">\n",
       "    <thead>\n",
       "        <tr>\n",
       "            <th>family</th> <th>father</th> <th>mother</th> <th>child</th> <th>children</th> <th>order</th> <th>sex</th>\n",
       "        </tr>\n",
       "    </thead>\n",
       "    <tbody>\n",
       "        <tr>\n",
       "            <td>1     </td> <td>78.5  </td> <td>67    </td> <td>73.2 </td> <td>4       </td> <td>1    </td> <td>male  </td>\n",
       "        </tr>\n",
       "        <tr>\n",
       "            <td>1     </td> <td>78.5  </td> <td>67    </td> <td>69.2 </td> <td>4       </td> <td>2    </td> <td>female</td>\n",
       "        </tr>\n",
       "        <tr>\n",
       "            <td>1     </td> <td>78.5  </td> <td>67    </td> <td>69   </td> <td>4       </td> <td>3    </td> <td>female</td>\n",
       "        </tr>\n",
       "        <tr>\n",
       "            <td>1     </td> <td>78.5  </td> <td>67    </td> <td>69   </td> <td>4       </td> <td>4    </td> <td>female</td>\n",
       "        </tr>\n",
       "        <tr>\n",
       "            <td>2     </td> <td>75.5  </td> <td>66.5  </td> <td>73.5 </td> <td>4       </td> <td>1    </td> <td>male  </td>\n",
       "        </tr>\n",
       "        <tr>\n",
       "            <td>2     </td> <td>75.5  </td> <td>66.5  </td> <td>72.5 </td> <td>4       </td> <td>2    </td> <td>male  </td>\n",
       "        </tr>\n",
       "        <tr>\n",
       "            <td>2     </td> <td>75.5  </td> <td>66.5  </td> <td>65.5 </td> <td>4       </td> <td>3    </td> <td>female</td>\n",
       "        </tr>\n",
       "        <tr>\n",
       "            <td>2     </td> <td>75.5  </td> <td>66.5  </td> <td>65.5 </td> <td>4       </td> <td>4    </td> <td>female</td>\n",
       "        </tr>\n",
       "        <tr>\n",
       "            <td>3     </td> <td>75    </td> <td>64    </td> <td>71   </td> <td>2       </td> <td>1    </td> <td>male  </td>\n",
       "        </tr>\n",
       "        <tr>\n",
       "            <td>3     </td> <td>75    </td> <td>64    </td> <td>68   </td> <td>2       </td> <td>2    </td> <td>female</td>\n",
       "        </tr>\n",
       "    </tbody>\n",
       "</table>\n",
       "<p>... (924 rows omitted)</p>"
      ],
      "text/plain": [
       "family | father | mother | child | children | order | sex\n",
       "1      | 78.5   | 67     | 73.2  | 4        | 1     | male\n",
       "1      | 78.5   | 67     | 69.2  | 4        | 2     | female\n",
       "1      | 78.5   | 67     | 69    | 4        | 3     | female\n",
       "1      | 78.5   | 67     | 69    | 4        | 4     | female\n",
       "2      | 75.5   | 66.5   | 73.5  | 4        | 1     | male\n",
       "2      | 75.5   | 66.5   | 72.5  | 4        | 2     | male\n",
       "2      | 75.5   | 66.5   | 65.5  | 4        | 3     | female\n",
       "2      | 75.5   | 66.5   | 65.5  | 4        | 4     | female\n",
       "3      | 75     | 64     | 71    | 2        | 1     | male\n",
       "3      | 75     | 64     | 68    | 2        | 2     | female\n",
       "... (924 rows omitted)"
      ]
     },
     "execution_count": 4,
     "metadata": {},
     "output_type": "execute_result"
    }
   ],
   "source": [
    "families"
   ]
  },
  {
   "cell_type": "markdown",
   "metadata": {},
   "source": [
    "**Discussion:** This data was collected for Europeans living in the late 1800s.  What are some of the potential issues with this data?"
   ]
  },
  {
   "cell_type": "markdown",
   "metadata": {},
   "source": [
    "### Exploring the Data"
   ]
  },
  {
   "cell_type": "markdown",
   "metadata": {},
   "source": [
    "**Exercise:** Add a column `\"parent average\"` containing the average height of both parents."
   ]
  },
  {
   "cell_type": "code",
   "execution_count": 5,
   "metadata": {},
   "outputs": [
    {
     "data": {
      "text/html": [
       "<table border=\"1\" class=\"dataframe\">\n",
       "    <thead>\n",
       "        <tr>\n",
       "            <th>family</th> <th>father</th> <th>mother</th> <th>child</th> <th>children</th> <th>order</th> <th>sex</th> <th>parent average</th>\n",
       "        </tr>\n",
       "    </thead>\n",
       "    <tbody>\n",
       "        <tr>\n",
       "            <td>1     </td> <td>78.5  </td> <td>67    </td> <td>73.2 </td> <td>4       </td> <td>1    </td> <td>male  </td> <td>72.75         </td>\n",
       "        </tr>\n",
       "        <tr>\n",
       "            <td>1     </td> <td>78.5  </td> <td>67    </td> <td>69.2 </td> <td>4       </td> <td>2    </td> <td>female</td> <td>72.75         </td>\n",
       "        </tr>\n",
       "        <tr>\n",
       "            <td>1     </td> <td>78.5  </td> <td>67    </td> <td>69   </td> <td>4       </td> <td>3    </td> <td>female</td> <td>72.75         </td>\n",
       "        </tr>\n",
       "        <tr>\n",
       "            <td>1     </td> <td>78.5  </td> <td>67    </td> <td>69   </td> <td>4       </td> <td>4    </td> <td>female</td> <td>72.75         </td>\n",
       "        </tr>\n",
       "        <tr>\n",
       "            <td>2     </td> <td>75.5  </td> <td>66.5  </td> <td>73.5 </td> <td>4       </td> <td>1    </td> <td>male  </td> <td>71            </td>\n",
       "        </tr>\n",
       "        <tr>\n",
       "            <td>2     </td> <td>75.5  </td> <td>66.5  </td> <td>72.5 </td> <td>4       </td> <td>2    </td> <td>male  </td> <td>71            </td>\n",
       "        </tr>\n",
       "        <tr>\n",
       "            <td>2     </td> <td>75.5  </td> <td>66.5  </td> <td>65.5 </td> <td>4       </td> <td>3    </td> <td>female</td> <td>71            </td>\n",
       "        </tr>\n",
       "        <tr>\n",
       "            <td>2     </td> <td>75.5  </td> <td>66.5  </td> <td>65.5 </td> <td>4       </td> <td>4    </td> <td>female</td> <td>71            </td>\n",
       "        </tr>\n",
       "        <tr>\n",
       "            <td>3     </td> <td>75    </td> <td>64    </td> <td>71   </td> <td>2       </td> <td>1    </td> <td>male  </td> <td>69.5          </td>\n",
       "        </tr>\n",
       "        <tr>\n",
       "            <td>3     </td> <td>75    </td> <td>64    </td> <td>68   </td> <td>2       </td> <td>2    </td> <td>female</td> <td>69.5          </td>\n",
       "        </tr>\n",
       "    </tbody>\n",
       "</table>\n",
       "<p>... (924 rows omitted)</p>"
      ],
      "text/plain": [
       "family | father | mother | child | children | order | sex    | parent average\n",
       "1      | 78.5   | 67     | 73.2  | 4        | 1     | male   | 72.75\n",
       "1      | 78.5   | 67     | 69.2  | 4        | 2     | female | 72.75\n",
       "1      | 78.5   | 67     | 69    | 4        | 3     | female | 72.75\n",
       "1      | 78.5   | 67     | 69    | 4        | 4     | female | 72.75\n",
       "2      | 75.5   | 66.5   | 73.5  | 4        | 1     | male   | 71\n",
       "2      | 75.5   | 66.5   | 72.5  | 4        | 2     | male   | 71\n",
       "2      | 75.5   | 66.5   | 65.5  | 4        | 3     | female | 71\n",
       "2      | 75.5   | 66.5   | 65.5  | 4        | 4     | female | 71\n",
       "3      | 75     | 64     | 71    | 2        | 1     | male   | 69.5\n",
       "3      | 75     | 64     | 68    | 2        | 2     | female | 69.5\n",
       "... (924 rows omitted)"
      ]
     },
     "execution_count": 5,
     "metadata": {},
     "output_type": "execute_result"
    }
   ],
   "source": [
    "parent_average = (families.column('father') + families.column('mother')) / 2\n",
    "families = families.with_column('parent average', parent_average)\n",
    "families"
   ]
  },
  {
   "cell_type": "code",
   "execution_count": 6,
   "metadata": {},
   "outputs": [
    {
     "data": {
      "text/plain": [
       "72.75"
      ]
     },
     "execution_count": 6,
     "metadata": {},
     "output_type": "execute_result"
    }
   ],
   "source": [
    "(78.5 + 67) / 2"
   ]
  },
  {
   "cell_type": "code",
   "execution_count": 7,
   "metadata": {},
   "outputs": [
    {
     "data": {
      "text/plain": [
       "71.0"
      ]
     },
     "execution_count": 7,
     "metadata": {},
     "output_type": "execute_result"
    }
   ],
   "source": [
    "(75.5 + 66.5 ) /2"
   ]
  },
  {
   "cell_type": "markdown",
   "metadata": {},
   "source": [
    "<details> <summary>Click for Solution</summary>\n",
    "\n",
    "```python\n",
    "families = families.with_column(\n",
    "    \"parent average\", (families.column('father') + families.column('mother'))/2.0\n",
    ")\n",
    "families\n",
    "```\n",
    "</details>"
   ]
  },
  {
   "cell_type": "markdown",
   "metadata": {},
   "source": [
    "What is the relationship between a child's height and the average parent's height? \n",
    "\n",
    "**Exercise:** Make a scatter plot showing the relationship between the `\"parent average\"` and the `\"child\"` height."
   ]
  },
  {
   "cell_type": "code",
   "execution_count": 8,
   "metadata": {},
   "outputs": [
    {
     "data": {
      "image/png": "[encoded data removed]",
      "text/plain": [
       "<Figure size 500x500 with 1 Axes>"
      ]
     },
     "metadata": {},
     "output_type": "display_data"
    }
   ],
   "source": [
    "families.scatter('parent average', 'child')"
   ]
  },
  {
   "cell_type": "markdown",
   "metadata": {},
   "source": [
    "<details> <summary>Click for Solution</summary> <br><br>\n",
    "    \n",
    "```python\n",
    "\n",
    "families.scatter(\"parent average\", \"child\")\n",
    "\n",
    "```\n",
    "    \n",
    "<br><br></details>"
   ]
  },
  {
   "cell_type": "markdown",
   "metadata": {},
   "source": [
    "**Questions:**\n",
    "1. Do we observe a relationship between child and parent height?\n",
    "2. Would a line plot help reveal that relationship? \n",
    "3. Could we learn something from a histogram?"
   ]
  },
  {
   "cell_type": "code",
   "execution_count": 9,
   "metadata": {},
   "outputs": [
    {
     "data": {
      "image/png": "[encoded data removed]",
      "text/plain": [
       "<Figure size 600x600 with 1 Axes>"
      ]
     },
     "metadata": {},
     "output_type": "display_data"
    }
   ],
   "source": [
    "families.plot('parent average', 'child') # line plots not so great for showing correlation \n",
    "# great for showing sequential data, x-axis being time, distance"
   ]
  },
  {
   "cell_type": "code",
   "execution_count": 10,
   "metadata": {},
   "outputs": [
    {
     "data": {
      "image/png": "[encoded data removed]",
      "text/plain": [
       "<Figure size 600x400 with 1 Axes>"
      ]
     },
     "metadata": {},
     "output_type": "display_data"
    }
   ],
   "source": [
    "families.hist('parent average')\n",
    "# average parent heights are normally distributed\n",
    "# lots and lots of parents on average 65-69 inches tall (5'5\" - 5'9\")\n",
    "# some as low on average 62\" and some as tall as 72\" on average"
   ]
  },
  {
   "cell_type": "code",
   "execution_count": 11,
   "metadata": {},
   "outputs": [
    {
     "data": {
      "image/png": "[encoded data removed]",
      "text/plain": [
       "<Figure size 600x400 with 1 Axes>"
      ]
     },
     "metadata": {},
     "output_type": "display_data"
    }
   ],
   "source": [
    "families.hist('child')\n",
    "# lots of children between 62-70\" -> 5'2\" and 5'10\""
   ]
  },
  {
   "cell_type": "markdown",
   "metadata": {},
   "source": [
    "### Making a Prediction\n",
    "\n",
    "If we wanted to predict the height of a child given the height of the parents, we could look at the heigh of children with parents who have a similar average height. \n"
   ]
  },
  {
   "cell_type": "code",
   "execution_count": 12,
   "metadata": {
    "tags": []
   },
   "outputs": [],
   "source": [
    "my_height = 5*12 + 3 # 5 ft 3 inches\n",
    "spouse_height = 5*12 + 11 # 5 ft 11 inches"
   ]
  },
  {
   "cell_type": "code",
   "execution_count": 13,
   "metadata": {
    "tags": []
   },
   "outputs": [
    {
     "data": {
      "text/plain": [
       "67.0"
      ]
     },
     "execution_count": 13,
     "metadata": {},
     "output_type": "execute_result"
    }
   ],
   "source": [
    "our_average = (my_height + spouse_height) / 2.0\n",
    "our_average"
   ]
  },
  {
   "cell_type": "markdown",
   "metadata": {},
   "source": [
    "Let's look at parents that are within 1 inch of our height."
   ]
  },
  {
   "cell_type": "code",
   "execution_count": 14,
   "metadata": {
    "tags": []
   },
   "outputs": [],
   "source": [
    "window = 1 \n",
    "lower_bound = our_average - window\n",
    "upper_bound = our_average + window"
   ]
  },
  {
   "cell_type": "code",
   "execution_count": 15,
   "metadata": {
    "tags": []
   },
   "outputs": [
    {
     "data": {
      "image/png": "[encoded data removed]",
      "text/plain": [
       "<Figure size 500x500 with 1 Axes>"
      ]
     },
     "metadata": {},
     "output_type": "display_data"
    }
   ],
   "source": [
    "families.scatter('parent average', 'child')\n",
    "# You don't need to know the details of this plotting code yet.\n",
    "plots.plot([lower_bound, lower_bound], [50, 85], color='red', lw=2)\n",
    "plots.plot([our_average, our_average], [50, 85], color='orange', lw=2);\n",
    "plots.plot([upper_bound, upper_bound], [50, 85], color='red', lw=2);"
   ]
  },
  {
   "cell_type": "markdown",
   "metadata": {},
   "source": [
    "**Exercise:** Create a function that takes an average of the parents heights and returns *an __array__ of all the children's heights* that are within the window of the parent's average height."
   ]
  },
  {
   "cell_type": "code",
   "execution_count": 16,
   "metadata": {},
   "outputs": [],
   "source": [
    "def similar_child_heights(parent_average):\n",
    "    # find all points within red lines\n",
    "    # find all child heights associated with average parent heights within +/- one inch from average parent height\n",
    "    lower_bound = parent_average - window\n",
    "    upper_bound = parent_average + window\n",
    "    families_in_window = families.where('parent average', are.between_or_equal_to(lower_bound, upper_bound))\n",
    "    #child_average = np.average(families_in_window.column('child'))\n",
    "    # return array\n",
    "    child_array = families_in_window.column('child')\n",
    "    return child_array # child average"
   ]
  },
  {
   "cell_type": "code",
   "execution_count": 17,
   "metadata": {},
   "outputs": [
    {
     "data": {
      "text/plain": [
       "array([ 72. ,  69. ,  68. ,  66.5,  62.5,  62.5,  74. ,  70. ,  68. ,\n",
       "        67. ,  67. ,  66. ,  63.5,  63. ,  65. ,  66. ,  63. ,  70.5,\n",
       "        70.5,  69. ,  65. ,  63. ,  69. ,  67. ,  63. ,  73. ,  67. ,\n",
       "        70.5,  70. ,  66.5,  63. ,  67.5,  67.2,  66.7,  64. ,  71. ,\n",
       "        70. ,  70. ,  66. ,  65. ,  65. ,  74. ,  72. ,  69. ,  67.5,\n",
       "        63.5,  72. ,  71.5,  71.5,  70. ,  68. ,  65.7,  68. ,  68. ,\n",
       "        62. ,  68. ,  68. ,  67.5,  66.5,  66.5,  66. ,  65.5,  65. ,\n",
       "        68. ,  68. ,  68. ,  72. ,  71. ,  70. ,  66. ,  64.5,  64.5,\n",
       "        62. ,  73. ,  62. ,  67.5,  64.5,  71. ,  67. ,  66. ,  65. ,\n",
       "        63.5,  71. ,  70. ,  70. ,  64. ,  65. ,  65. ,  64. ,  63. ,\n",
       "        63. ,  71. ,  71. ,  70. ,  63.5,  71. ,  70. ,  64.5,  62.5,\n",
       "        61.5,  72. ,  70.5,  70.5,  64.5,  60. ,  70. ,  64. ,  64. ,\n",
       "        64. ,  62.5,  70.5,  70. ,  69. ,  69. ,  66. ,  64.5,  64. ,\n",
       "        62. ,  72. ,  70.2,  69. ,  68.5,  68. ,  65. ,  61.5,  61. ,\n",
       "        61. ,  73. ,  72. ,  70.5,  65. ,  65. ,  64.5,  63. ,  62. ,\n",
       "        67. ,  65. ,  64.5,  62.5,  62.5,  70. ,  70. ,  67. ,  65. ,\n",
       "        65. ,  63. ,  79. ,  75. ,  71. ,  69. ,  67. ,  65.7,  62. ,\n",
       "        73. ,  72.5,  65. ,  69. ,  69. ,  72. ,  70. ,  68.7,  66.5,\n",
       "        65.5,  64.7,  64.5,  70.7,  70. ,  68. ,  67. ,  66. ,  65. ,\n",
       "        67. ,  70. ,  68. ,  66.7,  65.5,  72. ,  70. ,  62.5,  61.2,\n",
       "        60.1,  74. ,  69.5,  69. ,  68. ,  68. ,  68. ,  65.5,  65. ,\n",
       "        60. ,  68. ,  65. ,  64. ,  62. ,  71. ,  70. ,  70. ,  70. ,\n",
       "        69.5,  68.5,  69. ,  65. ,  64. ,  70. ,  67. ,  65.5,  63.7,\n",
       "        63.2,  62.5,  62.2,  61. ,  70. ,  68.5,  65.5,  63.5,  72.5,\n",
       "        69. ,  67. ,  64.5,  64. ,  71. ,  67.5,  67.5,  63.5,  68. ,\n",
       "        67. ,  63.7,  62. ,  70. ,  66.5,  62. ,  61. ,  72. ,  70. ,\n",
       "        69.5,  69.5,  68. ,  65. ,  64. ,  63. ,  70.7,  69.7,  69.2,\n",
       "        65.2,  64. ,  63.5,  63.2,  72. ,  72. ,  60. ,  64. ,  73. ,\n",
       "        72. ,  71.7,  71.5,  65.5,  65. ,  62.7,  62.5,  71.2,  71. ,\n",
       "        70. ,  75. ,  74. ,  72. ,  68.5,  70. ,  68.5,  68. ,  65. ,\n",
       "        63. ,  62.5,  73. ,  71. ,  70.5,  70.5,  67. ,  66. ,  61. ,\n",
       "        70.5,  67.5,  64.5,  64. ,  71. ,  68.5,  67.5,  66. ,  63. ,\n",
       "        63. ,  71. ,  71. ,  70.5,  70.5,  66.5,  65.5,  64.5,  73. ,\n",
       "        72. ,  69. ,  69. ,  66.5,  65.5,  65.5,  65. ,  64. ,  70. ,\n",
       "        68.5,  67. ,  65. ,  64. ,  63.5,  61. ,  69.7,  68. ,  60. ,\n",
       "        65.2,  64.5,  63.7,  60. ,  71.7,  66.5,  65. ,  63.5,  65.5,\n",
       "        69. ,  67.5,  63.5,  72. ,  73. ,  70. ,  70. ,  64. ,  66. ,\n",
       "        62. ,  70.5,  67. ,  66. ,  65. ,  63. ,  62. ,  61. ,  70.5,\n",
       "        63.7,  63. ,  73. ,  71. ,  67. ,  70. ,  69. ,  69. ,  68.7,\n",
       "        68.5,  68.5,  68. ,  68. ,  68. ,  66.2,  63.2,  67.5,  66. ,\n",
       "        66. ,  64. ,  71.7,  71.5,  70.7,  65.5,  66.5,  65.2,  61.5,\n",
       "        72. ,  72. ,  68. ,  66. ,  69.2,  68. ,  66. ,  66. ,  62. ,\n",
       "        61.5,  61. ,  60. ,  72. ,  70.5,  68.7,  68.5,  67.7,  64. ,\n",
       "        63.5,  63. ,  71. ,  68. ,  68. ,  67. ,  65. ,  64. ,  63. ,\n",
       "        63. ,  62. ,  61. ,  66. ,  63. ,  65.5,  62. ,  71.2,  71.2,\n",
       "        69. ,  68.5,  62.5,  62. ,  69. ,  67. ,  66. ,  66. ,  66. ,\n",
       "        65. ,  65. ,  65. ,  64. ,  63. ,  73.5,  70. ,  69.5,  65.5,\n",
       "        68.2,  72.7,  72.7,  71.5,  65.5,  63.5,  71. ,  73. ,  71. ,\n",
       "        70.7,  70. ,  69. ,  68. ,  65.5,  62. ,  69.7,  67.5,  65.5,\n",
       "        65. ,  64.5,  63.5,  70. ,  69. ,  65.5,  65.5,  63. ,  70. ,\n",
       "        67.7,  63. ,  60. ,  65. ,  62. ,  62. ,  71. ,  69. ,  64. ,\n",
       "        64. ,  63. ,  63. ,  63. ,  63. ,  63. ,  62.5,  62. ,  70.5,\n",
       "        70.5,  67. ,  66. ,  66. ,  62. ,  62. ,  61.5,  72. ,  65. ,\n",
       "        65. ,  67. ,  64. ,  64. ,  62. ,  60. ,  60. ,  66. ,  65. ,\n",
       "        67. ,  66.5,  65.5,  72. ,  68. ,  66. ,  65. ,  62. ,  61. ,\n",
       "        66.5,  66. ,  66. ,  65. ,  63. ])"
      ]
     },
     "execution_count": 17,
     "metadata": {},
     "output_type": "execute_result"
    }
   ],
   "source": [
    "similar_child_heights(our_average)"
   ]
  },
  {
   "cell_type": "code",
   "execution_count": 18,
   "metadata": {},
   "outputs": [
    {
     "data": {
      "text/plain": [
       "66.82838983050847"
      ]
     },
     "execution_count": 18,
     "metadata": {},
     "output_type": "execute_result"
    }
   ],
   "source": [
    "lower_bound = our_average - window\n",
    "upper_bound = our_average + window\n",
    "families_in_window = families.where('parent average', are.between(lower_bound, upper_bound))\n",
    "np.average(families_in_window.column('child'))"
   ]
  },
  {
   "cell_type": "markdown",
   "metadata": {},
   "source": [
    "<details> <summary>Click for Solution</summary> <br><br>   \n",
    "\n",
    "```python\n",
    "def similar_child_heights(parent_average):\n",
    "    lower_bound = parent_average - window\n",
    "    upper_bound = parent_average + window\n",
    "    return (\n",
    "        families\n",
    "            .where(\"parent average\", are.between(lower_bound, upper_bound))\n",
    "            .column(\"child\")\n",
    "    )\n",
    "```\n",
    "\n",
    "<br><br></details>"
   ]
  },
  {
   "cell_type": "markdown",
   "metadata": {},
   "source": [
    "Testing the function:"
   ]
  },
  {
   "cell_type": "code",
   "execution_count": 19,
   "metadata": {},
   "outputs": [
    {
     "data": {
      "text/plain": [
       "array([ 72. ,  69. ,  68. ,  66.5,  62.5,  62.5,  74. ,  70. ,  68. ,\n",
       "        67. ,  67. ,  66. ,  63.5,  63. ,  65. ,  66. ,  63. ,  70.5,\n",
       "        70.5,  69. ,  65. ,  63. ,  69. ,  67. ,  63. ,  73. ,  67. ,\n",
       "        70.5,  70. ,  66.5,  63. ,  67.5,  67.2,  66.7,  64. ,  71. ,\n",
       "        70. ,  70. ,  66. ,  65. ,  65. ,  74. ,  72. ,  69. ,  67.5,\n",
       "        63.5,  72. ,  71.5,  71.5,  70. ,  68. ,  65.7,  68. ,  68. ,\n",
       "        62. ,  68. ,  68. ,  67.5,  66.5,  66.5,  66. ,  65.5,  65. ,\n",
       "        68. ,  68. ,  68. ,  72. ,  71. ,  70. ,  66. ,  64.5,  64.5,\n",
       "        62. ,  73. ,  62. ,  67.5,  64.5,  71. ,  67. ,  66. ,  65. ,\n",
       "        63.5,  71. ,  70. ,  70. ,  64. ,  65. ,  65. ,  64. ,  63. ,\n",
       "        63. ,  71. ,  71. ,  70. ,  63.5,  71. ,  70. ,  64.5,  62.5,\n",
       "        61.5,  72. ,  70.5,  70.5,  64.5,  60. ,  70. ,  64. ,  64. ,\n",
       "        64. ,  62.5,  70.5,  70. ,  69. ,  69. ,  66. ,  64.5,  64. ,\n",
       "        62. ,  72. ,  70.2,  69. ,  68.5,  68. ,  65. ,  61.5,  61. ,\n",
       "        61. ,  73. ,  72. ,  70.5,  65. ,  65. ,  64.5,  63. ,  62. ,\n",
       "        67. ,  65. ,  64.5,  62.5,  62.5,  70. ,  70. ,  67. ,  65. ,\n",
       "        65. ,  63. ,  79. ,  75. ,  71. ,  69. ,  67. ,  65.7,  62. ,\n",
       "        73. ,  72.5,  65. ,  69. ,  69. ,  72. ,  70. ,  68.7,  66.5,\n",
       "        65.5,  64.7,  64.5,  70.7,  70. ,  68. ,  67. ,  66. ,  65. ,\n",
       "        67. ,  70. ,  68. ,  66.7,  65.5,  72. ,  70. ,  62.5,  61.2,\n",
       "        60.1,  74. ,  69.5,  69. ,  68. ,  68. ,  68. ,  65.5,  65. ,\n",
       "        60. ,  68. ,  65. ,  64. ,  62. ,  71. ,  70. ,  70. ,  70. ,\n",
       "        69.5,  68.5,  69. ,  65. ,  64. ,  70. ,  67. ,  65.5,  63.7,\n",
       "        63.2,  62.5,  62.2,  61. ,  70. ,  68.5,  65.5,  63.5,  72.5,\n",
       "        69. ,  67. ,  64.5,  64. ,  71. ,  67.5,  67.5,  63.5,  68. ,\n",
       "        67. ,  63.7,  62. ,  70. ,  66.5,  62. ,  61. ,  72. ,  70. ,\n",
       "        69.5,  69.5,  68. ,  65. ,  64. ,  63. ,  70.7,  69.7,  69.2,\n",
       "        65.2,  64. ,  63.5,  63.2,  72. ,  72. ,  60. ,  64. ,  73. ,\n",
       "        72. ,  71.7,  71.5,  65.5,  65. ,  62.7,  62.5,  71.2,  71. ,\n",
       "        70. ,  75. ,  74. ,  72. ,  68.5,  70. ,  68.5,  68. ,  65. ,\n",
       "        63. ,  62.5,  73. ,  71. ,  70.5,  70.5,  67. ,  66. ,  61. ,\n",
       "        70.5,  67.5,  64.5,  64. ,  71. ,  68.5,  67.5,  66. ,  63. ,\n",
       "        63. ,  71. ,  71. ,  70.5,  70.5,  66.5,  65.5,  64.5,  73. ,\n",
       "        72. ,  69. ,  69. ,  66.5,  65.5,  65.5,  65. ,  64. ,  70. ,\n",
       "        68.5,  67. ,  65. ,  64. ,  63.5,  61. ,  69.7,  68. ,  60. ,\n",
       "        65.2,  64.5,  63.7,  60. ,  71.7,  66.5,  65. ,  63.5,  65.5,\n",
       "        69. ,  67.5,  63.5,  72. ,  73. ,  70. ,  70. ,  64. ,  66. ,\n",
       "        62. ,  70.5,  67. ,  66. ,  65. ,  63. ,  62. ,  61. ,  70.5,\n",
       "        63.7,  63. ,  73. ,  71. ,  67. ,  70. ,  69. ,  69. ,  68.7,\n",
       "        68.5,  68.5,  68. ,  68. ,  68. ,  66.2,  63.2,  67.5,  66. ,\n",
       "        66. ,  64. ,  71.7,  71.5,  70.7,  65.5,  66.5,  65.2,  61.5,\n",
       "        72. ,  72. ,  68. ,  66. ,  69.2,  68. ,  66. ,  66. ,  62. ,\n",
       "        61.5,  61. ,  60. ,  72. ,  70.5,  68.7,  68.5,  67.7,  64. ,\n",
       "        63.5,  63. ,  71. ,  68. ,  68. ,  67. ,  65. ,  64. ,  63. ,\n",
       "        63. ,  62. ,  61. ,  66. ,  63. ,  65.5,  62. ,  71.2,  71.2,\n",
       "        69. ,  68.5,  62.5,  62. ,  69. ,  67. ,  66. ,  66. ,  66. ,\n",
       "        65. ,  65. ,  65. ,  64. ,  63. ,  73.5,  70. ,  69.5,  65.5,\n",
       "        68.2,  72.7,  72.7,  71.5,  65.5,  63.5,  71. ,  73. ,  71. ,\n",
       "        70.7,  70. ,  69. ,  68. ,  65.5,  62. ,  69.7,  67.5,  65.5,\n",
       "        65. ,  64.5,  63.5,  70. ,  69. ,  65.5,  65.5,  63. ,  70. ,\n",
       "        67.7,  63. ,  60. ,  65. ,  62. ,  62. ,  71. ,  69. ,  64. ,\n",
       "        64. ,  63. ,  63. ,  63. ,  63. ,  63. ,  62.5,  62. ,  70.5,\n",
       "        70.5,  67. ,  66. ,  66. ,  62. ,  62. ,  61.5,  72. ,  65. ,\n",
       "        65. ,  67. ,  64. ,  64. ,  62. ,  60. ,  60. ,  66. ,  65. ,\n",
       "        67. ,  66.5,  65.5,  72. ,  68. ,  66. ,  65. ,  62. ,  61. ,\n",
       "        66.5,  66. ,  66. ,  65. ,  63. ])"
      ]
     },
     "execution_count": 19,
     "metadata": {},
     "output_type": "execute_result"
    }
   ],
   "source": [
    "# window = 1.0\n",
    "similar_child_heights(our_average)"
   ]
  },
  {
   "cell_type": "markdown",
   "metadata": {},
   "source": [
    "**Exercise:** Create a function to predict the child's height as the average of the height of children within the window of the average parent height."
   ]
  },
  {
   "cell_type": "code",
   "execution_count": 20,
   "metadata": {},
   "outputs": [],
   "source": [
    "def predict_child_height(parent_average):\n",
    "    return np.average(similar_child_heights(parent_average)) "
   ]
  },
  {
   "cell_type": "markdown",
   "metadata": {},
   "source": [
    "<details> <summary>Click for Solution</summary> <br><br>   \n",
    "\n",
    "```python\n",
    "def predict_child_height(parent_average):\n",
    "    return np.average(similar_child_heights(parent_average))\n",
    "```\n",
    "\n",
    "<br><br></details>"
   ]
  },
  {
   "cell_type": "code",
   "execution_count": 21,
   "metadata": {},
   "outputs": [
    {
     "data": {
      "text/plain": [
       "66.820800000000006"
      ]
     },
     "execution_count": 21,
     "metadata": {},
     "output_type": "execute_result"
    }
   ],
   "source": [
    "predict_child_height(our_average)"
   ]
  },
  {
   "cell_type": "markdown",
   "metadata": {},
   "source": [
    "Let's plot the predicted height as well as the distribution of children's heights:"
   ]
  },
  {
   "cell_type": "code",
   "execution_count": 22,
   "metadata": {},
   "outputs": [
    {
     "name": "stdout",
     "output_type": "stream",
     "text": [
      "Mean: 66.8208\n"
     ]
    },
    {
     "data": {
      "text/plain": [
       "[<matplotlib.lines.Line2D at 0x7fe71e1176d0>]"
      ]
     },
     "execution_count": 22,
     "metadata": {},
     "output_type": "execute_result"
    },
    {
     "data": {
      "image/png": "[encoded data removed]",
      "text/plain": [
       "<Figure size 600x400 with 1 Axes>"
      ]
     },
     "metadata": {},
     "output_type": "display_data"
    }
   ],
   "source": [
    "# window = 1.0\n",
    "similar = similar_child_heights(our_average)\n",
    "predicted_height = predict_child_height(our_average)\n",
    "\n",
    "print(\"Mean:\", predicted_height)\n",
    "Table().with_column(\"child\", similar).hist(\"child\", bins=20) # histogram\n",
    "plots.plot([predicted_height, predicted_height], [0, .1], color=\"red\") # overlay graph onto histogram, to show red line"
   ]
  },
  {
   "cell_type": "markdown",
   "metadata": {},
   "source": [
    "**Discussion:** Is this a good predictor? How would I know? What happens when I change window size?\n",
    "\n",
    "Type here ... think about your response to the questions above\n",
    "Is average parent height a good predictor for child's height in adulthood?\n",
    "How do you know something is a good predictor? \n",
    "What do YOU define as \"good\", in terms of a good predictor?"
   ]
  },
  {
   "cell_type": "markdown",
   "metadata": {},
   "source": [
    "### Evaluating the Predictions\n",
    "\n",
    "To evaluate the predictions, let's see how the predictions compare to the actual heights of all the children in our dataset.  "
   ]
  },
  {
   "cell_type": "markdown",
   "metadata": {},
   "source": [
    "\n",
    "**Exercise:** Apply the function (using `apply`) to all the parent averages in the table and save the result to the `\"predicted\"` column."
   ]
  },
  {
   "cell_type": "code",
   "execution_count": 23,
   "metadata": {},
   "outputs": [
    {
     "data": {
      "text/html": [
       "<table border=\"1\" class=\"dataframe\">\n",
       "    <thead>\n",
       "        <tr>\n",
       "            <th>family</th> <th>father</th> <th>mother</th> <th>child</th> <th>children</th> <th>order</th> <th>sex</th> <th>parent average</th> <th>predicted</th>\n",
       "        </tr>\n",
       "    </thead>\n",
       "    <tbody>\n",
       "        <tr>\n",
       "            <td>1     </td> <td>78.5  </td> <td>67    </td> <td>73.2 </td> <td>4       </td> <td>1    </td> <td>male  </td> <td>72.75         </td> <td>70.1     </td>\n",
       "        </tr>\n",
       "        <tr>\n",
       "            <td>1     </td> <td>78.5  </td> <td>67    </td> <td>69.2 </td> <td>4       </td> <td>2    </td> <td>female</td> <td>72.75         </td> <td>70.1     </td>\n",
       "        </tr>\n",
       "        <tr>\n",
       "            <td>1     </td> <td>78.5  </td> <td>67    </td> <td>69   </td> <td>4       </td> <td>3    </td> <td>female</td> <td>72.75         </td> <td>70.1     </td>\n",
       "        </tr>\n",
       "        <tr>\n",
       "            <td>1     </td> <td>78.5  </td> <td>67    </td> <td>69   </td> <td>4       </td> <td>4    </td> <td>female</td> <td>72.75         </td> <td>70.1     </td>\n",
       "        </tr>\n",
       "        <tr>\n",
       "            <td>2     </td> <td>75.5  </td> <td>66.5  </td> <td>73.5 </td> <td>4       </td> <td>1    </td> <td>male  </td> <td>71            </td> <td>69.9971  </td>\n",
       "        </tr>\n",
       "        <tr>\n",
       "            <td>2     </td> <td>75.5  </td> <td>66.5  </td> <td>72.5 </td> <td>4       </td> <td>2    </td> <td>male  </td> <td>71            </td> <td>69.9971  </td>\n",
       "        </tr>\n",
       "        <tr>\n",
       "            <td>2     </td> <td>75.5  </td> <td>66.5  </td> <td>65.5 </td> <td>4       </td> <td>3    </td> <td>female</td> <td>71            </td> <td>69.9971  </td>\n",
       "        </tr>\n",
       "        <tr>\n",
       "            <td>2     </td> <td>75.5  </td> <td>66.5  </td> <td>65.5 </td> <td>4       </td> <td>4    </td> <td>female</td> <td>71            </td> <td>69.9971  </td>\n",
       "        </tr>\n",
       "        <tr>\n",
       "            <td>3     </td> <td>75    </td> <td>64    </td> <td>71   </td> <td>2       </td> <td>1    </td> <td>male  </td> <td>69.5          </td> <td>68.2092  </td>\n",
       "        </tr>\n",
       "        <tr>\n",
       "            <td>3     </td> <td>75    </td> <td>64    </td> <td>68   </td> <td>2       </td> <td>2    </td> <td>female</td> <td>69.5          </td> <td>68.2092  </td>\n",
       "        </tr>\n",
       "    </tbody>\n",
       "</table>\n",
       "<p>... (924 rows omitted)</p>"
      ],
      "text/plain": [
       "family | father | mother | child | children | order | sex    | parent average | predicted\n",
       "1      | 78.5   | 67     | 73.2  | 4        | 1     | male   | 72.75          | 70.1\n",
       "1      | 78.5   | 67     | 69.2  | 4        | 2     | female | 72.75          | 70.1\n",
       "1      | 78.5   | 67     | 69    | 4        | 3     | female | 72.75          | 70.1\n",
       "1      | 78.5   | 67     | 69    | 4        | 4     | female | 72.75          | 70.1\n",
       "2      | 75.5   | 66.5   | 73.5  | 4        | 1     | male   | 71             | 69.9971\n",
       "2      | 75.5   | 66.5   | 72.5  | 4        | 2     | male   | 71             | 69.9971\n",
       "2      | 75.5   | 66.5   | 65.5  | 4        | 3     | female | 71             | 69.9971\n",
       "2      | 75.5   | 66.5   | 65.5  | 4        | 4     | female | 71             | 69.9971\n",
       "3      | 75     | 64     | 71    | 2        | 1     | male   | 69.5           | 68.2092\n",
       "3      | 75     | 64     | 68    | 2        | 2     | female | 69.5           | 68.2092\n",
       "... (924 rows omitted)"
      ]
     },
     "execution_count": 23,
     "metadata": {},
     "output_type": "execute_result"
    }
   ],
   "source": [
    "predicted_child_height_array = families.apply(predict_child_height, 'parent average') #generate array of predicted child height\n",
    "families = families.with_column('predicted', predicted_child_height_array) # add array to families table\n",
    "families"
   ]
  },
  {
   "cell_type": "code",
   "execution_count": 28,
   "metadata": {},
   "outputs": [],
   "source": [
    "#this cell is the same as above\n",
    "families = families.with_column(\n",
    "    'predicted', families.apply(predict_child_height, 'parent average')\n",
    ")"
   ]
  },
  {
   "cell_type": "markdown",
   "metadata": {},
   "source": [
    "<details> <summary>Click for Solution</summary> <br><br>   \n",
    "\n",
    "```python\n",
    "# window = 0.5\n",
    "families = families.with_column(\n",
    "    \"predicted\", families.apply(predict_child_height, \"parent average\"))\n",
    "families\n",
    "```\n",
    "\n",
    "<br><br></details>"
   ]
  },
  {
   "cell_type": "markdown",
   "metadata": {},
   "source": [
    "**Exercise:** Construct a scatter plot with the `\"parent average\"` height on the x-axis and the `\"child\"` height and the `\"predicted\"` height on the y-axis. "
   ]
  },
  {
   "cell_type": "code",
   "execution_count": 25,
   "metadata": {},
   "outputs": [
    {
     "data": {
      "image/png": "[encoded data removed]",
      "text/plain": [
       "<Figure size 500x500 with 1 Axes>"
      ]
     },
     "metadata": {},
     "output_type": "display_data"
    }
   ],
   "source": [
    "(\n",
    "    families\n",
    "    .select('parent average','child', 'predicted')\n",
    "    .scatter('parent average')\n",
    ")"
   ]
  },
  {
   "cell_type": "markdown",
   "metadata": {},
   "source": [
    "<details> <summary>Click for Solution</summary> <br><br>   \n",
    "\n",
    "```python\n",
    "(\n",
    "    families\n",
    "    .select('parent average','child', 'predicted')\n",
    "    .scatter('parent average')\n",
    ")\n",
    "```\n",
    "\n",
    "<br><br></details>"
   ]
  },
  {
   "cell_type": "markdown",
   "metadata": {},
   "source": [
    "**Discussion:** What do we see in this plot?  What trends."
   ]
  },
  {
   "cell_type": "markdown",
   "metadata": {},
   "source": [
    "**Exercise:** Define a function to compute the error (the difference) between the predicted value and the true value and apply that function to the table adding a column containing the `\"error\"`.  Then construct a histogram of the errors.\n"
   ]
  },
  {
   "cell_type": "code",
   "execution_count": 35,
   "metadata": {},
   "outputs": [
    {
     "data": {
      "text/html": [
       "<table border=\"1\" class=\"dataframe\">\n",
       "    <thead>\n",
       "        <tr>\n",
       "            <th>family</th> <th>father</th> <th>mother</th> <th>child</th> <th>children</th> <th>order</th> <th>sex</th> <th>parent average</th> <th>predicted</th> <th>error</th>\n",
       "        </tr>\n",
       "    </thead>\n",
       "    <tbody>\n",
       "        <tr>\n",
       "            <td>1     </td> <td>78.5  </td> <td>67    </td> <td>73.2 </td> <td>4       </td> <td>1    </td> <td>male  </td> <td>72.75         </td> <td>70.1     </td> <td>-3.1    </td>\n",
       "        </tr>\n",
       "        <tr>\n",
       "            <td>1     </td> <td>78.5  </td> <td>67    </td> <td>69.2 </td> <td>4       </td> <td>2    </td> <td>female</td> <td>72.75         </td> <td>70.1     </td> <td>0.9     </td>\n",
       "        </tr>\n",
       "        <tr>\n",
       "            <td>1     </td> <td>78.5  </td> <td>67    </td> <td>69   </td> <td>4       </td> <td>3    </td> <td>female</td> <td>72.75         </td> <td>70.1     </td> <td>1.1     </td>\n",
       "        </tr>\n",
       "        <tr>\n",
       "            <td>1     </td> <td>78.5  </td> <td>67    </td> <td>69   </td> <td>4       </td> <td>4    </td> <td>female</td> <td>72.75         </td> <td>70.1     </td> <td>1.1     </td>\n",
       "        </tr>\n",
       "        <tr>\n",
       "            <td>2     </td> <td>75.5  </td> <td>66.5  </td> <td>73.5 </td> <td>4       </td> <td>1    </td> <td>male  </td> <td>71            </td> <td>69.9971  </td> <td>-3.50286</td>\n",
       "        </tr>\n",
       "        <tr>\n",
       "            <td>2     </td> <td>75.5  </td> <td>66.5  </td> <td>72.5 </td> <td>4       </td> <td>2    </td> <td>male  </td> <td>71            </td> <td>69.9971  </td> <td>-2.50286</td>\n",
       "        </tr>\n",
       "        <tr>\n",
       "            <td>2     </td> <td>75.5  </td> <td>66.5  </td> <td>65.5 </td> <td>4       </td> <td>3    </td> <td>female</td> <td>71            </td> <td>69.9971  </td> <td>4.49714 </td>\n",
       "        </tr>\n",
       "        <tr>\n",
       "            <td>2     </td> <td>75.5  </td> <td>66.5  </td> <td>65.5 </td> <td>4       </td> <td>4    </td> <td>female</td> <td>71            </td> <td>69.9971  </td> <td>4.49714 </td>\n",
       "        </tr>\n",
       "        <tr>\n",
       "            <td>3     </td> <td>75    </td> <td>64    </td> <td>71   </td> <td>2       </td> <td>1    </td> <td>male  </td> <td>69.5          </td> <td>68.2092  </td> <td>-2.79083</td>\n",
       "        </tr>\n",
       "        <tr>\n",
       "            <td>3     </td> <td>75    </td> <td>64    </td> <td>68   </td> <td>2       </td> <td>2    </td> <td>female</td> <td>69.5          </td> <td>68.2092  </td> <td>0.209174</td>\n",
       "        </tr>\n",
       "    </tbody>\n",
       "</table>\n",
       "<p>... (924 rows omitted)</p>"
      ],
      "text/plain": [
       "family | father | mother | child | children | order | sex    | parent average | predicted | error\n",
       "1      | 78.5   | 67     | 73.2  | 4        | 1     | male   | 72.75          | 70.1      | -3.1\n",
       "1      | 78.5   | 67     | 69.2  | 4        | 2     | female | 72.75          | 70.1      | 0.9\n",
       "1      | 78.5   | 67     | 69    | 4        | 3     | female | 72.75          | 70.1      | 1.1\n",
       "1      | 78.5   | 67     | 69    | 4        | 4     | female | 72.75          | 70.1      | 1.1\n",
       "2      | 75.5   | 66.5   | 73.5  | 4        | 1     | male   | 71             | 69.9971   | -3.50286\n",
       "2      | 75.5   | 66.5   | 72.5  | 4        | 2     | male   | 71             | 69.9971   | -2.50286\n",
       "2      | 75.5   | 66.5   | 65.5  | 4        | 3     | female | 71             | 69.9971   | 4.49714\n",
       "2      | 75.5   | 66.5   | 65.5  | 4        | 4     | female | 71             | 69.9971   | 4.49714\n",
       "3      | 75     | 64     | 71    | 2        | 1     | male   | 69.5           | 68.2092   | -2.79083\n",
       "3      | 75     | 64     | 68    | 2        | 2     | female | 69.5           | 68.2092   | 0.209174\n",
       "... (924 rows omitted)"
      ]
     },
     "execution_count": 35,
     "metadata": {},
     "output_type": "execute_result"
    }
   ],
   "source": [
    "def error(predicted, true_value):\n",
    "    # pass prevents any error in the cell when ran\n",
    "    # but does not effectively do anything with our function, error\n",
    "    return predicted - true_value\n",
    "\n",
    "families = families.with_column(\"error\", families.apply(error, \"predicted\", \"child\"))\n",
    "families"
   ]
  },
  {
   "cell_type": "code",
   "execution_count": 31,
   "metadata": {},
   "outputs": [
    {
     "data": {
      "text/plain": [
       "\u001b[0;31mSignature:\u001b[0m \u001b[0mTable\u001b[0m\u001b[0;34m.\u001b[0m\u001b[0mapply\u001b[0m\u001b[0;34m(\u001b[0m\u001b[0mself\u001b[0m\u001b[0;34m,\u001b[0m \u001b[0mfn\u001b[0m\u001b[0;34m,\u001b[0m \u001b[0;34m*\u001b[0m\u001b[0mcolumn_or_columns\u001b[0m\u001b[0;34m)\u001b[0m\u001b[0;34m\u001b[0m\u001b[0;34m\u001b[0m\u001b[0m\n",
       "\u001b[0;31mDocstring:\u001b[0m\n",
       "Apply ``fn`` to each element or elements of ``column_or_columns``.\n",
       "If no ``column_or_columns`` provided, `fn`` is applied to each row.\n",
       "\n",
       "Args:\n",
       "    ``fn`` (function) -- The function to apply to each element\n",
       "        of ``column_or_columns``.\n",
       "    ``column_or_columns`` -- Columns containing the arguments to ``fn``\n",
       "        as either column labels (``str``) or column indices (``int``).\n",
       "        The number of columns must match the number of arguments\n",
       "        that ``fn`` expects.\n",
       "\n",
       "Raises:\n",
       "    ``ValueError`` -- if  ``column_label`` is not an existing\n",
       "        column in the table.\n",
       "    ``TypeError`` -- if insufficient number of ``column_label`` passed\n",
       "        to ``fn``.\n",
       "\n",
       "Returns:\n",
       "    An array consisting of results of applying ``fn`` to elements\n",
       "    specified by ``column_label`` in each row.\n",
       "\n",
       ">>> t = Table().with_columns(\n",
       "...     'letter', make_array('a', 'b', 'c', 'z'),\n",
       "...     'count',  make_array(9, 3, 3, 1),\n",
       "...     'points', make_array(1, 2, 2, 10))\n",
       ">>> t\n",
       "letter | count | points\n",
       "a      | 9     | 1\n",
       "b      | 3     | 2\n",
       "c      | 3     | 2\n",
       "z      | 1     | 10\n",
       ">>> t.apply(lambda x: x - 1, 'points')\n",
       "array([0, 1, 1, 9])\n",
       ">>> t.apply(lambda x, y: x * y, 'count', 'points')\n",
       "array([ 9,  6,  6, 10])\n",
       ">>> t.apply(lambda x: x - 1, 'count', 'points')\n",
       "Traceback (most recent call last):\n",
       "    ...\n",
       "TypeError: <lambda>() takes 1 positional argument but 2 were given\n",
       ">>> t.apply(lambda x: x - 1, 'counts')\n",
       "Traceback (most recent call last):\n",
       "    ...\n",
       "ValueError: The column \"counts\" is not in the table. The table contains these columns: letter, count, points\n",
       "\n",
       "Whole rows are passed to the function if no columns are specified.\n",
       "\n",
       ">>> t.apply(lambda row: row[1] * 2)\n",
       "array([18,  6,  6,  2])\n",
       "\u001b[0;31mFile:\u001b[0m      ~/.local/lib/python3.11/site-packages/datascience/tables.py\n",
       "\u001b[0;31mType:\u001b[0m      function"
      ]
     },
     "metadata": {},
     "output_type": "display_data"
    }
   ],
   "source": [
    "Table.apply?"
   ]
  },
  {
   "cell_type": "markdown",
   "metadata": {},
   "source": [
    "<details> <summary>Click for Solution</summary> <br><br>   \n",
    "\n",
    "```python\n",
    "def error(predicted, true_value):\n",
    "    return predicted - true_value\n",
    "\n",
    "families = families.with_column(\n",
    "    \"error\", families.apply(error, \"predicted\", \"child\"))\n",
    "families\n",
    "```\n",
    "\n",
    "<br><br></details>"
   ]
  },
  {
   "cell_type": "markdown",
   "metadata": {},
   "source": [
    "Visualizing the distribution of the errors:"
   ]
  },
  {
   "cell_type": "code",
   "execution_count": 30,
   "metadata": {},
   "outputs": [
    {
     "data": {
      "image/png": "[encoded data removed]",
      "text/plain": [
       "<Figure size 600x400 with 1 Axes>"
      ]
     },
     "metadata": {},
     "output_type": "display_data"
    }
   ],
   "source": [
    "families.hist('error')"
   ]
  },
  {
   "cell_type": "markdown",
   "metadata": {},
   "source": [
    "**Discussion:** Is this good?"
   ]
  },
  {
   "cell_type": "code",
   "execution_count": null,
   "metadata": {},
   "outputs": [],
   "source": [
    "# write in your answer here\n",
    "# are you satisfied with this amount of error?"
   ]
  },
  {
   "cell_type": "markdown",
   "metadata": {
    "tags": []
   },
   "source": [
    "### Split by female and male"
   ]
  },
  {
   "cell_type": "markdown",
   "metadata": {},
   "source": [
    "**Exercise:** Overlay the histograms of the error for male and female children.\n",
    "\n",
    "Hint: use the keyword argument `group` in hist()"
   ]
  },
  {
   "cell_type": "code",
   "execution_count": 36,
   "metadata": {},
   "outputs": [
    {
     "data": {
      "image/png": "[encoded data removed]",
      "text/plain": [
       "<Figure size 600x400 with 1 Axes>"
      ]
     },
     "metadata": {},
     "output_type": "display_data"
    }
   ],
   "source": [
    "families.hist('error', group = 'sex')"
   ]
  },
  {
   "cell_type": "markdown",
   "metadata": {},
   "source": [
    "<details> <summary>Click for Solution</summary> <br><br>   \n",
    "\n",
    "```python\n",
    "families.hist('error', group='sex')\n",
    "```\n",
    "\n",
    "<br><br></details>"
   ]
  },
  {
   "cell_type": "markdown",
   "metadata": {},
   "source": [
    "**Discussion:** What do we observe?"
   ]
  },
  {
   "cell_type": "markdown",
   "metadata": {},
   "source": [
    "### Building a Better Predictor\n",
    "\n",
    "Based on what we observed, let's build a better predictor. "
   ]
  },
  {
   "cell_type": "markdown",
   "metadata": {},
   "source": [
    "**Exercise:** Implement a new height prediction function that considers averages the  height of children with the same sex and whose parents had a similar height.\n",
    "\n",
    "*Hint:* Here is the previous function:\n",
    "```python\n",
    "def similar_child_heights(parent_average):\n",
    "    lower_bound = parent_average - window\n",
    "    upper_bound = parent_average + window\n",
    "    return np.average(\n",
    "        families\n",
    "            .where(\"parent average\", are.between(lower_bound, upper_bound))\n",
    "            .column(\"child\")\n",
    "    )\n",
    "```"
   ]
  },
  {
   "cell_type": "code",
   "execution_count": 42,
   "metadata": {},
   "outputs": [],
   "source": [
    "def predict_child_height_with_sex(parent_average, sex):\n",
    "    lower_bound = parent_average - window\n",
    "    upper_bound = parent_average + window\n",
    "    return np.average(\n",
    "    families\n",
    "    .where('sex', sex) # find all matching sex values - same sex for child\n",
    "    .where('parent average', are.between(lower_bound, upper_bound)) # find window of parent average\n",
    "    .column('child') # extract child height column as an array\n",
    "          )"
   ]
  },
  {
   "cell_type": "markdown",
   "metadata": {},
   "source": [
    "<details> <summary>Click for Solution</summary> <br><br>   \n",
    "\n",
    "```python\n",
    "def predict_child_height_with_sex(parent_average, sex):\n",
    "    lower_bound = parent_average - window\n",
    "    upper_bound = parent_average + window\n",
    "    return np.average(\n",
    "        families\n",
    "        .where(\"sex\", sex)\n",
    "        .where(\"parent average\", are.between(lower_bound, upper_bound))\n",
    "        .column(\"child\")\n",
    "    )\n",
    "```\n",
    "\n",
    "<br><br></details>"
   ]
  },
  {
   "cell_type": "markdown",
   "metadata": {},
   "source": [
    "Let's test it out."
   ]
  },
  {
   "cell_type": "code",
   "execution_count": 43,
   "metadata": {},
   "outputs": [
    {
     "data": {
      "text/plain": [
       "69.413168724279842"
      ]
     },
     "execution_count": 43,
     "metadata": {},
     "output_type": "execute_result"
    }
   ],
   "source": [
    "predict_child_height_with_sex(our_average, \"male\")"
   ]
  },
  {
   "cell_type": "code",
   "execution_count": 44,
   "metadata": {},
   "outputs": [
    {
     "data": {
      "text/plain": [
       "64.085589519650668"
      ]
     },
     "execution_count": 44,
     "metadata": {},
     "output_type": "execute_result"
    }
   ],
   "source": [
    "predict_child_height_with_sex(our_average, \"female\")"
   ]
  },
  {
   "cell_type": "markdown",
   "metadata": {},
   "source": [
    "**Exercise:** Apply the better predictor to the table and save the predictions in a column called `\"predicted with sex\"`."
   ]
  },
  {
   "cell_type": "code",
   "execution_count": 45,
   "metadata": {},
   "outputs": [
    {
     "data": {
      "text/html": [
       "<table border=\"1\" class=\"dataframe\">\n",
       "    <thead>\n",
       "        <tr>\n",
       "            <th>family</th> <th>father</th> <th>mother</th> <th>child</th> <th>children</th> <th>order</th> <th>sex</th> <th>parent average</th> <th>predicted</th> <th>error</th> <th>predicted with sex</th>\n",
       "        </tr>\n",
       "    </thead>\n",
       "    <tbody>\n",
       "        <tr>\n",
       "            <td>1     </td> <td>78.5  </td> <td>67    </td> <td>73.2 </td> <td>4       </td> <td>1    </td> <td>male  </td> <td>72.75         </td> <td>70.1     </td> <td>-3.1    </td> <td>73.2              </td>\n",
       "        </tr>\n",
       "        <tr>\n",
       "            <td>1     </td> <td>78.5  </td> <td>67    </td> <td>69.2 </td> <td>4       </td> <td>2    </td> <td>female</td> <td>72.75         </td> <td>70.1     </td> <td>0.9     </td> <td>69.0667           </td>\n",
       "        </tr>\n",
       "        <tr>\n",
       "            <td>1     </td> <td>78.5  </td> <td>67    </td> <td>69   </td> <td>4       </td> <td>3    </td> <td>female</td> <td>72.75         </td> <td>70.1     </td> <td>1.1     </td> <td>69.0667           </td>\n",
       "        </tr>\n",
       "        <tr>\n",
       "            <td>1     </td> <td>78.5  </td> <td>67    </td> <td>69   </td> <td>4       </td> <td>4    </td> <td>female</td> <td>72.75         </td> <td>70.1     </td> <td>1.1     </td> <td>69.0667           </td>\n",
       "        </tr>\n",
       "        <tr>\n",
       "            <td>2     </td> <td>75.5  </td> <td>66.5  </td> <td>73.5 </td> <td>4       </td> <td>1    </td> <td>male  </td> <td>71            </td> <td>69.9971  </td> <td>-3.50286</td> <td>72.7882           </td>\n",
       "        </tr>\n",
       "        <tr>\n",
       "            <td>2     </td> <td>75.5  </td> <td>66.5  </td> <td>72.5 </td> <td>4       </td> <td>2    </td> <td>male  </td> <td>71            </td> <td>69.9971  </td> <td>-2.50286</td> <td>72.7882           </td>\n",
       "        </tr>\n",
       "        <tr>\n",
       "            <td>2     </td> <td>75.5  </td> <td>66.5  </td> <td>65.5 </td> <td>4       </td> <td>3    </td> <td>female</td> <td>71            </td> <td>69.9971  </td> <td>4.49714 </td> <td>67.3611           </td>\n",
       "        </tr>\n",
       "        <tr>\n",
       "            <td>2     </td> <td>75.5  </td> <td>66.5  </td> <td>65.5 </td> <td>4       </td> <td>4    </td> <td>female</td> <td>71            </td> <td>69.9971  </td> <td>4.49714 </td> <td>67.3611           </td>\n",
       "        </tr>\n",
       "        <tr>\n",
       "            <td>3     </td> <td>75    </td> <td>64    </td> <td>71   </td> <td>2       </td> <td>1    </td> <td>male  </td> <td>69.5          </td> <td>68.2092  </td> <td>-2.79083</td> <td>70.9566           </td>\n",
       "        </tr>\n",
       "        <tr>\n",
       "            <td>3     </td> <td>75    </td> <td>64    </td> <td>68   </td> <td>2       </td> <td>2    </td> <td>female</td> <td>69.5          </td> <td>68.2092  </td> <td>0.209174</td> <td>65.6089           </td>\n",
       "        </tr>\n",
       "    </tbody>\n",
       "</table>\n",
       "<p>... (924 rows omitted)</p>"
      ],
      "text/plain": [
       "family | father | mother | child | children | order | sex    | parent average | predicted | error    | predicted with sex\n",
       "1      | 78.5   | 67     | 73.2  | 4        | 1     | male   | 72.75          | 70.1      | -3.1     | 73.2\n",
       "1      | 78.5   | 67     | 69.2  | 4        | 2     | female | 72.75          | 70.1      | 0.9      | 69.0667\n",
       "1      | 78.5   | 67     | 69    | 4        | 3     | female | 72.75          | 70.1      | 1.1      | 69.0667\n",
       "1      | 78.5   | 67     | 69    | 4        | 4     | female | 72.75          | 70.1      | 1.1      | 69.0667\n",
       "2      | 75.5   | 66.5   | 73.5  | 4        | 1     | male   | 71             | 69.9971   | -3.50286 | 72.7882\n",
       "2      | 75.5   | 66.5   | 72.5  | 4        | 2     | male   | 71             | 69.9971   | -2.50286 | 72.7882\n",
       "2      | 75.5   | 66.5   | 65.5  | 4        | 3     | female | 71             | 69.9971   | 4.49714  | 67.3611\n",
       "2      | 75.5   | 66.5   | 65.5  | 4        | 4     | female | 71             | 69.9971   | 4.49714  | 67.3611\n",
       "3      | 75     | 64     | 71    | 2        | 1     | male   | 69.5           | 68.2092   | -2.79083 | 70.9566\n",
       "3      | 75     | 64     | 68    | 2        | 2     | female | 69.5           | 68.2092   | 0.209174 | 65.6089\n",
       "... (924 rows omitted)"
      ]
     },
     "execution_count": 45,
     "metadata": {},
     "output_type": "execute_result"
    }
   ],
   "source": [
    "predicted_with_sex = families.apply(predict_child_height_with_sex, \"parent average\", \"sex\")\n",
    "families = families.with_column(\"predicted with sex\", predicted_with_sex)\n",
    "families"
   ]
  },
  {
   "cell_type": "markdown",
   "metadata": {},
   "source": [
    "<details> <summary>Click for Solution</summary> <br><br>   \n",
    "\n",
    "```python\n",
    "families = families.with_column(\n",
    "    \"predicted with sex\", families.apply(predict_child_height_with_sex, \"parent average\", \"sex\"))\n",
    "families\n",
    "```\n",
    "\n",
    "<br><br></details>"
   ]
  },
  {
   "cell_type": "markdown",
   "metadata": {},
   "source": [
    "**Exercise:** Construct a histogram of the new errors broken down by the sex of the child."
   ]
  },
  {
   "cell_type": "code",
   "execution_count": 46,
   "metadata": {},
   "outputs": [
    {
     "data": {
      "image/png": "[encoded data removed]",
      "text/plain": [
       "<Figure size 600x400 with 1 Axes>"
      ]
     },
     "metadata": {},
     "output_type": "display_data"
    }
   ],
   "source": [
    "error_with_sex = families.apply(error, \"predicted with sex\", \"child\")\n",
    "families = families.with_column(\"error with sex\",  error_with_sex)\n",
    "\n",
    "families.hist(\"error with sex\", group=\"sex\")"
   ]
  },
  {
   "cell_type": "markdown",
   "metadata": {},
   "source": [
    "As a point of comparison"
   ]
  },
  {
   "cell_type": "code",
   "execution_count": 47,
   "metadata": {},
   "outputs": [
    {
     "data": {
      "image/png": "[encoded data removed]",
      "text/plain": [
       "<Figure size 600x400 with 1 Axes>"
      ]
     },
     "metadata": {},
     "output_type": "display_data"
    }
   ],
   "source": [
    "families.hist(\"error\", group=\"sex\")"
   ]
  },
  {
   "cell_type": "markdown",
   "metadata": {},
   "source": [
    "---\n",
    "<center> Return to slides <center>\n",
    "\n",
    "---"
   ]
  },
  {
   "cell_type": "markdown",
   "metadata": {},
   "source": [
    "## Grouping\n",
    "\n",
    "For this part of the notebook we will use the following toy data:"
   ]
  },
  {
   "cell_type": "code",
   "execution_count": null,
   "metadata": {},
   "outputs": [],
   "source": [
    "cones = Table.read_table('data/cones.csv')\n",
    "cones"
   ]
  },
  {
   "cell_type": "markdown",
   "metadata": {},
   "source": [
    "**Exercise:** Use the `group` function to determine the number of cones with each flavor."
   ]
  },
  {
   "cell_type": "code",
   "execution_count": null,
   "metadata": {},
   "outputs": [],
   "source": []
  },
  {
   "cell_type": "markdown",
   "metadata": {},
   "source": [
    "<details> <summary>Click for Solution</summary> <br><br>   \n",
    "\n",
    "```python\n",
    "cones.group('Flavor')\n",
    "```\n",
    "\n",
    "<br><br></details>"
   ]
  },
  {
   "cell_type": "markdown",
   "metadata": {},
   "source": [
    "**Exercise:** Use the `group` function to compute the average price of cones for each flavor."
   ]
  },
  {
   "cell_type": "code",
   "execution_count": null,
   "metadata": {
    "scrolled": true
   },
   "outputs": [],
   "source": []
  },
  {
   "cell_type": "markdown",
   "metadata": {},
   "source": [
    "<details> <summary>Click for Solution</summary> <br><br>   \n",
    "\n",
    "```python\n",
    "cones.group('Flavor', np.average)\n",
    " ```\n",
    "\n",
    "<br><br></details>"
   ]
  },
  {
   "cell_type": "markdown",
   "metadata": {},
   "source": [
    "**Exercise:** Use the `group` function to compute min price of cones for each flavor."
   ]
  },
  {
   "cell_type": "code",
   "execution_count": null,
   "metadata": {},
   "outputs": [],
   "source": []
  },
  {
   "cell_type": "markdown",
   "metadata": {},
   "source": [
    "**Question**:\n",
    "Why does color have a min?"
   ]
  },
  {
   "cell_type": "markdown",
   "metadata": {},
   "source": [
    "<details> <summary>Click for Solution</summary> <br><br>   \n",
    "\n",
    "```python\n",
    "cones.group('Flavor', np.min)\n",
    "```\n",
    "\n",
    "<br><br></details>"
   ]
  },
  {
   "cell_type": "markdown",
   "metadata": {},
   "source": [
    "What is really going on:"
   ]
  },
  {
   "cell_type": "code",
   "execution_count": null,
   "metadata": {},
   "outputs": [],
   "source": [
    "cones"
   ]
  },
  {
   "cell_type": "code",
   "execution_count": null,
   "metadata": {},
   "outputs": [],
   "source": [
    "def my_grp(grp):\n",
    "    print(grp)\n",
    "    return grp\n",
    "\n",
    "cones.group(\"Flavor\", my_grp)"
   ]
  },
  {
   "cell_type": "code",
   "execution_count": null,
   "metadata": {},
   "outputs": [],
   "source": []
  },
  {
   "cell_type": "code",
   "execution_count": null,
   "metadata": {},
   "outputs": [],
   "source": []
  },
  {
   "cell_type": "code",
   "execution_count": null,
   "metadata": {},
   "outputs": [],
   "source": []
  },
  {
   "cell_type": "code",
   "execution_count": null,
   "metadata": {},
   "outputs": [],
   "source": [
    "my_array = make_array(1,2,3)"
   ]
  },
  {
   "cell_type": "code",
   "execution_count": null,
   "metadata": {},
   "outputs": [],
   "source": [
    "sum(my_array)"
   ]
  },
  {
   "cell_type": "code",
   "execution_count": null,
   "metadata": {},
   "outputs": [],
   "source": [
    "sum?"
   ]
  },
  {
   "cell_type": "code",
   "execution_count": null,
   "metadata": {},
   "outputs": [],
   "source": [
    "3 * 3"
   ]
  },
  {
   "cell_type": "code",
   "execution_count": null,
   "metadata": {},
   "outputs": [],
   "source": [
    "3 * 'ha'"
   ]
  },
  {
   "cell_type": "code",
   "execution_count": null,
   "metadata": {},
   "outputs": [],
   "source": [
    "3 * my_array"
   ]
  },
  {
   "cell_type": "code",
   "execution_count": null,
   "metadata": {},
   "outputs": [],
   "source": [
    "round?\n"
   ]
  },
  {
   "cell_type": "code",
   "execution_count": null,
   "metadata": {},
   "outputs": [],
   "source": [
    "round(my_array)"
   ]
  },
  {
   "cell_type": "code",
   "execution_count": null,
   "metadata": {},
   "outputs": [],
   "source": [
    "round(my_array, 2)"
   ]
  },
  {
   "cell_type": "code",
   "execution_count": null,
   "metadata": {},
   "outputs": [],
   "source": []
  }
 ],
 "metadata": {
  "anaconda-cloud": {},
  "kernelspec": {
   "display_name": "Python 3 (ipykernel)",
   "language": "python",
   "name": "python3"
  },
  "language_info": {
   "codemirror_mode": {
    "name": "ipython",
    "version": 3
   },
   "file_extension": ".py",
   "mimetype": "text/x-python",
   "name": "python",
   "nbconvert_exporter": "python",
   "pygments_lexer": "ipython3",
   "version": "3.11.5"
  },
  "vscode": {
   "interpreter": {
    "hash": "210b0a33a8c25339cc601e66ca8609055ad39db27af0f0b06550f5278a6d8020"
   }
  }
 },
 "nbformat": 4,
 "nbformat_minor": 4
}
