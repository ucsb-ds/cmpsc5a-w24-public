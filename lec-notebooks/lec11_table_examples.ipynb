{
 "cells": [
  {
   "cell_type": "code",
   "execution_count": 1,
   "metadata": {
    "tags": []
   },
   "outputs": [],
   "source": [
    "from datascience import *\n",
    "%matplotlib inline\n",
    "\n",
    "import matplotlib.pyplot as plt\n",
    "plt.style.use('fivethirtyeight')\n",
    "\n",
    "import numpy as np\n",
    "import warnings\n",
    "warnings.simplefilter(action='ignore')"
   ]
  },
  {
   "cell_type": "markdown",
   "metadata": {},
   "source": [
    "## Lecture 11"
   ]
  },
  {
   "cell_type": "markdown",
   "metadata": {
    "tags": []
   },
   "source": [
    "## `join()` vs `with_column()`"
   ]
  },
  {
   "cell_type": "markdown",
   "metadata": {
    "tags": []
   },
   "source": [
    "### Example 1: Sections"
   ]
  },
  {
   "cell_type": "code",
   "execution_count": 2,
   "metadata": {
    "tags": []
   },
   "outputs": [
    {
     "data": {
      "text/html": [
       "<table border=\"1\" class=\"dataframe\">\n",
       "    <thead>\n",
       "        <tr>\n",
       "            <th>Section No</th> <th>Room</th>\n",
       "        </tr>\n",
       "    </thead>\n",
       "    <tbody>\n",
       "        <tr>\n",
       "            <td>1         </td> <td>PHELP 1445</td>\n",
       "        </tr>\n",
       "        <tr>\n",
       "            <td>2         </td> <td>NH 1111   </td>\n",
       "        </tr>\n",
       "        <tr>\n",
       "            <td>3         </td> <td>NH 1109   </td>\n",
       "        </tr>\n",
       "        <tr>\n",
       "            <td>4         </td> <td>ARTS 1349 </td>\n",
       "        </tr>\n",
       "        <tr>\n",
       "            <td>5         </td> <td>PHELP 2514</td>\n",
       "        </tr>\n",
       "        <tr>\n",
       "            <td>6         </td> <td>PHELP 2514</td>\n",
       "        </tr>\n",
       "    </tbody>\n",
       "</table>"
      ],
      "text/plain": [
       "Section No | Room\n",
       "1          | PHELP 1445\n",
       "2          | NH 1111\n",
       "3          | NH 1109\n",
       "4          | ARTS 1349\n",
       "5          | PHELP 2514\n",
       "6          | PHELP 2514"
      ]
     },
     "execution_count": 2,
     "metadata": {},
     "output_type": "execute_result"
    }
   ],
   "source": [
    "sections = Table().with_columns('Section No', [1,2,3,4,5,6], \n",
    "                                'Room', ['PHELP 1445', 'NH 1111', 'NH 1109', 'ARTS 1349', 'PHELP 2514', 'PHELP 2514'])\n",
    "sections"
   ]
  },
  {
   "cell_type": "code",
   "execution_count": 3,
   "metadata": {
    "tags": []
   },
   "outputs": [
    {
     "data": {
      "text/html": [
       "<table border=\"1\" class=\"dataframe\">\n",
       "    <thead>\n",
       "        <tr>\n",
       "            <th>Section No</th> <th>Room</th> <th>tas</th>\n",
       "        </tr>\n",
       "    </thead>\n",
       "    <tbody>\n",
       "        <tr>\n",
       "            <td>1         </td> <td>PHELP 1445</td> <td>Steven  </td>\n",
       "        </tr>\n",
       "        <tr>\n",
       "            <td>2         </td> <td>NH 1111   </td> <td>Danish  </td>\n",
       "        </tr>\n",
       "        <tr>\n",
       "            <td>3         </td> <td>NH 1109   </td> <td>Aman    </td>\n",
       "        </tr>\n",
       "        <tr>\n",
       "            <td>4         </td> <td>ARTS 1349 </td> <td>Christos</td>\n",
       "        </tr>\n",
       "        <tr>\n",
       "            <td>5         </td> <td>PHELP 2514</td> <td>Vanessa </td>\n",
       "        </tr>\n",
       "        <tr>\n",
       "            <td>6         </td> <td>PHELP 2514</td> <td>Sean    </td>\n",
       "        </tr>\n",
       "    </tbody>\n",
       "</table>"
      ],
      "text/plain": [
       "Section No | Room       | tas\n",
       "1          | PHELP 1445 | Steven\n",
       "2          | NH 1111    | Danish\n",
       "3          | NH 1109    | Aman\n",
       "4          | ARTS 1349  | Christos\n",
       "5          | PHELP 2514 | Vanessa\n",
       "6          | PHELP 2514 | Sean"
      ]
     },
     "execution_count": 3,
     "metadata": {},
     "output_type": "execute_result"
    }
   ],
   "source": [
    "tas = ['Steven', 'Danish', 'Aman', 'Christos', 'Vanessa', 'Sean']\n",
    "sections.with_column('tas', tas)"
   ]
  },
  {
   "cell_type": "code",
   "execution_count": 4,
   "metadata": {
    "tags": []
   },
   "outputs": [
    {
     "data": {
      "text/html": [
       "<table border=\"1\" class=\"dataframe\">\n",
       "    <thead>\n",
       "        <tr>\n",
       "            <th>room</th> <th>capacity</th> <th>renovated</th>\n",
       "        </tr>\n",
       "    </thead>\n",
       "    <tbody>\n",
       "        <tr>\n",
       "            <td>PHELP 1445</td> <td>35      </td> <td>2018     </td>\n",
       "        </tr>\n",
       "        <tr>\n",
       "            <td>NH 1111   </td> <td>48      </td> <td>2017     </td>\n",
       "        </tr>\n",
       "        <tr>\n",
       "            <td>NH 1109   </td> <td>35      </td> <td>2018     </td>\n",
       "        </tr>\n",
       "        <tr>\n",
       "            <td>ARTS 1349 </td> <td>43      </td> <td>2018     </td>\n",
       "        </tr>\n",
       "        <tr>\n",
       "            <td>PHELP 2514</td> <td>35      </td> <td>2018     </td>\n",
       "        </tr>\n",
       "    </tbody>\n",
       "</table>"
      ],
      "text/plain": [
       "room       | capacity | renovated\n",
       "PHELP 1445 | 35       | 2018\n",
       "NH 1111    | 48       | 2017\n",
       "NH 1109    | 35       | 2018\n",
       "ARTS 1349  | 43       | 2018\n",
       "PHELP 2514 | 35       | 2018"
      ]
     },
     "execution_count": 4,
     "metadata": {},
     "output_type": "execute_result"
    }
   ],
   "source": [
    "rooms = ['PHELP 1445', 'NH 1111', 'NH 1109', 'ARTS 1349', 'PHELP 2514'] # create a list\n",
    "url = []\n",
    "capacity = [35, 48, 35, 43, 35] # create columns as lists and then populate them into a table later\n",
    "renovation = [2018, 2017, 2018, 2018, 2018]\n",
    "rooms = Table().with_columns('room', rooms, 'capacity', capacity, 'renovated', renovation) # add lists to a table\n",
    "rooms"
   ]
  },
  {
   "cell_type": "markdown",
   "metadata": {},
   "source": [
    "### Example 2: Flights"
   ]
  },
  {
   "cell_type": "code",
   "execution_count": 5,
   "metadata": {
    "tags": []
   },
   "outputs": [],
   "source": [
    "def distance(lat1, lon1, lat2, lon2):\n",
    "    # Haversine Formula\n",
    "    r_earth = 4000 #miles\n",
    "    lat1 = np.deg2rad(lat1)\n",
    "    lon1 = np.deg2rad(lon1)\n",
    "    lat2 = np.deg2rad(lat2)\n",
    "    lon2 = np.deg2rad(lon2)\n",
    "    \n",
    "    distance = np.arccos(np.sin(lat1)*np.sin(lat2) + np.cos(lat1)*np.cos(lat2)*np.cos(lon2-lon1)) * r_earth\n",
    "    return distance"
   ]
  },
  {
   "cell_type": "code",
   "execution_count": 11,
   "metadata": {},
   "outputs": [
    {
     "data": {
      "text/html": [
       "<table border=\"1\" class=\"dataframe\">\n",
       "    <thead>\n",
       "        <tr>\n",
       "            <th>month</th> <th>count</th>\n",
       "        </tr>\n",
       "    </thead>\n",
       "    <tbody>\n",
       "        <tr>\n",
       "            <td>1    </td> <td>27004</td>\n",
       "        </tr>\n",
       "        <tr>\n",
       "            <td>2    </td> <td>24951</td>\n",
       "        </tr>\n",
       "        <tr>\n",
       "            <td>3    </td> <td>28834</td>\n",
       "        </tr>\n",
       "        <tr>\n",
       "            <td>4    </td> <td>28330</td>\n",
       "        </tr>\n",
       "        <tr>\n",
       "            <td>5    </td> <td>28796</td>\n",
       "        </tr>\n",
       "        <tr>\n",
       "            <td>6    </td> <td>28243</td>\n",
       "        </tr>\n",
       "        <tr>\n",
       "            <td>7    </td> <td>29425</td>\n",
       "        </tr>\n",
       "        <tr>\n",
       "            <td>8    </td> <td>29327</td>\n",
       "        </tr>\n",
       "        <tr>\n",
       "            <td>9    </td> <td>27574</td>\n",
       "        </tr>\n",
       "        <tr>\n",
       "            <td>10   </td> <td>28889</td>\n",
       "        </tr>\n",
       "    </tbody>\n",
       "</table>\n",
       "<p>... (2 rows omitted)</p>"
      ],
      "text/plain": [
       "month | count\n",
       "1     | 27004\n",
       "2     | 24951\n",
       "3     | 28834\n",
       "4     | 28330\n",
       "5     | 28796\n",
       "6     | 28243\n",
       "7     | 29425\n",
       "8     | 29327\n",
       "9     | 27574\n",
       "10    | 28889\n",
       "... (2 rows omitted)"
      ]
     },
     "execution_count": 11,
     "metadata": {},
     "output_type": "execute_result"
    }
   ],
   "source": [
    "Table.read_table('data/flights.csv').group('month')"
   ]
  },
  {
   "cell_type": "code",
   "execution_count": 12,
   "metadata": {
    "tags": []
   },
   "outputs": [
    {
     "data": {
      "text/html": [
       "<table border=\"1\" class=\"dataframe\">\n",
       "    <thead>\n",
       "        <tr>\n",
       "            <th>faa</th> <th>lat</th> <th>lon</th>\n",
       "        </tr>\n",
       "    </thead>\n",
       "    <tbody>\n",
       "        <tr>\n",
       "            <td>04G </td> <td>41.1305</td> <td>-80.6196</td>\n",
       "        </tr>\n",
       "        <tr>\n",
       "            <td>06A </td> <td>32.4606</td> <td>-85.68  </td>\n",
       "        </tr>\n",
       "        <tr>\n",
       "            <td>06C </td> <td>41.9893</td> <td>-88.1012</td>\n",
       "        </tr>\n",
       "        <tr>\n",
       "            <td>06N </td> <td>41.4319</td> <td>-74.3916</td>\n",
       "        </tr>\n",
       "        <tr>\n",
       "            <td>09J </td> <td>31.0745</td> <td>-81.4278</td>\n",
       "        </tr>\n",
       "        <tr>\n",
       "            <td>0A9 </td> <td>36.3712</td> <td>-82.1734</td>\n",
       "        </tr>\n",
       "        <tr>\n",
       "            <td>0G6 </td> <td>41.4673</td> <td>-84.5068</td>\n",
       "        </tr>\n",
       "        <tr>\n",
       "            <td>0G7 </td> <td>42.8836</td> <td>-76.7812</td>\n",
       "        </tr>\n",
       "        <tr>\n",
       "            <td>0P2 </td> <td>39.7948</td> <td>-76.6472</td>\n",
       "        </tr>\n",
       "        <tr>\n",
       "            <td>0S9 </td> <td>48.0538</td> <td>-122.811</td>\n",
       "        </tr>\n",
       "    </tbody>\n",
       "</table>\n",
       "<p>... (1448 rows omitted)</p>"
      ],
      "text/plain": [
       "faa  | lat     | lon\n",
       "04G  | 41.1305 | -80.6196\n",
       "06A  | 32.4606 | -85.68\n",
       "06C  | 41.9893 | -88.1012\n",
       "06N  | 41.4319 | -74.3916\n",
       "09J  | 31.0745 | -81.4278\n",
       "0A9  | 36.3712 | -82.1734\n",
       "0G6  | 41.4673 | -84.5068\n",
       "0G7  | 42.8836 | -76.7812\n",
       "0P2  | 39.7948 | -76.6472\n",
       "0S9  | 48.0538 | -122.811\n",
       "... (1448 rows omitted)"
      ]
     },
     "execution_count": 12,
     "metadata": {},
     "output_type": "execute_result"
    }
   ],
   "source": [
    "flights = Table.read_table('data/flights.csv').select('carrier', 'flight', 'origin', 'air_time', 'dest')\n",
    "airports = Table.read_table('data/airports.csv').select('faa', 'lat', 'lon')\n",
    "airports"
   ]
  },
  {
   "cell_type": "markdown",
   "metadata": {},
   "source": [
    "**Tasks**\n",
    "We want to get the distribution of the airspeeds\n",
    "\n",
    "- join the airports with the flight data to get location information about origin and destination location\n",
    "    - We need to join the airport table twice; \n",
    "    - therefore we should create two copies of the airports table with distinct labels\n",
    "- apply the havesine formula to get an approximation of the distances between origin and destinations\n",
    "- calculate the speed\n",
    "- create a histogram"
   ]
  },
  {
   "cell_type": "code",
   "execution_count": 15,
   "metadata": {},
   "outputs": [
    {
     "data": {
      "text/html": [
       "<table border=\"1\" class=\"dataframe\">\n",
       "    <thead>\n",
       "        <tr>\n",
       "            <th>carrier</th> <th>flight</th> <th>origin</th> <th>air_time</th> <th>dest</th>\n",
       "        </tr>\n",
       "    </thead>\n",
       "    <tbody>\n",
       "        <tr>\n",
       "            <td>UA     </td> <td>1545  </td> <td>EWR   </td> <td>227     </td> <td>IAH </td>\n",
       "        </tr>\n",
       "        <tr>\n",
       "            <td>UA     </td> <td>1714  </td> <td>LGA   </td> <td>227     </td> <td>IAH </td>\n",
       "        </tr>\n",
       "        <tr>\n",
       "            <td>AA     </td> <td>1141  </td> <td>JFK   </td> <td>160     </td> <td>MIA </td>\n",
       "        </tr>\n",
       "        <tr>\n",
       "            <td>B6     </td> <td>725   </td> <td>JFK   </td> <td>183     </td> <td>BQN </td>\n",
       "        </tr>\n",
       "        <tr>\n",
       "            <td>DL     </td> <td>461   </td> <td>LGA   </td> <td>116     </td> <td>ATL </td>\n",
       "        </tr>\n",
       "        <tr>\n",
       "            <td>UA     </td> <td>1696  </td> <td>EWR   </td> <td>150     </td> <td>ORD </td>\n",
       "        </tr>\n",
       "        <tr>\n",
       "            <td>B6     </td> <td>507   </td> <td>EWR   </td> <td>158     </td> <td>FLL </td>\n",
       "        </tr>\n",
       "        <tr>\n",
       "            <td>EV     </td> <td>5708  </td> <td>LGA   </td> <td>53      </td> <td>IAD </td>\n",
       "        </tr>\n",
       "        <tr>\n",
       "            <td>B6     </td> <td>79    </td> <td>JFK   </td> <td>140     </td> <td>MCO </td>\n",
       "        </tr>\n",
       "        <tr>\n",
       "            <td>AA     </td> <td>301   </td> <td>LGA   </td> <td>138     </td> <td>ORD </td>\n",
       "        </tr>\n",
       "    </tbody>\n",
       "</table>\n",
       "<p>... (336766 rows omitted)</p>"
      ],
      "text/plain": [
       "carrier | flight | origin | air_time | dest\n",
       "UA      | 1545   | EWR    | 227      | IAH\n",
       "UA      | 1714   | LGA    | 227      | IAH\n",
       "AA      | 1141   | JFK    | 160      | MIA\n",
       "B6      | 725    | JFK    | 183      | BQN\n",
       "DL      | 461    | LGA    | 116      | ATL\n",
       "UA      | 1696   | EWR    | 150      | ORD\n",
       "B6      | 507    | EWR    | 158      | FLL\n",
       "EV      | 5708   | LGA    | 53       | IAD\n",
       "B6      | 79     | JFK    | 140      | MCO\n",
       "AA      | 301    | LGA    | 138      | ORD\n",
       "... (336766 rows omitted)"
      ]
     },
     "execution_count": 15,
     "metadata": {},
     "output_type": "execute_result"
    }
   ],
   "source": [
    "flights"
   ]
  },
  {
   "cell_type": "code",
   "execution_count": 17,
   "metadata": {},
   "outputs": [
    {
     "data": {
      "text/html": [
       "<table border=\"1\" class=\"dataframe\">\n",
       "    <thead>\n",
       "        <tr>\n",
       "            <th>faa</th> <th>lat</th> <th>lon</th>\n",
       "        </tr>\n",
       "    </thead>\n",
       "    <tbody>\n",
       "        <tr>\n",
       "            <td>ZYP </td> <td>40.7505</td> <td>-73.9935</td>\n",
       "        </tr>\n",
       "        <tr>\n",
       "            <td>ZWU </td> <td>38.8975</td> <td>-77.0064</td>\n",
       "        </tr>\n",
       "        <tr>\n",
       "            <td>ZWI </td> <td>39.7367</td> <td>-75.5517</td>\n",
       "        </tr>\n",
       "        <tr>\n",
       "            <td>ZVE </td> <td>41.2987</td> <td>-72.926 </td>\n",
       "        </tr>\n",
       "        <tr>\n",
       "            <td>ZUN </td> <td>35.0832</td> <td>-108.792</td>\n",
       "        </tr>\n",
       "        <tr>\n",
       "            <td>ZTY </td> <td>42.3478</td> <td>-71.075 </td>\n",
       "        </tr>\n",
       "        <tr>\n",
       "            <td>ZTF </td> <td>41.0469</td> <td>-73.5415</td>\n",
       "        </tr>\n",
       "        <tr>\n",
       "            <td>ZSY </td> <td>33.6229</td> <td>-111.911</td>\n",
       "        </tr>\n",
       "        <tr>\n",
       "            <td>ZSF </td> <td>42.106 </td> <td>-72.5931</td>\n",
       "        </tr>\n",
       "        <tr>\n",
       "            <td>ZRZ </td> <td>38.948 </td> <td>-76.8719</td>\n",
       "        </tr>\n",
       "    </tbody>\n",
       "</table>\n",
       "<p>... (1448 rows omitted)</p>"
      ],
      "text/plain": [
       "faa  | lat     | lon\n",
       "ZYP  | 40.7505 | -73.9935\n",
       "ZWU  | 38.8975 | -77.0064\n",
       "ZWI  | 39.7367 | -75.5517\n",
       "ZVE  | 41.2987 | -72.926\n",
       "ZUN  | 35.0832 | -108.792\n",
       "ZTY  | 42.3478 | -71.075\n",
       "ZTF  | 41.0469 | -73.5415\n",
       "ZSY  | 33.6229 | -111.911\n",
       "ZSF  | 42.106  | -72.5931\n",
       "ZRZ  | 38.948  | -76.8719\n",
       "... (1448 rows omitted)"
      ]
     },
     "execution_count": 17,
     "metadata": {},
     "output_type": "execute_result"
    }
   ],
   "source": [
    "airports.sort('faa', descending = True)"
   ]
  },
  {
   "cell_type": "code",
   "execution_count": 14,
   "metadata": {
    "tags": []
   },
   "outputs": [],
   "source": [
    "airports_origin = airports.relabeled('lat','lat_o').relabeled('lon','lon_o')\n",
    "airports_dest = airports.relabeled('lat','lat_d').relabeled('lon','lon_d')"
   ]
  },
  {
   "cell_type": "code",
   "execution_count": 20,
   "metadata": {},
   "outputs": [],
   "source": [
    "flights = Table.read_table('data/flights.csv').select('carrier', 'flight', 'origin', 'air_time', 'dest')\n"
   ]
  },
  {
   "cell_type": "code",
   "execution_count": 21,
   "metadata": {},
   "outputs": [
    {
     "data": {
      "text/html": [
       "<table border=\"1\" class=\"dataframe\">\n",
       "    <thead>\n",
       "        <tr>\n",
       "            <th>dest</th> <th>origin</th> <th>carrier</th> <th>flight</th> <th>air_time</th> <th>lat_o</th> <th>lon_o</th> <th>lat_d</th> <th>lon_d</th>\n",
       "        </tr>\n",
       "    </thead>\n",
       "    <tbody>\n",
       "        <tr>\n",
       "            <td>ABQ </td> <td>JFK   </td> <td>B6     </td> <td>65    </td> <td>230     </td> <td>40.6398</td> <td>-73.7789</td> <td>35.0402</td> <td>-106.609</td>\n",
       "        </tr>\n",
       "        <tr>\n",
       "            <td>ABQ </td> <td>JFK   </td> <td>B6     </td> <td>65    </td> <td>238     </td> <td>40.6398</td> <td>-73.7789</td> <td>35.0402</td> <td>-106.609</td>\n",
       "        </tr>\n",
       "        <tr>\n",
       "            <td>ABQ </td> <td>JFK   </td> <td>B6     </td> <td>65    </td> <td>251     </td> <td>40.6398</td> <td>-73.7789</td> <td>35.0402</td> <td>-106.609</td>\n",
       "        </tr>\n",
       "        <tr>\n",
       "            <td>ABQ </td> <td>JFK   </td> <td>B6     </td> <td>65    </td> <td>257     </td> <td>40.6398</td> <td>-73.7789</td> <td>35.0402</td> <td>-106.609</td>\n",
       "        </tr>\n",
       "        <tr>\n",
       "            <td>ABQ </td> <td>JFK   </td> <td>B6     </td> <td>65    </td> <td>242     </td> <td>40.6398</td> <td>-73.7789</td> <td>35.0402</td> <td>-106.609</td>\n",
       "        </tr>\n",
       "        <tr>\n",
       "            <td>ABQ </td> <td>JFK   </td> <td>B6     </td> <td>65    </td> <td>240     </td> <td>40.6398</td> <td>-73.7789</td> <td>35.0402</td> <td>-106.609</td>\n",
       "        </tr>\n",
       "        <tr>\n",
       "            <td>ABQ </td> <td>JFK   </td> <td>B6     </td> <td>65    </td> <td>246     </td> <td>40.6398</td> <td>-73.7789</td> <td>35.0402</td> <td>-106.609</td>\n",
       "        </tr>\n",
       "        <tr>\n",
       "            <td>ABQ </td> <td>JFK   </td> <td>B6     </td> <td>65    </td> <td>233     </td> <td>40.6398</td> <td>-73.7789</td> <td>35.0402</td> <td>-106.609</td>\n",
       "        </tr>\n",
       "        <tr>\n",
       "            <td>ABQ </td> <td>JFK   </td> <td>B6     </td> <td>65    </td> <td>236     </td> <td>40.6398</td> <td>-73.7789</td> <td>35.0402</td> <td>-106.609</td>\n",
       "        </tr>\n",
       "        <tr>\n",
       "            <td>ABQ </td> <td>JFK   </td> <td>B6     </td> <td>65    </td> <td>245     </td> <td>40.6398</td> <td>-73.7789</td> <td>35.0402</td> <td>-106.609</td>\n",
       "        </tr>\n",
       "    </tbody>\n",
       "</table>\n",
       "<p>... (329164 rows omitted)</p>"
      ],
      "text/plain": [
       "dest | origin | carrier | flight | air_time | lat_o   | lon_o    | lat_d   | lon_d\n",
       "ABQ  | JFK    | B6      | 65     | 230      | 40.6398 | -73.7789 | 35.0402 | -106.609\n",
       "ABQ  | JFK    | B6      | 65     | 238      | 40.6398 | -73.7789 | 35.0402 | -106.609\n",
       "ABQ  | JFK    | B6      | 65     | 251      | 40.6398 | -73.7789 | 35.0402 | -106.609\n",
       "ABQ  | JFK    | B6      | 65     | 257      | 40.6398 | -73.7789 | 35.0402 | -106.609\n",
       "ABQ  | JFK    | B6      | 65     | 242      | 40.6398 | -73.7789 | 35.0402 | -106.609\n",
       "ABQ  | JFK    | B6      | 65     | 240      | 40.6398 | -73.7789 | 35.0402 | -106.609\n",
       "ABQ  | JFK    | B6      | 65     | 246      | 40.6398 | -73.7789 | 35.0402 | -106.609\n",
       "ABQ  | JFK    | B6      | 65     | 233      | 40.6398 | -73.7789 | 35.0402 | -106.609\n",
       "ABQ  | JFK    | B6      | 65     | 236      | 40.6398 | -73.7789 | 35.0402 | -106.609\n",
       "ABQ  | JFK    | B6      | 65     | 245      | 40.6398 | -73.7789 | 35.0402 | -106.609\n",
       "... (329164 rows omitted)"
      ]
     },
     "execution_count": 21,
     "metadata": {},
     "output_type": "execute_result"
    }
   ],
   "source": [
    "flights = flights.join('origin', airports_origin, 'faa')\n",
    "flights = flights.join('dest', airports_dest, 'faa')\n",
    "flights"
   ]
  },
  {
   "cell_type": "code",
   "execution_count": 23,
   "metadata": {},
   "outputs": [
    {
     "data": {
      "text/html": [
       "<table border=\"1\" class=\"dataframe\">\n",
       "    <thead>\n",
       "        <tr>\n",
       "            <th>dest</th> <th>origin</th> <th>carrier</th> <th>flight</th> <th>air_time</th> <th>lat_o</th> <th>lon_o</th> <th>lat_d</th> <th>lon_d</th> <th>distance</th>\n",
       "        </tr>\n",
       "    </thead>\n",
       "    <tbody>\n",
       "        <tr>\n",
       "            <td>ABQ </td> <td>JFK   </td> <td>B6     </td> <td>65    </td> <td>230     </td> <td>40.6398</td> <td>-73.7789</td> <td>35.0402</td> <td>-106.609</td> <td>1840.5  </td>\n",
       "        </tr>\n",
       "        <tr>\n",
       "            <td>ABQ </td> <td>JFK   </td> <td>B6     </td> <td>65    </td> <td>238     </td> <td>40.6398</td> <td>-73.7789</td> <td>35.0402</td> <td>-106.609</td> <td>1840.5  </td>\n",
       "        </tr>\n",
       "        <tr>\n",
       "            <td>ABQ </td> <td>JFK   </td> <td>B6     </td> <td>65    </td> <td>251     </td> <td>40.6398</td> <td>-73.7789</td> <td>35.0402</td> <td>-106.609</td> <td>1840.5  </td>\n",
       "        </tr>\n",
       "        <tr>\n",
       "            <td>ABQ </td> <td>JFK   </td> <td>B6     </td> <td>65    </td> <td>257     </td> <td>40.6398</td> <td>-73.7789</td> <td>35.0402</td> <td>-106.609</td> <td>1840.5  </td>\n",
       "        </tr>\n",
       "        <tr>\n",
       "            <td>ABQ </td> <td>JFK   </td> <td>B6     </td> <td>65    </td> <td>242     </td> <td>40.6398</td> <td>-73.7789</td> <td>35.0402</td> <td>-106.609</td> <td>1840.5  </td>\n",
       "        </tr>\n",
       "        <tr>\n",
       "            <td>ABQ </td> <td>JFK   </td> <td>B6     </td> <td>65    </td> <td>240     </td> <td>40.6398</td> <td>-73.7789</td> <td>35.0402</td> <td>-106.609</td> <td>1840.5  </td>\n",
       "        </tr>\n",
       "        <tr>\n",
       "            <td>ABQ </td> <td>JFK   </td> <td>B6     </td> <td>65    </td> <td>246     </td> <td>40.6398</td> <td>-73.7789</td> <td>35.0402</td> <td>-106.609</td> <td>1840.5  </td>\n",
       "        </tr>\n",
       "        <tr>\n",
       "            <td>ABQ </td> <td>JFK   </td> <td>B6     </td> <td>65    </td> <td>233     </td> <td>40.6398</td> <td>-73.7789</td> <td>35.0402</td> <td>-106.609</td> <td>1840.5  </td>\n",
       "        </tr>\n",
       "        <tr>\n",
       "            <td>ABQ </td> <td>JFK   </td> <td>B6     </td> <td>65    </td> <td>236     </td> <td>40.6398</td> <td>-73.7789</td> <td>35.0402</td> <td>-106.609</td> <td>1840.5  </td>\n",
       "        </tr>\n",
       "        <tr>\n",
       "            <td>ABQ </td> <td>JFK   </td> <td>B6     </td> <td>65    </td> <td>245     </td> <td>40.6398</td> <td>-73.7789</td> <td>35.0402</td> <td>-106.609</td> <td>1840.5  </td>\n",
       "        </tr>\n",
       "    </tbody>\n",
       "</table>\n",
       "<p>... (329164 rows omitted)</p>"
      ],
      "text/plain": [
       "dest | origin | carrier | flight | air_time | lat_o   | lon_o    | lat_d   | lon_d    | distance\n",
       "ABQ  | JFK    | B6      | 65     | 230      | 40.6398 | -73.7789 | 35.0402 | -106.609 | 1840.5\n",
       "ABQ  | JFK    | B6      | 65     | 238      | 40.6398 | -73.7789 | 35.0402 | -106.609 | 1840.5\n",
       "ABQ  | JFK    | B6      | 65     | 251      | 40.6398 | -73.7789 | 35.0402 | -106.609 | 1840.5\n",
       "ABQ  | JFK    | B6      | 65     | 257      | 40.6398 | -73.7789 | 35.0402 | -106.609 | 1840.5\n",
       "ABQ  | JFK    | B6      | 65     | 242      | 40.6398 | -73.7789 | 35.0402 | -106.609 | 1840.5\n",
       "ABQ  | JFK    | B6      | 65     | 240      | 40.6398 | -73.7789 | 35.0402 | -106.609 | 1840.5\n",
       "ABQ  | JFK    | B6      | 65     | 246      | 40.6398 | -73.7789 | 35.0402 | -106.609 | 1840.5\n",
       "ABQ  | JFK    | B6      | 65     | 233      | 40.6398 | -73.7789 | 35.0402 | -106.609 | 1840.5\n",
       "ABQ  | JFK    | B6      | 65     | 236      | 40.6398 | -73.7789 | 35.0402 | -106.609 | 1840.5\n",
       "ABQ  | JFK    | B6      | 65     | 245      | 40.6398 | -73.7789 | 35.0402 | -106.609 | 1840.5\n",
       "... (329164 rows omitted)"
      ]
     },
     "execution_count": 23,
     "metadata": {},
     "output_type": "execute_result"
    }
   ],
   "source": [
    "dist = flights.apply(distance, 'lat_o', 'lon_o', 'lat_d','lon_d')\n",
    "flights = flights.with_column('distance', dist)\n",
    "flights"
   ]
  },
  {
   "cell_type": "code",
   "execution_count": 25,
   "metadata": {},
   "outputs": [
    {
     "data": {
      "text/html": [
       "<table border=\"1\" class=\"dataframe\">\n",
       "    <thead>\n",
       "        <tr>\n",
       "            <th>dest</th> <th>origin</th> <th>carrier</th> <th>flight</th> <th>air_time</th> <th>lat_o</th> <th>lon_o</th> <th>lat_d</th> <th>lon_d</th> <th>distance</th> <th>speed</th>\n",
       "        </tr>\n",
       "    </thead>\n",
       "    <tbody>\n",
       "        <tr>\n",
       "            <td>ABQ </td> <td>JFK   </td> <td>B6     </td> <td>65    </td> <td>230     </td> <td>40.6398</td> <td>-73.7789</td> <td>35.0402</td> <td>-106.609</td> <td>1840.5  </td> <td>480.13 </td>\n",
       "        </tr>\n",
       "        <tr>\n",
       "            <td>ABQ </td> <td>JFK   </td> <td>B6     </td> <td>65    </td> <td>238     </td> <td>40.6398</td> <td>-73.7789</td> <td>35.0402</td> <td>-106.609</td> <td>1840.5  </td> <td>463.991</td>\n",
       "        </tr>\n",
       "        <tr>\n",
       "            <td>ABQ </td> <td>JFK   </td> <td>B6     </td> <td>65    </td> <td>251     </td> <td>40.6398</td> <td>-73.7789</td> <td>35.0402</td> <td>-106.609</td> <td>1840.5  </td> <td>439.96 </td>\n",
       "        </tr>\n",
       "        <tr>\n",
       "            <td>ABQ </td> <td>JFK   </td> <td>B6     </td> <td>65    </td> <td>257     </td> <td>40.6398</td> <td>-73.7789</td> <td>35.0402</td> <td>-106.609</td> <td>1840.5  </td> <td>429.689</td>\n",
       "        </tr>\n",
       "        <tr>\n",
       "            <td>ABQ </td> <td>JFK   </td> <td>B6     </td> <td>65    </td> <td>242     </td> <td>40.6398</td> <td>-73.7789</td> <td>35.0402</td> <td>-106.609</td> <td>1840.5  </td> <td>456.322</td>\n",
       "        </tr>\n",
       "        <tr>\n",
       "            <td>ABQ </td> <td>JFK   </td> <td>B6     </td> <td>65    </td> <td>240     </td> <td>40.6398</td> <td>-73.7789</td> <td>35.0402</td> <td>-106.609</td> <td>1840.5  </td> <td>460.125</td>\n",
       "        </tr>\n",
       "        <tr>\n",
       "            <td>ABQ </td> <td>JFK   </td> <td>B6     </td> <td>65    </td> <td>246     </td> <td>40.6398</td> <td>-73.7789</td> <td>35.0402</td> <td>-106.609</td> <td>1840.5  </td> <td>448.902</td>\n",
       "        </tr>\n",
       "        <tr>\n",
       "            <td>ABQ </td> <td>JFK   </td> <td>B6     </td> <td>65    </td> <td>233     </td> <td>40.6398</td> <td>-73.7789</td> <td>35.0402</td> <td>-106.609</td> <td>1840.5  </td> <td>473.948</td>\n",
       "        </tr>\n",
       "        <tr>\n",
       "            <td>ABQ </td> <td>JFK   </td> <td>B6     </td> <td>65    </td> <td>236     </td> <td>40.6398</td> <td>-73.7789</td> <td>35.0402</td> <td>-106.609</td> <td>1840.5  </td> <td>467.924</td>\n",
       "        </tr>\n",
       "        <tr>\n",
       "            <td>ABQ </td> <td>JFK   </td> <td>B6     </td> <td>65    </td> <td>245     </td> <td>40.6398</td> <td>-73.7789</td> <td>35.0402</td> <td>-106.609</td> <td>1840.5  </td> <td>450.735</td>\n",
       "        </tr>\n",
       "    </tbody>\n",
       "</table>\n",
       "<p>... (329164 rows omitted)</p>"
      ],
      "text/plain": [
       "dest | origin | carrier | flight | air_time | lat_o   | lon_o    | lat_d   | lon_d    | distance | speed\n",
       "ABQ  | JFK    | B6      | 65     | 230      | 40.6398 | -73.7789 | 35.0402 | -106.609 | 1840.5   | 480.13\n",
       "ABQ  | JFK    | B6      | 65     | 238      | 40.6398 | -73.7789 | 35.0402 | -106.609 | 1840.5   | 463.991\n",
       "ABQ  | JFK    | B6      | 65     | 251      | 40.6398 | -73.7789 | 35.0402 | -106.609 | 1840.5   | 439.96\n",
       "ABQ  | JFK    | B6      | 65     | 257      | 40.6398 | -73.7789 | 35.0402 | -106.609 | 1840.5   | 429.689\n",
       "ABQ  | JFK    | B6      | 65     | 242      | 40.6398 | -73.7789 | 35.0402 | -106.609 | 1840.5   | 456.322\n",
       "ABQ  | JFK    | B6      | 65     | 240      | 40.6398 | -73.7789 | 35.0402 | -106.609 | 1840.5   | 460.125\n",
       "ABQ  | JFK    | B6      | 65     | 246      | 40.6398 | -73.7789 | 35.0402 | -106.609 | 1840.5   | 448.902\n",
       "ABQ  | JFK    | B6      | 65     | 233      | 40.6398 | -73.7789 | 35.0402 | -106.609 | 1840.5   | 473.948\n",
       "ABQ  | JFK    | B6      | 65     | 236      | 40.6398 | -73.7789 | 35.0402 | -106.609 | 1840.5   | 467.924\n",
       "ABQ  | JFK    | B6      | 65     | 245      | 40.6398 | -73.7789 | 35.0402 | -106.609 | 1840.5   | 450.735\n",
       "... (329164 rows omitted)"
      ]
     },
     "execution_count": 25,
     "metadata": {},
     "output_type": "execute_result"
    }
   ],
   "source": [
    "speed = flights.column('distance') / flights.column('air_time') * 60\n",
    "flights = flights.with_column('speed',speed)\n",
    "flights"
   ]
  },
  {
   "cell_type": "code",
   "execution_count": 26,
   "metadata": {},
   "outputs": [
    {
     "data": {
      "image/png": "[encoded data removed]",
      "text/plain": [
       "<Figure size 600x400 with 1 Axes>"
      ]
     },
     "metadata": {},
     "output_type": "display_data"
    }
   ],
   "source": [
    "flights.hist('speed')"
   ]
  },
  {
   "cell_type": "code",
   "execution_count": null,
   "metadata": {},
   "outputs": [],
   "source": []
  },
  {
   "cell_type": "markdown",
   "metadata": {},
   "source": [
    "---\n",
    "Back to slides\n",
    "\n",
    "---"
   ]
  },
  {
   "cell_type": "markdown",
   "metadata": {},
   "source": [
    "## Bike Sharing ##"
   ]
  },
  {
   "cell_type": "code",
   "execution_count": null,
   "metadata": {
    "tags": []
   },
   "outputs": [],
   "source": [
    "trip = Table.read_table('data/trip.csv')\n",
    "trip.show(3)"
   ]
  },
  {
   "cell_type": "markdown",
   "metadata": {},
   "source": [
    "## Distribution of Durations ##"
   ]
  },
  {
   "cell_type": "code",
   "execution_count": null,
   "metadata": {
    "tags": []
   },
   "outputs": [],
   "source": [
    "trip.hist('Duration')"
   ]
  },
  {
   "cell_type": "markdown",
   "metadata": {},
   "source": [
    "**Question** What is going on??"
   ]
  },
  {
   "cell_type": "code",
   "execution_count": null,
   "metadata": {
    "tags": []
   },
   "outputs": [],
   "source": [
    "trip.sort('Duration', descending=True)"
   ]
  },
  {
   "cell_type": "markdown",
   "metadata": {},
   "source": [
    "**Task** \n",
    "- Let's find trips that were shorter than 30 minutes and create a histogram of those\n",
    "- Let's set the bins to 5 minute bins and add a unit"
   ]
  },
  {
   "cell_type": "code",
   "execution_count": null,
   "metadata": {
    "tags": []
   },
   "outputs": [],
   "source": []
  },
  {
   "cell_type": "markdown",
   "metadata": {
    "tags": []
   },
   "source": [
    "**Question**\n",
    "What share of trips was between 5 and 10 minutes?\n",
    "- eyeball from reading the histogram\n",
    "- find the exact value (using table functions)"
   ]
  },
  {
   "cell_type": "code",
   "execution_count": null,
   "metadata": {
    "tags": []
   },
   "outputs": [],
   "source": [
    "# Eyeball:\n"
   ]
  },
  {
   "cell_type": "code",
   "execution_count": null,
   "metadata": {
    "tags": []
   },
   "outputs": [],
   "source": [
    "# Exact:\n"
   ]
  },
  {
   "cell_type": "markdown",
   "metadata": {},
   "source": [
    "## Start and End Stations \n",
    "- How many (start) stations are there?\n",
    "- let's find the most common start station"
   ]
  },
  {
   "cell_type": "code",
   "execution_count": null,
   "metadata": {
    "tags": []
   },
   "outputs": [],
   "source": []
  },
  {
   "cell_type": "markdown",
   "metadata": {},
   "source": [
    "**Tasks**\n",
    "\n",
    "let's\n",
    "- find the count of trips between each station combination\n",
    "    - Why do we have a trip count of 0 for some of the combinations?\n",
    "    - Is it plausible that there are trips that start and stop at the same station? \n",
    "- find the average trip time between each station\n",
    "    - The average might be skewed by people taking a long time because they e.g. got food on the way. \n",
    "    - How could we find the typical trip time between each station? \n",
    "    - Or maybe the fastest?\n",
    "\n",
    "**Question:** Should we use `group()` or `pivot()`?"
   ]
  },
  {
   "cell_type": "code",
   "execution_count": null,
   "metadata": {
    "tags": []
   },
   "outputs": [],
   "source": []
  },
  {
   "cell_type": "markdown",
   "metadata": {},
   "source": [
    "## Discussion question\n",
    "Find the 5 stations closest to Civic Center BART by minimum trip time.\n",
    "\n",
    "Things you need to do:\n",
    "- find all the trips that start at `Civic Center BART (7th at Market)`\n",
    "- find the shortest trip between stations\n",
    "- optionally, subset the dataset to only the relevant columns"
   ]
  },
  {
   "cell_type": "code",
   "execution_count": null,
   "metadata": {
    "tags": []
   },
   "outputs": [],
   "source": []
  },
  {
   "cell_type": "markdown",
   "metadata": {},
   "source": [
    "## Maps \n",
    "Geographical data on the stations\n"
   ]
  },
  {
   "cell_type": "code",
   "execution_count": null,
   "metadata": {
    "tags": []
   },
   "outputs": [],
   "source": [
    "stations = Table.read_table('data/station.csv').drop(4, 6)\n",
    "stations"
   ]
  },
  {
   "cell_type": "code",
   "execution_count": null,
   "metadata": {
    "tags": []
   },
   "outputs": [],
   "source": [
    "sf_stations = stations.where('landmark', are.equal_to('San Francisco'))\n",
    "sf_stations_map_data = (sf_stations.select('lat', 'long', 'name').relabeled('name', 'labels'))\n",
    "sf_stations_map_data.show(3)"
   ]
  },
  {
   "cell_type": "code",
   "execution_count": null,
   "metadata": {
    "tags": []
   },
   "outputs": [],
   "source": [
    "Marker.map_table(sf_stations_map_data)"
   ]
  },
  {
   "cell_type": "code",
   "execution_count": null,
   "metadata": {
    "tags": []
   },
   "outputs": [],
   "source": [
    "Circle.map_table(sf_stations_map_data)"
   ]
  },
  {
   "cell_type": "markdown",
   "metadata": {},
   "source": [
    "### Discussion question"
   ]
  },
  {
   "cell_type": "markdown",
   "metadata": {},
   "source": [
    "Map all stations within 4 minutes (minimum ride time) of Civic Center."
   ]
  },
  {
   "cell_type": "code",
   "execution_count": null,
   "metadata": {
    "tags": []
   },
   "outputs": [],
   "source": []
  },
  {
   "cell_type": "code",
   "execution_count": null,
   "metadata": {
    "tags": []
   },
   "outputs": [],
   "source": []
  },
  {
   "cell_type": "markdown",
   "metadata": {},
   "source": [
    "## Example Questions\n",
    "\n",
    "For each of the following, write a Python expression that returns the given data:\n",
    "\n",
    "1. The name of the station where most rentals ended\n",
    "2. The number of stations for which the average duration of trips ending at that station was more than 10 minutes\n",
    "3. The number of stations that have more than 500 starts and more than 500 ends."
   ]
  },
  {
   "cell_type": "code",
   "execution_count": null,
   "metadata": {},
   "outputs": [],
   "source": []
  }
 ],
 "metadata": {
  "kernelspec": {
   "display_name": "Python 3 (ipykernel)",
   "language": "python",
   "name": "python3"
  },
  "language_info": {
   "codemirror_mode": {
    "name": "ipython",
    "version": 3
   },
   "file_extension": ".py",
   "mimetype": "text/x-python",
   "name": "python",
   "nbconvert_exporter": "python",
   "pygments_lexer": "ipython3",
   "version": "3.11.5"
  }
 },
 "nbformat": 4,
 "nbformat_minor": 4
}
