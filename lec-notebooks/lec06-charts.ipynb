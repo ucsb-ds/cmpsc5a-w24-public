{
 "cells": [
  {
   "cell_type": "markdown",
   "metadata": {},
   "source": [
    "## Lecture 06 : Data Visualization (Part 1)\n",
    "\n",
    "This is the first of a two part lecture examining data visualization.  In this part, we focus on line, scatter, and bar plots. These can be very helpful when trying to understand your data and when communicating properties of your data. "
   ]
  },
  {
   "cell_type": "markdown",
   "metadata": {},
   "source": [
    "The standard imports we use for most lectures."
   ]
  },
  {
   "cell_type": "code",
   "execution_count": null,
   "metadata": {
    "tags": []
   },
   "outputs": [],
   "source": [
    "from datascience import *\n",
    "import numpy as np"
   ]
  },
  {
   "cell_type": "markdown",
   "metadata": {},
   "source": [
    "These are the new commands we use to setup the plotting tools.  You don't need to understand these but you need to run them at the beginning of your notebook:"
   ]
  },
  {
   "cell_type": "code",
   "execution_count": null,
   "metadata": {
    "tags": []
   },
   "outputs": [],
   "source": [
    "# This command enables plots to appear directly in your notebook.\n",
    "%matplotlib inline\n",
    "\n",
    "# This includes the powerful matplotlib plotting library\n",
    "import matplotlib.pyplot as plots\n",
    "\n",
    "# This sets the style to mirror that of the popular fivethirtyeight blog ...\n",
    "plots.style.use('fivethirtyeight')"
   ]
  },
  {
   "cell_type": "markdown",
   "metadata": {},
   "source": [
    "---\n",
    "\n",
    "# Preparing the Census Data\n",
    "\n",
    "In this lecture we continue with the census data.  However, before we proceed we will do some initial cleanup."
   ]
  },
  {
   "cell_type": "code",
   "execution_count": null,
   "metadata": {
    "tags": []
   },
   "outputs": [],
   "source": [
    "full = Table.read_table('data/nc-est2019-agesex-res.csv')\n",
    "full"
   ]
  },
  {
   "cell_type": "markdown",
   "metadata": {},
   "source": [
    "**Exercise:** Simplify the table to contain just the `\"SEX\"`, `\"AGE\"`, and the population estimates for `\"2014\"` and `\"2019\"`. Remove the aggregate data stored in `\"AGE\"=999\"` (see previous lecture for details). Save the result in a table called `data`."
   ]
  },
  {
   "cell_type": "code",
   "execution_count": null,
   "metadata": {},
   "outputs": [],
   "source": []
  },
  {
   "cell_type": "markdown",
   "metadata": {},
   "source": [
    "<details><summary>Click to Expand Solution</summary>\n",
    "    \n",
    "\n",
    "```python\n",
    "data = (\n",
    "    full\n",
    "        .select('SEX', 'AGE', 'POPESTIMATE2014', 'POPESTIMATE2019')\n",
    "        .relabeled('POPESTIMATE2014', '2014')\n",
    "        .relabeled('POPESTIMATE2019', '2019')\n",
    "        .where('AGE', are.not_equal_to(999)) # remove aggregates   \n",
    ")\n",
    "data\n",
    "```\n",
    "    \n",
    "Notice in this solution we use an extra parenthesis:\n",
    "\n",
    "```python\n",
    "data = (\n",
    "    # I put my code \n",
    "    # on multiple lines here\n",
    ")\n",
    "```\n",
    "    \n",
    "This allows me to break the expression over multiple lines.  \n",
    "\n",
    "</details>"
   ]
  },
  {
   "cell_type": "markdown",
   "metadata": {},
   "source": [
    "--- \n",
    "\n",
    "# Line Plots \n",
    "\n",
    "Line plots are used to visualize the relationship between two numerical variables where we believe one is a function of the other.  There is single x (horizontal axis) value and one or more y (vertical axis) values.  "
   ]
  },
  {
   "cell_type": "markdown",
   "metadata": {},
   "source": [
    "**Exercise:** Plot the relationship between age and the *total population* at that age in 2019."
   ]
  },
  {
   "cell_type": "code",
   "execution_count": null,
   "metadata": {
    "tags": []
   },
   "outputs": [],
   "source": []
  },
  {
   "cell_type": "markdown",
   "metadata": {},
   "source": [
    "<details><summary>Click to Expand Solution</summary>\n",
    "    \n",
    "\n",
    "```python\n",
    "data.where(\"SEX\", 0).plot('AGE', '2019')\n",
    "```\n",
    "\n",
    "</details>"
   ]
  },
  {
   "cell_type": "markdown",
   "metadata": {},
   "source": [
    "**Exercise:** What happens when I plot something like:"
   ]
  },
  {
   "cell_type": "code",
   "execution_count": null,
   "metadata": {},
   "outputs": [],
   "source": [
    "data.plot(\"AGE\", \"2019\", marker=\"o\")"
   ]
  },
  {
   "cell_type": "markdown",
   "metadata": {},
   "source": [
    "What happened?"
   ]
  },
  {
   "cell_type": "markdown",
   "metadata": {},
   "source": [
    "**Exercise:** How does the population change between `2014` and `2019`? Plot both years"
   ]
  },
  {
   "cell_type": "code",
   "execution_count": null,
   "metadata": {},
   "outputs": [],
   "source": []
  },
  {
   "cell_type": "markdown",
   "metadata": {},
   "source": [
    "**Exercise:** It is very difficult to relate both years by looking at two separate plots.  Merge both plots into a single plot. (Try making it interactive by replacing `plot` with `iplot`)"
   ]
  },
  {
   "cell_type": "code",
   "execution_count": null,
   "metadata": {},
   "outputs": [],
   "source": []
  },
  {
   "cell_type": "markdown",
   "metadata": {},
   "source": [
    "What do we observe?"
   ]
  },
  {
   "cell_type": "markdown",
   "metadata": {},
   "source": [
    "---\n",
    "\n",
    "## Males vs Females\n",
    "\n",
    "How does the proportion of males and females change with age?"
   ]
  },
  {
   "cell_type": "markdown",
   "metadata": {},
   "source": [
    "**Exercise:** Create a table containing three columns `\"Age\"`, `\"Males\"`, and `\"Females\"` with the corresponding population counts for 2019."
   ]
  },
  {
   "cell_type": "code",
   "execution_count": null,
   "metadata": {},
   "outputs": [],
   "source": []
  },
  {
   "cell_type": "markdown",
   "metadata": {},
   "source": [
    "**Exercise:** Plot the number of males and females against their age as two separate lines."
   ]
  },
  {
   "cell_type": "code",
   "execution_count": null,
   "metadata": {},
   "outputs": [],
   "source": []
  },
  {
   "cell_type": "markdown",
   "metadata": {},
   "source": [
    "**Exercise:** Add a column containing the proportion of females and plot that against age."
   ]
  },
  {
   "cell_type": "code",
   "execution_count": null,
   "metadata": {},
   "outputs": [],
   "source": []
  },
  {
   "cell_type": "markdown",
   "metadata": {},
   "source": [
    "Notice there is a large change in the proportion of females at older ages. You can't see this easily in the earlier visualization.  This is why we will often construct multiple visualizations with additional transformations to help reveal potentially interesting patterns in our data."
   ]
  },
  {
   "cell_type": "markdown",
   "metadata": {},
   "source": [
    "--- \n",
    "\n",
    "# Scatter Plots \n",
    "\n",
    "Scatter plots are also used to visualize the relationship between numerical data.  However, unlike line plots they can be more flexible and do not imply a functional relationship between data. "
   ]
  },
  {
   "cell_type": "markdown",
   "metadata": {},
   "source": [
    "Here we will examine the `\"actors.csv\"` table which contains 50 rows, corresponding to the 50 top grossing actors. The table is already sorted by `\"Total Gross\"`, so it is easy to see that *Harrison Ford* is the highest grossing actor."
   ]
  },
  {
   "cell_type": "code",
   "execution_count": null,
   "metadata": {
    "tags": []
   },
   "outputs": [],
   "source": [
    "# Actors and their highest grossing movies\n",
    "actors = Table.read_table('data/actors.csv')\n",
    "actors"
   ]
  },
  {
   "cell_type": "markdown",
   "metadata": {},
   "source": [
    "**Exercise:** Construct a scatter plot examining the relationship between `\"Number of Movies\"` and `\"Average per Movie\"`. (Try using `iscatter` instead.)"
   ]
  },
  {
   "cell_type": "code",
   "execution_count": null,
   "metadata": {},
   "outputs": [],
   "source": []
  },
  {
   "cell_type": "markdown",
   "metadata": {},
   "source": [
    "Why not use a line plot?"
   ]
  },
  {
   "cell_type": "code",
   "execution_count": null,
   "metadata": {},
   "outputs": [],
   "source": []
  },
  {
   "cell_type": "markdown",
   "metadata": {},
   "source": [
    "Who is the outlier in the top left?"
   ]
  },
  {
   "cell_type": "code",
   "execution_count": null,
   "metadata": {},
   "outputs": [],
   "source": []
  },
  {
   "cell_type": "markdown",
   "metadata": {},
   "source": [
    "---\n",
    "<center> Return to Slides </center>\n",
    "\n",
    "---\n",
    "\n",
    "\n",
    "# Bar Charts \n",
    "\n",
    "Bar charts are used to visualize the relationship between numerical attributes and categorical attributes."
   ]
  },
  {
   "cell_type": "markdown",
   "metadata": {},
   "source": [
    "Here we examine the top 200 highest grossing movies of all time (as of 2017). "
   ]
  },
  {
   "cell_type": "code",
   "execution_count": null,
   "metadata": {
    "scrolled": true,
    "tags": []
   },
   "outputs": [],
   "source": [
    "top_movies = Table.read_table('data/top_movies_2017.csv')\n",
    "top_movies"
   ]
  },
  {
   "cell_type": "markdown",
   "metadata": {
    "tags": []
   },
   "source": [
    "**Exercise:** Based on this data, what is the relationship between the studios and their total revenue? Construct a bar plot showing the total `Gross (Adjusted)` income for each studio."
   ]
  },
  {
   "cell_type": "code",
   "execution_count": null,
   "metadata": {},
   "outputs": [],
   "source": []
  },
  {
   "cell_type": "markdown",
   "metadata": {},
   "source": [
    "**Exercise:** Dig deeper into the top studio.  \n",
    "1. Plot the top grossing movies.\n",
    "2. Plot relationship between gross revenue and release year\n"
   ]
  },
  {
   "cell_type": "code",
   "execution_count": null,
   "metadata": {},
   "outputs": [],
   "source": []
  },
  {
   "cell_type": "code",
   "execution_count": null,
   "metadata": {},
   "outputs": [],
   "source": []
  },
  {
   "cell_type": "markdown",
   "metadata": {},
   "source": [
    "## Bonus\n",
    "\n",
    "You do not need to learn about plotly or any of the syntax I am about to use, *this is bonus material*.  However, I think the following plot will hopefully highlight how you can mix different kinds of data to make a visualization. "
   ]
  },
  {
   "cell_type": "code",
   "execution_count": null,
   "metadata": {},
   "outputs": [],
   "source": []
  },
  {
   "cell_type": "markdown",
   "metadata": {},
   "source": [
    "Notice here we specify what variables to encode as `x`, `y`, and `color`. We have also included the movie title inside each marker so when you hover over with your mouse you can see which movie each dot corresponds to. How many \"dimensions\" is this plot?"
   ]
  },
  {
   "cell_type": "markdown",
   "metadata": {},
   "source": [
    "<details> <summary>Solution</summary>\n",
    "\n",
    "```python\n",
    "import plotly.express as px # Import the powerful plotly viz tool\n",
    "px.scatter(x = top_movies.column(\"Year\"), \n",
    "           y = top_movies.column(\"Gross (Adjusted)\"), \n",
    "           color = top_movies.column(\"Studio\"),\n",
    "           hover_name = top_movies.column(\"Title\"))\n",
    "```\n",
    "    \n",
    "</details>"
   ]
  }
 ],
 "metadata": {
  "anaconda-cloud": {},
  "kernelspec": {
   "display_name": "Python 3 (ipykernel)",
   "language": "python",
   "name": "python3"
  },
  "language_info": {
   "codemirror_mode": {
    "name": "ipython",
    "version": 3
   },
   "file_extension": ".py",
   "mimetype": "text/x-python",
   "name": "python",
   "nbconvert_exporter": "python",
   "pygments_lexer": "ipython3",
   "version": "3.10.12"
  }
 },
 "nbformat": 4,
 "nbformat_minor": 4
}
