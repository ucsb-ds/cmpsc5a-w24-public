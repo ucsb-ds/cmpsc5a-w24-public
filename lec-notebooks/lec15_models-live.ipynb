{
 "cells": [
  {
   "cell_type": "code",
   "execution_count": 1,
   "metadata": {
    "tags": []
   },
   "outputs": [],
   "source": [
    "from datascience import *\n",
    "import numpy as np\n",
    "\n",
    "%matplotlib inline\n",
    "import matplotlib.pyplot as plots\n",
    "plots.style.use('fivethirtyeight')"
   ]
  },
  {
   "cell_type": "markdown",
   "metadata": {
    "tags": []
   },
   "source": [
    "# Empirical Distribution of a statistic"
   ]
  },
  {
   "cell_type": "code",
   "execution_count": 2,
   "metadata": {
    "tags": []
   },
   "outputs": [],
   "source": [
    "united = Table.read_table('data/united.csv')"
   ]
  },
  {
   "cell_type": "markdown",
   "metadata": {
    "tags": []
   },
   "source": [
    "# Swain vs. Alabama ##"
   ]
  },
  {
   "cell_type": "code",
   "execution_count": 3,
   "metadata": {},
   "outputs": [],
   "source": [
    "num_people = 3_300_00 # pop of talladega county\n",
    "black_proportion = 0.26\n",
    "nonblack_proportion = 0.74\n",
    "num_panel = 100"
   ]
  },
  {
   "cell_type": "code",
   "execution_count": 4,
   "metadata": {},
   "outputs": [],
   "source": [
    "black = np.repeat('black', int(0.26*num_people))\n",
    "nonblack = np.repeat('nonblack', int(0.74*num_people))\n",
    "county_total = np.append(black, nonblack)\n",
    "county_total_table = Table().with_column('people', county_total)"
   ]
  },
  {
   "cell_type": "code",
   "execution_count": 6,
   "metadata": {},
   "outputs": [
    {
     "data": {
      "text/html": [
       "<table border=\"1\" class=\"dataframe\">\n",
       "    <thead>\n",
       "        <tr>\n",
       "            <th>people</th> <th>count</th>\n",
       "        </tr>\n",
       "    </thead>\n",
       "    <tbody>\n",
       "        <tr>\n",
       "            <td>black   </td> <td>85800 </td>\n",
       "        </tr>\n",
       "        <tr>\n",
       "            <td>nonblack</td> <td>244200</td>\n",
       "        </tr>\n",
       "    </tbody>\n",
       "</table>"
      ],
      "text/plain": [
       "people   | count\n",
       "black    | 85800\n",
       "nonblack | 244200"
      ]
     },
     "execution_count": 6,
     "metadata": {},
     "output_type": "execute_result"
    }
   ],
   "source": [
    "county_total_table.group('people')"
   ]
  },
  {
   "cell_type": "code",
   "execution_count": 8,
   "metadata": {},
   "outputs": [
    {
     "data": {
      "text/plain": [
       "(85800.0, 244200.0)"
      ]
     },
     "execution_count": 8,
     "metadata": {},
     "output_type": "execute_result"
    }
   ],
   "source": [
    "(num_people * black_proportion, num_people * nonblack_proportion)"
   ]
  },
  {
   "cell_type": "code",
   "execution_count": 28,
   "metadata": {},
   "outputs": [
    {
     "data": {
      "text/html": [
       "<table border=\"1\" class=\"dataframe\">\n",
       "    <thead>\n",
       "        <tr>\n",
       "            <th>people</th> <th>count</th>\n",
       "        </tr>\n",
       "    </thead>\n",
       "    <tbody>\n",
       "        <tr>\n",
       "            <td>black   </td> <td>34   </td>\n",
       "        </tr>\n",
       "        <tr>\n",
       "            <td>nonblack</td> <td>66   </td>\n",
       "        </tr>\n",
       "    </tbody>\n",
       "</table>"
      ],
      "text/plain": [
       "people   | count\n",
       "black    | 34\n",
       "nonblack | 66"
      ]
     },
     "execution_count": 28,
     "metadata": {},
     "output_type": "execute_result"
    }
   ],
   "source": [
    "panel = county_total_table.sample(num_panel).group('people')\n",
    "panel"
   ]
  },
  {
   "cell_type": "code",
   "execution_count": 29,
   "metadata": {},
   "outputs": [
    {
     "data": {
      "text/plain": [
       "array([ 0.34,  0.66])"
      ]
     },
     "execution_count": 29,
     "metadata": {},
     "output_type": "execute_result"
    }
   ],
   "source": [
    "panel.column('count')/100"
   ]
  },
  {
   "cell_type": "code",
   "execution_count": 30,
   "metadata": {},
   "outputs": [
    {
     "data": {
      "text/plain": [
       "array([ 0.26,  0.74])"
      ]
     },
     "execution_count": 30,
     "metadata": {},
     "output_type": "execute_result"
    }
   ],
   "source": [
    "population_proportions = make_array(black_proportion, nonblack_proportion)\n",
    "population_proportions # proportion of black vs nonblack folks in Talladega county in 60s\n",
    "#26% black, 74% nonblack"
   ]
  },
  {
   "cell_type": "code",
   "execution_count": 32,
   "metadata": {},
   "outputs": [
    {
     "data": {
      "text/plain": [
       "array([ 0.29,  0.71])"
      ]
     },
     "execution_count": 32,
     "metadata": {},
     "output_type": "execute_result"
    }
   ],
   "source": [
    "sample_proportions(num_panel, population_proportions)\n",
    "# same as\n",
    "# panel = county_total_table.sample(num_panel).group('people')\n",
    "# panel.column('count')/100"
   ]
  },
  {
   "cell_type": "code",
   "execution_count": 33,
   "metadata": {},
   "outputs": [],
   "source": [
    "def panel_proportion():\n",
    "    return sample_proportions(num_panel, population_proportions).item(0)"
   ]
  },
  {
   "cell_type": "code",
   "execution_count": 43,
   "metadata": {},
   "outputs": [
    {
     "data": {
      "text/plain": [
       "array([ 0.29])"
      ]
     },
     "execution_count": 43,
     "metadata": {},
     "output_type": "execute_result"
    }
   ],
   "source": [
    "my_panel = make_array()\n",
    "my_panel = np.append(my_panel, panel_proportion()) # simulating one jury panel\n",
    "my_panel"
   ]
  },
  {
   "cell_type": "code",
   "execution_count": 44,
   "metadata": {},
   "outputs": [
    {
     "data": {
      "text/plain": [
       "array([ 0.29,  0.3 ,  0.2 ])"
      ]
     },
     "execution_count": 44,
     "metadata": {},
     "output_type": "execute_result"
    }
   ],
   "source": [
    "# simulating three jury panels\n",
    "#print(panel_proportion() )\n",
    "#print(panel_proportion() ) \n",
    "#print(panel_proportion() )\n",
    "my_panel = make_array()\n",
    "my_panel = np.append(my_panel, panel_proportion()) # simulating one jury panel\n",
    "my_panel = np.append(my_panel, panel_proportion()) # simulating one jury panel\n",
    "my_panel = np.append(my_panel, panel_proportion()) # simulating one jury panel\n",
    "my_panel"
   ]
  },
  {
   "cell_type": "code",
   "execution_count": 50,
   "metadata": {},
   "outputs": [
    {
     "data": {
      "image/png": "[encoded data removed]",
      "text/plain": [
       "<Figure size 600x400 with 1 Axes>"
      ]
     },
     "metadata": {},
     "output_type": "display_data"
    }
   ],
   "source": [
    "# simulating five jury panels\n",
    "#print(panel_proportion() ) \n",
    "\n",
    "#print(panel_proportion() ) \n",
    "#print(panel_proportion() ) \n",
    "#print(panel_proportion() ) \n",
    "#print(panel_proportion() ) \n",
    "my_panel = make_array()\n",
    "my_panel = np.append(my_panel, panel_proportion()*100) # simulating one jury panel\n",
    "my_panel = np.append(my_panel, panel_proportion()*100) # simulating one jury panel\n",
    "my_panel = np.append(my_panel, panel_proportion()*100) # simulating one jury panel\n",
    "my_panel = np.append(my_panel, panel_proportion()*100) # simulating one jury panel\n",
    "my_panel = np.append(my_panel, panel_proportion()*100) # simulating one jury panel\n",
    "\n",
    "Table().with_column('panel',my_panel).hist()"
   ]
  },
  {
   "cell_type": "code",
   "execution_count": 51,
   "metadata": {},
   "outputs": [],
   "source": [
    "# simulating 10_000\n",
    "# here is where manually copying and pasting the above line of code becomes less reasonable...\n",
    "# too much time, hurts my fingers\n",
    "\n",
    "panels = make_array()  # initialize an empty array, outside of the for loop\n",
    "# so that i can capture each simulation's jury panel, black proportion\n",
    "for i in np.arange(10_000): # this line acts as a counter for how many tips my for loop will run\n",
    "    # i \"traverses\" through my np.arange(10_000)\n",
    "    # i changes value each time my for loop runs\n",
    "    # np.arange(10_000) = (0, 1, 2 ... 9_999), first time my for loop runs, i = 0, last time my for loop runs i = 9_999\n",
    "    # prevents us from getting into an infinite loop\n",
    "    panels = np.append(panels, panel_proportion()*100) # simulating one jury panel\n",
    "\n",
    "    "
   ]
  },
  {
   "cell_type": "code",
   "execution_count": 54,
   "metadata": {},
   "outputs": [
    {
     "data": {
      "image/png": "[encoded data removed]",
      "text/plain": [
       "<Figure size 600x400 with 1 Axes>"
      ]
     },
     "metadata": {},
     "output_type": "display_data"
    }
   ],
   "source": [
    "panels_table = Table().with_column('Number of Black Men on Panel of 100', panels)\n",
    "panels_table.hist(bins = np.arange(5.5, 45.))\n",
    "\n",
    "# Plotting details; ignore this code (out of the scope of CMPSC 5A\n",
    "# plotting observed statistic: 8 black men in jury panel\n",
    "plots.ylim(-0.002, 0.09)\n",
    "plots.scatter(8,0,color='red', s=30); # observed statistic: 8 black men on Robert Swain's jury panel"
   ]
  },
  {
   "cell_type": "code",
   "execution_count": 58,
   "metadata": {},
   "outputs": [
    {
     "data": {
      "text/html": [
       "<table border=\"1\" class=\"dataframe\">\n",
       "    <thead>\n",
       "        <tr>\n",
       "            <th>Number of Black Men on Panel of 100</th> <th>count</th>\n",
       "        </tr>\n",
       "    </thead>\n",
       "    <tbody>\n",
       "        <tr>\n",
       "            <td>11                                 </td> <td>1    </td>\n",
       "        </tr>\n",
       "        <tr>\n",
       "            <td>12                                 </td> <td>3    </td>\n",
       "        </tr>\n",
       "        <tr>\n",
       "            <td>13                                 </td> <td>8    </td>\n",
       "        </tr>\n",
       "        <tr>\n",
       "            <td>14                                 </td> <td>16   </td>\n",
       "        </tr>\n",
       "        <tr>\n",
       "            <td>15                                 </td> <td>31   </td>\n",
       "        </tr>\n",
       "        <tr>\n",
       "            <td>16                                 </td> <td>58   </td>\n",
       "        </tr>\n",
       "        <tr>\n",
       "            <td>17                                 </td> <td>100  </td>\n",
       "        </tr>\n",
       "        <tr>\n",
       "            <td>18                                 </td> <td>175  </td>\n",
       "        </tr>\n",
       "        <tr>\n",
       "            <td>19                                 </td> <td>270  </td>\n",
       "        </tr>\n",
       "        <tr>\n",
       "            <td>20                                 </td> <td>382  </td>\n",
       "        </tr>\n",
       "        <tr>\n",
       "            <td>21                                 </td> <td>453  </td>\n",
       "        </tr>\n",
       "        <tr>\n",
       "            <td>22                                 </td> <td>644  </td>\n",
       "        </tr>\n",
       "        <tr>\n",
       "            <td>23                                 </td> <td>769  </td>\n",
       "        </tr>\n",
       "        <tr>\n",
       "            <td>24                                 </td> <td>811  </td>\n",
       "        </tr>\n",
       "        <tr>\n",
       "            <td>25                                 </td> <td>896  </td>\n",
       "        </tr>\n",
       "        <tr>\n",
       "            <td>26                                 </td> <td>941  </td>\n",
       "        </tr>\n",
       "        <tr>\n",
       "            <td>27                                 </td> <td>857  </td>\n",
       "        </tr>\n",
       "        <tr>\n",
       "            <td>28                                 </td> <td>817  </td>\n",
       "        </tr>\n",
       "        <tr>\n",
       "            <td>29                                 </td> <td>661  </td>\n",
       "        </tr>\n",
       "        <tr>\n",
       "            <td>30                                 </td> <td>564  </td>\n",
       "        </tr>\n",
       "        <tr>\n",
       "            <td>31                                 </td> <td>487  </td>\n",
       "        </tr>\n",
       "        <tr>\n",
       "            <td>32                                 </td> <td>365  </td>\n",
       "        </tr>\n",
       "        <tr>\n",
       "            <td>33                                 </td> <td>232  </td>\n",
       "        </tr>\n",
       "        <tr>\n",
       "            <td>34                                 </td> <td>168  </td>\n",
       "        </tr>\n",
       "        <tr>\n",
       "            <td>35                                 </td> <td>119  </td>\n",
       "        </tr>\n",
       "        <tr>\n",
       "            <td>36                                 </td> <td>70   </td>\n",
       "        </tr>\n",
       "        <tr>\n",
       "            <td>37                                 </td> <td>41   </td>\n",
       "        </tr>\n",
       "        <tr>\n",
       "            <td>38                                 </td> <td>29   </td>\n",
       "        </tr>\n",
       "        <tr>\n",
       "            <td>39                                 </td> <td>19   </td>\n",
       "        </tr>\n",
       "        <tr>\n",
       "            <td>40                                 </td> <td>6    </td>\n",
       "        </tr>\n",
       "        <tr>\n",
       "            <td>41                                 </td> <td>2    </td>\n",
       "        </tr>\n",
       "        <tr>\n",
       "            <td>42                                 </td> <td>2    </td>\n",
       "        </tr>\n",
       "        <tr>\n",
       "            <td>43                                 </td> <td>2    </td>\n",
       "        </tr>\n",
       "        <tr>\n",
       "            <td>44                                 </td> <td>1    </td>\n",
       "        </tr>\n",
       "    </tbody>\n",
       "</table>"
      ],
      "text/plain": [
       "<IPython.core.display.HTML object>"
      ]
     },
     "metadata": {},
     "output_type": "display_data"
    }
   ],
   "source": [
    "panels_table.group('Number of Black Men on Panel of 100').show()"
   ]
  },
  {
   "cell_type": "markdown",
   "metadata": {},
   "source": [
    "# Mendel and Pea Flowers \n",
    "\n",
    "Mendel had 929 plants, of which 709 had purple flowers"
   ]
  },
  {
   "cell_type": "code",
   "execution_count": null,
   "metadata": {},
   "outputs": [],
   "source": []
  }
 ],
 "metadata": {
  "anaconda-cloud": {},
  "kernelspec": {
   "display_name": "Python 3 (ipykernel)",
   "language": "python",
   "name": "python3"
  },
  "language_info": {
   "codemirror_mode": {
    "name": "ipython",
    "version": 3
   },
   "file_extension": ".py",
   "mimetype": "text/x-python",
   "name": "python",
   "nbconvert_exporter": "python",
   "pygments_lexer": "ipython3",
   "version": "3.11.5"
  }
 },
 "nbformat": 4,
 "nbformat_minor": 4
}
