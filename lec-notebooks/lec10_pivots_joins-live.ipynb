{
 "cells": [
  {
   "cell_type": "code",
   "execution_count": 2,
   "metadata": {
    "tags": []
   },
   "outputs": [],
   "source": [
    "from datascience import *\n",
    "import numpy as np\n",
    "\n",
    "%matplotlib inline\n",
    "import matplotlib.pyplot as plots\n",
    "plots.style.use('fivethirtyeight')\n",
    "import warnings\n",
    "warnings.simplefilter(action='ignore',category=np.VisibleDeprecationWarning)"
   ]
  },
  {
   "cell_type": "markdown",
   "metadata": {},
   "source": [
    "# Lecture 10\n",
    "\n",
    "In this lecture, we will:\n",
    "1. Introduce python Lists\n",
    "2. Show how to build tables from rows instead of columns\n",
    "3. finish our discussion on grouping\n",
    "4. Introduce pivots -- a special kind of grouping\n",
    "5. Introduce joins"
   ]
  },
  {
   "cell_type": "markdown",
   "metadata": {},
   "source": [
    "---\n",
    "\n",
    "## Lists\n",
    "\n",
    "Lists in python are like arrays but they can contain things of different types and you make them by using square brackets:"
   ]
  },
  {
   "cell_type": "code",
   "execution_count": 3,
   "metadata": {},
   "outputs": [
    {
     "data": {
      "text/plain": [
       "array(['1', '5', 'hello', '5.0'],\n",
       "      dtype='<U32')"
      ]
     },
     "execution_count": 3,
     "metadata": {},
     "output_type": "execute_result"
    }
   ],
   "source": [
    "make_array(1,5,'hello', 5.0)"
   ]
  },
  {
   "cell_type": "code",
   "execution_count": 4,
   "metadata": {},
   "outputs": [
    {
     "data": {
      "text/plain": [
       "[1, 5, 'hello', 5.0]"
      ]
     },
     "execution_count": 4,
     "metadata": {},
     "output_type": "execute_result"
    }
   ],
   "source": [
    "[1, 5, 'hello', 5.0]"
   ]
  },
  {
   "cell_type": "code",
   "execution_count": 5,
   "metadata": {},
   "outputs": [
    {
     "data": {
      "text/plain": [
       "[1, 5, 'hello', 5.0, array([1, 2, 3])]"
      ]
     },
     "execution_count": 5,
     "metadata": {},
     "output_type": "execute_result"
    }
   ],
   "source": [
    "another_list = [1, 5, 'hello', 5.0, make_array(1,2,3)]\n",
    "another_list"
   ]
  },
  {
   "cell_type": "code",
   "execution_count": 6,
   "metadata": {},
   "outputs": [
    {
     "data": {
      "text/plain": [
       "[[1, 5, 'hello', 5.0, array([1, 2, 3])], 1]"
      ]
     },
     "execution_count": 6,
     "metadata": {},
     "output_type": "execute_result"
    }
   ],
   "source": [
    "another_list = [another_list, 1]\n",
    "len(another_list)\n",
    "another_list"
   ]
  },
  {
   "cell_type": "markdown",
   "metadata": {},
   "source": [
    "You have to use square brakets when accessing elements from a list (you can't use item)."
   ]
  },
  {
   "cell_type": "code",
   "execution_count": 7,
   "metadata": {},
   "outputs": [
    {
     "data": {
      "text/plain": [
       "'1'"
      ]
     },
     "execution_count": 7,
     "metadata": {},
     "output_type": "execute_result"
    }
   ],
   "source": [
    "make_array(1,5,'hello', 5.0).item(0) # .item() is exclusive to arrays"
   ]
  },
  {
   "cell_type": "code",
   "execution_count": 8,
   "metadata": {},
   "outputs": [
    {
     "ename": "IndexError",
     "evalue": "list index out of range",
     "output_type": "error",
     "traceback": [
      "\u001b[0;31m---------------------------------------------------------------------------\u001b[0m",
      "\u001b[0;31mIndexError\u001b[0m                                Traceback (most recent call last)",
      "Cell \u001b[0;32mIn[8], line 1\u001b[0m\n\u001b[0;32m----> 1\u001b[0m \u001b[43manother_list\u001b[49m\u001b[43m[\u001b[49m\u001b[38;5;241;43m2\u001b[39;49m\u001b[43m]\u001b[49m \u001b[38;5;66;03m# when we want to access an element in a list, we use []\u001b[39;00m\n",
      "\u001b[0;31mIndexError\u001b[0m: list index out of range"
     ]
    }
   ],
   "source": [
    "another_list[2] # when we want to access an element in a list, we use []"
   ]
  },
  {
   "cell_type": "code",
   "execution_count": null,
   "metadata": {},
   "outputs": [],
   "source": [
    "another_list[1]"
   ]
  },
  {
   "cell_type": "markdown",
   "metadata": {},
   "source": [
    "Recall that for arrays you could do either. (In the real world, most people would probably use square brackets)."
   ]
  },
  {
   "cell_type": "code",
   "execution_count": null,
   "metadata": {},
   "outputs": [],
   "source": [
    "my_array = make_array(\"Apple\", \"Banana\", \"Corn\")\n",
    "my_array[1]"
   ]
  },
  {
   "cell_type": "markdown",
   "metadata": {},
   "source": [
    "Same thing as:"
   ]
  },
  {
   "cell_type": "code",
   "execution_count": null,
   "metadata": {},
   "outputs": [],
   "source": [
    "my_array.item(1)"
   ]
  },
  {
   "cell_type": "markdown",
   "metadata": {},
   "source": [
    "### Rows from lists\n",
    "\n",
    "We need lists to be able to add a row to our table.  Why?"
   ]
  },
  {
   "cell_type": "markdown",
   "metadata": {},
   "source": [
    "Here we make a table with a column (we have been doing this all semester)."
   ]
  },
  {
   "cell_type": "code",
   "execution_count": null,
   "metadata": {
    "tags": []
   },
   "outputs": [],
   "source": [
    "Table().with_columns('Numbers', [1, 2, 3])\n",
    "# Table() initializes a table\n",
    "# .with_columns # adds new columns "
   ]
  },
  {
   "cell_type": "markdown",
   "metadata": {},
   "source": [
    "Here we make an empty table with just column labels. (This is new!)"
   ]
  },
  {
   "cell_type": "code",
   "execution_count": null,
   "metadata": {
    "tags": []
   },
   "outputs": [],
   "source": [
    "drinks = Table(['Drink', 'Cafe', 'Price'])\n",
    "drinks"
   ]
  },
  {
   "cell_type": "markdown",
   "metadata": {},
   "source": [
    "Here we add rows to our table.  Each row is a `List` of elements -- one for each column."
   ]
  },
  {
   "cell_type": "code",
   "execution_count": null,
   "metadata": {
    "tags": []
   },
   "outputs": [],
   "source": [
    "drinks = drinks.with_rows([\n",
    "    ['Milk Tea', 'Asha', 5.5],\n",
    "    ['Espresso', 'Strada',  1.75],\n",
    "    ['Latte',    'Strada',  3.25],\n",
    "    ['Espresso', \"FSM\",   2]\n",
    "])\n",
    "drinks"
   ]
  },
  {
   "cell_type": "markdown",
   "metadata": {},
   "source": [
    "---\n",
    "\n",
    "<center> Return to Slides </center>\n",
    "\n",
    "---"
   ]
  },
  {
   "cell_type": "markdown",
   "metadata": {},
   "source": [
    "## Grouping\n",
    "\n",
    "For this part of the notebook we will use the following toy data:"
   ]
  },
  {
   "cell_type": "code",
   "execution_count": null,
   "metadata": {},
   "outputs": [],
   "source": [
    "cones = Table.read_table('data/cones.csv')\n",
    "cones"
   ]
  },
  {
   "cell_type": "markdown",
   "metadata": {},
   "source": [
    "**Exercise:** Use the `group` function to determine the number of cones with each flavor."
   ]
  },
  {
   "cell_type": "code",
   "execution_count": null,
   "metadata": {},
   "outputs": [],
   "source": [
    "cones.group('Flavor')"
   ]
  },
  {
   "cell_type": "markdown",
   "metadata": {},
   "source": [
    "<details> <summary>Click for Solution</summary>\n",
    "\n",
    "```python\n",
    "cones.group('Flavor')\n",
    "```\n",
    "</details>"
   ]
  },
  {
   "cell_type": "markdown",
   "metadata": {},
   "source": [
    "**Exercise:** Use the `group` function to compute the average price of cones for each flavor."
   ]
  },
  {
   "cell_type": "code",
   "execution_count": null,
   "metadata": {
    "scrolled": true
   },
   "outputs": [],
   "source": [
    "cones.group('Flavor',np.average)"
   ]
  },
  {
   "cell_type": "markdown",
   "metadata": {},
   "source": [
    "<details> <summary>Click for Solution</summary> \n",
    "\n",
    "```python\n",
    "cones.group('Flavor', np.average)\n",
    " ```\n",
    "</details>"
   ]
  },
  {
   "cell_type": "markdown",
   "metadata": {},
   "source": [
    "**Exercise:** Use the `group` function to compute min price of cones for each flavor."
   ]
  },
  {
   "cell_type": "code",
   "execution_count": null,
   "metadata": {},
   "outputs": [],
   "source": [
    "cones.group('Flavor',min)"
   ]
  },
  {
   "cell_type": "code",
   "execution_count": null,
   "metadata": {},
   "outputs": [],
   "source": [
    "cones"
   ]
  },
  {
   "cell_type": "code",
   "execution_count": null,
   "metadata": {},
   "outputs": [],
   "source": [
    "# categorize by flavor AND color\n",
    "cones.group(['Flavor', 'Color'],max)"
   ]
  },
  {
   "cell_type": "markdown",
   "metadata": {},
   "source": [
    "**Question**:\n",
    "Why does color have a min?"
   ]
  },
  {
   "cell_type": "markdown",
   "metadata": {},
   "source": [
    "<details> <summary>Click for Solution</summary>\n",
    "\n",
    "```python\n",
    "cones.group('Flavor', np.min)\n",
    "```"
   ]
  },
  {
   "cell_type": "markdown",
   "metadata": {},
   "source": [
    "---\n",
    "\n",
    "<center> Return to Slides </center>\n",
    "\n",
    "---"
   ]
  },
  {
   "cell_type": "markdown",
   "metadata": {},
   "source": [
    "## Review Grouping Using the Welcome Survey\n",
    "\n",
    "Now let's use the group function to study you:"
   ]
  },
  {
   "cell_type": "code",
   "execution_count": null,
   "metadata": {
    "tags": []
   },
   "outputs": [],
   "source": [
    "survey = Table.read_table(\"data/classdatasurvey_w24.csv\") # changed file path name to our current quarter's survey\n",
    "survey.show(3)"
   ]
  },
  {
   "cell_type": "markdown",
   "metadata": {},
   "source": [
    "**Exercise:** What happens if we group by `\"Year\"` with no additional arguments?"
   ]
  },
  {
   "cell_type": "code",
   "execution_count": null,
   "metadata": {
    "tags": []
   },
   "outputs": [],
   "source": [
    "survey.group(\"What year are you in?\")"
   ]
  },
  {
   "cell_type": "markdown",
   "metadata": {},
   "source": [
    "What is the relationship between year and the average amount of sleep?\n",
    "\n",
    "**Exercise:** Computer the average `\"Hours of sleep\"` for each `\"Year\"` and display the result as bar chart with the bars in a meaningful order."
   ]
  },
  {
   "cell_type": "code",
   "execution_count": null,
   "metadata": {},
   "outputs": [],
   "source": [
    "survey_cleaned = survey.where(\"What year are you in?\", are.not_equal_to('nan'))\n",
    "survey_cleaned.group('What year are you in?')\n",
    "survey_cleaned.group('How many hours of sleep do you get?').show()\n"
   ]
  },
  {
   "cell_type": "markdown",
   "metadata": {},
   "source": [
    "**Excercise**: Use the function below to convert the values in the 'year' column to strings that sort meaninfully. (use apply)"
   ]
  },
  {
   "cell_type": "code",
   "execution_count": null,
   "metadata": {
    "tags": []
   },
   "outputs": [],
   "source": [
    "def convert_year_string(y):\n",
    "    if y == 'First Year':\n",
    "        return 'Year 1'\n",
    "    elif y == 'Second Year':\n",
    "        return 'Year 2'\n",
    "    elif y == 'Third Year':\n",
    "        return 'Year 3'\n",
    "    elif y == 'Fourth Year':\n",
    "        return 'Year 4'\n",
    "    elif y == 'Firth Year or above':\n",
    "        return 'Year 5+'\n",
    "    else:\n",
    "        return 'graduate'"
   ]
  },
  {
   "cell_type": "code",
   "execution_count": null,
   "metadata": {},
   "outputs": [],
   "source": []
  },
  {
   "cell_type": "markdown",
   "metadata": {},
   "source": [
    "<details><summary>Click for Solution</summary>\n",
    "    \n",
    "```python\n",
    "survey['year_'] = survey.apply(convert_year_string, 'Year')\n",
    "survey.select('year_', 'Hours of sleep').group('year_', np.average).barh('year_')\n",
    "plots.xlim([6,7.5])\n",
    "```\n",
    "    \n",
    "</details>"
   ]
  },
  {
   "cell_type": "markdown",
   "metadata": {},
   "source": [
    "### Understanding Extraversion\n",
    "\n",
    "How extraverted is the class?"
   ]
  },
  {
   "cell_type": "code",
   "execution_count": null,
   "metadata": {
    "tags": []
   },
   "outputs": [],
   "source": [
    "survey.hist('Extraversion')"
   ]
  },
  {
   "cell_type": "markdown",
   "metadata": {},
   "source": [
    "**Exercise:** Compute the *average* `\"Number of textees\"`, `\"Hours of sleep\"`, `\"Piercings\"` for each value of `\"Extraversion\"`.  Save the resulting table as `by_extra`."
   ]
  },
  {
   "cell_type": "code",
   "execution_count": null,
   "metadata": {},
   "outputs": [],
   "source": [
    "by_extra = "
   ]
  },
  {
   "cell_type": "markdown",
   "metadata": {},
   "source": [
    "<details><summary>Click for Solution</summary>\n",
    "    \n",
    "```python\n",
    "by_extra = (\n",
    "    survey\n",
    "    .select(\"Extraversion\", \"Number of textees\", \"Hours of sleep\", \"Piercings\")\n",
    "    .group('Extraversion', np.mean)\n",
    ")\n",
    "by_extra\n",
    "```\n",
    "    \n",
    "</details>"
   ]
  },
  {
   "cell_type": "markdown",
   "metadata": {},
   "source": [
    "Do you see any trends?  Let's plot the data to make it clearer."
   ]
  },
  {
   "cell_type": "code",
   "execution_count": null,
   "metadata": {},
   "outputs": [],
   "source": [
    "by_extra.plot(\"Extraversion\", \"Number of textees mean\", marker=\"*\")"
   ]
  },
  {
   "cell_type": "code",
   "execution_count": null,
   "metadata": {},
   "outputs": [],
   "source": [
    "by_extra.plot(\"Extraversion\", \"Hours of sleep mean\", marker=\"*\")"
   ]
  },
  {
   "cell_type": "markdown",
   "metadata": {},
   "source": [
    "---\n",
    "\n",
    "<center> Return to Slides </center>\n",
    "\n",
    "---"
   ]
  },
  {
   "cell_type": "markdown",
   "metadata": {},
   "source": [
    "## Grouping by Two Columns "
   ]
  },
  {
   "cell_type": "markdown",
   "metadata": {},
   "source": [
    "Do right-handed people tend to sleep on their left side and left-handed people sleep on their right side? \n",
    "\n",
    "**Exercise:** Use the group function to count how many people are in each combination of `\"Handedness\"` and `\"Sleep position\"`."
   ]
  },
  {
   "cell_type": "code",
   "execution_count": null,
   "metadata": {
    "tags": []
   },
   "outputs": [],
   "source": []
  },
  {
   "cell_type": "markdown",
   "metadata": {},
   "source": [
    "<details><summary>Click for Solution</summary> \n",
    "    \n",
    "```python\n",
    "(\n",
    "    survey\n",
    "    .group(column_or_label=[\"Handedness\", \"Sleep position\"])\n",
    "    .show()\n",
    ")\n",
    "```\n",
    "</details>"
   ]
  },
  {
   "cell_type": "markdown",
   "metadata": {},
   "source": [
    "What combination of `\"Handedness\"` and `\"Sleep position\"` results in the most sleep on average?\n",
    "\n",
    "**Exercise:** Use group to answer the above question."
   ]
  },
  {
   "cell_type": "code",
   "execution_count": null,
   "metadata": {},
   "outputs": [],
   "source": []
  },
  {
   "cell_type": "markdown",
   "metadata": {},
   "source": [
    "<details><summary>Click for Solution</summary>\n",
    "    \n",
    "```python\n",
    "(\n",
    "    survey\n",
    "    .select(\"Handedness\", \"Sleep position\", \"Hours of sleep\")\n",
    "    .group(['Handedness', 'Sleep position'], np.average)\n",
    "    .show()\n",
    ")\n",
    "```\n",
    "    \n",
    "</details>"
   ]
  },
  {
   "cell_type": "markdown",
   "metadata": {
    "tags": []
   },
   "source": [
    "## Pivot Tables\n",
    "\n",
    "When grouping by two columns it will sometimes be easier to re-arrange the table so the columns correspond to the *values* of one of the original grouped columns. \n",
    "\n",
    "Here is an example where I construct a pivot table that is equivalent to the above two column groupby operation:\n",
    "\n",
    "```python\n",
    "(\n",
    "    survey\n",
    "    .select(\"Handedness\", \"Sleep position\", \"Hours of sleep\")\n",
    "    .group([\"Handedness\", \"Sleep position\"], np.average)\n",
    "    .show()\n",
    ")\n",
    "```"
   ]
  },
  {
   "cell_type": "code",
   "execution_count": null,
   "metadata": {},
   "outputs": [],
   "source": []
  },
  {
   "cell_type": "markdown",
   "metadata": {},
   "source": [
    "Here I am rewriting the example by explicity naming the function arguments.  You wouldn't do this in practice but it helps to highlight the meaning of the four things we passed to the function above."
   ]
  },
  {
   "cell_type": "code",
   "execution_count": null,
   "metadata": {},
   "outputs": [],
   "source": [
    "(\n",
    "    survey\n",
    "    .pivot(\n",
    "        columns = \"Handedness\", # The column whose unique values become columns\n",
    "        rows    = \"Sleep position\", # The column whose unique values become rows\n",
    "        values  = \"Hours of sleep\", # The column that will be used to compute the cells\n",
    "        collect = np.average # How to aggregate the values \n",
    "    )\n",
    ")"
   ]
  },
  {
   "cell_type": "markdown",
   "metadata": {},
   "source": [
    "Just as with the regular `group` function you will often want counts of combinations. In this case, you only need to specify the column to turn into columns and the column to turn into rows."
   ]
  },
  {
   "cell_type": "code",
   "execution_count": null,
   "metadata": {},
   "outputs": [],
   "source": [
    "survey.pivot(\"Sleep position\", \"Handedness\")"
   ]
  },
  {
   "cell_type": "markdown",
   "metadata": {},
   "source": [
    "Pivots can be useful for visualizations:"
   ]
  },
  {
   "cell_type": "code",
   "execution_count": null,
   "metadata": {},
   "outputs": [],
   "source": [
    "survey.pivot(\"Sleep position\", \"Handedness\").barh(\"Handedness\")"
   ]
  },
  {
   "cell_type": "markdown",
   "metadata": {},
   "source": [
    "---\n",
    "\n",
    "<center> Return to Slides </center>\n",
    "\n",
    "---"
   ]
  },
  {
   "cell_type": "markdown",
   "metadata": {},
   "source": [
    "## Joins\n",
    "\n",
    "We use join to **join** two tables on a column."
   ]
  },
  {
   "cell_type": "code",
   "execution_count": null,
   "metadata": {
    "tags": []
   },
   "outputs": [],
   "source": [
    "drinks"
   ]
  },
  {
   "cell_type": "code",
   "execution_count": null,
   "metadata": {
    "tags": []
   },
   "outputs": [],
   "source": [
    "discounts = Table().with_columns(\n",
    "    'Coupon % off', make_array(10, 25, 5),\n",
    "    'Location', make_array('Asha', 'Strada', 'Asha')\n",
    ")\n",
    "discounts"
   ]
  },
  {
   "cell_type": "markdown",
   "metadata": {},
   "source": [
    "**Exercise:** Combine the `drinks` and `discounts` table into a new table which has all possible discounts for each drink."
   ]
  },
  {
   "cell_type": "code",
   "execution_count": null,
   "metadata": {
    "scrolled": true
   },
   "outputs": [],
   "source": [
    "combined = drinks.join('Cafe', discounts, 'Location')\n",
    "combined"
   ]
  },
  {
   "cell_type": "markdown",
   "metadata": {},
   "source": [
    "<details><summary>Click for Solution</summary>\n",
    "    \n",
    "```python\n",
    "combined = drinks.join(column_label='Cafe', other=discounts, other_label='Location')\n",
    "combined\n",
    "```\n",
    "    \n",
    "</details>"
   ]
  },
  {
   "cell_type": "markdown",
   "metadata": {},
   "source": [
    "**Exercise:** Calculate the lowest rate you can get for each drink using the available coupons."
   ]
  },
  {
   "cell_type": "code",
   "execution_count": null,
   "metadata": {},
   "outputs": [],
   "source": [
    "discount_frac = 1 - combined.column('Coupon % off')/100\n",
    "# or you can do \n",
    "# discount_percentage = 100 -\n",
    "combined.column('Coupon % off')\n",
    "discount_frac"
   ]
  },
  {
   "cell_type": "code",
   "execution_count": null,
   "metadata": {},
   "outputs": [],
   "source": [
    "(\n",
    "    combined\n",
    "    .with_column('Discounted Price', combined.column('Price') * discount_frac) # added new column with sale price\n",
    "    .select('Drink', 'Discounted Price') # selected Drink and Discounted Price\n",
    "    .group('Drink', min) # grouped by Drink and the cheapest price from Discounted Price\n",
    ")"
   ]
  },
  {
   "cell_type": "markdown",
   "metadata": {},
   "source": [
    "<details><summary>Click for Solution</summary>\n",
    "    \n",
    "```python\n",
    "combined = drinks.join('Cafe', discounts, 'Location') # from previous question\n",
    "\n",
    "discount_frac = 1-combined.column(\"Coupon % off\")/100.0\n",
    "\n",
    "(\n",
    "    combined\n",
    "    .with_column(\"Discounted Price\", combined.column(\"Price\") * discount_frac)\n",
    "    .select(\"Drink\", \"Discounted Price\")\n",
    "    .group(\"Drink\", min)\n",
    ")\n",
    "\n",
    "```\n",
    "</details>"
   ]
  },
  {
   "cell_type": "markdown",
   "metadata": {},
   "source": [
    "**Exercise:** What happens if I run the following? How many rows will it produce."
   ]
  },
  {
   "cell_type": "code",
   "execution_count": null,
   "metadata": {
    "tags": []
   },
   "outputs": [],
   "source": [
    "drinks.join('Cafe', drinks, 'Cafe')"
   ]
  },
  {
   "cell_type": "code",
   "execution_count": null,
   "metadata": {},
   "outputs": [],
   "source": [
    "drinks"
   ]
  },
  {
   "cell_type": "code",
   "execution_count": null,
   "metadata": {},
   "outputs": [],
   "source": [
    "drinks.pivot('Cafe', 'Drink') # pivot allows us to categorize, in a visually efficient way\n",
    "# our categorical variables\n",
    "# inside the pivot (two-way) table, we see counts of items that satisfy the category grouping"
   ]
  },
  {
   "cell_type": "code",
   "execution_count": null,
   "metadata": {},
   "outputs": [],
   "source": [
    "drinks.pivot('Cafe', 'Drink','Price',np.average)"
   ]
  },
  {
   "cell_type": "markdown",
   "metadata": {},
   "source": [
    "---\n",
    "\n",
    "<center> Return to Slides </center>\n",
    "\n",
    "---"
   ]
  },
  {
   "cell_type": "markdown",
   "metadata": {},
   "source": [
    "## Discussion Questions \n",
    "\n",
    "For the following practice questions we will use the sky scraper dataset"
   ]
  },
  {
   "cell_type": "code",
   "execution_count": 9,
   "metadata": {
    "tags": []
   },
   "outputs": [
    {
     "data": {
      "text/html": [
       "<table border=\"1\" class=\"dataframe\">\n",
       "    <thead>\n",
       "        <tr>\n",
       "            <th>name</th> <th>material</th> <th>city</th> <th>height</th> <th>age</th>\n",
       "        </tr>\n",
       "    </thead>\n",
       "    <tbody>\n",
       "        <tr>\n",
       "            <td>One World Trade Center           </td> <td>mixed/composite</td> <td>New York City</td> <td>541.3 </td> <td>10  </td>\n",
       "        </tr>\n",
       "        <tr>\n",
       "            <td>Willis Tower                     </td> <td>steel          </td> <td>Chicago      </td> <td>442.14</td> <td>50  </td>\n",
       "        </tr>\n",
       "        <tr>\n",
       "            <td>432 Park Avenue                  </td> <td>concrete       </td> <td>New York City</td> <td>425.5 </td> <td>9   </td>\n",
       "        </tr>\n",
       "        <tr>\n",
       "            <td>Trump International Hotel & Tower</td> <td>concrete       </td> <td>Chicago      </td> <td>423.22</td> <td>15  </td>\n",
       "        </tr>\n",
       "        <tr>\n",
       "            <td>Empire State Building            </td> <td>steel          </td> <td>New York City</td> <td>381   </td> <td>93  </td>\n",
       "        </tr>\n",
       "        <tr>\n",
       "            <td>Bank of America Tower            </td> <td>mixed/composite</td> <td>New York City</td> <td>365.8 </td> <td>15  </td>\n",
       "        </tr>\n",
       "        <tr>\n",
       "            <td>Stratosphere Tower               </td> <td>concrete       </td> <td>Las Vegas    </td> <td>350.22</td> <td>28  </td>\n",
       "        </tr>\n",
       "        <tr>\n",
       "            <td>Aon Center                       </td> <td>steel          </td> <td>Chicago      </td> <td>346.26</td> <td>51  </td>\n",
       "        </tr>\n",
       "        <tr>\n",
       "            <td>John Hancock Center              </td> <td>steel          </td> <td>Chicago      </td> <td>343.69</td> <td>55  </td>\n",
       "        </tr>\n",
       "        <tr>\n",
       "            <td>Chrysler Building                </td> <td>steel          </td> <td>New York City</td> <td>318.9 </td> <td>94  </td>\n",
       "        </tr>\n",
       "    </tbody>\n",
       "</table>\n",
       "<p>... (1771 rows omitted)</p>"
      ],
      "text/plain": [
       "name                              | material        | city          | height | age\n",
       "One World Trade Center            | mixed/composite | New York City | 541.3  | 10\n",
       "Willis Tower                      | steel           | Chicago       | 442.14 | 50\n",
       "432 Park Avenue                   | concrete        | New York City | 425.5  | 9\n",
       "Trump International Hotel & Tower | concrete        | Chicago       | 423.22 | 15\n",
       "Empire State Building             | steel           | New York City | 381    | 93\n",
       "Bank of America Tower             | mixed/composite | New York City | 365.8  | 15\n",
       "Stratosphere Tower                | concrete        | Las Vegas     | 350.22 | 28\n",
       "Aon Center                        | steel           | Chicago       | 346.26 | 51\n",
       "John Hancock Center               | steel           | Chicago       | 343.69 | 55\n",
       "Chrysler Building                 | steel           | New York City | 318.9  | 94\n",
       "... (1771 rows omitted)"
      ]
     },
     "execution_count": 9,
     "metadata": {},
     "output_type": "execute_result"
    }
   ],
   "source": [
    "# From the CORGIS Dataset Project\n",
    "# By Austin Cory Bart acbart@vt.edu\n",
    "# Version 2.0.0, created 3/22/2016\n",
    "# https://corgis-edu.github.io/corgis/csv/skyscrapers/\n",
    "\n",
    "this_year = 2024\n",
    "sky = Table.read_table(\"data/skyscrapers_v2.csv\")\n",
    "sky = (\n",
    "    sky\n",
    "    .with_column(\"age\", this_year - sky.column(\"completed\"))\n",
    "    .drop(\"completed\")\n",
    ")\n",
    "sky"
   ]
  },
  {
   "cell_type": "markdown",
   "metadata": {},
   "source": [
    "**Exercise:**  For each city, what’s the tallest building for each material?"
   ]
  },
  {
   "cell_type": "code",
   "execution_count": 10,
   "metadata": {},
   "outputs": [
    {
     "data": {
      "text/html": [
       "<table border=\"1\" class=\"dataframe\">\n",
       "    <thead>\n",
       "        <tr>\n",
       "            <th>city</th> <th>count</th>\n",
       "        </tr>\n",
       "    </thead>\n",
       "    <tbody>\n",
       "        <tr>\n",
       "            <td>Atlanta   </td> <td>38   </td>\n",
       "        </tr>\n",
       "        <tr>\n",
       "            <td>Austin    </td> <td>17   </td>\n",
       "        </tr>\n",
       "        <tr>\n",
       "            <td>Baltimore </td> <td>14   </td>\n",
       "        </tr>\n",
       "        <tr>\n",
       "            <td>Boston    </td> <td>32   </td>\n",
       "        </tr>\n",
       "        <tr>\n",
       "            <td>Charlotte </td> <td>12   </td>\n",
       "        </tr>\n",
       "        <tr>\n",
       "            <td>Chicago   </td> <td>358  </td>\n",
       "        </tr>\n",
       "        <tr>\n",
       "            <td>Cincinnati</td> <td>13   </td>\n",
       "        </tr>\n",
       "        <tr>\n",
       "            <td>Cleveland </td> <td>16   </td>\n",
       "        </tr>\n",
       "        <tr>\n",
       "            <td>Columbus  </td> <td>13   </td>\n",
       "        </tr>\n",
       "        <tr>\n",
       "            <td>Dallas    </td> <td>20   </td>\n",
       "        </tr>\n",
       "    </tbody>\n",
       "</table>\n",
       "<p>... (25 rows omitted)</p>"
      ],
      "text/plain": [
       "city       | count\n",
       "Atlanta    | 38\n",
       "Austin     | 17\n",
       "Baltimore  | 14\n",
       "Boston     | 32\n",
       "Charlotte  | 12\n",
       "Chicago    | 358\n",
       "Cincinnati | 13\n",
       "Cleveland  | 16\n",
       "Columbus   | 13\n",
       "Dallas     | 20\n",
       "... (25 rows omitted)"
      ]
     },
     "execution_count": 10,
     "metadata": {},
     "output_type": "execute_result"
    }
   ],
   "source": [
    "sky.group('material')\n",
    "sky.group('city')"
   ]
  },
  {
   "cell_type": "code",
   "execution_count": 11,
   "metadata": {},
   "outputs": [
    {
     "data": {
      "text/html": [
       "<table border=\"1\" class=\"dataframe\">\n",
       "    <thead>\n",
       "        <tr>\n",
       "            <th>city</th> <th>concrete</th> <th>mixed/composite</th> <th>steel</th>\n",
       "        </tr>\n",
       "    </thead>\n",
       "    <tbody>\n",
       "        <tr>\n",
       "            <td>Atlanta   </td> <td>27      </td> <td>4              </td> <td>7    </td>\n",
       "        </tr>\n",
       "        <tr>\n",
       "            <td>Austin    </td> <td>16      </td> <td>0              </td> <td>1    </td>\n",
       "        </tr>\n",
       "        <tr>\n",
       "            <td>Baltimore </td> <td>8       </td> <td>0              </td> <td>6    </td>\n",
       "        </tr>\n",
       "        <tr>\n",
       "            <td>Boston    </td> <td>4       </td> <td>2              </td> <td>26   </td>\n",
       "        </tr>\n",
       "        <tr>\n",
       "            <td>Charlotte </td> <td>5       </td> <td>3              </td> <td>4    </td>\n",
       "        </tr>\n",
       "        <tr>\n",
       "            <td>Chicago   </td> <td>244     </td> <td>35             </td> <td>79   </td>\n",
       "        </tr>\n",
       "        <tr>\n",
       "            <td>Cincinnati</td> <td>5       </td> <td>1              </td> <td>7    </td>\n",
       "        </tr>\n",
       "        <tr>\n",
       "            <td>Cleveland </td> <td>2       </td> <td>3              </td> <td>11   </td>\n",
       "        </tr>\n",
       "        <tr>\n",
       "            <td>Columbus  </td> <td>4       </td> <td>0              </td> <td>9    </td>\n",
       "        </tr>\n",
       "        <tr>\n",
       "            <td>Dallas    </td> <td>7       </td> <td>2              </td> <td>11   </td>\n",
       "        </tr>\n",
       "    </tbody>\n",
       "</table>\n",
       "<p>... (25 rows omitted)</p>"
      ],
      "text/plain": [
       "city       | concrete | mixed/composite | steel\n",
       "Atlanta    | 27       | 4               | 7\n",
       "Austin     | 16       | 0               | 1\n",
       "Baltimore  | 8        | 0               | 6\n",
       "Boston     | 4        | 2               | 26\n",
       "Charlotte  | 5        | 3               | 4\n",
       "Chicago    | 244      | 35              | 79\n",
       "Cincinnati | 5        | 1               | 7\n",
       "Cleveland  | 2        | 3               | 11\n",
       "Columbus   | 4        | 0               | 9\n",
       "Dallas     | 7        | 2               | 11\n",
       "... (25 rows omitted)"
      ]
     },
     "execution_count": 11,
     "metadata": {},
     "output_type": "execute_result"
    }
   ],
   "source": [
    "# group by material: mixed/composite, steel, concrete AND city\n",
    "\n",
    "# max height\n",
    "\n",
    "tall_pivot = sky.pivot('material', 'city', 'height',max)\n",
    "# .pivot('column label for column headings', 'column label for ROW headings', \n",
    "#        optional third argument for values, optional third argument for function to apply to values)\n",
    "tall_pivot"
   ]
  },
  {
   "cell_type": "markdown",
   "metadata": {},
   "source": [
    "<details><summary>Click for Solution</summary>\n",
    "    \n",
    "```python\n",
    "tall_pivot = sky.pivot(\"material\", \"city\", \"height\", max)\n",
    "tall_pivot\n",
    "```\n",
    "</details>"
   ]
  },
  {
   "cell_type": "code",
   "execution_count": null,
   "metadata": {},
   "outputs": [],
   "source": [
    "tall_pivot.barh(\"city\")"
   ]
  },
  {
   "cell_type": "markdown",
   "metadata": {},
   "source": [
    "**Exercise:** For each city that has at least 50 buildings in the dataset, compute the average height of buildings broken down by material.  Make a bar chart with the cities and the average height of buildings for each material."
   ]
  },
  {
   "cell_type": "code",
   "execution_count": null,
   "metadata": {},
   "outputs": [],
   "source": []
  },
  {
   "cell_type": "markdown",
   "metadata": {},
   "source": [
    "<details><summary>Click for Solution</summary>\n",
    "    \n",
    "```python\n",
    "num_buildings = sky.group(\"city\")\n",
    "(\n",
    "    sky\n",
    "    .join(\"city\", num_buildings)\n",
    "    .where(\"count\", are.above_or_equal_to(50))\n",
    "    .pivot(\"material\", \"city\", \"height\", np.mean)\n",
    "    .barh(\"city\")\n",
    ")\n",
    "```\n",
    "</details>"
   ]
  },
  {
   "cell_type": "markdown",
   "metadata": {},
   "source": [
    "**Exercise:** Generate a table of the names and ages of the oldest buildings for each combination of city and materials."
   ]
  },
  {
   "cell_type": "code",
   "execution_count": null,
   "metadata": {},
   "outputs": [],
   "source": []
  },
  {
   "cell_type": "markdown",
   "metadata": {},
   "source": [
    "<details><summary>Click for Solution</summary>\n",
    "    \n",
    "```python\n",
    "def first(x):\n",
    "    return x[0]\n",
    "    \n",
    "    \n",
    "(\n",
    "    sky\n",
    "    .sort(\"age\", descending=True) \n",
    "    .select(\"city\", \"material\", \"name\", \"age\")\n",
    "    .group([\"city\", \"material\"], first)\n",
    "    #.where(\"city\", \"San Francisco\") #<- for fun\n",
    ")\n",
    "```\n",
    "    \n",
    "</details>"
   ]
  },
  {
   "cell_type": "code",
   "execution_count": null,
   "metadata": {},
   "outputs": [],
   "source": []
  }
 ],
 "metadata": {
  "kernelspec": {
   "display_name": "Python 3 (ipykernel)",
   "language": "python",
   "name": "python3"
  },
  "language_info": {
   "codemirror_mode": {
    "name": "ipython",
    "version": 3
   },
   "file_extension": ".py",
   "mimetype": "text/x-python",
   "name": "python",
   "nbconvert_exporter": "python",
   "pygments_lexer": "ipython3",
   "version": "3.11.5"
  }
 },
 "nbformat": 4,
 "nbformat_minor": 4
}
